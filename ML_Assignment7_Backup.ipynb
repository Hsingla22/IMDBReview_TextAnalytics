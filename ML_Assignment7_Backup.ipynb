{
 "cells": [
  {
   "cell_type": "code",
   "execution_count": 202,
   "id": "8962918e",
   "metadata": {},
   "outputs": [],
   "source": [
    "import gzip\n",
    "import gensim \n",
    "import gensim.downloader as api\n",
    "import logging\n",
    "logging.basicConfig(format='%(asctime)s : %(levelname)s : %(message)s', level=logging.INFO)\n",
    "import pandas as pd\n",
    "import numpy as np\n",
    "from sklearn.model_selection import train_test_split\n",
    "from sklearn.preprocessing import LabelEncoder\n",
    "from sklearn.linear_model import LogisticRegression\n",
    "from matplotlib import pyplot as plt\n",
    "import tensorflow as tf\n",
    "from tensorflow.keras.utils import to_categorical \n",
    "\n",
    "import warnings\n",
    "warnings.filterwarnings('ignore')\n"
   ]
  },
  {
   "cell_type": "markdown",
   "id": "c47a4412",
   "metadata": {},
   "source": [
    "## Question 1 "
   ]
  },
  {
   "cell_type": "code",
   "execution_count": null,
   "id": "baa79663",
   "metadata": {},
   "outputs": [],
   "source": [
    "input_file = 'C:\\\\Users\\\\16286\\\\Desktop\\\\MSBA\\Winter Quarter\\\\Machine Learning\\\\Assignment 7\\\\reviews_data.txt.gz'\n",
    "#reviews_data.txt\n",
    "\n",
    "with gzip.open (input_file, 'rb') as f:\n",
    "        for i,line in enumerate (f):\n",
    "            print(line)\n",
    "            break"
   ]
  },
  {
   "cell_type": "code",
   "execution_count": 13,
   "id": "d249ec05",
   "metadata": {},
   "outputs": [],
   "source": [
    "input_file = 'C:\\\\Users\\\\16286\\\\Desktop\\\\MSBA\\Winter Quarter\\\\Machine Learning\\\\Assignment 7\\\\reviews_data.txt.gz'\n",
    "\n",
    "def read_input2 (input_file):\n",
    "    print(\"Function called\")\n",
    "    \"\"\"This method reads the input file which is in gzip format\"\"\"\n",
    "    logging.info(\"reading file {0}...this may take a while\".format(input_file))\n",
    "    with gzip.open(input_file, 'rb') as f:\n",
    "        print(\"here\")\n",
    "        for i, line in enumerate(f):\n",
    "            if (i % 10000 == 0):\n",
    "                logging.info(\"read {0} reviews\".format(i))\n",
    "                print(\"Inside\")\n",
    "                \n",
    "                if (i < 10):\n",
    "                    print(line)\n",
    "            # do some pre-processing and return list of words for each review\n",
    "            # text\n",
    "            yield gensim.utils.simple_preprocess(line)\n",
    "       \n",
    "documents = read_input2(input_file)"
   ]
  },
  {
   "cell_type": "code",
   "execution_count": 14,
   "id": "e0e5f1b0",
   "metadata": {
    "collapsed": true
   },
   "outputs": [
    {
     "name": "stderr",
     "output_type": "stream",
     "text": [
      "2023-03-13 14:12:40,949 : INFO : reading file C:\\Users\\16286\\Desktop\\MSBA\\Winter Quarter\\Machine Learning\\Assignment 7\\reviews_data.txt.gz...this may take a while\n",
      "2023-03-13 14:12:40,952 : INFO : read 0 reviews\n"
     ]
    },
    {
     "name": "stdout",
     "output_type": "stream",
     "text": [
      "Function called\n",
      "here\n",
      "Inside\n",
      "b\"Oct 12 2009 \\tNice trendy hotel location not too bad.\\tI stayed in this hotel for one night. As this is a fairly new place some of the taxi drivers did not know where it was and/or did not want to drive there. Once I have eventually arrived at the hotel, I was very pleasantly surprised with the decor of the lobby/ground floor area. It was very stylish and modern. I found the reception's staff geeting me with 'Aloha' a bit out of place, but I guess they are briefed to say that to keep up the coroporate image.As I have a Starwood Preferred Guest member, I was given a small gift upon-check in. It was only a couple of fridge magnets in a gift box, but nevertheless a nice gesture.My room was nice and roomy, there are tea and coffee facilities in each room and you get two complimentary bottles of water plus some toiletries by 'bliss'.The location is not great. It is at the last metro stop and you then need to take a taxi, but if you are not planning on going to see the historic sites in Beijing, then you will be ok.I chose to have some breakfast in the hotel, which was really tasty and there was a good selection of dishes. There are a couple of computers to use in the communal area, as well as a pool table. There is also a small swimming pool and a gym area.I would definitely stay in this hotel again, but only if I did not plan to travel to central Beijing, as it can take a long time. The location is ok if you plan to do a lot of shopping, as there is a big shopping centre just few minutes away from the hotel and there are plenty of eating options around, including restaurants that serve a dog meat!\\t\\r\\n\"\n"
     ]
    },
    {
     "name": "stderr",
     "output_type": "stream",
     "text": [
      "2023-03-13 14:12:42,409 : INFO : read 10000 reviews\n"
     ]
    },
    {
     "name": "stdout",
     "output_type": "stream",
     "text": [
      "Inside\n"
     ]
    },
    {
     "name": "stderr",
     "output_type": "stream",
     "text": [
      "2023-03-13 14:12:44,098 : INFO : read 20000 reviews\n"
     ]
    },
    {
     "name": "stdout",
     "output_type": "stream",
     "text": [
      "Inside\n"
     ]
    },
    {
     "name": "stderr",
     "output_type": "stream",
     "text": [
      "2023-03-13 14:12:45,857 : INFO : read 30000 reviews\n"
     ]
    },
    {
     "name": "stdout",
     "output_type": "stream",
     "text": [
      "Inside\n"
     ]
    },
    {
     "name": "stderr",
     "output_type": "stream",
     "text": [
      "2023-03-13 14:12:47,494 : INFO : read 40000 reviews\n"
     ]
    },
    {
     "name": "stdout",
     "output_type": "stream",
     "text": [
      "Inside\n"
     ]
    },
    {
     "name": "stderr",
     "output_type": "stream",
     "text": [
      "2023-03-13 14:12:49,366 : INFO : read 50000 reviews\n"
     ]
    },
    {
     "name": "stdout",
     "output_type": "stream",
     "text": [
      "Inside\n"
     ]
    },
    {
     "name": "stderr",
     "output_type": "stream",
     "text": [
      "2023-03-13 14:12:51,151 : INFO : read 60000 reviews\n"
     ]
    },
    {
     "name": "stdout",
     "output_type": "stream",
     "text": [
      "Inside\n"
     ]
    },
    {
     "name": "stderr",
     "output_type": "stream",
     "text": [
      "2023-03-13 14:12:52,700 : INFO : read 70000 reviews\n"
     ]
    },
    {
     "name": "stdout",
     "output_type": "stream",
     "text": [
      "Inside\n"
     ]
    },
    {
     "name": "stderr",
     "output_type": "stream",
     "text": [
      "2023-03-13 14:12:54,059 : INFO : read 80000 reviews\n"
     ]
    },
    {
     "name": "stdout",
     "output_type": "stream",
     "text": [
      "Inside\n"
     ]
    },
    {
     "name": "stderr",
     "output_type": "stream",
     "text": [
      "2023-03-13 14:12:55,526 : INFO : read 90000 reviews\n"
     ]
    },
    {
     "name": "stdout",
     "output_type": "stream",
     "text": [
      "Inside\n"
     ]
    },
    {
     "name": "stderr",
     "output_type": "stream",
     "text": [
      "2023-03-13 14:12:56,906 : INFO : read 100000 reviews\n"
     ]
    },
    {
     "name": "stdout",
     "output_type": "stream",
     "text": [
      "Inside\n"
     ]
    },
    {
     "name": "stderr",
     "output_type": "stream",
     "text": [
      "2023-03-13 14:12:58,628 : INFO : read 110000 reviews\n"
     ]
    },
    {
     "name": "stdout",
     "output_type": "stream",
     "text": [
      "Inside\n"
     ]
    },
    {
     "name": "stderr",
     "output_type": "stream",
     "text": [
      "2023-03-13 14:13:00,074 : INFO : read 120000 reviews\n"
     ]
    },
    {
     "name": "stdout",
     "output_type": "stream",
     "text": [
      "Inside\n"
     ]
    },
    {
     "name": "stderr",
     "output_type": "stream",
     "text": [
      "2023-03-13 14:13:01,566 : INFO : read 130000 reviews\n"
     ]
    },
    {
     "name": "stdout",
     "output_type": "stream",
     "text": [
      "Inside\n"
     ]
    },
    {
     "name": "stderr",
     "output_type": "stream",
     "text": [
      "2023-03-13 14:13:03,098 : INFO : read 140000 reviews\n"
     ]
    },
    {
     "name": "stdout",
     "output_type": "stream",
     "text": [
      "Inside\n"
     ]
    },
    {
     "name": "stderr",
     "output_type": "stream",
     "text": [
      "2023-03-13 14:13:04,530 : INFO : read 150000 reviews\n"
     ]
    },
    {
     "name": "stdout",
     "output_type": "stream",
     "text": [
      "Inside\n"
     ]
    },
    {
     "name": "stderr",
     "output_type": "stream",
     "text": [
      "2023-03-13 14:13:06,109 : INFO : read 160000 reviews\n"
     ]
    },
    {
     "name": "stdout",
     "output_type": "stream",
     "text": [
      "Inside\n"
     ]
    },
    {
     "name": "stderr",
     "output_type": "stream",
     "text": [
      "2023-03-13 14:13:07,409 : INFO : read 170000 reviews\n"
     ]
    },
    {
     "name": "stdout",
     "output_type": "stream",
     "text": [
      "Inside\n"
     ]
    },
    {
     "name": "stderr",
     "output_type": "stream",
     "text": [
      "2023-03-13 14:13:08,833 : INFO : read 180000 reviews\n"
     ]
    },
    {
     "name": "stdout",
     "output_type": "stream",
     "text": [
      "Inside\n"
     ]
    },
    {
     "name": "stderr",
     "output_type": "stream",
     "text": [
      "2023-03-13 14:13:10,658 : INFO : read 190000 reviews\n"
     ]
    },
    {
     "name": "stdout",
     "output_type": "stream",
     "text": [
      "Inside\n"
     ]
    },
    {
     "name": "stderr",
     "output_type": "stream",
     "text": [
      "2023-03-13 14:13:13,309 : INFO : read 200000 reviews\n"
     ]
    },
    {
     "name": "stdout",
     "output_type": "stream",
     "text": [
      "Inside\n"
     ]
    },
    {
     "name": "stderr",
     "output_type": "stream",
     "text": [
      "2023-03-13 14:13:15,084 : INFO : read 210000 reviews\n"
     ]
    },
    {
     "name": "stdout",
     "output_type": "stream",
     "text": [
      "Inside\n"
     ]
    },
    {
     "name": "stderr",
     "output_type": "stream",
     "text": [
      "2023-03-13 14:13:16,675 : INFO : read 220000 reviews\n"
     ]
    },
    {
     "name": "stdout",
     "output_type": "stream",
     "text": [
      "Inside\n"
     ]
    },
    {
     "name": "stderr",
     "output_type": "stream",
     "text": [
      "2023-03-13 14:13:18,105 : INFO : read 230000 reviews\n"
     ]
    },
    {
     "name": "stdout",
     "output_type": "stream",
     "text": [
      "Inside\n"
     ]
    },
    {
     "name": "stderr",
     "output_type": "stream",
     "text": [
      "2023-03-13 14:13:19,593 : INFO : read 240000 reviews\n"
     ]
    },
    {
     "name": "stdout",
     "output_type": "stream",
     "text": [
      "Inside\n"
     ]
    },
    {
     "name": "stderr",
     "output_type": "stream",
     "text": [
      "2023-03-13 14:13:21,041 : INFO : read 250000 reviews\n"
     ]
    },
    {
     "name": "stdout",
     "output_type": "stream",
     "text": [
      "Inside\n"
     ]
    }
   ],
   "source": [
    "# build vocabulary and train model\n",
    "\n",
    "#print(documents)\n",
    "document2 = [x for x in documents]\n",
    "\n",
    "\n"
   ]
  },
  {
   "cell_type": "code",
   "execution_count": 15,
   "id": "aa8bd3fc",
   "metadata": {
    "collapsed": true
   },
   "outputs": [
    {
     "name": "stderr",
     "output_type": "stream",
     "text": [
      "2023-03-13 14:13:30,018 : INFO : collecting all words and their counts\n",
      "2023-03-13 14:13:30,020 : INFO : PROGRESS: at sentence #0, processed 0 words, keeping 0 word types\n",
      "2023-03-13 14:13:30,211 : INFO : PROGRESS: at sentence #10000, processed 1655714 words, keeping 25777 word types\n",
      "2023-03-13 14:13:30,397 : INFO : PROGRESS: at sentence #20000, processed 3317863 words, keeping 35016 word types\n",
      "2023-03-13 14:13:30,639 : INFO : PROGRESS: at sentence #30000, processed 5264072 words, keeping 47518 word types\n",
      "2023-03-13 14:13:30,851 : INFO : PROGRESS: at sentence #40000, processed 7081746 words, keeping 56675 word types\n",
      "2023-03-13 14:13:31,090 : INFO : PROGRESS: at sentence #50000, processed 9089491 words, keeping 63744 word types\n",
      "2023-03-13 14:13:31,329 : INFO : PROGRESS: at sentence #60000, processed 11013727 words, keeping 76787 word types\n",
      "2023-03-13 14:13:31,526 : INFO : PROGRESS: at sentence #70000, processed 12637529 words, keeping 83200 word types\n",
      "2023-03-13 14:13:31,723 : INFO : PROGRESS: at sentence #80000, processed 14099755 words, keeping 88460 word types\n",
      "2023-03-13 14:13:31,934 : INFO : PROGRESS: at sentence #90000, processed 15662153 words, keeping 93358 word types\n",
      "2023-03-13 14:13:32,126 : INFO : PROGRESS: at sentence #100000, processed 17164491 words, keeping 97887 word types\n",
      "2023-03-13 14:13:32,333 : INFO : PROGRESS: at sentence #110000, processed 18652296 words, keeping 102133 word types\n",
      "2023-03-13 14:13:32,541 : INFO : PROGRESS: at sentence #120000, processed 20152533 words, keeping 105924 word types\n",
      "2023-03-13 14:13:32,721 : INFO : PROGRESS: at sentence #130000, processed 21684334 words, keeping 110105 word types\n",
      "2023-03-13 14:13:32,928 : INFO : PROGRESS: at sentence #140000, processed 23330210 words, keeping 114109 word types\n",
      "2023-03-13 14:13:33,115 : INFO : PROGRESS: at sentence #150000, processed 24838758 words, keeping 118175 word types\n",
      "2023-03-13 14:13:33,302 : INFO : PROGRESS: at sentence #160000, processed 26390914 words, keeping 118671 word types\n",
      "2023-03-13 14:13:33,489 : INFO : PROGRESS: at sentence #170000, processed 27913920 words, keeping 123357 word types\n",
      "2023-03-13 14:13:33,722 : INFO : PROGRESS: at sentence #180000, processed 29535616 words, keeping 126749 word types\n",
      "2023-03-13 14:13:33,917 : INFO : PROGRESS: at sentence #190000, processed 31096463 words, keeping 129848 word types\n",
      "2023-03-13 14:13:34,123 : INFO : PROGRESS: at sentence #200000, processed 32805275 words, keeping 133256 word types\n",
      "2023-03-13 14:13:34,323 : INFO : PROGRESS: at sentence #210000, processed 34434202 words, keeping 136365 word types\n",
      "2023-03-13 14:13:34,549 : INFO : PROGRESS: at sentence #220000, processed 36083486 words, keeping 139419 word types\n",
      "2023-03-13 14:13:34,785 : INFO : PROGRESS: at sentence #230000, processed 37571766 words, keeping 142400 word types\n",
      "2023-03-13 14:13:34,979 : INFO : PROGRESS: at sentence #240000, processed 39138194 words, keeping 145233 word types\n",
      "2023-03-13 14:13:35,195 : INFO : PROGRESS: at sentence #250000, processed 40695053 words, keeping 147967 word types\n",
      "2023-03-13 14:13:35,300 : INFO : collected 150060 word types from a corpus of 41519359 raw words and 255404 sentences\n",
      "2023-03-13 14:13:35,302 : INFO : Creating a fresh vocabulary\n",
      "2023-03-13 14:13:35,502 : INFO : Word2Vec lifecycle event {'msg': 'effective_min_count=2 retains 70537 unique words (47.01% of original 150060, drops 79523)', 'datetime': '2023-03-13T14:13:35.502187', 'gensim': '4.3.1', 'python': '3.10.7 (tags/v3.10.7:6cc6b13, Sep  5 2022, 14:08:36) [MSC v.1933 64 bit (AMD64)]', 'platform': 'Windows-10-10.0.22621-SP0', 'event': 'prepare_vocab'}\n",
      "2023-03-13 14:13:35,503 : INFO : Word2Vec lifecycle event {'msg': 'effective_min_count=2 leaves 41439836 word corpus (99.81% of original 41519359, drops 79523)', 'datetime': '2023-03-13T14:13:35.503488', 'gensim': '4.3.1', 'python': '3.10.7 (tags/v3.10.7:6cc6b13, Sep  5 2022, 14:08:36) [MSC v.1933 64 bit (AMD64)]', 'platform': 'Windows-10-10.0.22621-SP0', 'event': 'prepare_vocab'}\n",
      "2023-03-13 14:13:35,801 : INFO : deleting the raw counts dictionary of 150060 items\n",
      "2023-03-13 14:13:35,806 : INFO : sample=0.001 downsamples 55 most-common words\n",
      "2023-03-13 14:13:35,807 : INFO : Word2Vec lifecycle event {'msg': 'downsampling leaves estimated 30349251.36700416 word corpus (73.2%% of prior 41439836)', 'datetime': '2023-03-13T14:13:35.807672', 'gensim': '4.3.1', 'python': '3.10.7 (tags/v3.10.7:6cc6b13, Sep  5 2022, 14:08:36) [MSC v.1933 64 bit (AMD64)]', 'platform': 'Windows-10-10.0.22621-SP0', 'event': 'prepare_vocab'}\n",
      "2023-03-13 14:13:36,266 : INFO : estimated required memory for 70537 words and 150 dimensions: 119912900 bytes\n",
      "2023-03-13 14:13:36,267 : INFO : resetting layer weights\n",
      "2023-03-13 14:13:36,326 : INFO : Word2Vec lifecycle event {'update': False, 'trim_rule': 'None', 'datetime': '2023-03-13T14:13:36.326409', 'gensim': '4.3.1', 'python': '3.10.7 (tags/v3.10.7:6cc6b13, Sep  5 2022, 14:08:36) [MSC v.1933 64 bit (AMD64)]', 'platform': 'Windows-10-10.0.22621-SP0', 'event': 'build_vocab'}\n",
      "2023-03-13 14:13:36,327 : INFO : Word2Vec lifecycle event {'msg': 'training model with 10 workers on 70537 vocabulary and 150 features, using sg=0 hs=0 sample=0.001 negative=5 window=10 shrink_windows=True', 'datetime': '2023-03-13T14:13:36.327403', 'gensim': '4.3.1', 'python': '3.10.7 (tags/v3.10.7:6cc6b13, Sep  5 2022, 14:08:36) [MSC v.1933 64 bit (AMD64)]', 'platform': 'Windows-10-10.0.22621-SP0', 'event': 'train'}\n",
      "2023-03-13 14:13:37,411 : INFO : EPOCH 0 - PROGRESS: at 6.52% examples, 1993116 words/s, in_qsize 19, out_qsize 0\n",
      "2023-03-13 14:13:38,412 : INFO : EPOCH 0 - PROGRESS: at 13.03% examples, 2138066 words/s, in_qsize 19, out_qsize 0\n",
      "2023-03-13 14:13:39,412 : INFO : EPOCH 0 - PROGRESS: at 19.42% examples, 2190267 words/s, in_qsize 20, out_qsize 0\n",
      "2023-03-13 14:13:40,415 : INFO : EPOCH 0 - PROGRESS: at 26.14% examples, 2216012 words/s, in_qsize 19, out_qsize 0\n",
      "2023-03-13 14:13:41,423 : INFO : EPOCH 0 - PROGRESS: at 33.84% examples, 2200793 words/s, in_qsize 19, out_qsize 0\n",
      "2023-03-13 14:13:42,426 : INFO : EPOCH 0 - PROGRESS: at 39.47% examples, 2098667 words/s, in_qsize 19, out_qsize 0\n",
      "2023-03-13 14:13:43,433 : INFO : EPOCH 0 - PROGRESS: at 44.89% examples, 2008402 words/s, in_qsize 18, out_qsize 2\n",
      "2023-03-13 14:13:44,438 : INFO : EPOCH 0 - PROGRESS: at 50.03% examples, 1941040 words/s, in_qsize 20, out_qsize 1\n",
      "2023-03-13 14:13:45,447 : INFO : EPOCH 0 - PROGRESS: at 54.89% examples, 1887828 words/s, in_qsize 19, out_qsize 0\n",
      "2023-03-13 14:13:46,450 : INFO : EPOCH 0 - PROGRESS: at 60.14% examples, 1848339 words/s, in_qsize 19, out_qsize 0\n",
      "2023-03-13 14:13:47,451 : INFO : EPOCH 0 - PROGRESS: at 65.41% examples, 1814771 words/s, in_qsize 19, out_qsize 0\n",
      "2023-03-13 14:13:48,464 : INFO : EPOCH 0 - PROGRESS: at 70.33% examples, 1786808 words/s, in_qsize 19, out_qsize 0\n",
      "2023-03-13 14:13:49,466 : INFO : EPOCH 0 - PROGRESS: at 75.59% examples, 1769003 words/s, in_qsize 18, out_qsize 1\n",
      "2023-03-13 14:13:50,469 : INFO : EPOCH 0 - PROGRESS: at 80.59% examples, 1754798 words/s, in_qsize 19, out_qsize 0\n",
      "2023-03-13 14:13:51,471 : INFO : EPOCH 0 - PROGRESS: at 85.46% examples, 1737548 words/s, in_qsize 19, out_qsize 0\n",
      "2023-03-13 14:13:52,482 : INFO : EPOCH 0 - PROGRESS: at 90.44% examples, 1714973 words/s, in_qsize 19, out_qsize 0\n",
      "2023-03-13 14:13:53,490 : INFO : EPOCH 0 - PROGRESS: at 95.63% examples, 1702116 words/s, in_qsize 19, out_qsize 0\n",
      "2023-03-13 14:13:54,305 : INFO : EPOCH 0: training on 41519359 raw words (30349781 effective words) took 17.9s, 1695250 effective words/s\n",
      "2023-03-13 14:13:55,316 : INFO : EPOCH 1 - PROGRESS: at 4.67% examples, 1440020 words/s, in_qsize 20, out_qsize 0\n",
      "2023-03-13 14:13:56,320 : INFO : EPOCH 1 - PROGRESS: at 9.55% examples, 1493010 words/s, in_qsize 17, out_qsize 2\n",
      "2023-03-13 14:13:57,327 : INFO : EPOCH 1 - PROGRESS: at 13.73% examples, 1499931 words/s, in_qsize 19, out_qsize 0\n",
      "2023-03-13 14:13:58,331 : INFO : EPOCH 1 - PROGRESS: at 18.13% examples, 1516366 words/s, in_qsize 17, out_qsize 2\n",
      "2023-03-13 14:13:59,334 : INFO : EPOCH 1 - PROGRESS: at 22.40% examples, 1517087 words/s, in_qsize 19, out_qsize 0\n",
      "2023-03-13 14:14:00,344 : INFO : EPOCH 1 - PROGRESS: at 27.11% examples, 1517327 words/s, in_qsize 19, out_qsize 0\n"
     ]
    },
    {
     "name": "stderr",
     "output_type": "stream",
     "text": [
      "2023-03-13 14:14:01,348 : INFO : EPOCH 1 - PROGRESS: at 32.68% examples, 1520491 words/s, in_qsize 18, out_qsize 1\n",
      "2023-03-13 14:14:02,351 : INFO : EPOCH 1 - PROGRESS: at 38.04% examples, 1523656 words/s, in_qsize 20, out_qsize 0\n",
      "2023-03-13 14:14:03,354 : INFO : EPOCH 1 - PROGRESS: at 43.63% examples, 1525210 words/s, in_qsize 18, out_qsize 1\n",
      "2023-03-13 14:14:04,356 : INFO : EPOCH 1 - PROGRESS: at 49.18% examples, 1527910 words/s, in_qsize 19, out_qsize 0\n",
      "2023-03-13 14:14:05,363 : INFO : EPOCH 1 - PROGRESS: at 54.25% examples, 1527430 words/s, in_qsize 20, out_qsize 0\n",
      "2023-03-13 14:14:06,367 : INFO : EPOCH 1 - PROGRESS: at 59.65% examples, 1527963 words/s, in_qsize 20, out_qsize 1\n",
      "2023-03-13 14:14:07,371 : INFO : EPOCH 1 - PROGRESS: at 65.09% examples, 1527285 words/s, in_qsize 19, out_qsize 0\n",
      "2023-03-13 14:14:08,371 : INFO : EPOCH 1 - PROGRESS: at 70.11% examples, 1528510 words/s, in_qsize 18, out_qsize 1\n",
      "2023-03-13 14:14:09,374 : INFO : EPOCH 1 - PROGRESS: at 75.20% examples, 1526284 words/s, in_qsize 18, out_qsize 1\n",
      "2023-03-13 14:14:10,397 : INFO : EPOCH 1 - PROGRESS: at 80.16% examples, 1526392 words/s, in_qsize 19, out_qsize 1\n",
      "2023-03-13 14:14:11,397 : INFO : EPOCH 1 - PROGRESS: at 85.20% examples, 1527459 words/s, in_qsize 19, out_qsize 0\n",
      "2023-03-13 14:14:12,400 : INFO : EPOCH 1 - PROGRESS: at 90.61% examples, 1526922 words/s, in_qsize 19, out_qsize 0\n",
      "2023-03-13 14:14:13,404 : INFO : EPOCH 1 - PROGRESS: at 95.95% examples, 1528689 words/s, in_qsize 19, out_qsize 0\n",
      "2023-03-13 14:14:14,155 : INFO : EPOCH 1: training on 41519359 raw words (30347922 effective words) took 19.8s, 1529419 effective words/s\n",
      "2023-03-13 14:14:15,167 : INFO : EPOCH 2 - PROGRESS: at 4.76% examples, 1458448 words/s, in_qsize 18, out_qsize 1\n",
      "2023-03-13 14:14:16,176 : INFO : EPOCH 2 - PROGRESS: at 9.61% examples, 1498756 words/s, in_qsize 19, out_qsize 0\n",
      "2023-03-13 14:14:17,178 : INFO : EPOCH 2 - PROGRESS: at 13.74% examples, 1501990 words/s, in_qsize 19, out_qsize 0\n",
      "2023-03-13 14:14:18,181 : INFO : EPOCH 2 - PROGRESS: at 18.05% examples, 1509010 words/s, in_qsize 20, out_qsize 1\n",
      "2023-03-13 14:14:19,182 : INFO : EPOCH 2 - PROGRESS: at 22.36% examples, 1515048 words/s, in_qsize 19, out_qsize 0\n",
      "2023-03-13 14:14:20,182 : INFO : EPOCH 2 - PROGRESS: at 26.83% examples, 1509852 words/s, in_qsize 19, out_qsize 0\n",
      "2023-03-13 14:14:21,183 : INFO : EPOCH 2 - PROGRESS: at 31.96% examples, 1493011 words/s, in_qsize 19, out_qsize 0\n",
      "2023-03-13 14:14:22,192 : INFO : EPOCH 2 - PROGRESS: at 36.75% examples, 1478868 words/s, in_qsize 19, out_qsize 0\n",
      "2023-03-13 14:14:23,196 : INFO : EPOCH 2 - PROGRESS: at 41.58% examples, 1461898 words/s, in_qsize 19, out_qsize 0\n",
      "2023-03-13 14:14:24,205 : INFO : EPOCH 2 - PROGRESS: at 46.10% examples, 1439176 words/s, in_qsize 18, out_qsize 1\n",
      "2023-03-13 14:14:25,206 : INFO : EPOCH 2 - PROGRESS: at 50.69% examples, 1429978 words/s, in_qsize 19, out_qsize 0\n",
      "2023-03-13 14:14:26,209 : INFO : EPOCH 2 - PROGRESS: at 55.23% examples, 1423393 words/s, in_qsize 19, out_qsize 0\n",
      "2023-03-13 14:14:27,211 : INFO : EPOCH 2 - PROGRESS: at 59.94% examples, 1418796 words/s, in_qsize 19, out_qsize 0\n",
      "2023-03-13 14:14:28,213 : INFO : EPOCH 2 - PROGRESS: at 64.77% examples, 1412237 words/s, in_qsize 18, out_qsize 1\n",
      "2023-03-13 14:14:29,215 : INFO : EPOCH 2 - PROGRESS: at 68.93% examples, 1401824 words/s, in_qsize 19, out_qsize 0\n",
      "2023-03-13 14:14:30,226 : INFO : EPOCH 2 - PROGRESS: at 73.24% examples, 1394707 words/s, in_qsize 17, out_qsize 2\n",
      "2023-03-13 14:14:31,230 : INFO : EPOCH 2 - PROGRESS: at 77.83% examples, 1396170 words/s, in_qsize 16, out_qsize 3\n",
      "2023-03-13 14:14:32,234 : INFO : EPOCH 2 - PROGRESS: at 82.50% examples, 1397508 words/s, in_qsize 18, out_qsize 1\n",
      "2023-03-13 14:14:33,239 : INFO : EPOCH 2 - PROGRESS: at 87.26% examples, 1398601 words/s, in_qsize 17, out_qsize 2\n",
      "2023-03-13 14:14:34,239 : INFO : EPOCH 2 - PROGRESS: at 92.28% examples, 1399426 words/s, in_qsize 20, out_qsize 0\n",
      "2023-03-13 14:14:35,246 : INFO : EPOCH 2 - PROGRESS: at 97.11% examples, 1400312 words/s, in_qsize 18, out_qsize 1\n",
      "2023-03-13 14:14:35,881 : INFO : EPOCH 2: training on 41519359 raw words (30349177 effective words) took 21.7s, 1397384 effective words/s\n",
      "2023-03-13 14:14:36,895 : INFO : EPOCH 3 - PROGRESS: at 4.27% examples, 1308457 words/s, in_qsize 19, out_qsize 0\n",
      "2023-03-13 14:14:37,901 : INFO : EPOCH 3 - PROGRESS: at 8.71% examples, 1340760 words/s, in_qsize 19, out_qsize 0\n",
      "2023-03-13 14:14:38,907 : INFO : EPOCH 3 - PROGRESS: at 12.40% examples, 1355727 words/s, in_qsize 19, out_qsize 0\n",
      "2023-03-13 14:14:39,913 : INFO : EPOCH 3 - PROGRESS: at 16.39% examples, 1355745 words/s, in_qsize 19, out_qsize 0\n",
      "2023-03-13 14:14:40,919 : INFO : EPOCH 3 - PROGRESS: at 19.96% examples, 1351293 words/s, in_qsize 19, out_qsize 0\n",
      "2023-03-13 14:14:41,922 : INFO : EPOCH 3 - PROGRESS: at 23.82% examples, 1357431 words/s, in_qsize 19, out_qsize 0\n",
      "2023-03-13 14:14:42,933 : INFO : EPOCH 3 - PROGRESS: at 28.61% examples, 1358090 words/s, in_qsize 19, out_qsize 0\n",
      "2023-03-13 14:14:43,937 : INFO : EPOCH 3 - PROGRESS: at 33.46% examples, 1357215 words/s, in_qsize 18, out_qsize 1\n",
      "2023-03-13 14:14:44,940 : INFO : EPOCH 3 - PROGRESS: at 38.16% examples, 1356566 words/s, in_qsize 19, out_qsize 0\n",
      "2023-03-13 14:14:45,943 : INFO : EPOCH 3 - PROGRESS: at 43.07% examples, 1356816 words/s, in_qsize 19, out_qsize 0\n",
      "2023-03-13 14:14:46,943 : INFO : EPOCH 3 - PROGRESS: at 47.75% examples, 1352729 words/s, in_qsize 18, out_qsize 1\n",
      "2023-03-13 14:14:47,959 : INFO : EPOCH 3 - PROGRESS: at 52.24% examples, 1347297 words/s, in_qsize 20, out_qsize 1\n",
      "2023-03-13 14:14:48,961 : INFO : EPOCH 3 - PROGRESS: at 56.57% examples, 1341150 words/s, in_qsize 19, out_qsize 0\n",
      "2023-03-13 14:14:49,971 : INFO : EPOCH 3 - PROGRESS: at 61.10% examples, 1338031 words/s, in_qsize 19, out_qsize 0\n",
      "2023-03-13 14:14:50,974 : INFO : EPOCH 3 - PROGRESS: at 65.24% examples, 1325665 words/s, in_qsize 20, out_qsize 0\n",
      "2023-03-13 14:14:51,980 : INFO : EPOCH 3 - PROGRESS: at 68.99% examples, 1312771 words/s, in_qsize 18, out_qsize 1\n",
      "2023-03-13 14:14:52,991 : INFO : EPOCH 3 - PROGRESS: at 73.19% examples, 1309410 words/s, in_qsize 20, out_qsize 0\n",
      "2023-03-13 14:14:53,992 : INFO : EPOCH 3 - PROGRESS: at 77.41% examples, 1309334 words/s, in_qsize 19, out_qsize 0\n",
      "2023-03-13 14:14:54,997 : INFO : EPOCH 3 - PROGRESS: at 81.70% examples, 1309742 words/s, in_qsize 19, out_qsize 0\n",
      "2023-03-13 14:14:55,999 : INFO : EPOCH 3 - PROGRESS: at 85.81% examples, 1306716 words/s, in_qsize 19, out_qsize 0\n",
      "2023-03-13 14:14:57,000 : INFO : EPOCH 3 - PROGRESS: at 90.32% examples, 1304562 words/s, in_qsize 19, out_qsize 0\n",
      "2023-03-13 14:14:58,008 : INFO : EPOCH 3 - PROGRESS: at 94.90% examples, 1305530 words/s, in_qsize 19, out_qsize 0\n",
      "2023-03-13 14:14:59,012 : INFO : EPOCH 3 - PROGRESS: at 99.18% examples, 1302461 words/s, in_qsize 18, out_qsize 1\n",
      "2023-03-13 14:14:59,185 : INFO : EPOCH 3: training on 41519359 raw words (30347075 effective words) took 23.3s, 1302795 effective words/s\n",
      "2023-03-13 14:15:00,202 : INFO : EPOCH 4 - PROGRESS: at 4.35% examples, 1324175 words/s, in_qsize 18, out_qsize 1\n",
      "2023-03-13 14:15:01,206 : INFO : EPOCH 4 - PROGRESS: at 8.69% examples, 1335176 words/s, in_qsize 17, out_qsize 2\n",
      "2023-03-13 14:15:02,208 : INFO : EPOCH 4 - PROGRESS: at 12.50% examples, 1370354 words/s, in_qsize 20, out_qsize 0\n",
      "2023-03-13 14:15:03,220 : INFO : EPOCH 4 - PROGRESS: at 16.79% examples, 1391410 words/s, in_qsize 19, out_qsize 0\n",
      "2023-03-13 14:15:04,222 : INFO : EPOCH 4 - PROGRESS: at 20.48% examples, 1390980 words/s, in_qsize 19, out_qsize 1\n",
      "2023-03-13 14:15:05,228 : INFO : EPOCH 4 - PROGRESS: at 23.93% examples, 1363798 words/s, in_qsize 18, out_qsize 1\n",
      "2023-03-13 14:15:06,239 : INFO : EPOCH 4 - PROGRESS: at 28.41% examples, 1349274 words/s, in_qsize 19, out_qsize 0\n",
      "2023-03-13 14:15:07,244 : INFO : EPOCH 4 - PROGRESS: at 32.86% examples, 1333873 words/s, in_qsize 19, out_qsize 0\n",
      "2023-03-13 14:15:08,257 : INFO : EPOCH 4 - PROGRESS: at 37.43% examples, 1332195 words/s, in_qsize 19, out_qsize 0\n",
      "2023-03-13 14:15:09,264 : INFO : EPOCH 4 - PROGRESS: at 42.35% examples, 1333335 words/s, in_qsize 19, out_qsize 0\n",
      "2023-03-13 14:15:10,265 : INFO : EPOCH 4 - PROGRESS: at 47.22% examples, 1337106 words/s, in_qsize 19, out_qsize 0\n"
     ]
    },
    {
     "name": "stderr",
     "output_type": "stream",
     "text": [
      "2023-03-13 14:15:11,272 : INFO : EPOCH 4 - PROGRESS: at 51.90% examples, 1337048 words/s, in_qsize 19, out_qsize 0\n",
      "2023-03-13 14:15:12,274 : INFO : EPOCH 4 - PROGRESS: at 57.05% examples, 1350625 words/s, in_qsize 19, out_qsize 0\n",
      "2023-03-13 14:15:13,274 : INFO : EPOCH 4 - PROGRESS: at 61.84% examples, 1353832 words/s, in_qsize 19, out_qsize 0\n",
      "2023-03-13 14:15:14,275 : INFO : EPOCH 4 - PROGRESS: at 66.69% examples, 1355592 words/s, in_qsize 20, out_qsize 0\n",
      "2023-03-13 14:15:15,278 : INFO : EPOCH 4 - PROGRESS: at 71.85% examples, 1369079 words/s, in_qsize 19, out_qsize 0\n",
      "2023-03-13 14:15:16,278 : INFO : EPOCH 4 - PROGRESS: at 76.24% examples, 1365216 words/s, in_qsize 18, out_qsize 1\n",
      "2023-03-13 14:15:17,288 : INFO : EPOCH 4 - PROGRESS: at 80.38% examples, 1360277 words/s, in_qsize 19, out_qsize 0\n",
      "2023-03-13 14:15:18,298 : INFO : EPOCH 4 - PROGRESS: at 84.76% examples, 1358776 words/s, in_qsize 19, out_qsize 0\n",
      "2023-03-13 14:15:19,302 : INFO : EPOCH 4 - PROGRESS: at 89.60% examples, 1359404 words/s, in_qsize 19, out_qsize 0\n",
      "2023-03-13 14:15:20,304 : INFO : EPOCH 4 - PROGRESS: at 94.02% examples, 1355728 words/s, in_qsize 18, out_qsize 1\n",
      "2023-03-13 14:15:21,305 : INFO : EPOCH 4 - PROGRESS: at 98.15% examples, 1348714 words/s, in_qsize 20, out_qsize 0\n",
      "2023-03-13 14:15:21,758 : INFO : EPOCH 4: training on 41519359 raw words (30347319 effective words) took 22.6s, 1344859 effective words/s\n",
      "2023-03-13 14:15:22,769 : INFO : EPOCH 5 - PROGRESS: at 4.06% examples, 1251582 words/s, in_qsize 19, out_qsize 0\n",
      "2023-03-13 14:15:23,769 : INFO : EPOCH 5 - PROGRESS: at 8.38% examples, 1294961 words/s, in_qsize 19, out_qsize 0\n",
      "2023-03-13 14:15:24,777 : INFO : EPOCH 5 - PROGRESS: at 11.89% examples, 1293315 words/s, in_qsize 19, out_qsize 0\n",
      "2023-03-13 14:15:25,785 : INFO : EPOCH 5 - PROGRESS: at 16.24% examples, 1341749 words/s, in_qsize 19, out_qsize 0\n",
      "2023-03-13 14:15:26,786 : INFO : EPOCH 5 - PROGRESS: at 20.13% examples, 1367258 words/s, in_qsize 18, out_qsize 1\n",
      "2023-03-13 14:15:27,788 : INFO : EPOCH 5 - PROGRESS: at 24.07% examples, 1374806 words/s, in_qsize 19, out_qsize 0\n",
      "2023-03-13 14:15:28,797 : INFO : EPOCH 5 - PROGRESS: at 28.88% examples, 1370261 words/s, in_qsize 19, out_qsize 0\n",
      "2023-03-13 14:15:29,809 : INFO : EPOCH 5 - PROGRESS: at 33.73% examples, 1369139 words/s, in_qsize 18, out_qsize 1\n",
      "2023-03-13 14:15:30,811 : INFO : EPOCH 5 - PROGRESS: at 38.46% examples, 1365774 words/s, in_qsize 18, out_qsize 1\n",
      "2023-03-13 14:15:31,813 : INFO : EPOCH 5 - PROGRESS: at 43.53% examples, 1370089 words/s, in_qsize 19, out_qsize 0\n",
      "2023-03-13 14:15:32,815 : INFO : EPOCH 5 - PROGRESS: at 48.62% examples, 1375705 words/s, in_qsize 20, out_qsize 0\n",
      "2023-03-13 14:15:33,826 : INFO : EPOCH 5 - PROGRESS: at 53.39% examples, 1378359 words/s, in_qsize 19, out_qsize 0\n",
      "2023-03-13 14:15:34,831 : INFO : EPOCH 5 - PROGRESS: at 58.44% examples, 1383593 words/s, in_qsize 19, out_qsize 0\n",
      "2023-03-13 14:15:35,834 : INFO : EPOCH 5 - PROGRESS: at 63.13% examples, 1381211 words/s, in_qsize 17, out_qsize 2\n",
      "2023-03-13 14:15:36,839 : INFO : EPOCH 5 - PROGRESS: at 68.06% examples, 1382422 words/s, in_qsize 18, out_qsize 1\n",
      "2023-03-13 14:15:37,848 : INFO : EPOCH 5 - PROGRESS: at 72.80% examples, 1384949 words/s, in_qsize 19, out_qsize 0\n",
      "2023-03-13 14:15:38,852 : INFO : EPOCH 5 - PROGRESS: at 77.44% examples, 1387434 words/s, in_qsize 20, out_qsize 1\n",
      "2023-03-13 14:15:39,863 : INFO : EPOCH 5 - PROGRESS: at 82.10% examples, 1388643 words/s, in_qsize 19, out_qsize 0\n",
      "2023-03-13 14:15:40,873 : INFO : EPOCH 5 - PROGRESS: at 86.63% examples, 1387176 words/s, in_qsize 19, out_qsize 0\n",
      "2023-03-13 14:15:41,874 : INFO : EPOCH 5 - PROGRESS: at 91.18% examples, 1381759 words/s, in_qsize 17, out_qsize 2\n",
      "2023-03-13 14:15:42,881 : INFO : EPOCH 5 - PROGRESS: at 95.41% examples, 1374331 words/s, in_qsize 18, out_qsize 1\n",
      "2023-03-13 14:15:43,882 : INFO : EPOCH 5 - PROGRESS: at 100.00% examples, 1372206 words/s, in_qsize 0, out_qsize 1\n",
      "2023-03-13 14:15:43,884 : INFO : EPOCH 5: training on 41519359 raw words (30347867 effective words) took 22.1s, 1372057 effective words/s\n",
      "2023-03-13 14:15:44,910 : INFO : EPOCH 6 - PROGRESS: at 3.80% examples, 1162689 words/s, in_qsize 19, out_qsize 0\n",
      "2023-03-13 14:15:45,925 : INFO : EPOCH 6 - PROGRESS: at 7.50% examples, 1141804 words/s, in_qsize 19, out_qsize 0\n",
      "2023-03-13 14:15:46,925 : INFO : EPOCH 6 - PROGRESS: at 11.24% examples, 1201263 words/s, in_qsize 19, out_qsize 0\n",
      "2023-03-13 14:15:47,926 : INFO : EPOCH 6 - PROGRESS: at 14.62% examples, 1201210 words/s, in_qsize 20, out_qsize 0\n",
      "2023-03-13 14:15:48,926 : INFO : EPOCH 6 - PROGRESS: at 18.17% examples, 1214519 words/s, in_qsize 16, out_qsize 3\n",
      "2023-03-13 14:15:49,928 : INFO : EPOCH 6 - PROGRESS: at 21.82% examples, 1227737 words/s, in_qsize 17, out_qsize 2\n",
      "2023-03-13 14:15:50,932 : INFO : EPOCH 6 - PROGRESS: at 25.30% examples, 1232493 words/s, in_qsize 19, out_qsize 0\n",
      "2023-03-13 14:15:51,942 : INFO : EPOCH 6 - PROGRESS: at 29.72% examples, 1227497 words/s, in_qsize 19, out_qsize 0\n",
      "2023-03-13 14:15:52,949 : INFO : EPOCH 6 - PROGRESS: at 33.73% examples, 1217071 words/s, in_qsize 19, out_qsize 0\n",
      "2023-03-13 14:15:53,954 : INFO : EPOCH 6 - PROGRESS: at 38.12% examples, 1220241 words/s, in_qsize 19, out_qsize 0\n",
      "2023-03-13 14:15:54,964 : INFO : EPOCH 6 - PROGRESS: at 42.76% examples, 1225477 words/s, in_qsize 19, out_qsize 0\n",
      "2023-03-13 14:15:55,971 : INFO : EPOCH 6 - PROGRESS: at 46.94% examples, 1219352 words/s, in_qsize 19, out_qsize 3\n",
      "2023-03-13 14:15:56,987 : INFO : EPOCH 6 - PROGRESS: at 51.34% examples, 1221454 words/s, in_qsize 19, out_qsize 0\n",
      "2023-03-13 14:15:57,988 : INFO : EPOCH 6 - PROGRESS: at 55.94% examples, 1230957 words/s, in_qsize 19, out_qsize 0\n",
      "2023-03-13 14:15:58,996 : INFO : EPOCH 6 - PROGRESS: at 61.17% examples, 1249371 words/s, in_qsize 20, out_qsize 2\n",
      "2023-03-13 14:16:00,002 : INFO : EPOCH 6 - PROGRESS: at 65.96% examples, 1256380 words/s, in_qsize 19, out_qsize 0\n",
      "2023-03-13 14:16:01,011 : INFO : EPOCH 6 - PROGRESS: at 70.27% examples, 1258256 words/s, in_qsize 19, out_qsize 0\n",
      "2023-03-13 14:16:02,019 : INFO : EPOCH 6 - PROGRESS: at 75.11% examples, 1266977 words/s, in_qsize 18, out_qsize 1\n",
      "2023-03-13 14:16:03,023 : INFO : EPOCH 6 - PROGRESS: at 79.76% examples, 1276938 words/s, in_qsize 19, out_qsize 0\n",
      "2023-03-13 14:16:04,024 : INFO : EPOCH 6 - PROGRESS: at 83.98% examples, 1277149 words/s, in_qsize 18, out_qsize 1\n",
      "2023-03-13 14:16:05,029 : INFO : EPOCH 6 - PROGRESS: at 88.54% examples, 1279394 words/s, in_qsize 19, out_qsize 0\n",
      "2023-03-13 14:16:06,047 : INFO : EPOCH 6 - PROGRESS: at 93.58% examples, 1286435 words/s, in_qsize 19, out_qsize 0\n",
      "2023-03-13 14:16:07,049 : INFO : EPOCH 6 - PROGRESS: at 98.46% examples, 1292171 words/s, in_qsize 18, out_qsize 1\n",
      "2023-03-13 14:16:07,338 : INFO : EPOCH 6: training on 41519359 raw words (30351101 effective words) took 23.4s, 1294836 effective words/s\n",
      "2023-03-13 14:16:08,351 : INFO : EPOCH 7 - PROGRESS: at 4.71% examples, 1443421 words/s, in_qsize 19, out_qsize 0\n",
      "2023-03-13 14:16:09,356 : INFO : EPOCH 7 - PROGRESS: at 9.27% examples, 1440610 words/s, in_qsize 18, out_qsize 1\n",
      "2023-03-13 14:16:10,359 : INFO : EPOCH 7 - PROGRESS: at 12.91% examples, 1413931 words/s, in_qsize 19, out_qsize 0\n",
      "2023-03-13 14:16:11,359 : INFO : EPOCH 7 - PROGRESS: at 16.76% examples, 1391951 words/s, in_qsize 20, out_qsize 0\n",
      "2023-03-13 14:16:12,368 : INFO : EPOCH 7 - PROGRESS: at 20.37% examples, 1384150 words/s, in_qsize 20, out_qsize 1\n",
      "2023-03-13 14:16:13,378 : INFO : EPOCH 7 - PROGRESS: at 24.57% examples, 1404725 words/s, in_qsize 19, out_qsize 0\n",
      "2023-03-13 14:16:14,380 : INFO : EPOCH 7 - PROGRESS: at 29.88% examples, 1409671 words/s, in_qsize 16, out_qsize 3\n",
      "2023-03-13 14:16:15,394 : INFO : EPOCH 7 - PROGRESS: at 34.83% examples, 1408988 words/s, in_qsize 19, out_qsize 0\n",
      "2023-03-13 14:16:16,395 : INFO : EPOCH 7 - PROGRESS: at 39.98% examples, 1413773 words/s, in_qsize 19, out_qsize 0\n",
      "2023-03-13 14:16:17,396 : INFO : EPOCH 7 - PROGRESS: at 45.35% examples, 1417734 words/s, in_qsize 19, out_qsize 0\n",
      "2023-03-13 14:16:18,399 : INFO : EPOCH 7 - PROGRESS: at 50.37% examples, 1420071 words/s, in_qsize 19, out_qsize 0\n",
      "2023-03-13 14:16:19,410 : INFO : EPOCH 7 - PROGRESS: at 55.15% examples, 1419385 words/s, in_qsize 20, out_qsize 0\n"
     ]
    },
    {
     "name": "stderr",
     "output_type": "stream",
     "text": [
      "2023-03-13 14:16:20,411 : INFO : EPOCH 7 - PROGRESS: at 60.11% examples, 1420625 words/s, in_qsize 18, out_qsize 1\n",
      "2023-03-13 14:16:21,413 : INFO : EPOCH 7 - PROGRESS: at 65.26% examples, 1421715 words/s, in_qsize 19, out_qsize 0\n",
      "2023-03-13 14:16:22,420 : INFO : EPOCH 7 - PROGRESS: at 70.01% examples, 1422930 words/s, in_qsize 19, out_qsize 0\n",
      "2023-03-13 14:16:23,428 : INFO : EPOCH 7 - PROGRESS: at 74.95% examples, 1424238 words/s, in_qsize 19, out_qsize 0\n",
      "2023-03-13 14:16:24,443 : INFO : EPOCH 7 - PROGRESS: at 79.45% examples, 1422701 words/s, in_qsize 19, out_qsize 0\n",
      "2023-03-13 14:16:25,448 : INFO : EPOCH 7 - PROGRESS: at 84.23% examples, 1423996 words/s, in_qsize 18, out_qsize 1\n",
      "2023-03-13 14:16:26,459 : INFO : EPOCH 7 - PROGRESS: at 89.26% examples, 1424925 words/s, in_qsize 19, out_qsize 0\n",
      "2023-03-13 14:16:27,473 : INFO : EPOCH 7 - PROGRESS: at 94.28% examples, 1425612 words/s, in_qsize 17, out_qsize 2\n",
      "2023-03-13 14:16:28,479 : INFO : EPOCH 7 - PROGRESS: at 99.27% examples, 1426391 words/s, in_qsize 19, out_qsize 0\n",
      "2023-03-13 14:16:28,610 : INFO : EPOCH 7: training on 41519359 raw words (30349738 effective words) took 21.3s, 1427229 effective words/s\n",
      "2023-03-13 14:16:29,622 : INFO : EPOCH 8 - PROGRESS: at 4.57% examples, 1409922 words/s, in_qsize 19, out_qsize 0\n",
      "2023-03-13 14:16:30,626 : INFO : EPOCH 8 - PROGRESS: at 9.38% examples, 1458343 words/s, in_qsize 19, out_qsize 0\n",
      "2023-03-13 14:16:31,630 : INFO : EPOCH 8 - PROGRESS: at 13.31% examples, 1454151 words/s, in_qsize 19, out_qsize 0\n",
      "2023-03-13 14:16:32,641 : INFO : EPOCH 8 - PROGRESS: at 17.42% examples, 1450988 words/s, in_qsize 19, out_qsize 0\n",
      "2023-03-13 14:16:33,652 : INFO : EPOCH 8 - PROGRESS: at 21.57% examples, 1452627 words/s, in_qsize 20, out_qsize 0\n",
      "2023-03-13 14:16:34,660 : INFO : EPOCH 8 - PROGRESS: at 25.53% examples, 1446055 words/s, in_qsize 18, out_qsize 1\n",
      "2023-03-13 14:16:35,662 : INFO : EPOCH 8 - PROGRESS: at 30.51% examples, 1434995 words/s, in_qsize 19, out_qsize 0\n",
      "2023-03-13 14:16:36,668 : INFO : EPOCH 8 - PROGRESS: at 34.97% examples, 1413537 words/s, in_qsize 19, out_qsize 0\n",
      "2023-03-13 14:16:37,668 : INFO : EPOCH 8 - PROGRESS: at 39.42% examples, 1395056 words/s, in_qsize 18, out_qsize 1\n",
      "2023-03-13 14:16:38,680 : INFO : EPOCH 8 - PROGRESS: at 43.70% examples, 1372859 words/s, in_qsize 18, out_qsize 1\n",
      "2023-03-13 14:16:39,683 : INFO : EPOCH 8 - PROGRESS: at 47.40% examples, 1342821 words/s, in_qsize 19, out_qsize 0\n",
      "2023-03-13 14:16:40,697 : INFO : EPOCH 8 - PROGRESS: at 51.78% examples, 1334316 words/s, in_qsize 19, out_qsize 0\n",
      "2023-03-13 14:16:41,699 : INFO : EPOCH 8 - PROGRESS: at 55.91% examples, 1325405 words/s, in_qsize 18, out_qsize 1\n",
      "2023-03-13 14:16:42,705 : INFO : EPOCH 8 - PROGRESS: at 60.51% examples, 1325838 words/s, in_qsize 19, out_qsize 0\n",
      "2023-03-13 14:16:43,706 : INFO : EPOCH 8 - PROGRESS: at 64.74% examples, 1314939 words/s, in_qsize 19, out_qsize 0\n",
      "2023-03-13 14:16:44,708 : INFO : EPOCH 8 - PROGRESS: at 69.21% examples, 1317369 words/s, in_qsize 19, out_qsize 0\n",
      "2023-03-13 14:16:45,712 : INFO : EPOCH 8 - PROGRESS: at 73.13% examples, 1309115 words/s, in_qsize 18, out_qsize 1\n",
      "2023-03-13 14:16:46,717 : INFO : EPOCH 8 - PROGRESS: at 77.27% examples, 1306797 words/s, in_qsize 17, out_qsize 2\n",
      "2023-03-13 14:16:47,727 : INFO : EPOCH 8 - PROGRESS: at 81.43% examples, 1305556 words/s, in_qsize 19, out_qsize 0\n",
      "2023-03-13 14:16:48,735 : INFO : EPOCH 8 - PROGRESS: at 85.98% examples, 1308707 words/s, in_qsize 19, out_qsize 0\n",
      "2023-03-13 14:16:49,737 : INFO : EPOCH 8 - PROGRESS: at 90.69% examples, 1308924 words/s, in_qsize 19, out_qsize 0\n",
      "2023-03-13 14:16:50,740 : INFO : EPOCH 8 - PROGRESS: at 95.34% examples, 1310920 words/s, in_qsize 19, out_qsize 0\n",
      "2023-03-13 14:16:51,742 : INFO : EPOCH 8 - PROGRESS: at 99.56% examples, 1307377 words/s, in_qsize 16, out_qsize 1\n",
      "2023-03-13 14:16:51,819 : INFO : EPOCH 8: training on 41519359 raw words (30349847 effective words) took 23.2s, 1308201 effective words/s\n",
      "2023-03-13 14:16:52,829 : INFO : EPOCH 9 - PROGRESS: at 4.45% examples, 1365347 words/s, in_qsize 18, out_qsize 1\n",
      "2023-03-13 14:16:53,841 : INFO : EPOCH 9 - PROGRESS: at 8.71% examples, 1336871 words/s, in_qsize 20, out_qsize 3\n",
      "2023-03-13 14:16:54,841 : INFO : EPOCH 9 - PROGRESS: at 12.06% examples, 1312557 words/s, in_qsize 19, out_qsize 0\n",
      "2023-03-13 14:16:55,858 : INFO : EPOCH 9 - PROGRESS: at 16.24% examples, 1336802 words/s, in_qsize 19, out_qsize 0\n",
      "2023-03-13 14:16:56,860 : INFO : EPOCH 9 - PROGRESS: at 19.63% examples, 1323783 words/s, in_qsize 18, out_qsize 1\n",
      "2023-03-13 14:16:57,865 : INFO : EPOCH 9 - PROGRESS: at 23.23% examples, 1316018 words/s, in_qsize 18, out_qsize 1\n",
      "2023-03-13 14:16:58,865 : INFO : EPOCH 9 - PROGRESS: at 27.08% examples, 1298913 words/s, in_qsize 18, out_qsize 1\n",
      "2023-03-13 14:16:59,868 : INFO : EPOCH 9 - PROGRESS: at 31.81% examples, 1297271 words/s, in_qsize 19, out_qsize 0\n",
      "2023-03-13 14:17:00,877 : INFO : EPOCH 9 - PROGRESS: at 36.45% examples, 1301783 words/s, in_qsize 18, out_qsize 1\n",
      "2023-03-13 14:17:01,887 : INFO : EPOCH 9 - PROGRESS: at 41.10% examples, 1300645 words/s, in_qsize 19, out_qsize 0\n",
      "2023-03-13 14:17:02,892 : INFO : EPOCH 9 - PROGRESS: at 46.07% examples, 1305062 words/s, in_qsize 19, out_qsize 0\n",
      "2023-03-13 14:17:03,900 : INFO : EPOCH 9 - PROGRESS: at 50.62% examples, 1305909 words/s, in_qsize 18, out_qsize 1\n",
      "2023-03-13 14:17:04,902 : INFO : EPOCH 9 - PROGRESS: at 54.27% examples, 1291015 words/s, in_qsize 19, out_qsize 0\n",
      "2023-03-13 14:17:05,904 : INFO : EPOCH 9 - PROGRESS: at 58.46% examples, 1284386 words/s, in_qsize 19, out_qsize 0\n",
      "2023-03-13 14:17:06,906 : INFO : EPOCH 9 - PROGRESS: at 62.25% examples, 1272095 words/s, in_qsize 19, out_qsize 0\n",
      "2023-03-13 14:17:07,917 : INFO : EPOCH 9 - PROGRESS: at 66.57% examples, 1268166 words/s, in_qsize 19, out_qsize 0\n",
      "2023-03-13 14:17:08,923 : INFO : EPOCH 9 - PROGRESS: at 70.48% examples, 1262963 words/s, in_qsize 19, out_qsize 0\n",
      "2023-03-13 14:17:09,933 : INFO : EPOCH 9 - PROGRESS: at 74.88% examples, 1263320 words/s, in_qsize 19, out_qsize 0\n",
      "2023-03-13 14:17:10,939 : INFO : EPOCH 9 - PROGRESS: at 78.80% examples, 1262352 words/s, in_qsize 19, out_qsize 0\n",
      "2023-03-13 14:17:11,954 : INFO : EPOCH 9 - PROGRESS: at 83.20% examples, 1264488 words/s, in_qsize 18, out_qsize 1\n",
      "2023-03-13 14:17:12,969 : INFO : EPOCH 9 - PROGRESS: at 87.56% examples, 1265404 words/s, in_qsize 19, out_qsize 0\n",
      "2023-03-13 14:17:13,977 : INFO : EPOCH 9 - PROGRESS: at 92.13% examples, 1266186 words/s, in_qsize 19, out_qsize 0\n",
      "2023-03-13 14:17:14,983 : INFO : EPOCH 9 - PROGRESS: at 96.51% examples, 1266957 words/s, in_qsize 19, out_qsize 0\n",
      "2023-03-13 14:17:15,766 : INFO : EPOCH 9: training on 41519359 raw words (30344136 effective words) took 23.9s, 1267487 effective words/s\n",
      "2023-03-13 14:17:15,767 : INFO : Word2Vec lifecycle event {'msg': 'training on 415193590 raw words (303483963 effective words) took 219.4s, 1382995 effective words/s', 'datetime': '2023-03-13T14:17:15.767350', 'gensim': '4.3.1', 'python': '3.10.7 (tags/v3.10.7:6cc6b13, Sep  5 2022, 14:08:36) [MSC v.1933 64 bit (AMD64)]', 'platform': 'Windows-10-10.0.22621-SP0', 'event': 'train'}\n",
      "2023-03-13 14:17:15,768 : INFO : Word2Vec lifecycle event {'params': 'Word2Vec<vocab=70537, vector_size=150, alpha=0.025>', 'datetime': '2023-03-13T14:17:15.768348', 'gensim': '4.3.1', 'python': '3.10.7 (tags/v3.10.7:6cc6b13, Sep  5 2022, 14:08:36) [MSC v.1933 64 bit (AMD64)]', 'platform': 'Windows-10-10.0.22621-SP0', 'event': 'created'}\n"
     ]
    }
   ],
   "source": [
    "Q1model = gensim.models.Word2Vec(document2,vector_size=150,window=10,min_count=2,workers=10, epochs = 10)\n"
   ]
  },
  {
   "cell_type": "code",
   "execution_count": 16,
   "id": "b8132ea1",
   "metadata": {
    "collapsed": true
   },
   "outputs": [
    {
     "name": "stderr",
     "output_type": "stream",
     "text": [
      "2023-03-13 14:17:15,789 : WARNING : Effective 'alpha' higher than previous training cycles\n",
      "2023-03-13 14:17:15,791 : INFO : Word2Vec lifecycle event {'msg': 'training model with 10 workers on 70537 vocabulary and 150 features, using sg=0 hs=0 sample=0.001 negative=5 window=10 shrink_windows=True', 'datetime': '2023-03-13T14:17:15.791848', 'gensim': '4.3.1', 'python': '3.10.7 (tags/v3.10.7:6cc6b13, Sep  5 2022, 14:08:36) [MSC v.1933 64 bit (AMD64)]', 'platform': 'Windows-10-10.0.22621-SP0', 'event': 'train'}\n",
      "2023-03-13 14:17:16,804 : INFO : EPOCH 0 - PROGRESS: at 4.22% examples, 1297694 words/s, in_qsize 19, out_qsize 0\n",
      "2023-03-13 14:17:17,806 : INFO : EPOCH 0 - PROGRESS: at 8.71% examples, 1345744 words/s, in_qsize 19, out_qsize 0\n",
      "2023-03-13 14:17:18,807 : INFO : EPOCH 0 - PROGRESS: at 12.34% examples, 1354006 words/s, in_qsize 19, out_qsize 0\n",
      "2023-03-13 14:17:19,811 : INFO : EPOCH 0 - PROGRESS: at 16.27% examples, 1349099 words/s, in_qsize 19, out_qsize 0\n",
      "2023-03-13 14:17:20,813 : INFO : EPOCH 0 - PROGRESS: at 19.93% examples, 1353526 words/s, in_qsize 19, out_qsize 0\n",
      "2023-03-13 14:17:21,813 : INFO : EPOCH 0 - PROGRESS: at 23.75% examples, 1356153 words/s, in_qsize 19, out_qsize 0\n",
      "2023-03-13 14:17:22,831 : INFO : EPOCH 0 - PROGRESS: at 28.56% examples, 1358907 words/s, in_qsize 19, out_qsize 0\n",
      "2023-03-13 14:17:23,834 : INFO : EPOCH 0 - PROGRESS: at 33.46% examples, 1359685 words/s, in_qsize 19, out_qsize 0\n",
      "2023-03-13 14:17:24,838 : INFO : EPOCH 0 - PROGRESS: at 38.44% examples, 1366650 words/s, in_qsize 19, out_qsize 0\n",
      "2023-03-13 14:17:25,842 : INFO : EPOCH 0 - PROGRESS: at 43.46% examples, 1369363 words/s, in_qsize 19, out_qsize 0\n",
      "2023-03-13 14:17:26,844 : INFO : EPOCH 0 - PROGRESS: at 48.37% examples, 1370401 words/s, in_qsize 19, out_qsize 0\n",
      "2023-03-13 14:17:27,858 : INFO : EPOCH 0 - PROGRESS: at 53.07% examples, 1371529 words/s, in_qsize 19, out_qsize 0\n",
      "2023-03-13 14:17:28,859 : INFO : EPOCH 0 - PROGRESS: at 57.65% examples, 1366536 words/s, in_qsize 19, out_qsize 0\n",
      "2023-03-13 14:17:29,860 : INFO : EPOCH 0 - PROGRESS: at 61.71% examples, 1353717 words/s, in_qsize 19, out_qsize 0\n",
      "2023-03-13 14:17:30,869 : INFO : EPOCH 0 - PROGRESS: at 66.41% examples, 1351526 words/s, in_qsize 19, out_qsize 0\n",
      "2023-03-13 14:17:31,874 : INFO : EPOCH 0 - PROGRESS: at 70.76% examples, 1349293 words/s, in_qsize 19, out_qsize 0\n",
      "2023-03-13 14:17:32,874 : INFO : EPOCH 0 - PROGRESS: at 75.20% examples, 1346578 words/s, in_qsize 19, out_qsize 0\n",
      "2023-03-13 14:17:33,878 : INFO : EPOCH 0 - PROGRESS: at 78.99% examples, 1338710 words/s, in_qsize 19, out_qsize 0\n",
      "2023-03-13 14:17:34,885 : INFO : EPOCH 0 - PROGRESS: at 82.84% examples, 1328898 words/s, in_qsize 18, out_qsize 1\n",
      "2023-03-13 14:17:35,893 : INFO : EPOCH 0 - PROGRESS: at 87.54% examples, 1331659 words/s, in_qsize 19, out_qsize 0\n",
      "2023-03-13 14:17:36,897 : INFO : EPOCH 0 - PROGRESS: at 92.31% examples, 1332366 words/s, in_qsize 20, out_qsize 0\n",
      "2023-03-13 14:17:37,897 : INFO : EPOCH 0 - PROGRESS: at 96.86% examples, 1333101 words/s, in_qsize 19, out_qsize 0\n",
      "2023-03-13 14:17:38,711 : INFO : EPOCH 0: training on 41519359 raw words (30350288 effective words) took 22.9s, 1324915 effective words/s\n",
      "2023-03-13 14:17:39,739 : INFO : EPOCH 1 - PROGRESS: at 3.57% examples, 1092303 words/s, in_qsize 20, out_qsize 1\n",
      "2023-03-13 14:17:40,745 : INFO : EPOCH 1 - PROGRESS: at 7.56% examples, 1154398 words/s, in_qsize 19, out_qsize 0\n",
      "2023-03-13 14:17:41,753 : INFO : EPOCH 1 - PROGRESS: at 10.87% examples, 1154911 words/s, in_qsize 19, out_qsize 0\n",
      "2023-03-13 14:17:42,756 : INFO : EPOCH 1 - PROGRESS: at 14.10% examples, 1154423 words/s, in_qsize 19, out_qsize 0\n",
      "2023-03-13 14:17:43,764 : INFO : EPOCH 1 - PROGRESS: at 17.28% examples, 1146992 words/s, in_qsize 19, out_qsize 0\n",
      "2023-03-13 14:17:44,765 : INFO : EPOCH 1 - PROGRESS: at 20.87% examples, 1184859 words/s, in_qsize 19, out_qsize 0\n",
      "2023-03-13 14:17:45,769 : INFO : EPOCH 1 - PROGRESS: at 24.50% examples, 1198283 words/s, in_qsize 19, out_qsize 0\n",
      "2023-03-13 14:17:46,775 : INFO : EPOCH 1 - PROGRESS: at 29.19% examples, 1207070 words/s, in_qsize 19, out_qsize 0\n",
      "2023-03-13 14:17:47,782 : INFO : EPOCH 1 - PROGRESS: at 33.58% examples, 1209079 words/s, in_qsize 18, out_qsize 1\n",
      "2023-03-13 14:17:48,790 : INFO : EPOCH 1 - PROGRESS: at 38.14% examples, 1218657 words/s, in_qsize 19, out_qsize 0\n",
      "2023-03-13 14:17:49,790 : INFO : EPOCH 1 - PROGRESS: at 42.20% examples, 1208773 words/s, in_qsize 18, out_qsize 1\n",
      "2023-03-13 14:17:50,797 : INFO : EPOCH 1 - PROGRESS: at 46.22% examples, 1200537 words/s, in_qsize 19, out_qsize 0\n",
      "2023-03-13 14:17:51,799 : INFO : EPOCH 1 - PROGRESS: at 50.37% examples, 1200497 words/s, in_qsize 19, out_qsize 0\n",
      "2023-03-13 14:17:52,811 : INFO : EPOCH 1 - PROGRESS: at 54.18% examples, 1196452 words/s, in_qsize 19, out_qsize 0\n",
      "2023-03-13 14:17:53,813 : INFO : EPOCH 1 - PROGRESS: at 58.27% examples, 1194600 words/s, in_qsize 19, out_qsize 0\n",
      "2023-03-13 14:17:54,823 : INFO : EPOCH 1 - PROGRESS: at 62.47% examples, 1195166 words/s, in_qsize 19, out_qsize 0\n",
      "2023-03-13 14:17:55,827 : INFO : EPOCH 1 - PROGRESS: at 66.24% examples, 1187761 words/s, in_qsize 19, out_qsize 0\n",
      "2023-03-13 14:17:56,830 : INFO : EPOCH 1 - PROGRESS: at 69.71% examples, 1179127 words/s, in_qsize 19, out_qsize 0\n",
      "2023-03-13 14:17:57,835 : INFO : EPOCH 1 - PROGRESS: at 72.98% examples, 1168095 words/s, in_qsize 19, out_qsize 0\n",
      "2023-03-13 14:17:58,837 : INFO : EPOCH 1 - PROGRESS: at 76.34% examples, 1161430 words/s, in_qsize 19, out_qsize 0\n",
      "2023-03-13 14:17:59,845 : INFO : EPOCH 1 - PROGRESS: at 79.74% examples, 1155778 words/s, in_qsize 18, out_qsize 1\n",
      "2023-03-13 14:18:00,852 : INFO : EPOCH 1 - PROGRESS: at 82.91% examples, 1146809 words/s, in_qsize 19, out_qsize 1\n",
      "2023-03-13 14:18:01,852 : INFO : EPOCH 1 - PROGRESS: at 86.29% examples, 1141947 words/s, in_qsize 19, out_qsize 0\n",
      "2023-03-13 14:18:02,871 : INFO : EPOCH 1 - PROGRESS: at 90.07% examples, 1137450 words/s, in_qsize 19, out_qsize 0\n",
      "2023-03-13 14:18:03,879 : INFO : EPOCH 1 - PROGRESS: at 93.20% examples, 1128571 words/s, in_qsize 19, out_qsize 0\n",
      "2023-03-13 14:18:04,880 : INFO : EPOCH 1 - PROGRESS: at 96.20% examples, 1118834 words/s, in_qsize 19, out_qsize 0\n",
      "2023-03-13 14:18:05,887 : INFO : EPOCH 1 - PROGRESS: at 99.68% examples, 1113923 words/s, in_qsize 11, out_qsize 2\n",
      "2023-03-13 14:18:05,973 : INFO : EPOCH 1: training on 41519359 raw words (30349737 effective words) took 27.3s, 1113717 effective words/s\n",
      "2023-03-13 14:18:07,004 : INFO : EPOCH 2 - PROGRESS: at 3.48% examples, 1079967 words/s, in_qsize 19, out_qsize 0\n",
      "2023-03-13 14:18:08,009 : INFO : EPOCH 2 - PROGRESS: at 7.41% examples, 1138557 words/s, in_qsize 20, out_qsize 0\n",
      "2023-03-13 14:18:09,010 : INFO : EPOCH 2 - PROGRESS: at 10.59% examples, 1125300 words/s, in_qsize 19, out_qsize 0\n",
      "2023-03-13 14:18:10,021 : INFO : EPOCH 2 - PROGRESS: at 13.83% examples, 1137351 words/s, in_qsize 20, out_qsize 1\n",
      "2023-03-13 14:18:11,027 : INFO : EPOCH 2 - PROGRESS: at 17.40% examples, 1159891 words/s, in_qsize 19, out_qsize 0\n",
      "2023-03-13 14:18:12,030 : INFO : EPOCH 2 - PROGRESS: at 20.84% examples, 1185787 words/s, in_qsize 19, out_qsize 0\n",
      "2023-03-13 14:18:13,031 : INFO : EPOCH 2 - PROGRESS: at 24.47% examples, 1199672 words/s, in_qsize 19, out_qsize 0\n",
      "2023-03-13 14:18:14,055 : INFO : EPOCH 2 - PROGRESS: at 29.19% examples, 1207536 words/s, in_qsize 19, out_qsize 0\n",
      "2023-03-13 14:18:15,068 : INFO : EPOCH 2 - PROGRESS: at 33.72% examples, 1214060 words/s, in_qsize 19, out_qsize 0\n",
      "2023-03-13 14:18:16,068 : INFO : EPOCH 2 - PROGRESS: at 38.06% examples, 1217434 words/s, in_qsize 18, out_qsize 1\n",
      "2023-03-13 14:18:17,075 : INFO : EPOCH 2 - PROGRESS: at 42.73% examples, 1223822 words/s, in_qsize 19, out_qsize 0\n",
      "2023-03-13 14:18:18,075 : INFO : EPOCH 2 - PROGRESS: at 47.60% examples, 1235170 words/s, in_qsize 19, out_qsize 0\n",
      "2023-03-13 14:18:19,081 : INFO : EPOCH 2 - PROGRESS: at 51.71% examples, 1230351 words/s, in_qsize 19, out_qsize 0\n",
      "2023-03-13 14:18:20,083 : INFO : EPOCH 2 - PROGRESS: at 55.94% examples, 1231514 words/s, in_qsize 19, out_qsize 0\n",
      "2023-03-13 14:18:21,084 : INFO : EPOCH 2 - PROGRESS: at 60.28% examples, 1233778 words/s, in_qsize 19, out_qsize 0\n",
      "2023-03-13 14:18:22,101 : INFO : EPOCH 2 - PROGRESS: at 65.00% examples, 1237057 words/s, in_qsize 19, out_qsize 0\n"
     ]
    },
    {
     "name": "stderr",
     "output_type": "stream",
     "text": [
      "2023-03-13 14:18:23,102 : INFO : EPOCH 2 - PROGRESS: at 68.92% examples, 1233934 words/s, in_qsize 19, out_qsize 0\n",
      "2023-03-13 14:18:24,102 : INFO : EPOCH 2 - PROGRESS: at 73.33% examples, 1238980 words/s, in_qsize 19, out_qsize 0\n",
      "2023-03-13 14:18:25,109 : INFO : EPOCH 2 - PROGRESS: at 77.59% examples, 1243343 words/s, in_qsize 19, out_qsize 0\n",
      "2023-03-13 14:18:26,112 : INFO : EPOCH 2 - PROGRESS: at 82.02% examples, 1248660 words/s, in_qsize 20, out_qsize 0\n",
      "2023-03-13 14:18:27,117 : INFO : EPOCH 2 - PROGRESS: at 86.42% examples, 1252563 words/s, in_qsize 19, out_qsize 0\n",
      "2023-03-13 14:18:28,117 : INFO : EPOCH 2 - PROGRESS: at 90.59% examples, 1248868 words/s, in_qsize 19, out_qsize 0\n",
      "2023-03-13 14:18:29,118 : INFO : EPOCH 2 - PROGRESS: at 94.95% examples, 1249716 words/s, in_qsize 19, out_qsize 0\n",
      "2023-03-13 14:18:30,129 : INFO : EPOCH 2 - PROGRESS: at 99.53% examples, 1252256 words/s, in_qsize 19, out_qsize 0\n",
      "2023-03-13 14:18:30,214 : INFO : EPOCH 2: training on 41519359 raw words (30347205 effective words) took 24.2s, 1253405 effective words/s\n",
      "2023-03-13 14:18:31,227 : INFO : EPOCH 3 - PROGRESS: at 3.99% examples, 1228371 words/s, in_qsize 19, out_qsize 0\n",
      "2023-03-13 14:18:32,235 : INFO : EPOCH 3 - PROGRESS: at 8.28% examples, 1275139 words/s, in_qsize 19, out_qsize 0\n",
      "2023-03-13 14:18:33,242 : INFO : EPOCH 3 - PROGRESS: at 11.76% examples, 1276054 words/s, in_qsize 18, out_qsize 1\n",
      "2023-03-13 14:18:34,242 : INFO : EPOCH 3 - PROGRESS: at 15.69% examples, 1289987 words/s, in_qsize 19, out_qsize 0\n",
      "2023-03-13 14:18:35,249 : INFO : EPOCH 3 - PROGRESS: at 19.24% examples, 1296156 words/s, in_qsize 19, out_qsize 0\n",
      "2023-03-13 14:18:36,255 : INFO : EPOCH 3 - PROGRESS: at 22.88% examples, 1292836 words/s, in_qsize 18, out_qsize 1\n",
      "2023-03-13 14:18:37,260 : INFO : EPOCH 3 - PROGRESS: at 26.72% examples, 1286297 words/s, in_qsize 19, out_qsize 0\n",
      "2023-03-13 14:18:38,266 : INFO : EPOCH 3 - PROGRESS: at 31.39% examples, 1284225 words/s, in_qsize 19, out_qsize 0\n",
      "2023-03-13 14:18:39,273 : INFO : EPOCH 3 - PROGRESS: at 35.62% examples, 1276990 words/s, in_qsize 19, out_qsize 0\n",
      "2023-03-13 14:18:40,278 : INFO : EPOCH 3 - PROGRESS: at 40.09% examples, 1274842 words/s, in_qsize 19, out_qsize 0\n",
      "2023-03-13 14:18:41,281 : INFO : EPOCH 3 - PROGRESS: at 44.86% examples, 1276418 words/s, in_qsize 19, out_qsize 0\n",
      "2023-03-13 14:18:42,294 : INFO : EPOCH 3 - PROGRESS: at 49.29% examples, 1274325 words/s, in_qsize 20, out_qsize 0\n",
      "2023-03-13 14:18:43,295 : INFO : EPOCH 3 - PROGRESS: at 53.15% examples, 1266308 words/s, in_qsize 20, out_qsize 0\n",
      "2023-03-13 14:18:44,302 : INFO : EPOCH 3 - PROGRESS: at 57.05% examples, 1254940 words/s, in_qsize 19, out_qsize 0\n",
      "2023-03-13 14:18:45,342 : INFO : EPOCH 3 - PROGRESS: at 60.39% examples, 1233185 words/s, in_qsize 19, out_qsize 0\n",
      "2023-03-13 14:18:46,355 : INFO : EPOCH 3 - PROGRESS: at 64.45% examples, 1224692 words/s, in_qsize 19, out_qsize 0\n",
      "2023-03-13 14:18:47,357 : INFO : EPOCH 3 - PROGRESS: at 68.11% examples, 1217634 words/s, in_qsize 19, out_qsize 0\n",
      "2023-03-13 14:18:48,362 : INFO : EPOCH 3 - PROGRESS: at 72.12% examples, 1218165 words/s, in_qsize 19, out_qsize 0\n",
      "2023-03-13 14:18:49,365 : INFO : EPOCH 3 - PROGRESS: at 75.99% examples, 1214118 words/s, in_qsize 19, out_qsize 0\n",
      "2023-03-13 14:18:50,373 : INFO : EPOCH 3 - PROGRESS: at 80.42% examples, 1222329 words/s, in_qsize 19, out_qsize 0\n",
      "2023-03-13 14:18:51,384 : INFO : EPOCH 3 - PROGRESS: at 84.33% examples, 1220044 words/s, in_qsize 19, out_qsize 0\n",
      "2023-03-13 14:18:52,385 : INFO : EPOCH 3 - PROGRESS: at 89.10% examples, 1226970 words/s, in_qsize 19, out_qsize 0\n",
      "2023-03-13 14:18:53,396 : INFO : EPOCH 3 - PROGRESS: at 93.20% examples, 1225130 words/s, in_qsize 18, out_qsize 1\n",
      "2023-03-13 14:18:54,400 : INFO : EPOCH 3 - PROGRESS: at 97.32% examples, 1223220 words/s, in_qsize 19, out_qsize 0\n",
      "2023-03-13 14:18:55,047 : INFO : EPOCH 3: training on 41519359 raw words (30349707 effective words) took 24.8s, 1222585 effective words/s\n",
      "2023-03-13 14:18:56,065 : INFO : EPOCH 4 - PROGRESS: at 3.46% examples, 1067843 words/s, in_qsize 18, out_qsize 1\n",
      "2023-03-13 14:18:57,080 : INFO : EPOCH 4 - PROGRESS: at 6.94% examples, 1055429 words/s, in_qsize 19, out_qsize 0\n",
      "2023-03-13 14:18:58,082 : INFO : EPOCH 4 - PROGRESS: at 10.61% examples, 1121986 words/s, in_qsize 19, out_qsize 0\n",
      "2023-03-13 14:18:59,090 : INFO : EPOCH 4 - PROGRESS: at 14.05% examples, 1151817 words/s, in_qsize 19, out_qsize 0\n",
      "2023-03-13 14:19:00,097 : INFO : EPOCH 4 - PROGRESS: at 17.40% examples, 1156284 words/s, in_qsize 20, out_qsize 0\n",
      "2023-03-13 14:19:01,098 : INFO : EPOCH 4 - PROGRESS: at 20.51% examples, 1160496 words/s, in_qsize 19, out_qsize 0\n",
      "2023-03-13 14:19:02,114 : INFO : EPOCH 4 - PROGRESS: at 23.80% examples, 1158122 words/s, in_qsize 19, out_qsize 0\n",
      "2023-03-13 14:19:03,115 : INFO : EPOCH 4 - PROGRESS: at 28.08% examples, 1167245 words/s, in_qsize 19, out_qsize 0\n",
      "2023-03-13 14:19:04,129 : INFO : EPOCH 4 - PROGRESS: at 31.94% examples, 1154567 words/s, in_qsize 19, out_qsize 0\n",
      "2023-03-13 14:19:05,128 : INFO : EPOCH 4 - PROGRESS: at 36.27% examples, 1164605 words/s, in_qsize 19, out_qsize 0\n",
      "2023-03-13 14:19:06,132 : INFO : EPOCH 4 - PROGRESS: at 40.16% examples, 1158657 words/s, in_qsize 19, out_qsize 0\n",
      "2023-03-13 14:19:07,140 : INFO : EPOCH 4 - PROGRESS: at 44.84% examples, 1167634 words/s, in_qsize 18, out_qsize 1\n",
      "2023-03-13 14:19:08,152 : INFO : EPOCH 4 - PROGRESS: at 48.43% examples, 1157100 words/s, in_qsize 19, out_qsize 0\n",
      "2023-03-13 14:19:09,158 : INFO : EPOCH 4 - PROGRESS: at 52.05% examples, 1148998 words/s, in_qsize 20, out_qsize 0\n",
      "2023-03-13 14:19:10,168 : INFO : EPOCH 4 - PROGRESS: at 55.10% examples, 1132911 words/s, in_qsize 19, out_qsize 0\n",
      "2023-03-13 14:19:11,181 : INFO : EPOCH 4 - PROGRESS: at 59.12% examples, 1132887 words/s, in_qsize 20, out_qsize 0\n",
      "2023-03-13 14:19:12,209 : INFO : EPOCH 4 - PROGRESS: at 62.45% examples, 1121679 words/s, in_qsize 20, out_qsize 0\n",
      "2023-03-13 14:19:13,214 : INFO : EPOCH 4 - PROGRESS: at 66.57% examples, 1124088 words/s, in_qsize 19, out_qsize 0\n",
      "2023-03-13 14:19:14,218 : INFO : EPOCH 4 - PROGRESS: at 69.93% examples, 1118063 words/s, in_qsize 19, out_qsize 0\n",
      "2023-03-13 14:19:15,224 : INFO : EPOCH 4 - PROGRESS: at 73.42% examples, 1113081 words/s, in_qsize 20, out_qsize 0\n",
      "2023-03-13 14:19:16,225 : INFO : EPOCH 4 - PROGRESS: at 76.99% examples, 1112851 words/s, in_qsize 19, out_qsize 0\n",
      "2023-03-13 14:19:17,232 : INFO : EPOCH 4 - PROGRESS: at 80.04% examples, 1105488 words/s, in_qsize 20, out_qsize 0\n",
      "2023-03-13 14:19:18,237 : INFO : EPOCH 4 - PROGRESS: at 83.22% examples, 1098540 words/s, in_qsize 19, out_qsize 0\n",
      "2023-03-13 14:19:19,243 : INFO : EPOCH 4 - PROGRESS: at 87.08% examples, 1100980 words/s, in_qsize 19, out_qsize 0\n",
      "2023-03-13 14:19:20,258 : INFO : EPOCH 4 - PROGRESS: at 90.88% examples, 1099078 words/s, in_qsize 19, out_qsize 0\n",
      "2023-03-13 14:19:21,275 : INFO : EPOCH 4 - PROGRESS: at 94.57% examples, 1097726 words/s, in_qsize 19, out_qsize 0\n",
      "2023-03-13 14:19:22,280 : INFO : EPOCH 4 - PROGRESS: at 98.17% examples, 1095815 words/s, in_qsize 18, out_qsize 1\n",
      "2023-03-13 14:19:22,760 : INFO : EPOCH 4: training on 41519359 raw words (30347554 effective words) took 27.7s, 1095504 effective words/s\n",
      "2023-03-13 14:19:23,779 : INFO : EPOCH 5 - PROGRESS: at 3.57% examples, 1107959 words/s, in_qsize 19, out_qsize 0\n",
      "2023-03-13 14:19:24,782 : INFO : EPOCH 5 - PROGRESS: at 6.98% examples, 1071054 words/s, in_qsize 19, out_qsize 0\n",
      "2023-03-13 14:19:25,786 : INFO : EPOCH 5 - PROGRESS: at 10.30% examples, 1095708 words/s, in_qsize 19, out_qsize 0\n",
      "2023-03-13 14:19:26,792 : INFO : EPOCH 5 - PROGRESS: at 13.52% examples, 1106144 words/s, in_qsize 20, out_qsize 0\n",
      "2023-03-13 14:19:27,793 : INFO : EPOCH 5 - PROGRESS: at 17.23% examples, 1148448 words/s, in_qsize 19, out_qsize 0\n",
      "2023-03-13 14:19:28,803 : INFO : EPOCH 5 - PROGRESS: at 20.37% examples, 1154633 words/s, in_qsize 19, out_qsize 0\n",
      "2023-03-13 14:19:29,817 : INFO : EPOCH 5 - PROGRESS: at 23.48% examples, 1143284 words/s, in_qsize 19, out_qsize 0\n",
      "2023-03-13 14:19:30,822 : INFO : EPOCH 5 - PROGRESS: at 27.52% examples, 1151080 words/s, in_qsize 19, out_qsize 0\n",
      "2023-03-13 14:19:31,826 : INFO : EPOCH 5 - PROGRESS: at 31.24% examples, 1137513 words/s, in_qsize 19, out_qsize 0\n"
     ]
    },
    {
     "name": "stderr",
     "output_type": "stream",
     "text": [
      "2023-03-13 14:19:32,832 : INFO : EPOCH 5 - PROGRESS: at 33.74% examples, 1095273 words/s, in_qsize 19, out_qsize 0\n",
      "2023-03-13 14:19:33,836 : INFO : EPOCH 5 - PROGRESS: at 37.37% examples, 1090681 words/s, in_qsize 19, out_qsize 0\n",
      "2023-03-13 14:19:34,841 : INFO : EPOCH 5 - PROGRESS: at 41.44% examples, 1092360 words/s, in_qsize 19, out_qsize 0\n",
      "2023-03-13 14:19:35,845 : INFO : EPOCH 5 - PROGRESS: at 45.70% examples, 1098218 words/s, in_qsize 18, out_qsize 1\n",
      "2023-03-13 14:19:36,852 : INFO : EPOCH 5 - PROGRESS: at 50.00% examples, 1107702 words/s, in_qsize 19, out_qsize 0\n",
      "2023-03-13 14:19:37,854 : INFO : EPOCH 5 - PROGRESS: at 53.70% examples, 1109004 words/s, in_qsize 19, out_qsize 0\n",
      "2023-03-13 14:19:38,859 : INFO : EPOCH 5 - PROGRESS: at 57.65% examples, 1109431 words/s, in_qsize 19, out_qsize 0\n",
      "2023-03-13 14:19:39,862 : INFO : EPOCH 5 - PROGRESS: at 62.07% examples, 1120101 words/s, in_qsize 19, out_qsize 0\n",
      "2023-03-13 14:19:40,873 : INFO : EPOCH 5 - PROGRESS: at 65.81% examples, 1115618 words/s, in_qsize 19, out_qsize 0\n",
      "2023-03-13 14:19:41,875 : INFO : EPOCH 5 - PROGRESS: at 69.61% examples, 1116515 words/s, in_qsize 19, out_qsize 0\n",
      "2023-03-13 14:19:42,888 : INFO : EPOCH 5 - PROGRESS: at 73.82% examples, 1121586 words/s, in_qsize 19, out_qsize 0\n",
      "2023-03-13 14:19:43,893 : INFO : EPOCH 5 - PROGRESS: at 77.67% examples, 1126494 words/s, in_qsize 19, out_qsize 0\n",
      "2023-03-13 14:19:44,896 : INFO : EPOCH 5 - PROGRESS: at 81.65% examples, 1130811 words/s, in_qsize 18, out_qsize 1\n",
      "2023-03-13 14:19:45,907 : INFO : EPOCH 5 - PROGRESS: at 85.88% examples, 1137018 words/s, in_qsize 19, out_qsize 0\n",
      "2023-03-13 14:19:46,910 : INFO : EPOCH 5 - PROGRESS: at 89.89% examples, 1136142 words/s, in_qsize 19, out_qsize 0\n",
      "2023-03-13 14:19:47,916 : INFO : EPOCH 5 - PROGRESS: at 94.13% examples, 1139811 words/s, in_qsize 19, out_qsize 0\n",
      "2023-03-13 14:19:48,939 : INFO : EPOCH 5 - PROGRESS: at 98.31% examples, 1141771 words/s, in_qsize 19, out_qsize 0\n",
      "2023-03-13 14:19:49,382 : INFO : EPOCH 5: training on 41519359 raw words (30353182 effective words) took 26.6s, 1140840 effective words/s\n",
      "2023-03-13 14:19:50,400 : INFO : EPOCH 6 - PROGRESS: at 3.23% examples, 1000901 words/s, in_qsize 19, out_qsize 0\n",
      "2023-03-13 14:19:51,407 : INFO : EPOCH 6 - PROGRESS: at 6.48% examples, 994134 words/s, in_qsize 19, out_qsize 0\n",
      "2023-03-13 14:19:52,542 : INFO : EPOCH 6 - PROGRESS: at 8.88% examples, 877717 words/s, in_qsize 14, out_qsize 5\n",
      "2023-03-13 14:19:53,546 : INFO : EPOCH 6 - PROGRESS: at 10.88% examples, 843996 words/s, in_qsize 19, out_qsize 0\n",
      "2023-03-13 14:19:54,554 : INFO : EPOCH 6 - PROGRESS: at 13.51% examples, 861709 words/s, in_qsize 19, out_qsize 0\n",
      "2023-03-13 14:19:55,573 : INFO : EPOCH 6 - PROGRESS: at 15.91% examples, 854978 words/s, in_qsize 19, out_qsize 0\n",
      "2023-03-13 14:19:56,579 : INFO : EPOCH 6 - PROGRESS: at 18.28% examples, 856545 words/s, in_qsize 20, out_qsize 0\n",
      "2023-03-13 14:19:57,595 : INFO : EPOCH 6 - PROGRESS: at 20.91% examples, 875360 words/s, in_qsize 19, out_qsize 0\n",
      "2023-03-13 14:19:58,597 : INFO : EPOCH 6 - PROGRESS: at 23.98% examples, 897075 words/s, in_qsize 19, out_qsize 0\n",
      "2023-03-13 14:19:59,600 : INFO : EPOCH 6 - PROGRESS: at 27.34% examples, 903626 words/s, in_qsize 19, out_qsize 0\n",
      "2023-03-13 14:20:00,621 : INFO : EPOCH 6 - PROGRESS: at 30.31% examples, 895898 words/s, in_qsize 20, out_qsize 0\n",
      "2023-03-13 14:20:01,632 : INFO : EPOCH 6 - PROGRESS: at 33.58% examples, 895603 words/s, in_qsize 19, out_qsize 0\n",
      "2023-03-13 14:20:02,638 : INFO : EPOCH 6 - PROGRESS: at 36.22% examples, 885410 words/s, in_qsize 19, out_qsize 0\n",
      "2023-03-13 14:20:03,645 : INFO : EPOCH 6 - PROGRESS: at 39.05% examples, 878944 words/s, in_qsize 19, out_qsize 0\n",
      "2023-03-13 14:20:04,661 : INFO : EPOCH 6 - PROGRESS: at 42.45% examples, 882248 words/s, in_qsize 19, out_qsize 0\n",
      "2023-03-13 14:20:05,665 : INFO : EPOCH 6 - PROGRESS: at 45.62% examples, 880581 words/s, in_qsize 19, out_qsize 0\n",
      "2023-03-13 14:20:06,665 : INFO : EPOCH 6 - PROGRESS: at 48.62% examples, 880490 words/s, in_qsize 19, out_qsize 0\n",
      "2023-03-13 14:20:07,667 : INFO : EPOCH 6 - PROGRESS: at 51.82% examples, 882562 words/s, in_qsize 19, out_qsize 0\n",
      "2023-03-13 14:20:08,671 : INFO : EPOCH 6 - PROGRESS: at 54.94% examples, 886430 words/s, in_qsize 20, out_qsize 0\n",
      "2023-03-13 14:20:09,709 : INFO : EPOCH 6 - PROGRESS: at 57.98% examples, 883472 words/s, in_qsize 19, out_qsize 0\n",
      "2023-03-13 14:20:10,718 : INFO : EPOCH 6 - PROGRESS: at 61.54% examples, 890232 words/s, in_qsize 19, out_qsize 0\n",
      "2023-03-13 14:20:11,725 : INFO : EPOCH 6 - PROGRESS: at 65.05% examples, 892727 words/s, in_qsize 19, out_qsize 0\n",
      "2023-03-13 14:20:12,739 : INFO : EPOCH 6 - PROGRESS: at 68.49% examples, 898862 words/s, in_qsize 19, out_qsize 0\n",
      "2023-03-13 14:20:13,741 : INFO : EPOCH 6 - PROGRESS: at 72.04% examples, 906905 words/s, in_qsize 18, out_qsize 1\n",
      "2023-03-13 14:20:14,751 : INFO : EPOCH 6 - PROGRESS: at 75.74% examples, 913667 words/s, in_qsize 19, out_qsize 0\n",
      "2023-03-13 14:20:15,756 : INFO : EPOCH 6 - PROGRESS: at 79.20% examples, 919995 words/s, in_qsize 20, out_qsize 1\n",
      "2023-03-13 14:20:16,757 : INFO : EPOCH 6 - PROGRESS: at 82.71% examples, 925324 words/s, in_qsize 19, out_qsize 0\n",
      "2023-03-13 14:20:17,765 : INFO : EPOCH 6 - PROGRESS: at 86.00% examples, 928395 words/s, in_qsize 19, out_qsize 0\n",
      "2023-03-13 14:20:18,766 : INFO : EPOCH 6 - PROGRESS: at 89.80% examples, 932908 words/s, in_qsize 19, out_qsize 0\n",
      "2023-03-13 14:20:19,771 : INFO : EPOCH 6 - PROGRESS: at 93.06% examples, 933378 words/s, in_qsize 19, out_qsize 0\n",
      "2023-03-13 14:20:20,772 : INFO : EPOCH 6 - PROGRESS: at 96.49% examples, 935154 words/s, in_qsize 19, out_qsize 0\n",
      "2023-03-13 14:20:21,729 : INFO : EPOCH 6: training on 41519359 raw words (30350651 effective words) took 32.3s, 938766 effective words/s\n",
      "2023-03-13 14:20:22,746 : INFO : EPOCH 7 - PROGRESS: at 3.22% examples, 994433 words/s, in_qsize 17, out_qsize 2\n",
      "2023-03-13 14:20:23,749 : INFO : EPOCH 7 - PROGRESS: at 7.03% examples, 1075686 words/s, in_qsize 19, out_qsize 0\n",
      "2023-03-13 14:20:24,757 : INFO : EPOCH 7 - PROGRESS: at 10.15% examples, 1073561 words/s, in_qsize 18, out_qsize 1\n",
      "2023-03-13 14:20:25,757 : INFO : EPOCH 7 - PROGRESS: at 12.69% examples, 1042363 words/s, in_qsize 19, out_qsize 0\n",
      "2023-03-13 14:20:26,763 : INFO : EPOCH 7 - PROGRESS: at 16.16% examples, 1067618 words/s, in_qsize 18, out_qsize 1\n",
      "2023-03-13 14:20:27,770 : INFO : EPOCH 7 - PROGRESS: at 18.54% examples, 1033636 words/s, in_qsize 19, out_qsize 0\n",
      "2023-03-13 14:20:28,776 : INFO : EPOCH 7 - PROGRESS: at 21.18% examples, 1028333 words/s, in_qsize 19, out_qsize 0\n",
      "2023-03-13 14:20:29,781 : INFO : EPOCH 7 - PROGRESS: at 24.15% examples, 1032779 words/s, in_qsize 18, out_qsize 1\n",
      "2023-03-13 14:20:30,782 : INFO : EPOCH 7 - PROGRESS: at 27.90% examples, 1034363 words/s, in_qsize 19, out_qsize 0\n",
      "2023-03-13 14:20:31,798 : INFO : EPOCH 7 - PROGRESS: at 31.36% examples, 1026009 words/s, in_qsize 19, out_qsize 0\n",
      "2023-03-13 14:20:32,807 : INFO : EPOCH 7 - PROGRESS: at 34.60% examples, 1017273 words/s, in_qsize 19, out_qsize 0\n",
      "2023-03-13 14:20:33,814 : INFO : EPOCH 7 - PROGRESS: at 38.50% examples, 1024143 words/s, in_qsize 19, out_qsize 0\n",
      "2023-03-13 14:20:34,825 : INFO : EPOCH 7 - PROGRESS: at 42.60% examples, 1032102 words/s, in_qsize 20, out_qsize 1\n",
      "2023-03-13 14:20:35,833 : INFO : EPOCH 7 - PROGRESS: at 46.94% examples, 1044209 words/s, in_qsize 18, out_qsize 1\n",
      "2023-03-13 14:20:36,840 : INFO : EPOCH 7 - PROGRESS: at 51.44% examples, 1060374 words/s, in_qsize 19, out_qsize 0\n",
      "2023-03-13 14:20:37,842 : INFO : EPOCH 7 - PROGRESS: at 55.79% examples, 1074126 words/s, in_qsize 19, out_qsize 0\n",
      "2023-03-13 14:20:38,849 : INFO : EPOCH 7 - PROGRESS: at 59.72% examples, 1077699 words/s, in_qsize 18, out_qsize 1\n",
      "2023-03-13 14:20:39,861 : INFO : EPOCH 7 - PROGRESS: at 62.18% examples, 1057532 words/s, in_qsize 18, out_qsize 1\n",
      "2023-03-13 14:20:40,867 : INFO : EPOCH 7 - PROGRESS: at 65.82% examples, 1055411 words/s, in_qsize 17, out_qsize 2\n",
      "2023-03-13 14:20:41,870 : INFO : EPOCH 7 - PROGRESS: at 68.83% examples, 1046689 words/s, in_qsize 17, out_qsize 2\n",
      "2023-03-13 14:20:42,878 : INFO : EPOCH 7 - PROGRESS: at 72.46% examples, 1049657 words/s, in_qsize 19, out_qsize 0\n",
      "2023-03-13 14:20:43,879 : INFO : EPOCH 7 - PROGRESS: at 76.87% examples, 1062311 words/s, in_qsize 19, out_qsize 0\n"
     ]
    },
    {
     "name": "stderr",
     "output_type": "stream",
     "text": [
      "2023-03-13 14:20:44,883 : INFO : EPOCH 7 - PROGRESS: at 81.15% examples, 1074046 words/s, in_qsize 19, out_qsize 0\n",
      "2023-03-13 14:20:45,886 : INFO : EPOCH 7 - PROGRESS: at 85.56% examples, 1085464 words/s, in_qsize 18, out_qsize 1\n",
      "2023-03-13 14:20:46,896 : INFO : EPOCH 7 - PROGRESS: at 90.12% examples, 1092389 words/s, in_qsize 19, out_qsize 0\n",
      "2023-03-13 14:20:47,898 : INFO : EPOCH 7 - PROGRESS: at 94.46% examples, 1098845 words/s, in_qsize 19, out_qsize 0\n",
      "2023-03-13 14:20:48,903 : INFO : EPOCH 7 - PROGRESS: at 98.97% examples, 1106244 words/s, in_qsize 19, out_qsize 0\n",
      "2023-03-13 14:20:49,118 : INFO : EPOCH 7: training on 41519359 raw words (30350773 effective words) took 27.4s, 1108507 effective words/s\n",
      "2023-03-13 14:20:50,145 : INFO : EPOCH 8 - PROGRESS: at 3.48% examples, 1064551 words/s, in_qsize 19, out_qsize 0\n",
      "2023-03-13 14:20:51,151 : INFO : EPOCH 8 - PROGRESS: at 7.81% examples, 1197010 words/s, in_qsize 19, out_qsize 0\n",
      "2023-03-13 14:20:52,160 : INFO : EPOCH 8 - PROGRESS: at 10.99% examples, 1171253 words/s, in_qsize 19, out_qsize 0\n",
      "2023-03-13 14:20:53,174 : INFO : EPOCH 8 - PROGRESS: at 14.07% examples, 1149819 words/s, in_qsize 19, out_qsize 0\n",
      "2023-03-13 14:20:54,191 : INFO : EPOCH 8 - PROGRESS: at 17.42% examples, 1152589 words/s, in_qsize 19, out_qsize 0\n",
      "2023-03-13 14:20:55,197 : INFO : EPOCH 8 - PROGRESS: at 20.16% examples, 1133692 words/s, in_qsize 19, out_qsize 0\n",
      "2023-03-13 14:20:56,203 : INFO : EPOCH 8 - PROGRESS: at 22.93% examples, 1105321 words/s, in_qsize 19, out_qsize 0\n",
      "2023-03-13 14:20:57,207 : INFO : EPOCH 8 - PROGRESS: at 26.00% examples, 1097090 words/s, in_qsize 19, out_qsize 0\n",
      "2023-03-13 14:20:58,212 : INFO : EPOCH 8 - PROGRESS: at 30.36% examples, 1108398 words/s, in_qsize 19, out_qsize 0\n",
      "2023-03-13 14:20:59,217 : INFO : EPOCH 8 - PROGRESS: at 34.73% examples, 1120501 words/s, in_qsize 19, out_qsize 0\n",
      "2023-03-13 14:21:00,217 : INFO : EPOCH 8 - PROGRESS: at 38.98% examples, 1127280 words/s, in_qsize 19, out_qsize 0\n",
      "2023-03-13 14:21:01,221 : INFO : EPOCH 8 - PROGRESS: at 43.19% examples, 1130145 words/s, in_qsize 19, out_qsize 0\n",
      "2023-03-13 14:21:02,223 : INFO : EPOCH 8 - PROGRESS: at 47.67% examples, 1140620 words/s, in_qsize 19, out_qsize 0\n",
      "2023-03-13 14:21:03,230 : INFO : EPOCH 8 - PROGRESS: at 52.05% examples, 1149005 words/s, in_qsize 19, out_qsize 0\n",
      "2023-03-13 14:21:04,232 : INFO : EPOCH 8 - PROGRESS: at 56.42% examples, 1157875 words/s, in_qsize 19, out_qsize 0\n",
      "2023-03-13 14:21:05,232 : INFO : EPOCH 8 - PROGRESS: at 60.94% examples, 1167323 words/s, in_qsize 18, out_qsize 1\n",
      "2023-03-13 14:21:06,233 : INFO : EPOCH 8 - PROGRESS: at 64.63% examples, 1158086 words/s, in_qsize 19, out_qsize 0\n",
      "2023-03-13 14:21:07,237 : INFO : EPOCH 8 - PROGRESS: at 68.66% examples, 1161295 words/s, in_qsize 19, out_qsize 0\n",
      "2023-03-13 14:21:08,238 : INFO : EPOCH 8 - PROGRESS: at 73.11% examples, 1170598 words/s, in_qsize 19, out_qsize 0\n",
      "2023-03-13 14:21:09,242 : INFO : EPOCH 8 - PROGRESS: at 77.80% examples, 1184457 words/s, in_qsize 18, out_qsize 1\n",
      "2023-03-13 14:21:10,246 : INFO : EPOCH 8 - PROGRESS: at 81.80% examples, 1186072 words/s, in_qsize 19, out_qsize 0\n",
      "2023-03-13 14:21:11,250 : INFO : EPOCH 8 - PROGRESS: at 84.87% examples, 1175168 words/s, in_qsize 19, out_qsize 0\n",
      "2023-03-13 14:21:12,254 : INFO : EPOCH 8 - PROGRESS: at 88.01% examples, 1162434 words/s, in_qsize 20, out_qsize 0\n",
      "2023-03-13 14:21:13,255 : INFO : EPOCH 8 - PROGRESS: at 92.19% examples, 1163338 words/s, in_qsize 19, out_qsize 0\n",
      "2023-03-13 14:21:14,254 : INFO : EPOCH 8 - PROGRESS: at 95.84% examples, 1160137 words/s, in_qsize 19, out_qsize 0\n",
      "2023-03-13 14:21:15,219 : INFO : EPOCH 8: training on 41519359 raw words (30348322 effective words) took 26.1s, 1163217 effective words/s\n",
      "2023-03-13 14:21:16,242 : INFO : EPOCH 9 - PROGRESS: at 3.82% examples, 1183902 words/s, in_qsize 19, out_qsize 0\n",
      "2023-03-13 14:21:17,243 : INFO : EPOCH 9 - PROGRESS: at 7.65% examples, 1180436 words/s, in_qsize 19, out_qsize 0\n",
      "2023-03-13 14:21:18,250 : INFO : EPOCH 9 - PROGRESS: at 11.36% examples, 1220540 words/s, in_qsize 19, out_qsize 0\n",
      "2023-03-13 14:21:19,254 : INFO : EPOCH 9 - PROGRESS: at 14.26% examples, 1175002 words/s, in_qsize 19, out_qsize 0\n",
      "2023-03-13 14:21:20,254 : INFO : EPOCH 9 - PROGRESS: at 17.40% examples, 1162193 words/s, in_qsize 19, out_qsize 0\n",
      "2023-03-13 14:21:21,262 : INFO : EPOCH 9 - PROGRESS: at 20.26% examples, 1148548 words/s, in_qsize 18, out_qsize 1\n",
      "2023-03-13 14:21:22,266 : INFO : EPOCH 9 - PROGRESS: at 23.98% examples, 1174477 words/s, in_qsize 19, out_qsize 0\n",
      "2023-03-13 14:21:23,268 : INFO : EPOCH 9 - PROGRESS: at 28.58% examples, 1190424 words/s, in_qsize 19, out_qsize 0\n",
      "2023-03-13 14:21:24,277 : INFO : EPOCH 9 - PROGRESS: at 33.25% examples, 1201099 words/s, in_qsize 19, out_qsize 0\n",
      "2023-03-13 14:21:25,290 : INFO : EPOCH 9 - PROGRESS: at 37.65% examples, 1207936 words/s, in_qsize 18, out_qsize 1\n",
      "2023-03-13 14:21:26,298 : INFO : EPOCH 9 - PROGRESS: at 42.07% examples, 1206754 words/s, in_qsize 19, out_qsize 0\n",
      "2023-03-13 14:21:27,299 : INFO : EPOCH 9 - PROGRESS: at 46.38% examples, 1206300 words/s, in_qsize 19, out_qsize 0\n",
      "2023-03-13 14:21:28,302 : INFO : EPOCH 9 - PROGRESS: at 50.95% examples, 1214600 words/s, in_qsize 19, out_qsize 0\n",
      "2023-03-13 14:21:29,304 : INFO : EPOCH 9 - PROGRESS: at 55.34% examples, 1221264 words/s, in_qsize 19, out_qsize 0\n",
      "2023-03-13 14:21:30,307 : INFO : EPOCH 9 - PROGRESS: at 59.90% examples, 1227845 words/s, in_qsize 19, out_qsize 0\n",
      "2023-03-13 14:21:31,308 : INFO : EPOCH 9 - PROGRESS: at 64.69% examples, 1233716 words/s, in_qsize 19, out_qsize 0\n",
      "2023-03-13 14:21:32,323 : INFO : EPOCH 9 - PROGRESS: at 69.10% examples, 1238548 words/s, in_qsize 19, out_qsize 0\n",
      "2023-03-13 14:21:33,327 : INFO : EPOCH 9 - PROGRESS: at 73.15% examples, 1237571 words/s, in_qsize 20, out_qsize 0\n",
      "2023-03-13 14:21:34,348 : INFO : EPOCH 9 - PROGRESS: at 76.48% examples, 1224908 words/s, in_qsize 19, out_qsize 0\n",
      "2023-03-13 14:21:35,364 : INFO : EPOCH 9 - PROGRESS: at 79.67% examples, 1212460 words/s, in_qsize 19, out_qsize 0\n",
      "2023-03-13 14:21:36,370 : INFO : EPOCH 9 - PROGRESS: at 83.65% examples, 1211616 words/s, in_qsize 18, out_qsize 1\n",
      "2023-03-13 14:21:37,372 : INFO : EPOCH 9 - PROGRESS: at 87.70% examples, 1210799 words/s, in_qsize 19, out_qsize 0\n",
      "2023-03-13 14:21:38,381 : INFO : EPOCH 9 - PROGRESS: at 91.74% examples, 1207581 words/s, in_qsize 19, out_qsize 0\n",
      "2023-03-13 14:21:39,404 : INFO : EPOCH 9 - PROGRESS: at 95.56% examples, 1202765 words/s, in_qsize 19, out_qsize 0\n",
      "2023-03-13 14:21:40,330 : INFO : EPOCH 9: training on 41519359 raw words (30348150 effective words) took 25.1s, 1209627 effective words/s\n",
      "2023-03-13 14:21:40,341 : INFO : Word2Vec lifecycle event {'msg': 'training on 415193590 raw words (303495569 effective words) took 264.5s, 1147261 effective words/s', 'datetime': '2023-03-13T14:21:40.338199', 'gensim': '4.3.1', 'python': '3.10.7 (tags/v3.10.7:6cc6b13, Sep  5 2022, 14:08:36) [MSC v.1933 64 bit (AMD64)]', 'platform': 'Windows-10-10.0.22621-SP0', 'event': 'train'}\n"
     ]
    },
    {
     "data": {
      "text/plain": [
       "(303495569, 415193590)"
      ]
     },
     "execution_count": 16,
     "metadata": {},
     "output_type": "execute_result"
    }
   ],
   "source": [
    "Q1model.train(document2,total_examples=len(document2),epochs=10)"
   ]
  },
  {
   "cell_type": "markdown",
   "id": "1660999a",
   "metadata": {},
   "source": [
    "### Checking Q1 results "
   ]
  },
  {
   "cell_type": "code",
   "execution_count": 17,
   "id": "4bbb6286",
   "metadata": {},
   "outputs": [
    {
     "name": "stdout",
     "output_type": "stream",
     "text": [
      "[('filthy', 0.8624281287193298), ('stained', 0.7744951248168945), ('unclean', 0.7740045189857483), ('grubby', 0.769261360168457), ('smelly', 0.7508447170257568), ('dusty', 0.742133378982544), ('gross', 0.7297642827033997), ('dingy', 0.7263858318328857), ('soiled', 0.7259242534637451), ('mouldy', 0.7087249755859375)]\n",
      "[('courteous', 0.9207490086555481), ('friendly', 0.8318106532096863), ('professional', 0.7916364669799805), ('cordial', 0.7883173227310181), ('attentive', 0.7752666473388672), ('personable', 0.7515801787376404)]\n",
      "[('germany', 0.6645396947860718), ('canada', 0.6444250345230103), ('spain', 0.613652765750885), ('england', 0.5952774882316589), ('mexico', 0.5821581482887268), ('austria', 0.5786729454994202)]\n"
     ]
    }
   ],
   "source": [
    "\n",
    "\n",
    "w1 = \"dirty\"\n",
    "print(Q1model.wv.most_similar (positive=w1))\n",
    "# look up top 6 words similar to 'polite'\n",
    "w1 = [\"polite\"]\n",
    "print(Q1model.wv.most_similar (positive=w1,topn=6))\n",
    "# look up top 6 words similar to 'france'\n",
    "w1 = [\"france\"]\n",
    "print(Q1model.wv.most_similar (positive=w1,topn=6))"
   ]
  },
  {
   "cell_type": "code",
   "execution_count": null,
   "id": "19d6b49d",
   "metadata": {},
   "outputs": [],
   "source": []
  },
  {
   "cell_type": "markdown",
   "id": "0d922aa3",
   "metadata": {},
   "source": [
    "### Question 2"
   ]
  },
  {
   "cell_type": "code",
   "execution_count": 174,
   "id": "a6d39e6d",
   "metadata": {},
   "outputs": [
    {
     "name": "stdout",
     "output_type": "stream",
     "text": [
      "50000\n",
      "                                              review sentiment\n",
      "0  One of the other reviewers has mentioned that ...  positive\n",
      "1  A wonderful little production. <br /><br />The...  positive\n",
      "2  I thought this was a wonderful way to spend ti...  positive\n",
      "3  Basically there's a family where a little boy ...  negative\n",
      "4  Petter Mattei's \"Love in the Time of Money\" is...  positive\n",
      "<class 'pandas.core.frame.DataFrame'>\n",
      "RangeIndex: 50000 entries, 0 to 49999\n",
      "Data columns (total 2 columns):\n",
      " #   Column     Non-Null Count  Dtype \n",
      "---  ------     --------------  ----- \n",
      " 0   review     50000 non-null  object\n",
      " 1   sentiment  50000 non-null  object\n",
      "dtypes: object(2)\n",
      "memory usage: 781.4+ KB\n"
     ]
    }
   ],
   "source": [
    "IMDB_Data = pd.read_csv(\"IMDB Dataset.csv\")\n",
    "print(IMDB_Data.shape[0])\n",
    "print(IMDB_Data.head())\n",
    "IMDB_Data.info()"
   ]
  },
  {
   "cell_type": "code",
   "execution_count": 213,
   "id": "e8108152",
   "metadata": {},
   "outputs": [],
   "source": [
    "def removebr(txt):\n",
    "    ## Remove <br> tags\n",
    "    r1 = txt.replace('<br />', ' ')\n",
    "    \n",
    "IMDB_Data['review'] = IMDB_Data['review'].apply(lambda x: removebr(x))    "
   ]
  },
  {
   "cell_type": "code",
   "execution_count": 175,
   "id": "83253172",
   "metadata": {},
   "outputs": [
    {
     "data": {
      "text/html": [
       "<div>\n",
       "<style scoped>\n",
       "    .dataframe tbody tr th:only-of-type {\n",
       "        vertical-align: middle;\n",
       "    }\n",
       "\n",
       "    .dataframe tbody tr th {\n",
       "        vertical-align: top;\n",
       "    }\n",
       "\n",
       "    .dataframe thead th {\n",
       "        text-align: right;\n",
       "    }\n",
       "</style>\n",
       "<table border=\"1\" class=\"dataframe\">\n",
       "  <thead>\n",
       "    <tr style=\"text-align: right;\">\n",
       "      <th></th>\n",
       "      <th>review</th>\n",
       "      <th>sentiment</th>\n",
       "      <th>updatedreview</th>\n",
       "    </tr>\n",
       "  </thead>\n",
       "  <tbody>\n",
       "    <tr>\n",
       "      <th>0</th>\n",
       "      <td>One of the other reviewers has mentioned that ...</td>\n",
       "      <td>positive</td>\n",
       "      <td>[one, of, the, other, reviewers, has, mentione...</td>\n",
       "    </tr>\n",
       "    <tr>\n",
       "      <th>1</th>\n",
       "      <td>A wonderful little production. &lt;br /&gt;&lt;br /&gt;The...</td>\n",
       "      <td>positive</td>\n",
       "      <td>[wonderful, little, production, br, br, the, f...</td>\n",
       "    </tr>\n",
       "    <tr>\n",
       "      <th>2</th>\n",
       "      <td>I thought this was a wonderful way to spend ti...</td>\n",
       "      <td>positive</td>\n",
       "      <td>[thought, this, was, wonderful, way, to, spend...</td>\n",
       "    </tr>\n",
       "    <tr>\n",
       "      <th>3</th>\n",
       "      <td>Basically there's a family where a little boy ...</td>\n",
       "      <td>negative</td>\n",
       "      <td>[basically, there, family, where, little, boy,...</td>\n",
       "    </tr>\n",
       "    <tr>\n",
       "      <th>4</th>\n",
       "      <td>Petter Mattei's \"Love in the Time of Money\" is...</td>\n",
       "      <td>positive</td>\n",
       "      <td>[petter, mattei, love, in, the, time, of, mone...</td>\n",
       "    </tr>\n",
       "  </tbody>\n",
       "</table>\n",
       "</div>"
      ],
      "text/plain": [
       "                                              review sentiment  \\\n",
       "0  One of the other reviewers has mentioned that ...  positive   \n",
       "1  A wonderful little production. <br /><br />The...  positive   \n",
       "2  I thought this was a wonderful way to spend ti...  positive   \n",
       "3  Basically there's a family where a little boy ...  negative   \n",
       "4  Petter Mattei's \"Love in the Time of Money\" is...  positive   \n",
       "\n",
       "                                       updatedreview  \n",
       "0  [one, of, the, other, reviewers, has, mentione...  \n",
       "1  [wonderful, little, production, br, br, the, f...  \n",
       "2  [thought, this, was, wonderful, way, to, spend...  \n",
       "3  [basically, there, family, where, little, boy,...  \n",
       "4  [petter, mattei, love, in, the, time, of, mone...  "
      ]
     },
     "execution_count": 175,
     "metadata": {},
     "output_type": "execute_result"
    }
   ],
   "source": [
    "\n",
    "\n",
    "IMDB_Data['updatedreview'] = IMDB_Data['review'].apply(lambda x: gensim.utils.simple_preprocess(x))\n",
    "IMDB_Data.head(5)\n"
   ]
  },
  {
   "cell_type": "markdown",
   "id": "15957fd4",
   "metadata": {},
   "source": [
    "### Tokenizing the data through which the reviews are broken down into individual words which can then be passed in the Word2Vec function. I also noticed \\<br> symbols at the line end, so also removing these type of extra words to remove clutter "
   ]
  },
  {
   "cell_type": "markdown",
   "id": "a615be73",
   "metadata": {},
   "source": [
    "### Data Split (80:20)"
   ]
  },
  {
   "cell_type": "code",
   "execution_count": 176,
   "id": "6730e456",
   "metadata": {},
   "outputs": [
    {
     "name": "stdout",
     "output_type": "stream",
     "text": [
      "40000\n",
      "10000\n"
     ]
    }
   ],
   "source": [
    "x1 = IMDB_Data[['review', 'updatedreview']]\n",
    "y1 = IMDB_Data['sentiment' ]\n",
    "IMDB_train,IMDB_test,Y_train ,Y_test = train_test_split(x1,y1, test_size= 0.20 , random_state=42)\n",
    "print(IMDB_train.shape[0])\n",
    "print(IMDB_test.shape[0])\n"
   ]
  },
  {
   "cell_type": "code",
   "execution_count": 106,
   "id": "d14f8833",
   "metadata": {},
   "outputs": [],
   "source": [
    "####\n",
    "\n",
    "##def read_input3 (IMDB_Data):\n",
    "    ##print(\"Function called\")\n",
    "\n",
    "    ##for i in IMDB_Data['review']:\n",
    "\n",
    "    ##    print(\"Inside\")\n",
    "\n",
    "  ##      yield gensim.utils.simple_preprocess(i)\n",
    "\n",
    "\n",
    "##Review_Q2_Train = read_input3(IMDB_train)\n",
    "##ListedReview_Q2_Train = [x for x in Review_Q2_Train]\n",
    "\n",
    "##Review_Q2_Test = read_input3(IMDB_test)\n",
    "##ListedReview_Q2_Test = [x for x in Review_Q2_Test]\n",
    "\n",
    "\n",
    "### Deploy some more preprocessing techniques\n",
    "        "
   ]
  },
  {
   "cell_type": "markdown",
   "id": "21346d4b",
   "metadata": {},
   "source": [
    "### Question 3.1 (Running the Word2vec on IMDB)"
   ]
  },
  {
   "cell_type": "code",
   "execution_count": 21,
   "id": "92e8e2d6",
   "metadata": {
    "collapsed": true
   },
   "outputs": [
    {
     "name": "stderr",
     "output_type": "stream",
     "text": [
      "2023-03-13 14:29:41,828 : INFO : collecting all words and their counts\n",
      "2023-03-13 14:29:41,829 : INFO : PROGRESS: at sentence #0, processed 0 words, keeping 0 word types\n",
      "2023-03-13 14:29:42,132 : INFO : PROGRESS: at sentence #10000, processed 2247945 words, keeping 51708 word types\n",
      "2023-03-13 14:29:42,439 : INFO : PROGRESS: at sentence #20000, processed 4491090 words, keeping 68759 word types\n",
      "2023-03-13 14:29:42,861 : INFO : PROGRESS: at sentence #30000, processed 6711920 words, keeping 81013 word types\n",
      "2023-03-13 14:29:43,192 : INFO : collected 90876 word types from a corpus of 8934662 raw words and 40000 sentences\n",
      "2023-03-13 14:29:43,193 : INFO : Creating a fresh vocabulary\n",
      "2023-03-13 14:29:43,297 : INFO : Word2Vec lifecycle event {'msg': 'effective_min_count=5 retains 35633 unique words (39.21% of original 90876, drops 55243)', 'datetime': '2023-03-13T14:29:43.297757', 'gensim': '4.3.1', 'python': '3.10.7 (tags/v3.10.7:6cc6b13, Sep  5 2022, 14:08:36) [MSC v.1933 64 bit (AMD64)]', 'platform': 'Windows-10-10.0.22621-SP0', 'event': 'prepare_vocab'}\n",
      "2023-03-13 14:29:43,298 : INFO : Word2Vec lifecycle event {'msg': 'effective_min_count=5 leaves 8843902 word corpus (98.98% of original 8934662, drops 90760)', 'datetime': '2023-03-13T14:29:43.298744', 'gensim': '4.3.1', 'python': '3.10.7 (tags/v3.10.7:6cc6b13, Sep  5 2022, 14:08:36) [MSC v.1933 64 bit (AMD64)]', 'platform': 'Windows-10-10.0.22621-SP0', 'event': 'prepare_vocab'}\n",
      "2023-03-13 14:29:43,453 : INFO : deleting the raw counts dictionary of 90876 items\n",
      "2023-03-13 14:29:43,468 : INFO : sample=0.001 downsamples 46 most-common words\n",
      "2023-03-13 14:29:43,469 : INFO : Word2Vec lifecycle event {'msg': 'downsampling leaves estimated 6720855.767776955 word corpus (76.0%% of prior 8843902)', 'datetime': '2023-03-13T14:29:43.469118', 'gensim': '4.3.1', 'python': '3.10.7 (tags/v3.10.7:6cc6b13, Sep  5 2022, 14:08:36) [MSC v.1933 64 bit (AMD64)]', 'platform': 'Windows-10-10.0.22621-SP0', 'event': 'prepare_vocab'}\n",
      "2023-03-13 14:29:43,671 : INFO : estimated required memory for 35633 words and 100 dimensions: 46322900 bytes\n",
      "2023-03-13 14:29:43,672 : INFO : resetting layer weights\n",
      "2023-03-13 14:29:43,696 : INFO : Word2Vec lifecycle event {'update': False, 'trim_rule': 'None', 'datetime': '2023-03-13T14:29:43.696073', 'gensim': '4.3.1', 'python': '3.10.7 (tags/v3.10.7:6cc6b13, Sep  5 2022, 14:08:36) [MSC v.1933 64 bit (AMD64)]', 'platform': 'Windows-10-10.0.22621-SP0', 'event': 'build_vocab'}\n",
      "2023-03-13 14:29:43,697 : INFO : Word2Vec lifecycle event {'msg': 'training model with 3 workers on 35633 vocabulary and 100 features, using sg=1 hs=0 sample=0.001 negative=5 window=5 shrink_windows=True', 'datetime': '2023-03-13T14:29:43.697146', 'gensim': '4.3.1', 'python': '3.10.7 (tags/v3.10.7:6cc6b13, Sep  5 2022, 14:08:36) [MSC v.1933 64 bit (AMD64)]', 'platform': 'Windows-10-10.0.22621-SP0', 'event': 'train'}\n",
      "2023-03-13 14:29:44,716 : INFO : EPOCH 0 - PROGRESS: at 6.29% examples, 416260 words/s, in_qsize 6, out_qsize 0\n",
      "2023-03-13 14:29:45,723 : INFO : EPOCH 0 - PROGRESS: at 12.57% examples, 420311 words/s, in_qsize 5, out_qsize 0\n",
      "2023-03-13 14:29:46,749 : INFO : EPOCH 0 - PROGRESS: at 18.94% examples, 421809 words/s, in_qsize 5, out_qsize 0\n",
      "2023-03-13 14:29:47,770 : INFO : EPOCH 0 - PROGRESS: at 25.39% examples, 421696 words/s, in_qsize 6, out_qsize 0\n",
      "2023-03-13 14:29:48,772 : INFO : EPOCH 0 - PROGRESS: at 31.96% examples, 424212 words/s, in_qsize 6, out_qsize 0\n",
      "2023-03-13 14:29:49,779 : INFO : EPOCH 0 - PROGRESS: at 38.34% examples, 425664 words/s, in_qsize 5, out_qsize 0\n",
      "2023-03-13 14:29:50,782 : INFO : EPOCH 0 - PROGRESS: at 44.85% examples, 426866 words/s, in_qsize 6, out_qsize 0\n",
      "2023-03-13 14:29:51,783 : INFO : EPOCH 0 - PROGRESS: at 51.12% examples, 427998 words/s, in_qsize 5, out_qsize 0\n",
      "2023-03-13 14:29:52,783 : INFO : EPOCH 0 - PROGRESS: at 56.03% examples, 417404 words/s, in_qsize 5, out_qsize 0\n",
      "2023-03-13 14:29:53,806 : INFO : EPOCH 0 - PROGRESS: at 61.20% examples, 408946 words/s, in_qsize 5, out_qsize 0\n",
      "2023-03-13 14:29:54,806 : INFO : EPOCH 0 - PROGRESS: at 66.12% examples, 401895 words/s, in_qsize 5, out_qsize 0\n",
      "2023-03-13 14:29:55,833 : INFO : EPOCH 0 - PROGRESS: at 72.73% examples, 403677 words/s, in_qsize 5, out_qsize 0\n",
      "2023-03-13 14:29:56,843 : INFO : EPOCH 0 - PROGRESS: at 79.41% examples, 406264 words/s, in_qsize 5, out_qsize 0\n",
      "2023-03-13 14:29:57,857 : INFO : EPOCH 0 - PROGRESS: at 85.92% examples, 407944 words/s, in_qsize 5, out_qsize 0\n",
      "2023-03-13 14:29:58,867 : INFO : EPOCH 0 - PROGRESS: at 92.43% examples, 410018 words/s, in_qsize 6, out_qsize 0\n",
      "2023-03-13 14:29:59,894 : INFO : EPOCH 0 - PROGRESS: at 97.56% examples, 405001 words/s, in_qsize 5, out_qsize 0\n",
      "2023-03-13 14:30:00,371 : INFO : EPOCH 0: training on 8934662 raw words (6721500 effective words) took 16.7s, 403218 effective words/s\n",
      "2023-03-13 14:30:01,432 : INFO : EPOCH 1 - PROGRESS: at 5.11% examples, 322732 words/s, in_qsize 6, out_qsize 0\n",
      "2023-03-13 14:30:02,444 : INFO : EPOCH 1 - PROGRESS: at 10.82% examples, 354029 words/s, in_qsize 5, out_qsize 0\n",
      "2023-03-13 14:30:03,466 : INFO : EPOCH 1 - PROGRESS: at 16.80% examples, 368509 words/s, in_qsize 6, out_qsize 0\n",
      "2023-03-13 14:30:04,474 : INFO : EPOCH 1 - PROGRESS: at 23.17% examples, 382539 words/s, in_qsize 5, out_qsize 0\n",
      "2023-03-13 14:30:05,483 : INFO : EPOCH 1 - PROGRESS: at 29.47% examples, 389406 words/s, in_qsize 5, out_qsize 0\n",
      "2023-03-13 14:30:06,524 : INFO : EPOCH 1 - PROGRESS: at 35.30% examples, 387029 words/s, in_qsize 6, out_qsize 0\n",
      "2023-03-13 14:30:07,535 : INFO : EPOCH 1 - PROGRESS: at 40.31% examples, 379956 words/s, in_qsize 5, out_qsize 0\n",
      "2023-03-13 14:30:08,571 : INFO : EPOCH 1 - PROGRESS: at 45.08% examples, 370618 words/s, in_qsize 5, out_qsize 0\n",
      "2023-03-13 14:30:09,583 : INFO : EPOCH 1 - PROGRESS: at 50.41% examples, 369984 words/s, in_qsize 5, out_qsize 0\n",
      "2023-03-13 14:30:10,599 : INFO : EPOCH 1 - PROGRESS: at 56.72% examples, 375104 words/s, in_qsize 6, out_qsize 0\n",
      "2023-03-13 14:30:11,600 : INFO : EPOCH 1 - PROGRESS: at 63.08% examples, 379256 words/s, in_qsize 5, out_qsize 0\n",
      "2023-03-13 14:30:12,628 : INFO : EPOCH 1 - PROGRESS: at 68.89% examples, 379233 words/s, in_qsize 5, out_qsize 0\n",
      "2023-03-13 14:30:13,650 : INFO : EPOCH 1 - PROGRESS: at 74.12% examples, 376081 words/s, in_qsize 5, out_qsize 0\n",
      "2023-03-13 14:30:14,678 : INFO : EPOCH 1 - PROGRESS: at 79.53% examples, 373747 words/s, in_qsize 5, out_qsize 1\n",
      "2023-03-13 14:30:15,709 : INFO : EPOCH 1 - PROGRESS: at 85.69% examples, 375584 words/s, in_qsize 5, out_qsize 0\n",
      "2023-03-13 14:30:16,728 : INFO : EPOCH 1 - PROGRESS: at 91.34% examples, 375672 words/s, in_qsize 5, out_qsize 0\n",
      "2023-03-13 14:30:17,731 : INFO : EPOCH 1 - PROGRESS: at 98.22% examples, 380396 words/s, in_qsize 6, out_qsize 0\n",
      "2023-03-13 14:30:17,995 : INFO : EPOCH 1: training on 8934662 raw words (6720872 effective words) took 17.6s, 381450 effective words/s\n",
      "2023-03-13 14:30:19,020 : INFO : EPOCH 2 - PROGRESS: at 6.73% examples, 440697 words/s, in_qsize 5, out_qsize 0\n",
      "2023-03-13 14:30:20,031 : INFO : EPOCH 2 - PROGRESS: at 13.41% examples, 446251 words/s, in_qsize 5, out_qsize 0\n",
      "2023-03-13 14:30:21,039 : INFO : EPOCH 2 - PROGRESS: at 18.94% examples, 422360 words/s, in_qsize 6, out_qsize 0\n",
      "2023-03-13 14:30:22,047 : INFO : EPOCH 2 - PROGRESS: at 24.23% examples, 405005 words/s, in_qsize 6, out_qsize 0\n",
      "2023-03-13 14:30:23,047 : INFO : EPOCH 2 - PROGRESS: at 29.47% examples, 393496 words/s, in_qsize 5, out_qsize 0\n",
      "2023-03-13 14:30:24,052 : INFO : EPOCH 2 - PROGRESS: at 36.03% examples, 400187 words/s, in_qsize 6, out_qsize 0\n",
      "2023-03-13 14:30:25,061 : INFO : EPOCH 2 - PROGRESS: at 42.69% examples, 407818 words/s, in_qsize 5, out_qsize 0\n",
      "2023-03-13 14:30:26,096 : INFO : EPOCH 2 - PROGRESS: at 49.53% examples, 413288 words/s, in_qsize 5, out_qsize 0\n",
      "2023-03-13 14:30:27,119 : INFO : EPOCH 2 - PROGRESS: at 56.35% examples, 417878 words/s, in_qsize 5, out_qsize 2\n",
      "2023-03-13 14:30:28,120 : INFO : EPOCH 2 - PROGRESS: at 63.42% examples, 422613 words/s, in_qsize 5, out_qsize 0\n",
      "2023-03-13 14:30:29,136 : INFO : EPOCH 2 - PROGRESS: at 70.33% examples, 425606 words/s, in_qsize 6, out_qsize 0\n",
      "2023-03-13 14:30:30,173 : INFO : EPOCH 2 - PROGRESS: at 75.93% examples, 419630 words/s, in_qsize 5, out_qsize 0\n"
     ]
    },
    {
     "name": "stderr",
     "output_type": "stream",
     "text": [
      "2023-03-13 14:30:31,181 : INFO : EPOCH 2 - PROGRESS: at 80.56% examples, 411012 words/s, in_qsize 5, out_qsize 0\n",
      "2023-03-13 14:30:32,205 : INFO : EPOCH 2 - PROGRESS: at 86.45% examples, 408946 words/s, in_qsize 5, out_qsize 0\n",
      "2023-03-13 14:30:33,211 : INFO : EPOCH 2 - PROGRESS: at 92.19% examples, 407672 words/s, in_qsize 5, out_qsize 0\n",
      "2023-03-13 14:30:34,225 : INFO : EPOCH 2 - PROGRESS: at 97.99% examples, 405907 words/s, in_qsize 6, out_qsize 0\n",
      "2023-03-13 14:30:34,554 : INFO : EPOCH 2: training on 8934662 raw words (6720015 effective words) took 16.6s, 405888 effective words/s\n",
      "2023-03-13 14:30:35,579 : INFO : EPOCH 3 - PROGRESS: at 6.73% examples, 440886 words/s, in_qsize 5, out_qsize 0\n",
      "2023-03-13 14:30:36,623 : INFO : EPOCH 3 - PROGRESS: at 13.09% examples, 428674 words/s, in_qsize 6, out_qsize 0\n",
      "2023-03-13 14:30:37,669 : INFO : EPOCH 3 - PROGRESS: at 18.52% examples, 403511 words/s, in_qsize 5, out_qsize 0\n",
      "2023-03-13 14:30:38,670 : INFO : EPOCH 3 - PROGRESS: at 23.69% examples, 389809 words/s, in_qsize 5, out_qsize 0\n",
      "2023-03-13 14:30:39,674 : INFO : EPOCH 3 - PROGRESS: at 29.38% examples, 387090 words/s, in_qsize 6, out_qsize 0\n",
      "2023-03-13 14:30:40,694 : INFO : EPOCH 3 - PROGRESS: at 36.22% examples, 397353 words/s, in_qsize 6, out_qsize 0\n",
      "2023-03-13 14:30:41,704 : INFO : EPOCH 3 - PROGRESS: at 43.02% examples, 406267 words/s, in_qsize 5, out_qsize 0\n",
      "2023-03-13 14:30:42,718 : INFO : EPOCH 3 - PROGRESS: at 49.64% examples, 411144 words/s, in_qsize 6, out_qsize 0\n",
      "2023-03-13 14:30:43,724 : INFO : EPOCH 3 - PROGRESS: at 56.12% examples, 414288 words/s, in_qsize 5, out_qsize 0\n",
      "2023-03-13 14:30:44,741 : INFO : EPOCH 3 - PROGRESS: at 62.20% examples, 412173 words/s, in_qsize 5, out_qsize 0\n",
      "2023-03-13 14:30:45,751 : INFO : EPOCH 3 - PROGRESS: at 67.27% examples, 405174 words/s, in_qsize 5, out_qsize 0\n",
      "2023-03-13 14:30:46,794 : INFO : EPOCH 3 - PROGRESS: at 72.60% examples, 399513 words/s, in_qsize 5, out_qsize 0\n",
      "2023-03-13 14:30:47,795 : INFO : EPOCH 3 - PROGRESS: at 78.36% examples, 398211 words/s, in_qsize 6, out_qsize 0\n",
      "2023-03-13 14:30:48,816 : INFO : EPOCH 3 - PROGRESS: at 85.14% examples, 401259 words/s, in_qsize 6, out_qsize 0\n",
      "2023-03-13 14:30:49,817 : INFO : EPOCH 3 - PROGRESS: at 91.75% examples, 404451 words/s, in_qsize 6, out_qsize 0\n",
      "2023-03-13 14:30:50,839 : INFO : EPOCH 3 - PROGRESS: at 98.55% examples, 406728 words/s, in_qsize 5, out_qsize 0\n",
      "2023-03-13 14:30:51,047 : INFO : EPOCH 3: training on 8934662 raw words (6719977 effective words) took 16.5s, 407490 effective words/s\n",
      "2023-03-13 14:30:52,063 : INFO : EPOCH 4 - PROGRESS: at 5.90% examples, 389420 words/s, in_qsize 5, out_qsize 0\n",
      "2023-03-13 14:30:53,106 : INFO : EPOCH 4 - PROGRESS: at 11.03% examples, 363862 words/s, in_qsize 5, out_qsize 1\n",
      "2023-03-13 14:30:54,144 : INFO : EPOCH 4 - PROGRESS: at 16.34% examples, 358575 words/s, in_qsize 6, out_qsize 0\n",
      "2023-03-13 14:30:55,152 : INFO : EPOCH 4 - PROGRESS: at 22.33% examples, 367796 words/s, in_qsize 6, out_qsize 0\n",
      "2023-03-13 14:30:56,162 : INFO : EPOCH 4 - PROGRESS: at 28.61% examples, 377692 words/s, in_qsize 5, out_qsize 0\n",
      "2023-03-13 14:30:57,162 : INFO : EPOCH 4 - PROGRESS: at 34.91% examples, 384722 words/s, in_qsize 5, out_qsize 0\n",
      "2023-03-13 14:30:58,162 : INFO : EPOCH 4 - PROGRESS: at 40.31% examples, 382675 words/s, in_qsize 5, out_qsize 0\n",
      "2023-03-13 14:30:59,169 : INFO : EPOCH 4 - PROGRESS: at 44.96% examples, 373414 words/s, in_qsize 6, out_qsize 0\n",
      "2023-03-13 14:31:00,204 : INFO : EPOCH 4 - PROGRESS: at 49.41% examples, 365147 words/s, in_qsize 6, out_qsize 0\n",
      "2023-03-13 14:31:01,213 : INFO : EPOCH 4 - PROGRESS: at 53.48% examples, 356422 words/s, in_qsize 5, out_qsize 0\n",
      "2023-03-13 14:31:02,220 : INFO : EPOCH 4 - PROGRESS: at 57.91% examples, 350728 words/s, in_qsize 5, out_qsize 0\n",
      "2023-03-13 14:31:03,236 : INFO : EPOCH 4 - PROGRESS: at 63.64% examples, 352459 words/s, in_qsize 5, out_qsize 0\n",
      "2023-03-13 14:31:04,258 : INFO : EPOCH 4 - PROGRESS: at 69.08% examples, 353036 words/s, in_qsize 5, out_qsize 0\n",
      "2023-03-13 14:31:05,286 : INFO : EPOCH 4 - PROGRESS: at 74.11% examples, 350805 words/s, in_qsize 4, out_qsize 1\n",
      "2023-03-13 14:31:06,317 : INFO : EPOCH 4 - PROGRESS: at 78.93% examples, 347890 words/s, in_qsize 6, out_qsize 0\n",
      "2023-03-13 14:31:07,321 : INFO : EPOCH 4 - PROGRESS: at 84.92% examples, 350899 words/s, in_qsize 6, out_qsize 0\n",
      "2023-03-13 14:31:08,330 : INFO : EPOCH 4 - PROGRESS: at 90.39% examples, 351790 words/s, in_qsize 6, out_qsize 0\n",
      "2023-03-13 14:31:09,346 : INFO : EPOCH 4 - PROGRESS: at 96.56% examples, 354898 words/s, in_qsize 5, out_qsize 0\n",
      "2023-03-13 14:31:09,859 : INFO : EPOCH 4: training on 8934662 raw words (6722621 effective words) took 18.8s, 357491 effective words/s\n",
      "2023-03-13 14:31:09,860 : INFO : Word2Vec lifecycle event {'msg': 'training on 44673310 raw words (33604985 effective words) took 86.2s, 390019 effective words/s', 'datetime': '2023-03-13T14:31:09.860292', 'gensim': '4.3.1', 'python': '3.10.7 (tags/v3.10.7:6cc6b13, Sep  5 2022, 14:08:36) [MSC v.1933 64 bit (AMD64)]', 'platform': 'Windows-10-10.0.22621-SP0', 'event': 'train'}\n",
      "2023-03-13 14:31:09,861 : INFO : Word2Vec lifecycle event {'params': 'Word2Vec<vocab=35633, vector_size=100, alpha=0.025>', 'datetime': '2023-03-13T14:31:09.861252', 'gensim': '4.3.1', 'python': '3.10.7 (tags/v3.10.7:6cc6b13, Sep  5 2022, 14:08:36) [MSC v.1933 64 bit (AMD64)]', 'platform': 'Windows-10-10.0.22621-SP0', 'event': 'created'}\n"
     ]
    }
   ],
   "source": [
    "Q2_model = gensim.models.Word2Vec(IMDB_train['updatedreview'],vector_size=100,sg = 1)"
   ]
  },
  {
   "cell_type": "code",
   "execution_count": 23,
   "id": "e5d04dc4",
   "metadata": {
    "collapsed": true
   },
   "outputs": [
    {
     "name": "stderr",
     "output_type": "stream",
     "text": [
      "2023-03-13 14:31:44,211 : WARNING : Effective 'alpha' higher than previous training cycles\n",
      "2023-03-13 14:31:44,214 : INFO : Word2Vec lifecycle event {'msg': 'training model with 3 workers on 35633 vocabulary and 100 features, using sg=1 hs=0 sample=0.001 negative=5 window=5 shrink_windows=True', 'datetime': '2023-03-13T14:31:44.214609', 'gensim': '4.3.1', 'python': '3.10.7 (tags/v3.10.7:6cc6b13, Sep  5 2022, 14:08:36) [MSC v.1933 64 bit (AMD64)]', 'platform': 'Windows-10-10.0.22621-SP0', 'event': 'train'}\n",
      "2023-03-13 14:31:45,228 : INFO : EPOCH 0 - PROGRESS: at 6.50% examples, 434304 words/s, in_qsize 5, out_qsize 0\n",
      "2023-03-13 14:31:46,260 : INFO : EPOCH 0 - PROGRESS: at 12.99% examples, 430897 words/s, in_qsize 5, out_qsize 0\n",
      "2023-03-13 14:31:47,272 : INFO : EPOCH 0 - PROGRESS: at 19.47% examples, 433615 words/s, in_qsize 5, out_qsize 0\n",
      "2023-03-13 14:31:48,297 : INFO : EPOCH 0 - PROGRESS: at 26.43% examples, 437095 words/s, in_qsize 6, out_qsize 0\n",
      "2023-03-13 14:31:49,321 : INFO : EPOCH 0 - PROGRESS: at 33.02% examples, 436281 words/s, in_qsize 5, out_qsize 0\n",
      "2023-03-13 14:31:50,344 : INFO : EPOCH 0 - PROGRESS: at 39.83% examples, 438238 words/s, in_qsize 5, out_qsize 0\n",
      "2023-03-13 14:31:51,353 : INFO : EPOCH 0 - PROGRESS: at 46.11% examples, 436281 words/s, in_qsize 5, out_qsize 0\n",
      "2023-03-13 14:31:52,354 : INFO : EPOCH 0 - PROGRESS: at 52.62% examples, 437950 words/s, in_qsize 5, out_qsize 0\n",
      "2023-03-13 14:31:53,356 : INFO : EPOCH 0 - PROGRESS: at 59.24% examples, 438398 words/s, in_qsize 6, out_qsize 0\n",
      "2023-03-13 14:31:54,365 : INFO : EPOCH 0 - PROGRESS: at 66.01% examples, 439110 words/s, in_qsize 5, out_qsize 0\n",
      "2023-03-13 14:31:55,380 : INFO : EPOCH 0 - PROGRESS: at 72.73% examples, 438763 words/s, in_qsize 6, out_qsize 0\n",
      "2023-03-13 14:31:56,407 : INFO : EPOCH 0 - PROGRESS: at 77.90% examples, 430169 words/s, in_qsize 5, out_qsize 0\n",
      "2023-03-13 14:31:57,456 : INFO : EPOCH 0 - PROGRESS: at 83.00% examples, 421710 words/s, in_qsize 5, out_qsize 0\n",
      "2023-03-13 14:31:58,471 : INFO : EPOCH 0 - PROGRESS: at 88.21% examples, 416056 words/s, in_qsize 5, out_qsize 0\n",
      "2023-03-13 14:31:59,489 : INFO : EPOCH 0 - PROGRESS: at 94.59% examples, 416422 words/s, in_qsize 5, out_qsize 0\n",
      "2023-03-13 14:32:00,358 : INFO : EPOCH 0: training on 8934662 raw words (6719935 effective words) took 16.1s, 416460 effective words/s\n",
      "2023-03-13 14:32:01,390 : INFO : EPOCH 1 - PROGRESS: at 5.80% examples, 375039 words/s, in_qsize 5, out_qsize 0\n",
      "2023-03-13 14:32:02,394 : INFO : EPOCH 1 - PROGRESS: at 10.46% examples, 345421 words/s, in_qsize 5, out_qsize 0\n",
      "2023-03-13 14:32:03,420 : INFO : EPOCH 1 - PROGRESS: at 14.55% examples, 323274 words/s, in_qsize 5, out_qsize 0\n",
      "2023-03-13 14:32:04,477 : INFO : EPOCH 1 - PROGRESS: at 18.11% examples, 297769 words/s, in_qsize 5, out_qsize 0\n",
      "2023-03-13 14:32:05,502 : INFO : EPOCH 1 - PROGRESS: at 23.48% examples, 308999 words/s, in_qsize 5, out_qsize 0\n",
      "2023-03-13 14:32:06,511 : INFO : EPOCH 1 - PROGRESS: at 29.01% examples, 318454 words/s, in_qsize 5, out_qsize 0\n",
      "2023-03-13 14:32:07,544 : INFO : EPOCH 1 - PROGRESS: at 34.88% examples, 327060 words/s, in_qsize 5, out_qsize 1\n",
      "2023-03-13 14:32:08,558 : INFO : EPOCH 1 - PROGRESS: at 40.96% examples, 337195 words/s, in_qsize 5, out_qsize 0\n",
      "2023-03-13 14:32:09,583 : INFO : EPOCH 1 - PROGRESS: at 45.29% examples, 330997 words/s, in_qsize 5, out_qsize 0\n",
      "2023-03-13 14:32:10,586 : INFO : EPOCH 1 - PROGRESS: at 50.60% examples, 334569 words/s, in_qsize 5, out_qsize 0\n",
      "2023-03-13 14:32:11,587 : INFO : EPOCH 1 - PROGRESS: at 55.05% examples, 331735 words/s, in_qsize 5, out_qsize 0\n",
      "2023-03-13 14:32:12,646 : INFO : EPOCH 1 - PROGRESS: at 58.14% examples, 319919 words/s, in_qsize 5, out_qsize 0\n",
      "2023-03-13 14:32:13,661 : INFO : EPOCH 1 - PROGRESS: at 61.08% examples, 310031 words/s, in_qsize 5, out_qsize 0\n",
      "2023-03-13 14:32:14,676 : INFO : EPOCH 1 - PROGRESS: at 63.64% examples, 299888 words/s, in_qsize 5, out_qsize 0\n",
      "2023-03-13 14:32:15,748 : INFO : EPOCH 1 - PROGRESS: at 66.93% examples, 293353 words/s, in_qsize 5, out_qsize 0\n",
      "2023-03-13 14:32:16,767 : INFO : EPOCH 1 - PROGRESS: at 70.74% examples, 290777 words/s, in_qsize 5, out_qsize 0\n",
      "2023-03-13 14:32:17,781 : INFO : EPOCH 1 - PROGRESS: at 74.34% examples, 287391 words/s, in_qsize 5, out_qsize 0\n",
      "2023-03-13 14:32:18,791 : INFO : EPOCH 1 - PROGRESS: at 78.22% examples, 285643 words/s, in_qsize 5, out_qsize 0\n",
      "2023-03-13 14:32:19,833 : INFO : EPOCH 1 - PROGRESS: at 82.30% examples, 284357 words/s, in_qsize 5, out_qsize 0\n",
      "2023-03-13 14:32:20,846 : INFO : EPOCH 1 - PROGRESS: at 87.00% examples, 285433 words/s, in_qsize 4, out_qsize 1\n",
      "2023-03-13 14:32:21,864 : INFO : EPOCH 1 - PROGRESS: at 91.56% examples, 286374 words/s, in_qsize 6, out_qsize 0\n",
      "2023-03-13 14:32:22,877 : INFO : EPOCH 1 - PROGRESS: at 95.59% examples, 285313 words/s, in_qsize 5, out_qsize 0\n",
      "2023-03-13 14:32:23,893 : INFO : EPOCH 1 - PROGRESS: at 99.66% examples, 284610 words/s, in_qsize 4, out_qsize 0\n",
      "2023-03-13 14:32:23,962 : INFO : EPOCH 1: training on 8934662 raw words (6720429 effective words) took 23.6s, 284761 effective words/s\n",
      "2023-03-13 14:32:24,981 : INFO : EPOCH 2 - PROGRESS: at 4.14% examples, 270412 words/s, in_qsize 5, out_qsize 0\n",
      "2023-03-13 14:32:25,993 : INFO : EPOCH 2 - PROGRESS: at 8.42% examples, 277609 words/s, in_qsize 5, out_qsize 0\n",
      "2023-03-13 14:32:27,007 : INFO : EPOCH 2 - PROGRESS: at 12.80% examples, 284179 words/s, in_qsize 5, out_qsize 0\n",
      "2023-03-13 14:32:28,013 : INFO : EPOCH 2 - PROGRESS: at 16.93% examples, 283124 words/s, in_qsize 5, out_qsize 0\n",
      "2023-03-13 14:32:29,032 : INFO : EPOCH 2 - PROGRESS: at 21.20% examples, 283102 words/s, in_qsize 5, out_qsize 0\n",
      "2023-03-13 14:32:30,067 : INFO : EPOCH 2 - PROGRESS: at 25.14% examples, 278726 words/s, in_qsize 5, out_qsize 0\n",
      "2023-03-13 14:32:31,077 : INFO : EPOCH 2 - PROGRESS: at 29.86% examples, 283881 words/s, in_qsize 6, out_qsize 0\n",
      "2023-03-13 14:32:32,094 : INFO : EPOCH 2 - PROGRESS: at 35.10% examples, 291067 words/s, in_qsize 6, out_qsize 0\n",
      "2023-03-13 14:32:33,124 : INFO : EPOCH 2 - PROGRESS: at 39.14% examples, 288250 words/s, in_qsize 5, out_qsize 0\n",
      "2023-03-13 14:32:34,154 : INFO : EPOCH 2 - PROGRESS: at 42.69% examples, 282950 words/s, in_qsize 5, out_qsize 0\n",
      "2023-03-13 14:32:35,181 : INFO : EPOCH 2 - PROGRESS: at 46.49% examples, 280206 words/s, in_qsize 5, out_qsize 0\n",
      "2023-03-13 14:32:36,187 : INFO : EPOCH 2 - PROGRESS: at 50.41% examples, 278838 words/s, in_qsize 5, out_qsize 0\n",
      "2023-03-13 14:32:37,198 : INFO : EPOCH 2 - PROGRESS: at 54.38% examples, 278220 words/s, in_qsize 5, out_qsize 0\n",
      "2023-03-13 14:32:38,246 : INFO : EPOCH 2 - PROGRESS: at 57.79% examples, 273790 words/s, in_qsize 5, out_qsize 0\n",
      "2023-03-13 14:32:39,277 : INFO : EPOCH 2 - PROGRESS: at 61.20% examples, 269902 words/s, in_qsize 5, out_qsize 0\n",
      "2023-03-13 14:32:40,292 : INFO : EPOCH 2 - PROGRESS: at 65.16% examples, 269310 words/s, in_qsize 6, out_qsize 0\n",
      "2023-03-13 14:32:41,326 : INFO : EPOCH 2 - PROGRESS: at 69.08% examples, 268527 words/s, in_qsize 5, out_qsize 0\n",
      "2023-03-13 14:32:42,357 : INFO : EPOCH 2 - PROGRESS: at 73.78% examples, 270298 words/s, in_qsize 6, out_qsize 0\n",
      "2023-03-13 14:32:43,387 : INFO : EPOCH 2 - PROGRESS: at 78.11% examples, 270778 words/s, in_qsize 5, out_qsize 0\n",
      "2023-03-13 14:32:44,442 : INFO : EPOCH 2 - PROGRESS: at 82.31% examples, 270511 words/s, in_qsize 5, out_qsize 0\n",
      "2023-03-13 14:32:45,483 : INFO : EPOCH 2 - PROGRESS: at 86.56% examples, 270473 words/s, in_qsize 5, out_qsize 0\n",
      "2023-03-13 14:32:46,484 : INFO : EPOCH 2 - PROGRESS: at 89.89% examples, 268286 words/s, in_qsize 5, out_qsize 0\n",
      "2023-03-13 14:32:47,520 : INFO : EPOCH 2 - PROGRESS: at 93.62% examples, 267155 words/s, in_qsize 5, out_qsize 0\n",
      "2023-03-13 14:32:48,523 : INFO : EPOCH 2 - PROGRESS: at 97.34% examples, 266464 words/s, in_qsize 5, out_qsize 0\n",
      "2023-03-13 14:32:49,000 : INFO : EPOCH 2: training on 8934662 raw words (6721788 effective words) took 25.0s, 268522 effective words/s\n",
      "2023-03-13 14:32:50,017 : INFO : EPOCH 3 - PROGRESS: at 4.24% examples, 278779 words/s, in_qsize 5, out_qsize 0\n",
      "2023-03-13 14:32:51,072 : INFO : EPOCH 3 - PROGRESS: at 8.55% examples, 275819 words/s, in_qsize 5, out_qsize 0\n",
      "2023-03-13 14:32:52,090 : INFO : EPOCH 3 - PROGRESS: at 12.56% examples, 275307 words/s, in_qsize 5, out_qsize 0\n"
     ]
    },
    {
     "name": "stderr",
     "output_type": "stream",
     "text": [
      "2023-03-13 14:32:53,092 : INFO : EPOCH 3 - PROGRESS: at 16.80% examples, 278581 words/s, in_qsize 6, out_qsize 0\n",
      "2023-03-13 14:32:54,115 : INFO : EPOCH 3 - PROGRESS: at 20.82% examples, 276222 words/s, in_qsize 5, out_qsize 0\n",
      "2023-03-13 14:32:55,122 : INFO : EPOCH 3 - PROGRESS: at 25.26% examples, 279217 words/s, in_qsize 5, out_qsize 0\n",
      "2023-03-13 14:32:56,178 : INFO : EPOCH 3 - PROGRESS: at 29.38% examples, 276105 words/s, in_qsize 5, out_qsize 0\n",
      "2023-03-13 14:32:57,212 : INFO : EPOCH 3 - PROGRESS: at 33.36% examples, 273756 words/s, in_qsize 5, out_qsize 0\n",
      "2023-03-13 14:32:58,240 : INFO : EPOCH 3 - PROGRESS: at 36.65% examples, 267269 words/s, in_qsize 5, out_qsize 0\n",
      "2023-03-13 14:32:59,242 : INFO : EPOCH 3 - PROGRESS: at 40.85% examples, 269275 words/s, in_qsize 6, out_qsize 0\n",
      "2023-03-13 14:33:00,242 : INFO : EPOCH 3 - PROGRESS: at 45.18% examples, 270966 words/s, in_qsize 5, out_qsize 0\n",
      "2023-03-13 14:33:01,275 : INFO : EPOCH 3 - PROGRESS: at 49.09% examples, 270431 words/s, in_qsize 5, out_qsize 0\n",
      "2023-03-13 14:33:02,314 : INFO : EPOCH 3 - PROGRESS: at 53.15% examples, 270388 words/s, in_qsize 6, out_qsize 0\n",
      "2023-03-13 14:33:03,329 : INFO : EPOCH 3 - PROGRESS: at 57.25% examples, 270270 words/s, in_qsize 6, out_qsize 0\n",
      "2023-03-13 14:33:04,351 : INFO : EPOCH 3 - PROGRESS: at 61.53% examples, 270651 words/s, in_qsize 5, out_qsize 0\n",
      "2023-03-13 14:33:05,370 : INFO : EPOCH 3 - PROGRESS: at 65.45% examples, 269917 words/s, in_qsize 5, out_qsize 0\n",
      "2023-03-13 14:33:06,397 : INFO : EPOCH 3 - PROGRESS: at 69.19% examples, 268404 words/s, in_qsize 5, out_qsize 0\n",
      "2023-03-13 14:33:07,410 : INFO : EPOCH 3 - PROGRESS: at 73.28% examples, 268036 words/s, in_qsize 6, out_qsize 0\n",
      "2023-03-13 14:33:08,430 : INFO : EPOCH 3 - PROGRESS: at 78.48% examples, 271763 words/s, in_qsize 6, out_qsize 0\n",
      "2023-03-13 14:33:09,436 : INFO : EPOCH 3 - PROGRESS: at 85.03% examples, 279666 words/s, in_qsize 6, out_qsize 0\n",
      "2023-03-13 14:33:10,454 : INFO : EPOCH 3 - PROGRESS: at 91.23% examples, 286061 words/s, in_qsize 5, out_qsize 0\n",
      "2023-03-13 14:33:11,464 : INFO : EPOCH 3 - PROGRESS: at 97.00% examples, 290283 words/s, in_qsize 6, out_qsize 0\n",
      "2023-03-13 14:33:11,887 : INFO : EPOCH 3: training on 8934662 raw words (6720088 effective words) took 22.9s, 293699 effective words/s\n",
      "2023-03-13 14:33:12,911 : INFO : EPOCH 4 - PROGRESS: at 5.22% examples, 341112 words/s, in_qsize 6, out_qsize 0\n",
      "2023-03-13 14:33:13,928 : INFO : EPOCH 4 - PROGRESS: at 10.56% examples, 348047 words/s, in_qsize 6, out_qsize 0\n",
      "2023-03-13 14:33:14,932 : INFO : EPOCH 4 - PROGRESS: at 16.80% examples, 373941 words/s, in_qsize 6, out_qsize 0\n",
      "2023-03-13 14:33:15,934 : INFO : EPOCH 4 - PROGRESS: at 23.36% examples, 390951 words/s, in_qsize 6, out_qsize 0\n",
      "2023-03-13 14:33:16,963 : INFO : EPOCH 4 - PROGRESS: at 29.13% examples, 387469 words/s, in_qsize 5, out_qsize 0\n",
      "2023-03-13 14:33:17,980 : INFO : EPOCH 4 - PROGRESS: at 33.47% examples, 370051 words/s, in_qsize 6, out_qsize 0\n",
      "2023-03-13 14:33:19,024 : INFO : EPOCH 4 - PROGRESS: at 38.05% examples, 359496 words/s, in_qsize 5, out_qsize 0\n",
      "2023-03-13 14:33:20,073 : INFO : EPOCH 4 - PROGRESS: at 41.72% examples, 344016 words/s, in_qsize 5, out_qsize 0\n",
      "2023-03-13 14:33:21,106 : INFO : EPOCH 4 - PROGRESS: at 45.69% examples, 334405 words/s, in_qsize 5, out_qsize 0\n",
      "2023-03-13 14:33:22,122 : INFO : EPOCH 4 - PROGRESS: at 50.30% examples, 332173 words/s, in_qsize 5, out_qsize 0\n",
      "2023-03-13 14:33:23,142 : INFO : EPOCH 4 - PROGRESS: at 55.16% examples, 331581 words/s, in_qsize 5, out_qsize 0\n",
      "2023-03-13 14:33:24,162 : INFO : EPOCH 4 - PROGRESS: at 61.96% examples, 340824 words/s, in_qsize 6, out_qsize 0\n",
      "2023-03-13 14:33:25,168 : INFO : EPOCH 4 - PROGRESS: at 68.55% examples, 348236 words/s, in_qsize 5, out_qsize 0\n",
      "2023-03-13 14:33:26,178 : INFO : EPOCH 4 - PROGRESS: at 75.17% examples, 354000 words/s, in_qsize 6, out_qsize 0\n",
      "2023-03-13 14:33:27,202 : INFO : EPOCH 4 - PROGRESS: at 80.18% examples, 351936 words/s, in_qsize 5, out_qsize 0\n",
      "2023-03-13 14:33:28,243 : INFO : EPOCH 4 - PROGRESS: at 84.92% examples, 348985 words/s, in_qsize 5, out_qsize 0\n",
      "2023-03-13 14:33:29,290 : INFO : EPOCH 4 - PROGRESS: at 89.36% examples, 344938 words/s, in_qsize 5, out_qsize 0\n",
      "2023-03-13 14:33:30,313 : INFO : EPOCH 4 - PROGRESS: at 95.82% examples, 349504 words/s, in_qsize 6, out_qsize 0\n",
      "2023-03-13 14:33:30,995 : INFO : EPOCH 4: training on 8934662 raw words (6720914 effective words) took 19.1s, 351786 effective words/s\n",
      "2023-03-13 14:33:32,012 : INFO : EPOCH 5 - PROGRESS: at 6.29% examples, 416421 words/s, in_qsize 6, out_qsize 0\n",
      "2023-03-13 14:33:33,021 : INFO : EPOCH 5 - PROGRESS: at 11.24% examples, 376670 words/s, in_qsize 5, out_qsize 0\n",
      "2023-03-13 14:33:34,052 : INFO : EPOCH 5 - PROGRESS: at 15.87% examples, 353236 words/s, in_qsize 6, out_qsize 0\n",
      "2023-03-13 14:33:35,058 : INFO : EPOCH 5 - PROGRESS: at 20.60% examples, 343957 words/s, in_qsize 6, out_qsize 0\n",
      "2023-03-13 14:33:36,068 : INFO : EPOCH 5 - PROGRESS: at 26.19% examples, 348477 words/s, in_qsize 5, out_qsize 0\n",
      "2023-03-13 14:33:37,084 : INFO : EPOCH 5 - PROGRESS: at 32.51% examples, 359572 words/s, in_qsize 5, out_qsize 0\n",
      "2023-03-13 14:33:38,086 : INFO : EPOCH 5 - PROGRESS: at 38.91% examples, 370247 words/s, in_qsize 5, out_qsize 0\n",
      "2023-03-13 14:33:39,104 : INFO : EPOCH 5 - PROGRESS: at 44.40% examples, 369292 words/s, in_qsize 5, out_qsize 0\n",
      "2023-03-13 14:33:40,131 : INFO : EPOCH 5 - PROGRESS: at 49.31% examples, 365000 words/s, in_qsize 6, out_qsize 0\n",
      "2023-03-13 14:33:41,136 : INFO : EPOCH 5 - PROGRESS: at 54.40% examples, 363053 words/s, in_qsize 6, out_qsize 0\n",
      "2023-03-13 14:33:42,168 : INFO : EPOCH 5 - PROGRESS: at 60.86% examples, 367872 words/s, in_qsize 5, out_qsize 0\n",
      "2023-03-13 14:33:43,175 : INFO : EPOCH 5 - PROGRESS: at 67.72% examples, 374954 words/s, in_qsize 5, out_qsize 0\n",
      "2023-03-13 14:33:44,178 : INFO : EPOCH 5 - PROGRESS: at 74.56% examples, 381027 words/s, in_qsize 5, out_qsize 0\n",
      "2023-03-13 14:33:45,179 : INFO : EPOCH 5 - PROGRESS: at 81.38% examples, 385834 words/s, in_qsize 5, out_qsize 0\n",
      "2023-03-13 14:33:46,214 : INFO : EPOCH 5 - PROGRESS: at 87.12% examples, 384780 words/s, in_qsize 5, out_qsize 0\n",
      "2023-03-13 14:33:47,245 : INFO : EPOCH 5 - PROGRESS: at 92.43% examples, 382752 words/s, in_qsize 6, out_qsize 0\n",
      "2023-03-13 14:33:48,257 : INFO : EPOCH 5 - PROGRESS: at 97.75% examples, 380843 words/s, in_qsize 5, out_qsize 0\n",
      "2023-03-13 14:33:48,633 : INFO : EPOCH 5: training on 8934662 raw words (6721866 effective words) took 17.6s, 381168 effective words/s\n",
      "2023-03-13 14:33:49,650 : INFO : EPOCH 6 - PROGRESS: at 6.73% examples, 444694 words/s, in_qsize 6, out_qsize 0\n",
      "2023-03-13 14:33:50,665 : INFO : EPOCH 6 - PROGRESS: at 13.53% examples, 451139 words/s, in_qsize 6, out_qsize 0\n",
      "2023-03-13 14:33:51,670 : INFO : EPOCH 6 - PROGRESS: at 20.28% examples, 452850 words/s, in_qsize 5, out_qsize 0\n",
      "2023-03-13 14:33:52,684 : INFO : EPOCH 6 - PROGRESS: at 26.89% examples, 447373 words/s, in_qsize 6, out_qsize 0\n",
      "2023-03-13 14:33:53,711 : INFO : EPOCH 6 - PROGRESS: at 32.31% examples, 428180 words/s, in_qsize 5, out_qsize 0\n",
      "2023-03-13 14:33:54,714 : INFO : EPOCH 6 - PROGRESS: at 37.30% examples, 413442 words/s, in_qsize 6, out_qsize 0\n",
      "2023-03-13 14:33:55,716 : INFO : EPOCH 6 - PROGRESS: at 42.57% examples, 405907 words/s, in_qsize 6, out_qsize 0\n",
      "2023-03-13 14:33:56,719 : INFO : EPOCH 6 - PROGRESS: at 49.31% examples, 412289 words/s, in_qsize 5, out_qsize 0\n",
      "2023-03-13 14:33:57,721 : INFO : EPOCH 6 - PROGRESS: at 55.93% examples, 416414 words/s, in_qsize 6, out_qsize 0\n",
      "2023-03-13 14:33:58,732 : INFO : EPOCH 6 - PROGRESS: at 62.57% examples, 417968 words/s, in_qsize 5, out_qsize 0\n",
      "2023-03-13 14:33:59,751 : INFO : EPOCH 6 - PROGRESS: at 68.20% examples, 414076 words/s, in_qsize 6, out_qsize 0\n",
      "2023-03-13 14:34:00,767 : INFO : EPOCH 6 - PROGRESS: at 72.27% examples, 401199 words/s, in_qsize 5, out_qsize 0\n",
      "2023-03-13 14:34:01,774 : INFO : EPOCH 6 - PROGRESS: at 76.30% examples, 390621 words/s, in_qsize 5, out_qsize 0\n",
      "2023-03-13 14:34:02,816 : INFO : EPOCH 6 - PROGRESS: at 81.36% examples, 385850 words/s, in_qsize 5, out_qsize 0\n",
      "2023-03-13 14:34:03,817 : INFO : EPOCH 6 - PROGRESS: at 86.67% examples, 383750 words/s, in_qsize 5, out_qsize 0\n"
     ]
    },
    {
     "name": "stderr",
     "output_type": "stream",
     "text": [
      "2023-03-13 14:34:04,841 : INFO : EPOCH 6 - PROGRESS: at 93.39% examples, 387333 words/s, in_qsize 5, out_qsize 0\n",
      "2023-03-13 14:34:05,800 : INFO : EPOCH 6: training on 8934662 raw words (6721176 effective words) took 17.2s, 391575 effective words/s\n",
      "2023-03-13 14:34:06,806 : INFO : EPOCH 7 - PROGRESS: at 6.63% examples, 442168 words/s, in_qsize 5, out_qsize 0\n",
      "2023-03-13 14:34:07,826 : INFO : EPOCH 7 - PROGRESS: at 12.99% examples, 434122 words/s, in_qsize 5, out_qsize 0\n",
      "2023-03-13 14:34:08,832 : INFO : EPOCH 7 - PROGRESS: at 17.80% examples, 397367 words/s, in_qsize 6, out_qsize 0\n",
      "2023-03-13 14:34:09,839 : INFO : EPOCH 7 - PROGRESS: at 22.64% examples, 379214 words/s, in_qsize 6, out_qsize 0\n",
      "2023-03-13 14:34:10,858 : INFO : EPOCH 7 - PROGRESS: at 28.09% examples, 374463 words/s, in_qsize 5, out_qsize 0\n",
      "2023-03-13 14:34:11,873 : INFO : EPOCH 7 - PROGRESS: at 35.01% examples, 388324 words/s, in_qsize 5, out_qsize 0\n",
      "2023-03-13 14:34:12,880 : INFO : EPOCH 7 - PROGRESS: at 41.83% examples, 398690 words/s, in_qsize 5, out_qsize 0\n",
      "2023-03-13 14:34:13,907 : INFO : EPOCH 7 - PROGRESS: at 48.58% examples, 404876 words/s, in_qsize 6, out_qsize 0\n",
      "2023-03-13 14:34:14,908 : INFO : EPOCH 7 - PROGRESS: at 54.05% examples, 401717 words/s, in_qsize 5, out_qsize 0\n",
      "2023-03-13 14:34:15,937 : INFO : EPOCH 7 - PROGRESS: at 59.02% examples, 393692 words/s, in_qsize 6, out_qsize 0\n",
      "2023-03-13 14:34:16,951 : INFO : EPOCH 7 - PROGRESS: at 63.86% examples, 386368 words/s, in_qsize 5, out_qsize 0\n",
      "2023-03-13 14:34:17,956 : INFO : EPOCH 7 - PROGRESS: at 69.31% examples, 384645 words/s, in_qsize 5, out_qsize 0\n",
      "2023-03-13 14:34:18,995 : INFO : EPOCH 7 - PROGRESS: at 76.39% examples, 389537 words/s, in_qsize 6, out_qsize 0\n",
      "2023-03-13 14:34:19,999 : INFO : EPOCH 7 - PROGRESS: at 83.34% examples, 394709 words/s, in_qsize 6, out_qsize 0\n",
      "2023-03-13 14:34:21,017 : INFO : EPOCH 7 - PROGRESS: at 90.20% examples, 398409 words/s, in_qsize 5, out_qsize 0\n",
      "2023-03-13 14:34:22,023 : INFO : EPOCH 7 - PROGRESS: at 96.45% examples, 399670 words/s, in_qsize 6, out_qsize 0\n",
      "2023-03-13 14:34:22,692 : INFO : EPOCH 7: training on 8934662 raw words (6719816 effective words) took 16.9s, 397882 effective words/s\n",
      "2023-03-13 14:34:23,726 : INFO : EPOCH 8 - PROGRESS: at 5.11% examples, 330705 words/s, in_qsize 5, out_qsize 0\n",
      "2023-03-13 14:34:24,760 : INFO : EPOCH 8 - PROGRESS: at 10.34% examples, 336817 words/s, in_qsize 6, out_qsize 0\n",
      "2023-03-13 14:34:25,768 : INFO : EPOCH 8 - PROGRESS: at 15.99% examples, 353505 words/s, in_qsize 5, out_qsize 0\n",
      "2023-03-13 14:34:26,799 : INFO : EPOCH 8 - PROGRESS: at 22.54% examples, 371221 words/s, in_qsize 6, out_qsize 0\n",
      "2023-03-13 14:34:27,803 : INFO : EPOCH 8 - PROGRESS: at 29.38% examples, 387920 words/s, in_qsize 5, out_qsize 0\n",
      "2023-03-13 14:34:28,841 : INFO : EPOCH 8 - PROGRESS: at 36.23% examples, 396901 words/s, in_qsize 5, out_qsize 1\n",
      "2023-03-13 14:34:29,857 : INFO : EPOCH 8 - PROGRESS: at 42.90% examples, 404519 words/s, in_qsize 5, out_qsize 1\n",
      "2023-03-13 14:34:30,870 : INFO : EPOCH 8 - PROGRESS: at 47.99% examples, 396982 words/s, in_qsize 5, out_qsize 0\n",
      "2023-03-13 14:34:31,878 : INFO : EPOCH 8 - PROGRESS: at 52.83% examples, 389552 words/s, in_qsize 5, out_qsize 0\n",
      "2023-03-13 14:34:32,883 : INFO : EPOCH 8 - PROGRESS: at 59.02% examples, 391734 words/s, in_qsize 6, out_qsize 0\n",
      "2023-03-13 14:34:33,921 : INFO : EPOCH 8 - PROGRESS: at 65.56% examples, 394264 words/s, in_qsize 5, out_qsize 0\n",
      "2023-03-13 14:34:34,925 : INFO : EPOCH 8 - PROGRESS: at 72.27% examples, 398015 words/s, in_qsize 6, out_qsize 0\n",
      "2023-03-13 14:34:35,968 : INFO : EPOCH 8 - PROGRESS: at 77.38% examples, 392236 words/s, in_qsize 5, out_qsize 0\n",
      "2023-03-13 14:34:37,016 : INFO : EPOCH 8 - PROGRESS: at 82.52% examples, 387752 words/s, in_qsize 6, out_qsize 0\n",
      "2023-03-13 14:34:38,024 : INFO : EPOCH 8 - PROGRESS: at 87.45% examples, 383436 words/s, in_qsize 5, out_qsize 0\n",
      "2023-03-13 14:34:39,041 : INFO : EPOCH 8 - PROGRESS: at 94.19% examples, 387185 words/s, in_qsize 5, out_qsize 0\n",
      "2023-03-13 14:34:39,906 : INFO : EPOCH 8: training on 8934662 raw words (6721276 effective words) took 17.2s, 390551 effective words/s\n",
      "2023-03-13 14:34:40,924 : INFO : EPOCH 9 - PROGRESS: at 6.63% examples, 437201 words/s, in_qsize 6, out_qsize 0\n",
      "2023-03-13 14:34:41,945 : INFO : EPOCH 9 - PROGRESS: at 13.31% examples, 442390 words/s, in_qsize 5, out_qsize 0\n",
      "2023-03-13 14:34:42,970 : INFO : EPOCH 9 - PROGRESS: at 18.62% examples, 412448 words/s, in_qsize 6, out_qsize 0\n",
      "2023-03-13 14:34:43,976 : INFO : EPOCH 9 - PROGRESS: at 23.69% examples, 394027 words/s, in_qsize 5, out_qsize 0\n",
      "2023-03-13 14:34:44,990 : INFO : EPOCH 9 - PROGRESS: at 29.01% examples, 385253 words/s, in_qsize 5, out_qsize 0\n",
      "2023-03-13 14:34:46,002 : INFO : EPOCH 9 - PROGRESS: at 35.66% examples, 393901 words/s, in_qsize 6, out_qsize 0\n",
      "2023-03-13 14:34:47,024 : INFO : EPOCH 9 - PROGRESS: at 42.23% examples, 400565 words/s, in_qsize 5, out_qsize 0\n",
      "2023-03-13 14:34:48,038 : INFO : EPOCH 9 - PROGRESS: at 49.00% examples, 407074 words/s, in_qsize 5, out_qsize 0\n",
      "2023-03-13 14:34:49,077 : INFO : EPOCH 9 - PROGRESS: at 55.83% examples, 411707 words/s, in_qsize 5, out_qsize 0\n",
      "2023-03-13 14:34:50,080 : INFO : EPOCH 9 - PROGRESS: at 61.08% examples, 405313 words/s, in_qsize 6, out_qsize 0\n",
      "2023-03-13 14:34:51,091 : INFO : EPOCH 9 - PROGRESS: at 66.23% examples, 399578 words/s, in_qsize 6, out_qsize 0\n",
      "2023-03-13 14:34:52,093 : INFO : EPOCH 9 - PROGRESS: at 71.43% examples, 395070 words/s, in_qsize 5, out_qsize 0\n",
      "2023-03-13 14:34:53,105 : INFO : EPOCH 9 - PROGRESS: at 78.22% examples, 398836 words/s, in_qsize 5, out_qsize 0\n",
      "2023-03-13 14:34:54,109 : INFO : EPOCH 9 - PROGRESS: at 85.14% examples, 402839 words/s, in_qsize 6, out_qsize 0\n",
      "2023-03-13 14:34:55,137 : INFO : EPOCH 9 - PROGRESS: at 91.83% examples, 405763 words/s, in_qsize 6, out_qsize 0\n",
      "2023-03-13 14:34:56,139 : INFO : EPOCH 9 - PROGRESS: at 98.78% examples, 408938 words/s, in_qsize 5, out_qsize 0\n",
      "2023-03-13 14:34:56,322 : INFO : EPOCH 9: training on 8934662 raw words (6719338 effective words) took 16.4s, 409384 effective words/s\n",
      "2023-03-13 14:34:56,323 : INFO : Word2Vec lifecycle event {'msg': 'training on 89346620 raw words (67206626 effective words) took 192.1s, 349837 effective words/s', 'datetime': '2023-03-13T14:34:56.323722', 'gensim': '4.3.1', 'python': '3.10.7 (tags/v3.10.7:6cc6b13, Sep  5 2022, 14:08:36) [MSC v.1933 64 bit (AMD64)]', 'platform': 'Windows-10-10.0.22621-SP0', 'event': 'train'}\n"
     ]
    },
    {
     "data": {
      "text/plain": [
       "(67206626, 89346620)"
      ]
     },
     "execution_count": 23,
     "metadata": {},
     "output_type": "execute_result"
    }
   ],
   "source": [
    "Q2_model.train(IMDB_train['updatedreview'],total_examples=len(IMDB_train['updatedreview']),epochs=10)"
   ]
  },
  {
   "cell_type": "code",
   "execution_count": 26,
   "id": "911ce556",
   "metadata": {},
   "outputs": [
    {
     "name": "stdout",
     "output_type": "stream",
     "text": [
      "[('troubled', 0.6464856266975403), ('ebrahimi', 0.6415886282920837), ('mog', 0.6342411637306213), ('mariana', 0.6295545697212219), ('handsome', 0.6238566637039185), ('warfield', 0.6193918585777283)]\n",
      "[-6.12430274e-01  6.89825043e-02 -1.42208502e-01 -1.07738398e-01\n",
      " -2.62281984e-01  1.32501274e-01 -5.39063551e-02  4.39915478e-01\n",
      " -2.06810787e-01 -3.73063907e-02 -1.01408176e-01  1.63968563e-01\n",
      "  5.69339953e-02  3.65971029e-01 -2.67672449e-01 -2.07653746e-01\n",
      " -1.08247109e-01  4.82561393e-03 -2.08591595e-01 -5.61246693e-01\n",
      " -2.80038208e-01  1.06127433e-01 -2.30521441e-01 -2.41957575e-01\n",
      "  8.73709098e-02 -2.57473379e-01  9.18977987e-03 -6.33504212e-01\n",
      " -3.21712077e-01  1.68682203e-01 -5.17715573e-01 -7.30429664e-02\n",
      "  1.79836884e-01 -3.26542288e-01 -1.70771986e-01  4.03081059e-01\n",
      " -4.50244427e-01  2.30037309e-02  3.21084708e-01 -4.03400928e-01\n",
      "  5.74988902e-01  5.92304347e-03 -1.98061630e-01  2.92986453e-01\n",
      "  3.70595574e-01 -3.44799757e-01  7.25432858e-02 -1.41836330e-01\n",
      " -1.29319243e-02  5.14882505e-02  1.33248866e-01  2.67052799e-01\n",
      " -4.95279461e-01 -7.94743299e-02 -1.64553970e-01 -2.26721197e-01\n",
      "  2.89089307e-02 -1.21819913e-01 -1.24666043e-01  1.04585059e-01\n",
      "  1.05986059e-01 -2.56282657e-01  2.34989822e-01  5.89416385e-01\n",
      "  2.47003615e-01 -1.84150293e-01 -1.14967912e-01 -9.98091325e-02\n",
      " -5.26004553e-01  8.57007056e-02  4.81304884e-01  2.72852276e-03\n",
      " -1.89568475e-01  4.29157883e-01  1.92989215e-01  2.79564202e-01\n",
      "  4.48762387e-01 -9.99797434e-02  4.39198427e-02  1.86172754e-01\n",
      "  2.35917732e-01 -1.87958762e-01 -2.42550895e-01  6.36734366e-01\n",
      " -5.53002988e-04  3.85996819e-01  1.97942089e-02 -1.02050081e-01\n",
      "  1.86923668e-01  1.63759604e-01 -9.24507231e-02  2.10519493e-01\n",
      " -3.40876728e-01 -4.81926501e-01  5.46653390e-01  8.39074969e-01\n",
      " -2.29887605e-01 -5.10420799e-01 -2.25790635e-01 -6.14621162e-01]\n"
     ]
    }
   ],
   "source": [
    "## Checking the output #########\n",
    "\n",
    "w1 = [\"young\"]\n",
    "print(Q2_model.wv.most_similar (positive=w1,topn=6))\n",
    "print(Q2_model.wv.get_vector(\"zombie\"))"
   ]
  },
  {
   "cell_type": "code",
   "execution_count": 109,
   "id": "fea9f650",
   "metadata": {},
   "outputs": [
    {
     "name": "stdout",
     "output_type": "stream",
     "text": [
      "10\n"
     ]
    }
   ],
   "source": [
    "print(Q2_model.epochs)"
   ]
  },
  {
   "cell_type": "code",
   "execution_count": 101,
   "id": "2f923442",
   "metadata": {},
   "outputs": [],
   "source": [
    "def document_vector(doc,**kwargs):\n",
    "    \"\"\"Create document vectors by averaging word vectors. Remove out-of-vocabulary words.\"\"\"\n",
    "    #print(doc)\n",
    "    for j in kwargs:\n",
    "        model = kwargs[j]\n",
    "    \n",
    "    doc = [model.wv.get_vector(word) for word in doc if word in model.wv.key_to_index]\n",
    "    #word_doc = [word for word in doc if word if word != 'abc']\n",
    "    #print(doc)\n",
    "    #print(word_doc)\n",
    "    return np.mean(doc, axis=0)"
   ]
  },
  {
   "cell_type": "code",
   "execution_count": 104,
   "id": "1c01212f",
   "metadata": {},
   "outputs": [
    {
     "name": "stdout",
     "output_type": "stream",
     "text": [
      "                                                  review  \\\n",
      "39087  That's what I kept asking myself during the ma...   \n",
      "30893  I did not watch the entire movie. I could not ...   \n",
      "45278  A touching love story reminiscent of In the M...   \n",
      "16398  This latter-day Fulci schlocker is a totally a...   \n",
      "13653  First of all, I firmly believe that Norwegian ...   \n",
      "\n",
      "                                           updatedreview  \\\n",
      "39087  [that, what, kept, asking, myself, during, the...   \n",
      "30893  [did, not, watch, the, entire, movie, could, n...   \n",
      "45278  [touching, love, story, reminiscent, of, in, t...   \n",
      "16398  [this, latter, day, fulci, schlocker, is, tota...   \n",
      "13653  [first, of, all, firmly, believe, that, norweg...   \n",
      "\n",
      "                                              doc_vector  \n",
      "39087  [-0.11100326, 0.089727774, 0.004746029, -0.033...  \n",
      "30893  [-0.12238887, 0.08613449, 0.030092902, -0.0233...  \n",
      "45278  [-0.13073657, 0.07731632, 0.0021488196, 0.0101...  \n",
      "16398  [-0.1035551, 0.09942451, 0.025903104, -0.06665...  \n",
      "13653  [-0.13211639, 0.07063555, -0.0024163432, -0.06...  \n",
      "hello\n"
     ]
    }
   ],
   "source": [
    "### Updating the review content based on the word2vec for both test and train datasets\n",
    "\n",
    "IMDB_train['doc_vector'] = IMDB_train['updatedreview'].apply(document_vector,model = (Q2_model))\n",
    "print(IMDB_train.head())\n",
    "print(\"hello\")\n",
    "\n",
    "IMDB_test['doc_vector'] = IMDB_test['updatedreview'].apply(document_vector,model = (Q2_model))\n",
    "\n",
    "#test['doc_vector'] = test.ingredients.apply(document_vector)"
   ]
  },
  {
   "cell_type": "code",
   "execution_count": 105,
   "id": "a0319ceb",
   "metadata": {},
   "outputs": [],
   "source": [
    "## Setting up logistic regression ####\n",
    "\n",
    "lb = LabelEncoder()\n",
    "Ytrain_Updated = lb.fit_transform(Y_train)\n",
    "LR = LogisticRegression(C=100)\n",
    "X_train = list(IMDB_train['doc_vector'])\n",
    "\n"
   ]
  },
  {
   "cell_type": "code",
   "execution_count": 106,
   "id": "25100234",
   "metadata": {},
   "outputs": [
    {
     "name": "stdout",
     "output_type": "stream",
     "text": [
      "0.873775\n"
     ]
    }
   ],
   "source": [
    "#print((IMDB_train['doc_vector'].to_numpy()))\n",
    "\n",
    "## Logistic regression on Train dataset\n",
    "\n",
    "Train_1 = LR.fit(X_train, Ytrain_Updated)\n",
    "Train_Score = LR.score(X_train, Ytrain_Updated)\n",
    "print(\"Accuracy Score for train dataset is \"+str(Train_Score))\n"
   ]
  },
  {
   "cell_type": "code",
   "execution_count": 107,
   "id": "b491f04d",
   "metadata": {},
   "outputs": [
    {
     "name": "stdout",
     "output_type": "stream",
     "text": [
      "0.8709\n"
     ]
    }
   ],
   "source": [
    "## Logistic regression on test dataset\n",
    "\n",
    "X_test = list(IMDB_test['doc_vector'])\n",
    "Y_test_encoded = lb.fit_transform(Y_test)\n",
    "\n",
    "Test_Score = LR.score(X_test, Y_test_encoded)\n",
    "print(\"Accuracy Score for test dataset is \"+str(Test_Score))\n"
   ]
  },
  {
   "cell_type": "code",
   "execution_count": 70,
   "id": "9fa66baa",
   "metadata": {},
   "outputs": [
    {
     "name": "stdout",
     "output_type": "stream",
     "text": [
      "Unique values count : positive    25000\n",
      "negative    25000\n",
      "Name: sentiment, dtype: int64\n"
     ]
    }
   ],
   "source": [
    "\n",
    "# Get Unique Count using Series.unique()\n",
    "count = IMDB_Data.sentiment.value_counts()\n",
    "print(\"Unique values count : \"+ str(count))\n",
    "\n",
    "# Output\n",
    "# Unique values count : 4\n",
    "\n",
    "\n"
   ]
  },
  {
   "cell_type": "markdown",
   "id": "3f2e7607",
   "metadata": {},
   "source": [
    "### Over here, we see that the count of positive and negative reviews are balanced. So it is okay to just use the accuracy metric to evaluate model performance"
   ]
  },
  {
   "cell_type": "markdown",
   "id": "8129dd0d",
   "metadata": {},
   "source": [
    "## Question 3.2"
   ]
  },
  {
   "cell_type": "code",
   "execution_count": 111,
   "id": "66d24755",
   "metadata": {},
   "outputs": [],
   "source": [
    "def Model_Vector(Vec_size, window_size):\n",
    "    \n",
    "    Model = gensim.models.Word2Vec(IMDB_train['updatedreview'],vector_size=Vec_size,window = window_size,sg = 1)\n",
    "    Model.train(IMDB_train['updatedreview'],total_examples=len(IMDB_train['updatedreview']),epochs=Model.epochs)\n",
    "    #Q2_model.train(IMDB_train['updatedreview'],total_examples=len(IMDB_train['updatedreview']),epochs=10)\n",
    "    \n",
    "    return Model\n",
    "   "
   ]
  },
  {
   "cell_type": "code",
   "execution_count": 119,
   "id": "56b77567",
   "metadata": {
    "collapsed": true
   },
   "outputs": [
    {
     "name": "stderr",
     "output_type": "stream",
     "text": [
      "2023-03-13 18:35:04,185 : INFO : collecting all words and their counts\n",
      "2023-03-13 18:35:04,186 : INFO : PROGRESS: at sentence #0, processed 0 words, keeping 0 word types\n"
     ]
    },
    {
     "name": "stdout",
     "output_type": "stream",
     "text": [
      "loop running for ith value:25\n"
     ]
    },
    {
     "name": "stderr",
     "output_type": "stream",
     "text": [
      "2023-03-13 18:35:04,419 : INFO : PROGRESS: at sentence #10000, processed 2247945 words, keeping 51708 word types\n",
      "2023-03-13 18:35:04,647 : INFO : PROGRESS: at sentence #20000, processed 4491090 words, keeping 68759 word types\n",
      "2023-03-13 18:35:04,885 : INFO : PROGRESS: at sentence #30000, processed 6711920 words, keeping 81013 word types\n",
      "2023-03-13 18:35:05,160 : INFO : collected 90876 word types from a corpus of 8934662 raw words and 40000 sentences\n",
      "2023-03-13 18:35:05,161 : INFO : Creating a fresh vocabulary\n",
      "2023-03-13 18:35:05,251 : INFO : Word2Vec lifecycle event {'msg': 'effective_min_count=5 retains 35633 unique words (39.21% of original 90876, drops 55243)', 'datetime': '2023-03-13T18:35:05.251925', 'gensim': '4.3.1', 'python': '3.10.7 (tags/v3.10.7:6cc6b13, Sep  5 2022, 14:08:36) [MSC v.1933 64 bit (AMD64)]', 'platform': 'Windows-10-10.0.22621-SP0', 'event': 'prepare_vocab'}\n",
      "2023-03-13 18:35:05,252 : INFO : Word2Vec lifecycle event {'msg': 'effective_min_count=5 leaves 8843902 word corpus (98.98% of original 8934662, drops 90760)', 'datetime': '2023-03-13T18:35:05.252828', 'gensim': '4.3.1', 'python': '3.10.7 (tags/v3.10.7:6cc6b13, Sep  5 2022, 14:08:36) [MSC v.1933 64 bit (AMD64)]', 'platform': 'Windows-10-10.0.22621-SP0', 'event': 'prepare_vocab'}\n",
      "2023-03-13 18:35:05,349 : INFO : deleting the raw counts dictionary of 90876 items\n",
      "2023-03-13 18:35:05,352 : INFO : sample=0.001 downsamples 46 most-common words\n",
      "2023-03-13 18:35:05,353 : INFO : Word2Vec lifecycle event {'msg': 'downsampling leaves estimated 6720855.767776955 word corpus (76.0%% of prior 8843902)', 'datetime': '2023-03-13T18:35:05.353634', 'gensim': '4.3.1', 'python': '3.10.7 (tags/v3.10.7:6cc6b13, Sep  5 2022, 14:08:36) [MSC v.1933 64 bit (AMD64)]', 'platform': 'Windows-10-10.0.22621-SP0', 'event': 'prepare_vocab'}\n",
      "2023-03-13 18:35:05,509 : INFO : estimated required memory for 35633 words and 25 dimensions: 24943100 bytes\n",
      "2023-03-13 18:35:05,510 : INFO : resetting layer weights\n",
      "2023-03-13 18:35:05,519 : INFO : Word2Vec lifecycle event {'update': False, 'trim_rule': 'None', 'datetime': '2023-03-13T18:35:05.519340', 'gensim': '4.3.1', 'python': '3.10.7 (tags/v3.10.7:6cc6b13, Sep  5 2022, 14:08:36) [MSC v.1933 64 bit (AMD64)]', 'platform': 'Windows-10-10.0.22621-SP0', 'event': 'build_vocab'}\n",
      "2023-03-13 18:35:05,520 : INFO : Word2Vec lifecycle event {'msg': 'training model with 3 workers on 35633 vocabulary and 25 features, using sg=1 hs=0 sample=0.001 negative=5 window=5 shrink_windows=True', 'datetime': '2023-03-13T18:35:05.520316', 'gensim': '4.3.1', 'python': '3.10.7 (tags/v3.10.7:6cc6b13, Sep  5 2022, 14:08:36) [MSC v.1933 64 bit (AMD64)]', 'platform': 'Windows-10-10.0.22621-SP0', 'event': 'train'}\n",
      "2023-03-13 18:35:06,525 : INFO : EPOCH 0 - PROGRESS: at 11.79% examples, 796558 words/s, in_qsize 5, out_qsize 0\n",
      "2023-03-13 18:35:07,526 : INFO : EPOCH 0 - PROGRESS: at 24.55% examples, 829948 words/s, in_qsize 5, out_qsize 0\n",
      "2023-03-13 18:35:08,526 : INFO : EPOCH 0 - PROGRESS: at 37.39% examples, 838732 words/s, in_qsize 6, out_qsize 0\n",
      "2023-03-13 18:35:09,541 : INFO : EPOCH 0 - PROGRESS: at 50.21% examples, 844045 words/s, in_qsize 5, out_qsize 0\n",
      "2023-03-13 18:35:10,545 : INFO : EPOCH 0 - PROGRESS: at 62.77% examples, 843100 words/s, in_qsize 6, out_qsize 0\n",
      "2023-03-13 18:35:11,558 : INFO : EPOCH 0 - PROGRESS: at 75.85% examples, 845299 words/s, in_qsize 5, out_qsize 0\n",
      "2023-03-13 18:35:12,562 : INFO : EPOCH 0 - PROGRESS: at 88.40% examples, 844222 words/s, in_qsize 6, out_qsize 0\n",
      "2023-03-13 18:35:13,485 : INFO : EPOCH 0: training on 8934662 raw words (6718932 effective words) took 8.0s, 843935 effective words/s\n",
      "2023-03-13 18:35:14,502 : INFO : EPOCH 1 - PROGRESS: at 12.24% examples, 815547 words/s, in_qsize 6, out_qsize 0\n",
      "2023-03-13 18:35:15,506 : INFO : EPOCH 1 - PROGRESS: at 24.66% examples, 827840 words/s, in_qsize 5, out_qsize 0\n",
      "2023-03-13 18:35:16,512 : INFO : EPOCH 1 - PROGRESS: at 37.07% examples, 825824 words/s, in_qsize 6, out_qsize 0\n",
      "2023-03-13 18:35:17,515 : INFO : EPOCH 1 - PROGRESS: at 49.09% examples, 823876 words/s, in_qsize 5, out_qsize 0\n",
      "2023-03-13 18:35:18,518 : INFO : EPOCH 1 - PROGRESS: at 61.41% examples, 824181 words/s, in_qsize 6, out_qsize 0\n",
      "2023-03-13 18:35:19,519 : INFO : EPOCH 1 - PROGRESS: at 73.78% examples, 823861 words/s, in_qsize 6, out_qsize 0\n",
      "2023-03-13 18:35:20,530 : INFO : EPOCH 1 - PROGRESS: at 86.34% examples, 824008 words/s, in_qsize 6, out_qsize 1\n",
      "2023-03-13 18:35:21,533 : INFO : EPOCH 1 - PROGRESS: at 98.55% examples, 823238 words/s, in_qsize 5, out_qsize 0\n",
      "2023-03-13 18:35:21,642 : INFO : EPOCH 1: training on 8934662 raw words (6720070 effective words) took 8.2s, 824088 effective words/s\n",
      "2023-03-13 18:35:22,654 : INFO : EPOCH 2 - PROGRESS: at 11.57% examples, 776621 words/s, in_qsize 6, out_qsize 0\n",
      "2023-03-13 18:35:23,654 : INFO : EPOCH 2 - PROGRESS: at 23.48% examples, 790595 words/s, in_qsize 6, out_qsize 0\n",
      "2023-03-13 18:35:24,659 : INFO : EPOCH 2 - PROGRESS: at 31.73% examples, 708598 words/s, in_qsize 5, out_qsize 0\n",
      "2023-03-13 18:35:25,679 : INFO : EPOCH 2 - PROGRESS: at 43.13% examples, 721466 words/s, in_qsize 5, out_qsize 0\n",
      "2023-03-13 18:35:26,682 : INFO : EPOCH 2 - PROGRESS: at 54.84% examples, 736240 words/s, in_qsize 5, out_qsize 0\n",
      "2023-03-13 18:35:27,699 : INFO : EPOCH 2 - PROGRESS: at 64.30% examples, 716381 words/s, in_qsize 6, out_qsize 0\n",
      "2023-03-13 18:35:28,712 : INFO : EPOCH 2 - PROGRESS: at 73.30% examples, 698138 words/s, in_qsize 6, out_qsize 0\n",
      "2023-03-13 18:35:29,713 : INFO : EPOCH 2 - PROGRESS: at 82.65% examples, 689038 words/s, in_qsize 6, out_qsize 0\n",
      "2023-03-13 18:35:30,716 : INFO : EPOCH 2 - PROGRESS: at 93.04% examples, 689428 words/s, in_qsize 5, out_qsize 0\n",
      "2023-03-13 18:35:31,324 : INFO : EPOCH 2: training on 8934662 raw words (6720288 effective words) took 9.7s, 694284 effective words/s\n",
      "2023-03-13 18:35:32,332 : INFO : EPOCH 3 - PROGRESS: at 9.21% examples, 611756 words/s, in_qsize 5, out_qsize 0\n",
      "2023-03-13 18:35:33,348 : INFO : EPOCH 3 - PROGRESS: at 19.25% examples, 647384 words/s, in_qsize 5, out_qsize 0\n",
      "2023-03-13 18:35:34,356 : INFO : EPOCH 3 - PROGRESS: at 29.02% examples, 646966 words/s, in_qsize 5, out_qsize 0\n",
      "2023-03-13 18:35:35,361 : INFO : EPOCH 3 - PROGRESS: at 40.03% examples, 669176 words/s, in_qsize 5, out_qsize 0\n",
      "2023-03-13 18:35:36,369 : INFO : EPOCH 3 - PROGRESS: at 51.48% examples, 690602 words/s, in_qsize 6, out_qsize 0\n",
      "2023-03-13 18:35:37,369 : INFO : EPOCH 3 - PROGRESS: at 63.42% examples, 708298 words/s, in_qsize 5, out_qsize 0\n",
      "2023-03-13 18:35:38,372 : INFO : EPOCH 3 - PROGRESS: at 75.61% examples, 722408 words/s, in_qsize 5, out_qsize 0\n",
      "2023-03-13 18:35:39,374 : INFO : EPOCH 3 - PROGRESS: at 87.68% examples, 732273 words/s, in_qsize 5, out_qsize 0\n",
      "2023-03-13 18:35:40,383 : INFO : EPOCH 3 - PROGRESS: at 97.88% examples, 726636 words/s, in_qsize 5, out_qsize 0\n",
      "2023-03-13 18:35:40,568 : INFO : EPOCH 3: training on 8934662 raw words (6720639 effective words) took 9.2s, 727287 effective words/s\n",
      "2023-03-13 18:35:41,591 : INFO : EPOCH 4 - PROGRESS: at 9.31% examples, 610548 words/s, in_qsize 5, out_qsize 0\n",
      "2023-03-13 18:35:42,592 : INFO : EPOCH 4 - PROGRESS: at 17.99% examples, 603526 words/s, in_qsize 5, out_qsize 0\n",
      "2023-03-13 18:35:43,610 : INFO : EPOCH 4 - PROGRESS: at 25.86% examples, 574284 words/s, in_qsize 5, out_qsize 0\n",
      "2023-03-13 18:35:44,630 : INFO : EPOCH 4 - PROGRESS: at 33.36% examples, 553606 words/s, in_qsize 5, out_qsize 0\n",
      "2023-03-13 18:35:45,637 : INFO : EPOCH 4 - PROGRESS: at 40.23% examples, 535623 words/s, in_qsize 5, out_qsize 0\n",
      "2023-03-13 18:35:46,644 : INFO : EPOCH 4 - PROGRESS: at 49.41% examples, 550116 words/s, in_qsize 5, out_qsize 0\n",
      "2023-03-13 18:35:47,648 : INFO : EPOCH 4 - PROGRESS: at 59.72% examples, 570014 words/s, in_qsize 5, out_qsize 0\n",
      "2023-03-13 18:35:48,655 : INFO : EPOCH 4 - PROGRESS: at 68.86% examples, 574748 words/s, in_qsize 6, out_qsize 0\n",
      "2023-03-13 18:35:49,672 : INFO : EPOCH 4 - PROGRESS: at 78.48% examples, 580063 words/s, in_qsize 6, out_qsize 0\n",
      "2023-03-13 18:35:50,693 : INFO : EPOCH 4 - PROGRESS: at 88.44% examples, 587272 words/s, in_qsize 6, out_qsize 0\n",
      "2023-03-13 18:35:51,711 : INFO : EPOCH 4 - PROGRESS: at 98.77% examples, 595970 words/s, in_qsize 5, out_qsize 0\n"
     ]
    },
    {
     "name": "stderr",
     "output_type": "stream",
     "text": [
      "2023-03-13 18:35:51,832 : INFO : EPOCH 4: training on 8934662 raw words (6720570 effective words) took 11.3s, 596881 effective words/s\n",
      "2023-03-13 18:35:51,833 : INFO : Word2Vec lifecycle event {'msg': 'training on 44673310 raw words (33600499 effective words) took 46.3s, 725508 effective words/s', 'datetime': '2023-03-13T18:35:51.833199', 'gensim': '4.3.1', 'python': '3.10.7 (tags/v3.10.7:6cc6b13, Sep  5 2022, 14:08:36) [MSC v.1933 64 bit (AMD64)]', 'platform': 'Windows-10-10.0.22621-SP0', 'event': 'train'}\n",
      "2023-03-13 18:35:51,834 : INFO : Word2Vec lifecycle event {'params': 'Word2Vec<vocab=35633, vector_size=25, alpha=0.025>', 'datetime': '2023-03-13T18:35:51.834784', 'gensim': '4.3.1', 'python': '3.10.7 (tags/v3.10.7:6cc6b13, Sep  5 2022, 14:08:36) [MSC v.1933 64 bit (AMD64)]', 'platform': 'Windows-10-10.0.22621-SP0', 'event': 'created'}\n",
      "2023-03-13 18:35:51,835 : WARNING : Effective 'alpha' higher than previous training cycles\n",
      "2023-03-13 18:35:51,836 : INFO : Word2Vec lifecycle event {'msg': 'training model with 3 workers on 35633 vocabulary and 25 features, using sg=1 hs=0 sample=0.001 negative=5 window=5 shrink_windows=True', 'datetime': '2023-03-13T18:35:51.836733', 'gensim': '4.3.1', 'python': '3.10.7 (tags/v3.10.7:6cc6b13, Sep  5 2022, 14:08:36) [MSC v.1933 64 bit (AMD64)]', 'platform': 'Windows-10-10.0.22621-SP0', 'event': 'train'}\n",
      "2023-03-13 18:35:52,841 : INFO : EPOCH 0 - PROGRESS: at 9.84% examples, 658064 words/s, in_qsize 5, out_qsize 0\n",
      "2023-03-13 18:35:53,843 : INFO : EPOCH 0 - PROGRESS: at 19.47% examples, 660227 words/s, in_qsize 5, out_qsize 0\n",
      "2023-03-13 18:35:54,846 : INFO : EPOCH 0 - PROGRESS: at 29.55% examples, 664065 words/s, in_qsize 5, out_qsize 0\n",
      "2023-03-13 18:35:55,861 : INFO : EPOCH 0 - PROGRESS: at 39.48% examples, 661724 words/s, in_qsize 6, out_qsize 0\n",
      "2023-03-13 18:35:56,866 : INFO : EPOCH 0 - PROGRESS: at 48.91% examples, 657300 words/s, in_qsize 5, out_qsize 0\n",
      "2023-03-13 18:35:57,866 : INFO : EPOCH 0 - PROGRESS: at 58.59% examples, 657145 words/s, in_qsize 6, out_qsize 0\n",
      "2023-03-13 18:35:58,877 : INFO : EPOCH 0 - PROGRESS: at 69.19% examples, 663379 words/s, in_qsize 5, out_qsize 0\n",
      "2023-03-13 18:35:59,885 : INFO : EPOCH 0 - PROGRESS: at 80.60% examples, 673523 words/s, in_qsize 6, out_qsize 1\n",
      "2023-03-13 18:36:00,889 : INFO : EPOCH 0 - PROGRESS: at 91.23% examples, 678008 words/s, in_qsize 6, out_qsize 0\n",
      "2023-03-13 18:36:01,655 : INFO : EPOCH 0: training on 8934662 raw words (6719919 effective words) took 9.8s, 684674 effective words/s\n",
      "2023-03-13 18:36:02,663 : INFO : EPOCH 1 - PROGRESS: at 11.34% examples, 765457 words/s, in_qsize 5, out_qsize 0\n",
      "2023-03-13 18:36:03,685 : INFO : EPOCH 1 - PROGRESS: at 23.07% examples, 769694 words/s, in_qsize 6, out_qsize 0\n",
      "2023-03-13 18:36:04,685 : INFO : EPOCH 1 - PROGRESS: at 35.01% examples, 778688 words/s, in_qsize 6, out_qsize 0\n",
      "2023-03-13 18:36:05,696 : INFO : EPOCH 1 - PROGRESS: at 46.59% examples, 779945 words/s, in_qsize 6, out_qsize 0\n",
      "2023-03-13 18:36:06,701 : INFO : EPOCH 1 - PROGRESS: at 58.38% examples, 782487 words/s, in_qsize 6, out_qsize 0\n",
      "2023-03-13 18:36:07,702 : INFO : EPOCH 1 - PROGRESS: at 69.66% examples, 777503 words/s, in_qsize 6, out_qsize 0\n",
      "2023-03-13 18:36:08,706 : INFO : EPOCH 1 - PROGRESS: at 81.14% examples, 774223 words/s, in_qsize 5, out_qsize 0\n",
      "2023-03-13 18:36:09,714 : INFO : EPOCH 1 - PROGRESS: at 92.92% examples, 775552 words/s, in_qsize 6, out_qsize 0\n",
      "2023-03-13 18:36:10,315 : INFO : EPOCH 1: training on 8934662 raw words (6721544 effective words) took 8.7s, 776451 effective words/s\n",
      "2023-03-13 18:36:11,325 : INFO : EPOCH 2 - PROGRESS: at 11.57% examples, 778014 words/s, in_qsize 6, out_qsize 0\n",
      "2023-03-13 18:36:12,327 : INFO : EPOCH 2 - PROGRESS: at 22.97% examples, 772597 words/s, in_qsize 6, out_qsize 0\n",
      "2023-03-13 18:36:13,329 : INFO : EPOCH 2 - PROGRESS: at 34.33% examples, 768095 words/s, in_qsize 5, out_qsize 0\n",
      "2023-03-13 18:36:14,342 : INFO : EPOCH 2 - PROGRESS: at 45.90% examples, 769575 words/s, in_qsize 6, out_qsize 0\n",
      "2023-03-13 18:36:15,349 : INFO : EPOCH 2 - PROGRESS: at 57.35% examples, 771120 words/s, in_qsize 5, out_qsize 0\n",
      "2023-03-13 18:36:16,362 : INFO : EPOCH 2 - PROGRESS: at 69.08% examples, 771147 words/s, in_qsize 5, out_qsize 0\n",
      "2023-03-13 18:36:17,367 : INFO : EPOCH 2 - PROGRESS: at 81.25% examples, 775057 words/s, in_qsize 6, out_qsize 0\n",
      "2023-03-13 18:36:18,385 : INFO : EPOCH 2 - PROGRESS: at 92.90% examples, 774363 words/s, in_qsize 5, out_qsize 0\n",
      "2023-03-13 18:36:18,968 : INFO : EPOCH 2: training on 8934662 raw words (6720974 effective words) took 8.6s, 776996 effective words/s\n",
      "2023-03-13 18:36:19,971 : INFO : EPOCH 3 - PROGRESS: at 11.35% examples, 767905 words/s, in_qsize 5, out_qsize 0\n",
      "2023-03-13 18:36:20,978 : INFO : EPOCH 3 - PROGRESS: at 22.64% examples, 762085 words/s, in_qsize 5, out_qsize 0\n",
      "2023-03-13 18:36:21,992 : INFO : EPOCH 3 - PROGRESS: at 34.36% examples, 765216 words/s, in_qsize 5, out_qsize 0\n",
      "2023-03-13 18:36:23,006 : INFO : EPOCH 3 - PROGRESS: at 46.40% examples, 776458 words/s, in_qsize 5, out_qsize 0\n",
      "2023-03-13 18:36:24,006 : INFO : EPOCH 3 - PROGRESS: at 57.92% examples, 777549 words/s, in_qsize 5, out_qsize 0\n",
      "2023-03-13 18:36:25,015 : INFO : EPOCH 3 - PROGRESS: at 69.66% examples, 777105 words/s, in_qsize 6, out_qsize 0\n",
      "2023-03-13 18:36:26,020 : INFO : EPOCH 3 - PROGRESS: at 81.48% examples, 777068 words/s, in_qsize 6, out_qsize 0\n",
      "2023-03-13 18:36:27,032 : INFO : EPOCH 3 - PROGRESS: at 93.49% examples, 779480 words/s, in_qsize 5, out_qsize 0\n",
      "2023-03-13 18:36:27,580 : INFO : EPOCH 3: training on 8934662 raw words (6719628 effective words) took 8.6s, 780611 effective words/s\n",
      "2023-03-13 18:36:28,591 : INFO : EPOCH 4 - PROGRESS: at 11.35% examples, 762180 words/s, in_qsize 6, out_qsize 0\n",
      "2023-03-13 18:36:29,610 : INFO : EPOCH 4 - PROGRESS: at 23.17% examples, 773019 words/s, in_qsize 5, out_qsize 0\n",
      "2023-03-13 18:36:30,612 : INFO : EPOCH 4 - PROGRESS: at 35.01% examples, 778059 words/s, in_qsize 5, out_qsize 0\n",
      "2023-03-13 18:36:31,614 : INFO : EPOCH 4 - PROGRESS: at 46.49% examples, 779126 words/s, in_qsize 6, out_qsize 0\n",
      "2023-03-13 18:36:32,619 : INFO : EPOCH 4 - PROGRESS: at 58.03% examples, 778914 words/s, in_qsize 5, out_qsize 0\n",
      "2023-03-13 18:36:33,624 : INFO : EPOCH 4 - PROGRESS: at 69.78% examples, 778769 words/s, in_qsize 5, out_qsize 0\n",
      "2023-03-13 18:36:34,632 : INFO : EPOCH 4 - PROGRESS: at 81.38% examples, 776058 words/s, in_qsize 5, out_qsize 0\n",
      "2023-03-13 18:36:35,634 : INFO : EPOCH 4 - PROGRESS: at 92.65% examples, 773988 words/s, in_qsize 5, out_qsize 0\n",
      "2023-03-13 18:36:36,281 : INFO : EPOCH 4: training on 8934662 raw words (6720557 effective words) took 8.7s, 772646 effective words/s\n",
      "2023-03-13 18:36:36,282 : INFO : Word2Vec lifecycle event {'msg': 'training on 44673310 raw words (33602622 effective words) took 44.4s, 756055 effective words/s', 'datetime': '2023-03-13T18:36:36.282185', 'gensim': '4.3.1', 'python': '3.10.7 (tags/v3.10.7:6cc6b13, Sep  5 2022, 14:08:36) [MSC v.1933 64 bit (AMD64)]', 'platform': 'Windows-10-10.0.22621-SP0', 'event': 'train'}\n",
      "2023-03-13 18:36:45,979 : INFO : collecting all words and their counts\n",
      "2023-03-13 18:36:45,979 : INFO : PROGRESS: at sentence #0, processed 0 words, keeping 0 word types\n"
     ]
    },
    {
     "name": "stdout",
     "output_type": "stream",
     "text": [
      "0.830925\n",
      "0.8281\n",
      "loop running for ith value:50\n"
     ]
    },
    {
     "name": "stderr",
     "output_type": "stream",
     "text": [
      "2023-03-13 18:36:46,185 : INFO : PROGRESS: at sentence #10000, processed 2247945 words, keeping 51708 word types\n",
      "2023-03-13 18:36:46,408 : INFO : PROGRESS: at sentence #20000, processed 4491090 words, keeping 68759 word types\n",
      "2023-03-13 18:36:46,621 : INFO : PROGRESS: at sentence #30000, processed 6711920 words, keeping 81013 word types\n",
      "2023-03-13 18:36:46,850 : INFO : collected 90876 word types from a corpus of 8934662 raw words and 40000 sentences\n",
      "2023-03-13 18:36:46,850 : INFO : Creating a fresh vocabulary\n",
      "2023-03-13 18:36:46,928 : INFO : Word2Vec lifecycle event {'msg': 'effective_min_count=5 retains 35633 unique words (39.21% of original 90876, drops 55243)', 'datetime': '2023-03-13T18:36:46.928314', 'gensim': '4.3.1', 'python': '3.10.7 (tags/v3.10.7:6cc6b13, Sep  5 2022, 14:08:36) [MSC v.1933 64 bit (AMD64)]', 'platform': 'Windows-10-10.0.22621-SP0', 'event': 'prepare_vocab'}\n",
      "2023-03-13 18:36:46,929 : INFO : Word2Vec lifecycle event {'msg': 'effective_min_count=5 leaves 8843902 word corpus (98.98% of original 8934662, drops 90760)', 'datetime': '2023-03-13T18:36:46.929332', 'gensim': '4.3.1', 'python': '3.10.7 (tags/v3.10.7:6cc6b13, Sep  5 2022, 14:08:36) [MSC v.1933 64 bit (AMD64)]', 'platform': 'Windows-10-10.0.22621-SP0', 'event': 'prepare_vocab'}\n",
      "2023-03-13 18:36:47,024 : INFO : deleting the raw counts dictionary of 90876 items\n",
      "2023-03-13 18:36:47,027 : INFO : sample=0.001 downsamples 46 most-common words\n",
      "2023-03-13 18:36:47,028 : INFO : Word2Vec lifecycle event {'msg': 'downsampling leaves estimated 6720855.767776955 word corpus (76.0%% of prior 8843902)', 'datetime': '2023-03-13T18:36:47.028892', 'gensim': '4.3.1', 'python': '3.10.7 (tags/v3.10.7:6cc6b13, Sep  5 2022, 14:08:36) [MSC v.1933 64 bit (AMD64)]', 'platform': 'Windows-10-10.0.22621-SP0', 'event': 'prepare_vocab'}\n",
      "2023-03-13 18:36:47,174 : INFO : estimated required memory for 35633 words and 50 dimensions: 32069700 bytes\n",
      "2023-03-13 18:36:47,174 : INFO : resetting layer weights\n",
      "2023-03-13 18:36:47,179 : INFO : Word2Vec lifecycle event {'update': False, 'trim_rule': 'None', 'datetime': '2023-03-13T18:36:47.179893', 'gensim': '4.3.1', 'python': '3.10.7 (tags/v3.10.7:6cc6b13, Sep  5 2022, 14:08:36) [MSC v.1933 64 bit (AMD64)]', 'platform': 'Windows-10-10.0.22621-SP0', 'event': 'build_vocab'}\n",
      "2023-03-13 18:36:47,181 : INFO : Word2Vec lifecycle event {'msg': 'training model with 3 workers on 35633 vocabulary and 50 features, using sg=1 hs=0 sample=0.001 negative=5 window=5 shrink_windows=True', 'datetime': '2023-03-13T18:36:47.181682', 'gensim': '4.3.1', 'python': '3.10.7 (tags/v3.10.7:6cc6b13, Sep  5 2022, 14:08:36) [MSC v.1933 64 bit (AMD64)]', 'platform': 'Windows-10-10.0.22621-SP0', 'event': 'train'}\n",
      "2023-03-13 18:36:48,201 : INFO : EPOCH 0 - PROGRESS: at 10.72% examples, 711563 words/s, in_qsize 5, out_qsize 0\n",
      "2023-03-13 18:36:49,215 : INFO : EPOCH 0 - PROGRESS: at 21.87% examples, 727177 words/s, in_qsize 6, out_qsize 1\n",
      "2023-03-13 18:36:50,221 : INFO : EPOCH 0 - PROGRESS: at 32.08% examples, 710423 words/s, in_qsize 6, out_qsize 0\n",
      "2023-03-13 18:36:51,236 : INFO : EPOCH 0 - PROGRESS: at 42.13% examples, 701626 words/s, in_qsize 5, out_qsize 0\n",
      "2023-03-13 18:36:52,242 : INFO : EPOCH 0 - PROGRESS: at 51.60% examples, 689319 words/s, in_qsize 5, out_qsize 0\n",
      "2023-03-13 18:36:53,244 : INFO : EPOCH 0 - PROGRESS: at 61.85% examples, 688917 words/s, in_qsize 5, out_qsize 0\n",
      "2023-03-13 18:36:54,250 : INFO : EPOCH 0 - PROGRESS: at 71.56% examples, 682388 words/s, in_qsize 5, out_qsize 0\n",
      "2023-03-13 18:36:55,269 : INFO : EPOCH 0 - PROGRESS: at 81.69% examples, 679380 words/s, in_qsize 5, out_qsize 0\n",
      "2023-03-13 18:36:56,270 : INFO : EPOCH 0 - PROGRESS: at 91.23% examples, 675187 words/s, in_qsize 5, out_qsize 0\n",
      "2023-03-13 18:36:57,145 : INFO : EPOCH 0: training on 8934662 raw words (6719899 effective words) took 10.0s, 674551 effective words/s\n",
      "2023-03-13 18:36:58,151 : INFO : EPOCH 1 - PROGRESS: at 9.53% examples, 634744 words/s, in_qsize 5, out_qsize 0\n",
      "2023-03-13 18:36:59,170 : INFO : EPOCH 1 - PROGRESS: at 19.38% examples, 650525 words/s, in_qsize 5, out_qsize 0\n",
      "2023-03-13 18:37:00,179 : INFO : EPOCH 1 - PROGRESS: at 29.66% examples, 660839 words/s, in_qsize 6, out_qsize 0\n",
      "2023-03-13 18:37:01,187 : INFO : EPOCH 1 - PROGRESS: at 39.83% examples, 664546 words/s, in_qsize 5, out_qsize 0\n",
      "2023-03-13 18:37:02,204 : INFO : EPOCH 1 - PROGRESS: at 49.64% examples, 663674 words/s, in_qsize 6, out_qsize 0\n",
      "2023-03-13 18:37:03,218 : INFO : EPOCH 1 - PROGRESS: at 60.07% examples, 668406 words/s, in_qsize 5, out_qsize 0\n",
      "2023-03-13 18:37:04,221 : INFO : EPOCH 1 - PROGRESS: at 69.77% examples, 665348 words/s, in_qsize 5, out_qsize 0\n",
      "2023-03-13 18:37:05,230 : INFO : EPOCH 1 - PROGRESS: at 80.06% examples, 666029 words/s, in_qsize 5, out_qsize 0\n",
      "2023-03-13 18:37:06,232 : INFO : EPOCH 1 - PROGRESS: at 90.09% examples, 666569 words/s, in_qsize 6, out_qsize 0\n",
      "2023-03-13 18:37:07,214 : INFO : EPOCH 1: training on 8934662 raw words (6721248 effective words) took 10.1s, 667750 effective words/s\n",
      "2023-03-13 18:37:08,221 : INFO : EPOCH 2 - PROGRESS: at 9.84% examples, 656545 words/s, in_qsize 5, out_qsize 0\n",
      "2023-03-13 18:37:09,226 : INFO : EPOCH 2 - PROGRESS: at 19.81% examples, 669695 words/s, in_qsize 6, out_qsize 0\n",
      "2023-03-13 18:37:10,235 : INFO : EPOCH 2 - PROGRESS: at 29.66% examples, 664132 words/s, in_qsize 6, out_qsize 0\n",
      "2023-03-13 18:37:11,240 : INFO : EPOCH 2 - PROGRESS: at 40.03% examples, 670951 words/s, in_qsize 5, out_qsize 0\n",
      "2023-03-13 18:37:12,254 : INFO : EPOCH 2 - PROGRESS: at 49.86% examples, 669304 words/s, in_qsize 6, out_qsize 0\n",
      "2023-03-13 18:37:13,273 : INFO : EPOCH 2 - PROGRESS: at 60.05% examples, 670105 words/s, in_qsize 5, out_qsize 0\n",
      "2023-03-13 18:37:14,274 : INFO : EPOCH 2 - PROGRESS: at 70.14% examples, 669965 words/s, in_qsize 5, out_qsize 0\n",
      "2023-03-13 18:37:15,274 : INFO : EPOCH 2 - PROGRESS: at 80.46% examples, 671803 words/s, in_qsize 5, out_qsize 0\n",
      "2023-03-13 18:37:16,275 : INFO : EPOCH 2 - PROGRESS: at 90.39% examples, 670966 words/s, in_qsize 6, out_qsize 0\n",
      "2023-03-13 18:37:17,231 : INFO : EPOCH 2: training on 8934662 raw words (6721227 effective words) took 10.0s, 671263 effective words/s\n",
      "2023-03-13 18:37:18,249 : INFO : EPOCH 3 - PROGRESS: at 10.06% examples, 662842 words/s, in_qsize 6, out_qsize 0\n",
      "2023-03-13 18:37:19,256 : INFO : EPOCH 3 - PROGRESS: at 20.04% examples, 672148 words/s, in_qsize 5, out_qsize 0\n",
      "2023-03-13 18:37:20,261 : INFO : EPOCH 3 - PROGRESS: at 30.21% examples, 673488 words/s, in_qsize 6, out_qsize 0\n",
      "2023-03-13 18:37:21,272 : INFO : EPOCH 3 - PROGRESS: at 40.55% examples, 676982 words/s, in_qsize 6, out_qsize 0\n",
      "2023-03-13 18:37:22,277 : INFO : EPOCH 3 - PROGRESS: at 50.30% examples, 673782 words/s, in_qsize 5, out_qsize 0\n",
      "2023-03-13 18:37:23,281 : INFO : EPOCH 3 - PROGRESS: at 60.37% examples, 674333 words/s, in_qsize 5, out_qsize 0\n",
      "2023-03-13 18:37:24,284 : INFO : EPOCH 3 - PROGRESS: at 70.44% examples, 673353 words/s, in_qsize 6, out_qsize 0\n",
      "2023-03-13 18:37:25,292 : INFO : EPOCH 3 - PROGRESS: at 80.71% examples, 673163 words/s, in_qsize 5, out_qsize 0\n",
      "2023-03-13 18:37:26,303 : INFO : EPOCH 3 - PROGRESS: at 90.72% examples, 672336 words/s, in_qsize 5, out_qsize 0\n",
      "2023-03-13 18:37:27,203 : INFO : EPOCH 3: training on 8934662 raw words (6719291 effective words) took 10.0s, 674043 effective words/s\n",
      "2023-03-13 18:37:28,208 : INFO : EPOCH 4 - PROGRESS: at 9.95% examples, 663716 words/s, in_qsize 5, out_qsize 0\n",
      "2023-03-13 18:37:29,211 : INFO : EPOCH 4 - PROGRESS: at 19.81% examples, 670135 words/s, in_qsize 6, out_qsize 0\n",
      "2023-03-13 18:37:30,221 : INFO : EPOCH 4 - PROGRESS: at 29.98% examples, 671064 words/s, in_qsize 6, out_qsize 0\n",
      "2023-03-13 18:37:31,222 : INFO : EPOCH 4 - PROGRESS: at 40.13% examples, 673313 words/s, in_qsize 6, out_qsize 0\n",
      "2023-03-13 18:37:32,237 : INFO : EPOCH 4 - PROGRESS: at 49.98% examples, 670746 words/s, in_qsize 6, out_qsize 0\n",
      "2023-03-13 18:37:33,247 : INFO : EPOCH 4 - PROGRESS: at 60.07% examples, 671233 words/s, in_qsize 6, out_qsize 0\n",
      "2023-03-13 18:37:34,254 : INFO : EPOCH 4 - PROGRESS: at 70.02% examples, 669429 words/s, in_qsize 6, out_qsize 0\n",
      "2023-03-13 18:37:35,264 : INFO : EPOCH 4 - PROGRESS: at 80.18% examples, 668705 words/s, in_qsize 6, out_qsize 0\n"
     ]
    },
    {
     "name": "stderr",
     "output_type": "stream",
     "text": [
      "2023-03-13 18:37:36,278 : INFO : EPOCH 4 - PROGRESS: at 90.08% examples, 667263 words/s, in_qsize 5, out_qsize 0\n",
      "2023-03-13 18:37:37,247 : INFO : EPOCH 4: training on 8934662 raw words (6719497 effective words) took 10.0s, 669120 effective words/s\n",
      "2023-03-13 18:37:37,249 : INFO : Word2Vec lifecycle event {'msg': 'training on 44673310 raw words (33601162 effective words) took 50.1s, 671120 effective words/s', 'datetime': '2023-03-13T18:37:37.249440', 'gensim': '4.3.1', 'python': '3.10.7 (tags/v3.10.7:6cc6b13, Sep  5 2022, 14:08:36) [MSC v.1933 64 bit (AMD64)]', 'platform': 'Windows-10-10.0.22621-SP0', 'event': 'train'}\n",
      "2023-03-13 18:37:37,249 : INFO : Word2Vec lifecycle event {'params': 'Word2Vec<vocab=35633, vector_size=50, alpha=0.025>', 'datetime': '2023-03-13T18:37:37.249440', 'gensim': '4.3.1', 'python': '3.10.7 (tags/v3.10.7:6cc6b13, Sep  5 2022, 14:08:36) [MSC v.1933 64 bit (AMD64)]', 'platform': 'Windows-10-10.0.22621-SP0', 'event': 'created'}\n",
      "2023-03-13 18:37:37,250 : WARNING : Effective 'alpha' higher than previous training cycles\n",
      "2023-03-13 18:37:37,251 : INFO : Word2Vec lifecycle event {'msg': 'training model with 3 workers on 35633 vocabulary and 50 features, using sg=1 hs=0 sample=0.001 negative=5 window=5 shrink_windows=True', 'datetime': '2023-03-13T18:37:37.251506', 'gensim': '4.3.1', 'python': '3.10.7 (tags/v3.10.7:6cc6b13, Sep  5 2022, 14:08:36) [MSC v.1933 64 bit (AMD64)]', 'platform': 'Windows-10-10.0.22621-SP0', 'event': 'train'}\n",
      "2023-03-13 18:37:38,262 : INFO : EPOCH 0 - PROGRESS: at 9.85% examples, 652476 words/s, in_qsize 5, out_qsize 0\n",
      "2023-03-13 18:37:39,264 : INFO : EPOCH 0 - PROGRESS: at 19.70% examples, 665210 words/s, in_qsize 6, out_qsize 0\n",
      "2023-03-13 18:37:40,290 : INFO : EPOCH 0 - PROGRESS: at 29.77% examples, 661822 words/s, in_qsize 5, out_qsize 2\n",
      "2023-03-13 18:37:41,304 : INFO : EPOCH 0 - PROGRESS: at 40.13% examples, 667797 words/s, in_qsize 6, out_qsize 0\n",
      "2023-03-13 18:37:42,306 : INFO : EPOCH 0 - PROGRESS: at 49.98% examples, 668457 words/s, in_qsize 5, out_qsize 0\n",
      "2023-03-13 18:37:43,307 : INFO : EPOCH 0 - PROGRESS: at 59.97% examples, 668890 words/s, in_qsize 4, out_qsize 1\n",
      "2023-03-13 18:37:44,322 : INFO : EPOCH 0 - PROGRESS: at 70.02% examples, 667736 words/s, in_qsize 6, out_qsize 0\n",
      "2023-03-13 18:37:45,334 : INFO : EPOCH 0 - PROGRESS: at 80.27% examples, 667848 words/s, in_qsize 6, out_qsize 0\n",
      "2023-03-13 18:37:46,338 : INFO : EPOCH 0 - PROGRESS: at 90.28% examples, 668048 words/s, in_qsize 6, out_qsize 0\n",
      "2023-03-13 18:37:47,299 : INFO : EPOCH 0: training on 8934662 raw words (6720622 effective words) took 10.0s, 668997 effective words/s\n",
      "2023-03-13 18:37:48,311 : INFO : EPOCH 1 - PROGRESS: at 9.73% examples, 645141 words/s, in_qsize 5, out_qsize 0\n",
      "2023-03-13 18:37:49,312 : INFO : EPOCH 1 - PROGRESS: at 19.47% examples, 657476 words/s, in_qsize 5, out_qsize 0\n",
      "2023-03-13 18:37:50,315 : INFO : EPOCH 1 - PROGRESS: at 29.44% examples, 659793 words/s, in_qsize 6, out_qsize 0\n",
      "2023-03-13 18:37:51,328 : INFO : EPOCH 1 - PROGRESS: at 39.71% examples, 664714 words/s, in_qsize 6, out_qsize 0\n",
      "2023-03-13 18:37:52,348 : INFO : EPOCH 1 - PROGRESS: at 49.64% examples, 664903 words/s, in_qsize 6, out_qsize 1\n",
      "2023-03-13 18:37:53,362 : INFO : EPOCH 1 - PROGRESS: at 59.95% examples, 668155 words/s, in_qsize 5, out_qsize 0\n",
      "2023-03-13 18:37:54,364 : INFO : EPOCH 1 - PROGRESS: at 70.02% examples, 668453 words/s, in_qsize 6, out_qsize 0\n",
      "2023-03-13 18:37:55,371 : INFO : EPOCH 1 - PROGRESS: at 80.46% examples, 670746 words/s, in_qsize 5, out_qsize 0\n",
      "2023-03-13 18:37:56,377 : INFO : EPOCH 1 - PROGRESS: at 90.52% examples, 670495 words/s, in_qsize 6, out_qsize 0\n",
      "2023-03-13 18:37:57,313 : INFO : EPOCH 1: training on 8934662 raw words (6721516 effective words) took 10.0s, 671422 effective words/s\n",
      "2023-03-13 18:37:58,325 : INFO : EPOCH 2 - PROGRESS: at 9.53% examples, 631109 words/s, in_qsize 5, out_qsize 0\n",
      "2023-03-13 18:37:59,334 : INFO : EPOCH 2 - PROGRESS: at 18.52% examples, 622808 words/s, in_qsize 6, out_qsize 0\n",
      "2023-03-13 18:38:00,350 : INFO : EPOCH 2 - PROGRESS: at 28.20% examples, 626451 words/s, in_qsize 5, out_qsize 0\n",
      "2023-03-13 18:38:01,359 : INFO : EPOCH 2 - PROGRESS: at 38.02% examples, 634538 words/s, in_qsize 5, out_qsize 0\n",
      "2023-03-13 18:38:02,361 : INFO : EPOCH 2 - PROGRESS: at 47.62% examples, 638675 words/s, in_qsize 6, out_qsize 0\n",
      "2023-03-13 18:38:03,366 : INFO : EPOCH 2 - PROGRESS: at 57.58% examples, 643792 words/s, in_qsize 5, out_qsize 0\n",
      "2023-03-13 18:38:04,371 : INFO : EPOCH 2 - PROGRESS: at 67.27% examples, 643010 words/s, in_qsize 5, out_qsize 0\n",
      "2023-03-13 18:38:05,389 : INFO : EPOCH 2 - PROGRESS: at 76.83% examples, 640356 words/s, in_qsize 6, out_qsize 0\n",
      "2023-03-13 18:38:06,399 : INFO : EPOCH 2 - PROGRESS: at 86.24% examples, 638248 words/s, in_qsize 6, out_qsize 0\n",
      "2023-03-13 18:38:07,401 : INFO : EPOCH 2 - PROGRESS: at 95.90% examples, 639294 words/s, in_qsize 5, out_qsize 0\n",
      "2023-03-13 18:38:07,811 : INFO : EPOCH 2: training on 8934662 raw words (6720332 effective words) took 10.5s, 640452 effective words/s\n",
      "2023-03-13 18:38:08,816 : INFO : EPOCH 3 - PROGRESS: at 9.62% examples, 643196 words/s, in_qsize 5, out_qsize 0\n",
      "2023-03-13 18:38:09,827 : INFO : EPOCH 3 - PROGRESS: at 19.25% examples, 649910 words/s, in_qsize 5, out_qsize 0\n",
      "2023-03-13 18:38:10,838 : INFO : EPOCH 3 - PROGRESS: at 29.47% examples, 657779 words/s, in_qsize 6, out_qsize 0\n",
      "2023-03-13 18:38:11,842 : INFO : EPOCH 3 - PROGRESS: at 39.59% examples, 662651 words/s, in_qsize 5, out_qsize 0\n",
      "2023-03-13 18:38:12,848 : INFO : EPOCH 3 - PROGRESS: at 49.43% examples, 663851 words/s, in_qsize 5, out_qsize 0\n",
      "2023-03-13 18:38:13,857 : INFO : EPOCH 3 - PROGRESS: at 59.48% examples, 665309 words/s, in_qsize 5, out_qsize 0\n",
      "2023-03-13 18:38:14,864 : INFO : EPOCH 3 - PROGRESS: at 69.42% examples, 664400 words/s, in_qsize 5, out_qsize 0\n",
      "2023-03-13 18:38:15,871 : INFO : EPOCH 3 - PROGRESS: at 79.65% examples, 664590 words/s, in_qsize 6, out_qsize 0\n",
      "2023-03-13 18:38:16,892 : INFO : EPOCH 3 - PROGRESS: at 89.78% examples, 664605 words/s, in_qsize 6, out_qsize 0\n",
      "2023-03-13 18:38:17,898 : INFO : EPOCH 3 - PROGRESS: at 99.90% examples, 665956 words/s, in_qsize 1, out_qsize 1\n",
      "2023-03-13 18:38:17,905 : INFO : EPOCH 3: training on 8934662 raw words (6721430 effective words) took 10.1s, 666172 effective words/s\n",
      "2023-03-13 18:38:18,909 : INFO : EPOCH 4 - PROGRESS: at 10.06% examples, 673296 words/s, in_qsize 6, out_qsize 0\n",
      "2023-03-13 18:38:19,921 : INFO : EPOCH 4 - PROGRESS: at 20.05% examples, 675956 words/s, in_qsize 5, out_qsize 0\n",
      "2023-03-13 18:38:20,923 : INFO : EPOCH 4 - PROGRESS: at 30.11% examples, 674584 words/s, in_qsize 5, out_qsize 0\n",
      "2023-03-13 18:38:21,934 : INFO : EPOCH 4 - PROGRESS: at 40.13% examples, 672150 words/s, in_qsize 6, out_qsize 0\n",
      "2023-03-13 18:38:22,943 : INFO : EPOCH 4 - PROGRESS: at 49.87% examples, 669370 words/s, in_qsize 5, out_qsize 0\n",
      "2023-03-13 18:38:23,952 : INFO : EPOCH 4 - PROGRESS: at 59.72% examples, 667681 words/s, in_qsize 5, out_qsize 0\n",
      "2023-03-13 18:38:24,966 : INFO : EPOCH 4 - PROGRESS: at 70.02% examples, 668821 words/s, in_qsize 5, out_qsize 0\n",
      "2023-03-13 18:38:25,975 : INFO : EPOCH 4 - PROGRESS: at 79.75% examples, 664490 words/s, in_qsize 5, out_qsize 0\n",
      "2023-03-13 18:38:26,987 : INFO : EPOCH 4 - PROGRESS: at 89.25% examples, 660457 words/s, in_qsize 6, out_qsize 0\n",
      "2023-03-13 18:38:27,994 : INFO : EPOCH 4 - PROGRESS: at 98.91% examples, 658985 words/s, in_qsize 5, out_qsize 0\n",
      "2023-03-13 18:38:28,099 : INFO : EPOCH 4: training on 8934662 raw words (6721681 effective words) took 10.2s, 659567 effective words/s\n",
      "2023-03-13 18:38:28,100 : INFO : Word2Vec lifecycle event {'msg': 'training on 44673310 raw words (33605581 effective words) took 50.8s, 660894 effective words/s', 'datetime': '2023-03-13T18:38:28.100715', 'gensim': '4.3.1', 'python': '3.10.7 (tags/v3.10.7:6cc6b13, Sep  5 2022, 14:08:36) [MSC v.1933 64 bit (AMD64)]', 'platform': 'Windows-10-10.0.22621-SP0', 'event': 'train'}\n",
      "2023-03-13 18:38:37,903 : INFO : collecting all words and their counts\n",
      "2023-03-13 18:38:37,904 : INFO : PROGRESS: at sentence #0, processed 0 words, keeping 0 word types\n"
     ]
    },
    {
     "name": "stdout",
     "output_type": "stream",
     "text": [
      "0.86205\n",
      "0.857\n",
      "loop running for ith value:100\n"
     ]
    },
    {
     "name": "stderr",
     "output_type": "stream",
     "text": [
      "2023-03-13 18:38:38,124 : INFO : PROGRESS: at sentence #10000, processed 2247945 words, keeping 51708 word types\n",
      "2023-03-13 18:38:38,333 : INFO : PROGRESS: at sentence #20000, processed 4491090 words, keeping 68759 word types\n",
      "2023-03-13 18:38:38,559 : INFO : PROGRESS: at sentence #30000, processed 6711920 words, keeping 81013 word types\n",
      "2023-03-13 18:38:38,782 : INFO : collected 90876 word types from a corpus of 8934662 raw words and 40000 sentences\n",
      "2023-03-13 18:38:38,783 : INFO : Creating a fresh vocabulary\n",
      "2023-03-13 18:38:38,860 : INFO : Word2Vec lifecycle event {'msg': 'effective_min_count=5 retains 35633 unique words (39.21% of original 90876, drops 55243)', 'datetime': '2023-03-13T18:38:38.860610', 'gensim': '4.3.1', 'python': '3.10.7 (tags/v3.10.7:6cc6b13, Sep  5 2022, 14:08:36) [MSC v.1933 64 bit (AMD64)]', 'platform': 'Windows-10-10.0.22621-SP0', 'event': 'prepare_vocab'}\n",
      "2023-03-13 18:38:38,861 : INFO : Word2Vec lifecycle event {'msg': 'effective_min_count=5 leaves 8843902 word corpus (98.98% of original 8934662, drops 90760)', 'datetime': '2023-03-13T18:38:38.861613', 'gensim': '4.3.1', 'python': '3.10.7 (tags/v3.10.7:6cc6b13, Sep  5 2022, 14:08:36) [MSC v.1933 64 bit (AMD64)]', 'platform': 'Windows-10-10.0.22621-SP0', 'event': 'prepare_vocab'}\n",
      "2023-03-13 18:38:38,957 : INFO : deleting the raw counts dictionary of 90876 items\n",
      "2023-03-13 18:38:38,959 : INFO : sample=0.001 downsamples 46 most-common words\n",
      "2023-03-13 18:38:38,960 : INFO : Word2Vec lifecycle event {'msg': 'downsampling leaves estimated 6720855.767776955 word corpus (76.0%% of prior 8843902)', 'datetime': '2023-03-13T18:38:38.960526', 'gensim': '4.3.1', 'python': '3.10.7 (tags/v3.10.7:6cc6b13, Sep  5 2022, 14:08:36) [MSC v.1933 64 bit (AMD64)]', 'platform': 'Windows-10-10.0.22621-SP0', 'event': 'prepare_vocab'}\n",
      "2023-03-13 18:38:39,105 : INFO : estimated required memory for 35633 words and 100 dimensions: 46322900 bytes\n",
      "2023-03-13 18:38:39,106 : INFO : resetting layer weights\n",
      "2023-03-13 18:38:39,118 : INFO : Word2Vec lifecycle event {'update': False, 'trim_rule': 'None', 'datetime': '2023-03-13T18:38:39.118251', 'gensim': '4.3.1', 'python': '3.10.7 (tags/v3.10.7:6cc6b13, Sep  5 2022, 14:08:36) [MSC v.1933 64 bit (AMD64)]', 'platform': 'Windows-10-10.0.22621-SP0', 'event': 'build_vocab'}\n",
      "2023-03-13 18:38:39,119 : INFO : Word2Vec lifecycle event {'msg': 'training model with 3 workers on 35633 vocabulary and 100 features, using sg=1 hs=0 sample=0.001 negative=5 window=5 shrink_windows=True', 'datetime': '2023-03-13T18:38:39.119279', 'gensim': '4.3.1', 'python': '3.10.7 (tags/v3.10.7:6cc6b13, Sep  5 2022, 14:08:36) [MSC v.1933 64 bit (AMD64)]', 'platform': 'Windows-10-10.0.22621-SP0', 'event': 'train'}\n",
      "2023-03-13 18:38:40,140 : INFO : EPOCH 0 - PROGRESS: at 8.66% examples, 569525 words/s, in_qsize 6, out_qsize 0\n",
      "2023-03-13 18:38:41,140 : INFO : EPOCH 0 - PROGRESS: at 16.23% examples, 546484 words/s, in_qsize 5, out_qsize 2\n",
      "2023-03-13 18:38:42,156 : INFO : EPOCH 0 - PROGRESS: at 24.03% examples, 536655 words/s, in_qsize 5, out_qsize 0\n",
      "2023-03-13 18:38:43,164 : INFO : EPOCH 0 - PROGRESS: at 31.84% examples, 530706 words/s, in_qsize 5, out_qsize 0\n",
      "2023-03-13 18:38:44,195 : INFO : EPOCH 0 - PROGRESS: at 39.48% examples, 524918 words/s, in_qsize 3, out_qsize 2\n",
      "2023-03-13 18:38:45,219 : INFO : EPOCH 0 - PROGRESS: at 47.20% examples, 523878 words/s, in_qsize 5, out_qsize 0\n",
      "2023-03-13 18:38:46,239 : INFO : EPOCH 0 - PROGRESS: at 52.62% examples, 500640 words/s, in_qsize 5, out_qsize 0\n",
      "2023-03-13 18:38:47,243 : INFO : EPOCH 0 - PROGRESS: at 58.38% examples, 485965 words/s, in_qsize 5, out_qsize 0\n",
      "2023-03-13 18:38:48,253 : INFO : EPOCH 0 - PROGRESS: at 65.28% examples, 482379 words/s, in_qsize 5, out_qsize 0\n",
      "2023-03-13 18:38:49,259 : INFO : EPOCH 0 - PROGRESS: at 72.16% examples, 479486 words/s, in_qsize 6, out_qsize 0\n",
      "2023-03-13 18:38:50,265 : INFO : EPOCH 0 - PROGRESS: at 78.48% examples, 473887 words/s, in_qsize 6, out_qsize 0\n",
      "2023-03-13 18:38:51,284 : INFO : EPOCH 0 - PROGRESS: at 84.70% examples, 468192 words/s, in_qsize 5, out_qsize 0\n",
      "2023-03-13 18:38:52,285 : INFO : EPOCH 0 - PROGRESS: at 91.45% examples, 467378 words/s, in_qsize 6, out_qsize 0\n",
      "2023-03-13 18:38:53,291 : INFO : EPOCH 0 - PROGRESS: at 98.46% examples, 467099 words/s, in_qsize 6, out_qsize 0\n",
      "2023-03-13 18:38:53,503 : INFO : EPOCH 0: training on 8934662 raw words (6719330 effective words) took 14.4s, 467432 effective words/s\n",
      "2023-03-13 18:38:54,509 : INFO : EPOCH 1 - PROGRESS: at 6.86% examples, 457791 words/s, in_qsize 6, out_qsize 0\n",
      "2023-03-13 18:38:55,541 : INFO : EPOCH 1 - PROGRESS: at 13.90% examples, 464292 words/s, in_qsize 5, out_qsize 0\n",
      "2023-03-13 18:38:56,577 : INFO : EPOCH 1 - PROGRESS: at 20.50% examples, 452566 words/s, in_qsize 6, out_qsize 0\n",
      "2023-03-13 18:38:57,605 : INFO : EPOCH 1 - PROGRESS: at 27.64% examples, 454580 words/s, in_qsize 4, out_qsize 1\n",
      "2023-03-13 18:38:58,612 : INFO : EPOCH 1 - PROGRESS: at 34.91% examples, 460340 words/s, in_qsize 6, out_qsize 0\n",
      "2023-03-13 18:38:59,644 : INFO : EPOCH 1 - PROGRESS: at 42.03% examples, 462351 words/s, in_qsize 5, out_qsize 1\n",
      "2023-03-13 18:39:00,660 : INFO : EPOCH 1 - PROGRESS: at 49.09% examples, 463982 words/s, in_qsize 5, out_qsize 0\n",
      "2023-03-13 18:39:01,668 : INFO : EPOCH 1 - PROGRESS: at 56.12% examples, 465420 words/s, in_qsize 6, out_qsize 0\n",
      "2023-03-13 18:39:02,683 : INFO : EPOCH 1 - PROGRESS: at 62.77% examples, 461531 words/s, in_qsize 5, out_qsize 1\n",
      "2023-03-13 18:39:03,723 : INFO : EPOCH 1 - PROGRESS: at 68.86% examples, 454870 words/s, in_qsize 5, out_qsize 0\n",
      "2023-03-13 18:39:04,734 : INFO : EPOCH 1 - PROGRESS: at 74.91% examples, 449282 words/s, in_qsize 5, out_qsize 0\n",
      "2023-03-13 18:39:05,746 : INFO : EPOCH 1 - PROGRESS: at 82.31% examples, 452478 words/s, in_qsize 5, out_qsize 0\n",
      "2023-03-13 18:39:06,747 : INFO : EPOCH 1 - PROGRESS: at 89.36% examples, 453440 words/s, in_qsize 6, out_qsize 0\n",
      "2023-03-13 18:39:07,756 : INFO : EPOCH 1 - PROGRESS: at 96.77% examples, 456619 words/s, in_qsize 5, out_qsize 0\n",
      "2023-03-13 18:39:08,190 : INFO : EPOCH 1: training on 8934662 raw words (6721762 effective words) took 14.7s, 457769 effective words/s\n",
      "2023-03-13 18:39:09,222 : INFO : EPOCH 2 - PROGRESS: at 6.98% examples, 452758 words/s, in_qsize 5, out_qsize 0\n",
      "2023-03-13 18:39:10,224 : INFO : EPOCH 2 - PROGRESS: at 13.80% examples, 461691 words/s, in_qsize 5, out_qsize 0\n",
      "2023-03-13 18:39:11,226 : INFO : EPOCH 2 - PROGRESS: at 20.96% examples, 467776 words/s, in_qsize 6, out_qsize 0\n",
      "2023-03-13 18:39:12,244 : INFO : EPOCH 2 - PROGRESS: at 27.96% examples, 465287 words/s, in_qsize 5, out_qsize 0\n",
      "2023-03-13 18:39:13,255 : INFO : EPOCH 2 - PROGRESS: at 35.30% examples, 470061 words/s, in_qsize 5, out_qsize 1\n",
      "2023-03-13 18:39:14,268 : INFO : EPOCH 2 - PROGRESS: at 42.37% examples, 470600 words/s, in_qsize 6, out_qsize 0\n",
      "2023-03-13 18:39:15,281 : INFO : EPOCH 2 - PROGRESS: at 49.64% examples, 473354 words/s, in_qsize 6, out_qsize 0\n",
      "2023-03-13 18:39:16,290 : INFO : EPOCH 2 - PROGRESS: at 56.72% examples, 473568 words/s, in_qsize 5, out_qsize 0\n",
      "2023-03-13 18:39:17,293 : INFO : EPOCH 2 - PROGRESS: at 63.09% examples, 467802 words/s, in_qsize 6, out_qsize 0\n",
      "2023-03-13 18:39:18,316 : INFO : EPOCH 2 - PROGRESS: at 69.78% examples, 464798 words/s, in_qsize 6, out_qsize 0\n",
      "2023-03-13 18:39:19,338 : INFO : EPOCH 2 - PROGRESS: at 77.17% examples, 465803 words/s, in_qsize 6, out_qsize 0\n",
      "2023-03-13 18:39:20,342 : INFO : EPOCH 2 - PROGRESS: at 84.36% examples, 466791 words/s, in_qsize 6, out_qsize 0\n",
      "2023-03-13 18:39:21,362 : INFO : EPOCH 2 - PROGRESS: at 91.75% examples, 468766 words/s, in_qsize 5, out_qsize 0\n",
      "2023-03-13 18:39:22,362 : INFO : EPOCH 2 - PROGRESS: at 98.91% examples, 469061 words/s, in_qsize 6, out_qsize 0\n",
      "2023-03-13 18:39:22,504 : INFO : EPOCH 2: training on 8934662 raw words (6721174 effective words) took 14.3s, 469651 effective words/s\n",
      "2023-03-13 18:39:23,509 : INFO : EPOCH 3 - PROGRESS: at 7.20% examples, 479750 words/s, in_qsize 6, out_qsize 0\n",
      "2023-03-13 18:39:24,529 : INFO : EPOCH 3 - PROGRESS: at 14.10% examples, 474474 words/s, in_qsize 6, out_qsize 0\n",
      "2023-03-13 18:39:25,534 : INFO : EPOCH 3 - PROGRESS: at 21.07% examples, 470985 words/s, in_qsize 5, out_qsize 0\n"
     ]
    },
    {
     "name": "stderr",
     "output_type": "stream",
     "text": [
      "2023-03-13 18:39:26,552 : INFO : EPOCH 3 - PROGRESS: at 28.30% examples, 471260 words/s, in_qsize 5, out_qsize 0\n",
      "2023-03-13 18:39:27,571 : INFO : EPOCH 3 - PROGRESS: at 35.92% examples, 477035 words/s, in_qsize 5, out_qsize 0\n",
      "2023-03-13 18:39:28,594 : INFO : EPOCH 3 - PROGRESS: at 43.26% examples, 479292 words/s, in_qsize 6, out_qsize 0\n",
      "2023-03-13 18:39:29,614 : INFO : EPOCH 3 - PROGRESS: at 50.09% examples, 476121 words/s, in_qsize 5, out_qsize 0\n",
      "2023-03-13 18:39:30,647 : INFO : EPOCH 3 - PROGRESS: at 57.58% examples, 478273 words/s, in_qsize 5, out_qsize 0\n",
      "2023-03-13 18:39:31,648 : INFO : EPOCH 3 - PROGRESS: at 65.28% examples, 481615 words/s, in_qsize 5, out_qsize 0\n",
      "2023-03-13 18:39:32,666 : INFO : EPOCH 3 - PROGRESS: at 72.85% examples, 482615 words/s, in_qsize 4, out_qsize 1\n",
      "2023-03-13 18:39:33,667 : INFO : EPOCH 3 - PROGRESS: at 80.71% examples, 486158 words/s, in_qsize 5, out_qsize 0\n",
      "2023-03-13 18:39:34,692 : INFO : EPOCH 3 - PROGRESS: at 88.10% examples, 485866 words/s, in_qsize 6, out_qsize 0\n",
      "2023-03-13 18:39:35,711 : INFO : EPOCH 3 - PROGRESS: at 94.48% examples, 480877 words/s, in_qsize 6, out_qsize 0\n",
      "2023-03-13 18:39:36,432 : INFO : EPOCH 3: training on 8934662 raw words (6720132 effective words) took 13.9s, 482596 effective words/s\n",
      "2023-03-13 18:39:37,439 : INFO : EPOCH 4 - PROGRESS: at 6.73% examples, 449721 words/s, in_qsize 5, out_qsize 0\n",
      "2023-03-13 18:39:38,442 : INFO : EPOCH 4 - PROGRESS: at 13.90% examples, 470927 words/s, in_qsize 6, out_qsize 0\n",
      "2023-03-13 18:39:39,445 : INFO : EPOCH 4 - PROGRESS: at 21.20% examples, 476247 words/s, in_qsize 5, out_qsize 0\n",
      "2023-03-13 18:39:40,453 : INFO : EPOCH 4 - PROGRESS: at 28.40% examples, 476707 words/s, in_qsize 5, out_qsize 0\n",
      "2023-03-13 18:39:41,456 : INFO : EPOCH 4 - PROGRESS: at 35.53% examples, 476993 words/s, in_qsize 6, out_qsize 0\n",
      "2023-03-13 18:39:42,479 : INFO : EPOCH 4 - PROGRESS: at 42.92% examples, 479306 words/s, in_qsize 6, out_qsize 0\n",
      "2023-03-13 18:39:43,479 : INFO : EPOCH 4 - PROGRESS: at 50.09% examples, 480563 words/s, in_qsize 6, out_qsize 0\n",
      "2023-03-13 18:39:44,485 : INFO : EPOCH 4 - PROGRESS: at 56.94% examples, 478318 words/s, in_qsize 5, out_qsize 0\n",
      "2023-03-13 18:39:45,492 : INFO : EPOCH 4 - PROGRESS: at 63.74% examples, 474904 words/s, in_qsize 5, out_qsize 0\n",
      "2023-03-13 18:39:46,510 : INFO : EPOCH 4 - PROGRESS: at 71.20% examples, 476591 words/s, in_qsize 5, out_qsize 0\n",
      "2023-03-13 18:39:47,511 : INFO : EPOCH 4 - PROGRESS: at 78.81% examples, 478737 words/s, in_qsize 5, out_qsize 0\n",
      "2023-03-13 18:39:48,511 : INFO : EPOCH 4 - PROGRESS: at 86.35% examples, 480663 words/s, in_qsize 6, out_qsize 0\n",
      "2023-03-13 18:39:49,521 : INFO : EPOCH 4 - PROGRESS: at 93.62% examples, 480908 words/s, in_qsize 5, out_qsize 0\n",
      "2023-03-13 18:39:50,404 : INFO : EPOCH 4: training on 8934662 raw words (6722229 effective words) took 14.0s, 481239 effective words/s\n",
      "2023-03-13 18:39:50,405 : INFO : Word2Vec lifecycle event {'msg': 'training on 44673310 raw words (33604627 effective words) took 71.3s, 471409 effective words/s', 'datetime': '2023-03-13T18:39:50.405215', 'gensim': '4.3.1', 'python': '3.10.7 (tags/v3.10.7:6cc6b13, Sep  5 2022, 14:08:36) [MSC v.1933 64 bit (AMD64)]', 'platform': 'Windows-10-10.0.22621-SP0', 'event': 'train'}\n",
      "2023-03-13 18:39:50,405 : INFO : Word2Vec lifecycle event {'params': 'Word2Vec<vocab=35633, vector_size=100, alpha=0.025>', 'datetime': '2023-03-13T18:39:50.405215', 'gensim': '4.3.1', 'python': '3.10.7 (tags/v3.10.7:6cc6b13, Sep  5 2022, 14:08:36) [MSC v.1933 64 bit (AMD64)]', 'platform': 'Windows-10-10.0.22621-SP0', 'event': 'created'}\n",
      "2023-03-13 18:39:50,406 : WARNING : Effective 'alpha' higher than previous training cycles\n",
      "2023-03-13 18:39:50,407 : INFO : Word2Vec lifecycle event {'msg': 'training model with 3 workers on 35633 vocabulary and 100 features, using sg=1 hs=0 sample=0.001 negative=5 window=5 shrink_windows=True', 'datetime': '2023-03-13T18:39:50.407232', 'gensim': '4.3.1', 'python': '3.10.7 (tags/v3.10.7:6cc6b13, Sep  5 2022, 14:08:36) [MSC v.1933 64 bit (AMD64)]', 'platform': 'Windows-10-10.0.22621-SP0', 'event': 'train'}\n",
      "2023-03-13 18:39:51,426 : INFO : EPOCH 0 - PROGRESS: at 7.74% examples, 509783 words/s, in_qsize 5, out_qsize 0\n",
      "2023-03-13 18:39:52,428 : INFO : EPOCH 0 - PROGRESS: at 15.22% examples, 512270 words/s, in_qsize 5, out_qsize 0\n",
      "2023-03-13 18:39:53,439 : INFO : EPOCH 0 - PROGRESS: at 23.07% examples, 514694 words/s, in_qsize 6, out_qsize 0\n",
      "2023-03-13 18:39:54,442 : INFO : EPOCH 0 - PROGRESS: at 30.81% examples, 515027 words/s, in_qsize 5, out_qsize 0\n",
      "2023-03-13 18:39:55,452 : INFO : EPOCH 0 - PROGRESS: at 38.58% examples, 515925 words/s, in_qsize 6, out_qsize 0\n",
      "2023-03-13 18:39:56,465 : INFO : EPOCH 0 - PROGRESS: at 46.20% examples, 515051 words/s, in_qsize 6, out_qsize 0\n",
      "2023-03-13 18:39:57,478 : INFO : EPOCH 0 - PROGRESS: at 53.71% examples, 514253 words/s, in_qsize 5, out_qsize 0\n",
      "2023-03-13 18:39:58,490 : INFO : EPOCH 0 - PROGRESS: at 61.52% examples, 513886 words/s, in_qsize 5, out_qsize 0\n",
      "2023-03-13 18:39:59,500 : INFO : EPOCH 0 - PROGRESS: at 69.19% examples, 513407 words/s, in_qsize 5, out_qsize 1\n",
      "2023-03-13 18:40:00,505 : INFO : EPOCH 0 - PROGRESS: at 77.06% examples, 513376 words/s, in_qsize 6, out_qsize 0\n",
      "2023-03-13 18:40:01,531 : INFO : EPOCH 0 - PROGRESS: at 85.03% examples, 513774 words/s, in_qsize 5, out_qsize 0\n",
      "2023-03-13 18:40:02,540 : INFO : EPOCH 0 - PROGRESS: at 92.65% examples, 513707 words/s, in_qsize 5, out_qsize 0\n",
      "2023-03-13 18:40:03,502 : INFO : EPOCH 0: training on 8934662 raw words (6720252 effective words) took 13.1s, 513278 effective words/s\n",
      "2023-03-13 18:40:04,512 : INFO : EPOCH 1 - PROGRESS: at 7.41% examples, 492611 words/s, in_qsize 5, out_qsize 0\n",
      "2023-03-13 18:40:05,529 : INFO : EPOCH 1 - PROGRESS: at 15.00% examples, 503542 words/s, in_qsize 6, out_qsize 0\n",
      "2023-03-13 18:40:06,543 : INFO : EPOCH 1 - PROGRESS: at 22.76% examples, 506081 words/s, in_qsize 5, out_qsize 0\n",
      "2023-03-13 18:40:07,546 : INFO : EPOCH 1 - PROGRESS: at 30.46% examples, 508432 words/s, in_qsize 5, out_qsize 0\n",
      "2023-03-13 18:40:08,571 : INFO : EPOCH 1 - PROGRESS: at 38.26% examples, 509105 words/s, in_qsize 6, out_qsize 0\n",
      "2023-03-13 18:40:09,587 : INFO : EPOCH 1 - PROGRESS: at 45.70% examples, 506725 words/s, in_qsize 6, out_qsize 1\n",
      "2023-03-13 18:40:10,591 : INFO : EPOCH 1 - PROGRESS: at 53.05% examples, 506741 words/s, in_qsize 5, out_qsize 0\n",
      "2023-03-13 18:40:11,604 : INFO : EPOCH 1 - PROGRESS: at 60.48% examples, 504565 words/s, in_qsize 5, out_qsize 0\n",
      "2023-03-13 18:40:12,612 : INFO : EPOCH 1 - PROGRESS: at 68.03% examples, 503685 words/s, in_qsize 5, out_qsize 0\n",
      "2023-03-13 18:40:13,621 : INFO : EPOCH 1 - PROGRESS: at 75.70% examples, 503643 words/s, in_qsize 5, out_qsize 0\n",
      "2023-03-13 18:40:14,631 : INFO : EPOCH 1 - PROGRESS: at 83.21% examples, 502974 words/s, in_qsize 5, out_qsize 0\n",
      "2023-03-13 18:40:15,663 : INFO : EPOCH 1 - PROGRESS: at 90.93% examples, 502863 words/s, in_qsize 6, out_qsize 0\n",
      "2023-03-13 18:40:16,671 : INFO : EPOCH 1 - PROGRESS: at 98.66% examples, 503658 words/s, in_qsize 6, out_qsize 0\n",
      "2023-03-13 18:40:16,836 : INFO : EPOCH 1: training on 8934662 raw words (6720415 effective words) took 13.3s, 504162 effective words/s\n",
      "2023-03-13 18:40:17,850 : INFO : EPOCH 2 - PROGRESS: at 7.52% examples, 498033 words/s, in_qsize 5, out_qsize 0\n",
      "2023-03-13 18:40:18,854 : INFO : EPOCH 2 - PROGRESS: at 14.87% examples, 502299 words/s, in_qsize 5, out_qsize 0\n",
      "2023-03-13 18:40:19,858 : INFO : EPOCH 2 - PROGRESS: at 22.30% examples, 499886 words/s, in_qsize 6, out_qsize 0\n",
      "2023-03-13 18:40:20,891 : INFO : EPOCH 2 - PROGRESS: at 29.55% examples, 492828 words/s, in_qsize 6, out_qsize 0\n",
      "2023-03-13 18:40:21,923 : INFO : EPOCH 2 - PROGRESS: at 36.25% examples, 479829 words/s, in_qsize 5, out_qsize 0\n",
      "2023-03-13 18:40:22,932 : INFO : EPOCH 2 - PROGRESS: at 41.83% examples, 463361 words/s, in_qsize 5, out_qsize 0\n",
      "2023-03-13 18:40:23,933 : INFO : EPOCH 2 - PROGRESS: at 48.46% examples, 461749 words/s, in_qsize 5, out_qsize 0\n",
      "2023-03-13 18:40:24,940 : INFO : EPOCH 2 - PROGRESS: at 55.39% examples, 462696 words/s, in_qsize 5, out_qsize 0\n",
      "2023-03-13 18:40:25,940 : INFO : EPOCH 2 - PROGRESS: at 62.45% examples, 463036 words/s, in_qsize 6, out_qsize 0\n"
     ]
    },
    {
     "name": "stderr",
     "output_type": "stream",
     "text": [
      "2023-03-13 18:40:26,970 : INFO : EPOCH 2 - PROGRESS: at 69.77% examples, 464605 words/s, in_qsize 5, out_qsize 0\n",
      "2023-03-13 18:40:27,973 : INFO : EPOCH 2 - PROGRESS: at 77.05% examples, 465739 words/s, in_qsize 5, out_qsize 0\n",
      "2023-03-13 18:40:28,979 : INFO : EPOCH 2 - PROGRESS: at 84.25% examples, 466675 words/s, in_qsize 6, out_qsize 0\n",
      "2023-03-13 18:40:29,981 : INFO : EPOCH 2 - PROGRESS: at 91.13% examples, 466477 words/s, in_qsize 5, out_qsize 0\n",
      "2023-03-13 18:40:30,982 : INFO : EPOCH 2 - PROGRESS: at 98.11% examples, 466437 words/s, in_qsize 6, out_qsize 0\n",
      "2023-03-13 18:40:31,232 : INFO : EPOCH 2: training on 8934662 raw words (6722823 effective words) took 14.4s, 467091 effective words/s\n",
      "2023-03-13 18:40:32,244 : INFO : EPOCH 3 - PROGRESS: at 6.96% examples, 461682 words/s, in_qsize 5, out_qsize 0\n",
      "2023-03-13 18:40:33,276 : INFO : EPOCH 3 - PROGRESS: at 13.99% examples, 466730 words/s, in_qsize 6, out_qsize 2\n",
      "2023-03-13 18:40:34,285 : INFO : EPOCH 3 - PROGRESS: at 20.93% examples, 465141 words/s, in_qsize 5, out_qsize 1\n",
      "2023-03-13 18:40:35,293 : INFO : EPOCH 3 - PROGRESS: at 28.30% examples, 470107 words/s, in_qsize 5, out_qsize 0\n",
      "2023-03-13 18:40:36,312 : INFO : EPOCH 3 - PROGRESS: at 35.20% examples, 467228 words/s, in_qsize 5, out_qsize 0\n",
      "2023-03-13 18:40:37,331 : INFO : EPOCH 3 - PROGRESS: at 42.37% examples, 468982 words/s, in_qsize 5, out_qsize 0\n",
      "2023-03-13 18:40:38,331 : INFO : EPOCH 3 - PROGRESS: at 48.80% examples, 464420 words/s, in_qsize 5, out_qsize 0\n",
      "2023-03-13 18:40:39,347 : INFO : EPOCH 3 - PROGRESS: at 54.49% examples, 454582 words/s, in_qsize 5, out_qsize 0\n",
      "2023-03-13 18:40:40,395 : INFO : EPOCH 3 - PROGRESS: at 60.37% examples, 445338 words/s, in_qsize 5, out_qsize 0\n",
      "2023-03-13 18:40:41,409 : INFO : EPOCH 3 - PROGRESS: at 66.45% examples, 440818 words/s, in_qsize 5, out_qsize 0\n",
      "2023-03-13 18:40:42,425 : INFO : EPOCH 3 - PROGRESS: at 72.85% examples, 438292 words/s, in_qsize 5, out_qsize 0\n",
      "2023-03-13 18:40:43,449 : INFO : EPOCH 3 - PROGRESS: at 78.81% examples, 434106 words/s, in_qsize 5, out_qsize 0\n",
      "2023-03-13 18:40:44,464 : INFO : EPOCH 3 - PROGRESS: at 85.14% examples, 432591 words/s, in_qsize 6, out_qsize 0\n",
      "2023-03-13 18:40:45,471 : INFO : EPOCH 3 - PROGRESS: at 91.24% examples, 431061 words/s, in_qsize 5, out_qsize 0\n",
      "2023-03-13 18:40:46,479 : INFO : EPOCH 3 - PROGRESS: at 97.66% examples, 430690 words/s, in_qsize 5, out_qsize 0\n",
      "2023-03-13 18:40:46,830 : INFO : EPOCH 3: training on 8934662 raw words (6721021 effective words) took 15.6s, 430990 effective words/s\n",
      "2023-03-13 18:40:47,857 : INFO : EPOCH 4 - PROGRESS: at 5.97% examples, 391121 words/s, in_qsize 5, out_qsize 0\n",
      "2023-03-13 18:40:48,858 : INFO : EPOCH 4 - PROGRESS: at 12.80% examples, 426355 words/s, in_qsize 5, out_qsize 0\n",
      "2023-03-13 18:40:49,865 : INFO : EPOCH 4 - PROGRESS: at 19.70% examples, 441063 words/s, in_qsize 6, out_qsize 0\n",
      "2023-03-13 18:40:50,887 : INFO : EPOCH 4 - PROGRESS: at 27.20% examples, 452128 words/s, in_qsize 6, out_qsize 0\n",
      "2023-03-13 18:40:51,888 : INFO : EPOCH 4 - PROGRESS: at 34.23% examples, 456061 words/s, in_qsize 5, out_qsize 0\n",
      "2023-03-13 18:40:52,908 : INFO : EPOCH 4 - PROGRESS: at 41.31% examples, 458600 words/s, in_qsize 5, out_qsize 0\n",
      "2023-03-13 18:40:53,917 : INFO : EPOCH 4 - PROGRESS: at 48.34% examples, 461131 words/s, in_qsize 5, out_qsize 0\n",
      "2023-03-13 18:40:54,944 : INFO : EPOCH 4 - PROGRESS: at 55.17% examples, 459967 words/s, in_qsize 6, out_qsize 1\n",
      "2023-03-13 18:40:55,961 : INFO : EPOCH 4 - PROGRESS: at 62.57% examples, 462205 words/s, in_qsize 5, out_qsize 0\n",
      "2023-03-13 18:40:56,967 : INFO : EPOCH 4 - PROGRESS: at 69.67% examples, 463476 words/s, in_qsize 5, out_qsize 0\n",
      "2023-03-13 18:40:57,980 : INFO : EPOCH 4 - PROGRESS: at 77.05% examples, 464886 words/s, in_qsize 6, out_qsize 0\n",
      "2023-03-13 18:40:59,008 : INFO : EPOCH 4 - PROGRESS: at 84.47% examples, 466252 words/s, in_qsize 5, out_qsize 0\n",
      "2023-03-13 18:41:00,018 : INFO : EPOCH 4 - PROGRESS: at 91.45% examples, 466417 words/s, in_qsize 5, out_qsize 0\n",
      "2023-03-13 18:41:01,035 : INFO : EPOCH 4 - PROGRESS: at 98.66% examples, 466829 words/s, in_qsize 6, out_qsize 0\n",
      "2023-03-13 18:41:01,227 : INFO : EPOCH 4: training on 8934662 raw words (6719802 effective words) took 14.4s, 466868 effective words/s\n",
      "2023-03-13 18:41:01,228 : INFO : Word2Vec lifecycle event {'msg': 'training on 44673310 raw words (33604313 effective words) took 70.8s, 474498 effective words/s', 'datetime': '2023-03-13T18:41:01.228206', 'gensim': '4.3.1', 'python': '3.10.7 (tags/v3.10.7:6cc6b13, Sep  5 2022, 14:08:36) [MSC v.1933 64 bit (AMD64)]', 'platform': 'Windows-10-10.0.22621-SP0', 'event': 'train'}\n",
      "2023-03-13 18:41:11,884 : INFO : collecting all words and their counts\n",
      "2023-03-13 18:41:11,884 : INFO : PROGRESS: at sentence #0, processed 0 words, keeping 0 word types\n"
     ]
    },
    {
     "name": "stdout",
     "output_type": "stream",
     "text": [
      "0.873775\n",
      "0.87\n",
      "loop running for ith value:150\n"
     ]
    },
    {
     "name": "stderr",
     "output_type": "stream",
     "text": [
      "2023-03-13 18:41:12,131 : INFO : PROGRESS: at sentence #10000, processed 2247945 words, keeping 51708 word types\n",
      "2023-03-13 18:41:12,365 : INFO : PROGRESS: at sentence #20000, processed 4491090 words, keeping 68759 word types\n",
      "2023-03-13 18:41:12,599 : INFO : PROGRESS: at sentence #30000, processed 6711920 words, keeping 81013 word types\n",
      "2023-03-13 18:41:12,832 : INFO : collected 90876 word types from a corpus of 8934662 raw words and 40000 sentences\n",
      "2023-03-13 18:41:12,833 : INFO : Creating a fresh vocabulary\n",
      "2023-03-13 18:41:12,909 : INFO : Word2Vec lifecycle event {'msg': 'effective_min_count=5 retains 35633 unique words (39.21% of original 90876, drops 55243)', 'datetime': '2023-03-13T18:41:12.909873', 'gensim': '4.3.1', 'python': '3.10.7 (tags/v3.10.7:6cc6b13, Sep  5 2022, 14:08:36) [MSC v.1933 64 bit (AMD64)]', 'platform': 'Windows-10-10.0.22621-SP0', 'event': 'prepare_vocab'}\n",
      "2023-03-13 18:41:12,910 : INFO : Word2Vec lifecycle event {'msg': 'effective_min_count=5 leaves 8843902 word corpus (98.98% of original 8934662, drops 90760)', 'datetime': '2023-03-13T18:41:12.910874', 'gensim': '4.3.1', 'python': '3.10.7 (tags/v3.10.7:6cc6b13, Sep  5 2022, 14:08:36) [MSC v.1933 64 bit (AMD64)]', 'platform': 'Windows-10-10.0.22621-SP0', 'event': 'prepare_vocab'}\n",
      "2023-03-13 18:41:13,010 : INFO : deleting the raw counts dictionary of 90876 items\n",
      "2023-03-13 18:41:13,013 : INFO : sample=0.001 downsamples 46 most-common words\n",
      "2023-03-13 18:41:13,014 : INFO : Word2Vec lifecycle event {'msg': 'downsampling leaves estimated 6720855.767776955 word corpus (76.0%% of prior 8843902)', 'datetime': '2023-03-13T18:41:13.014861', 'gensim': '4.3.1', 'python': '3.10.7 (tags/v3.10.7:6cc6b13, Sep  5 2022, 14:08:36) [MSC v.1933 64 bit (AMD64)]', 'platform': 'Windows-10-10.0.22621-SP0', 'event': 'prepare_vocab'}\n",
      "2023-03-13 18:41:13,167 : INFO : estimated required memory for 35633 words and 150 dimensions: 60576100 bytes\n",
      "2023-03-13 18:41:13,168 : INFO : resetting layer weights\n",
      "2023-03-13 18:41:13,187 : INFO : Word2Vec lifecycle event {'update': False, 'trim_rule': 'None', 'datetime': '2023-03-13T18:41:13.187870', 'gensim': '4.3.1', 'python': '3.10.7 (tags/v3.10.7:6cc6b13, Sep  5 2022, 14:08:36) [MSC v.1933 64 bit (AMD64)]', 'platform': 'Windows-10-10.0.22621-SP0', 'event': 'build_vocab'}\n",
      "2023-03-13 18:41:13,188 : INFO : Word2Vec lifecycle event {'msg': 'training model with 3 workers on 35633 vocabulary and 150 features, using sg=1 hs=0 sample=0.001 negative=5 window=5 shrink_windows=True', 'datetime': '2023-03-13T18:41:13.188890', 'gensim': '4.3.1', 'python': '3.10.7 (tags/v3.10.7:6cc6b13, Sep  5 2022, 14:08:36) [MSC v.1933 64 bit (AMD64)]', 'platform': 'Windows-10-10.0.22621-SP0', 'event': 'train'}\n",
      "2023-03-13 18:41:14,193 : INFO : EPOCH 0 - PROGRESS: at 5.68% examples, 377686 words/s, in_qsize 6, out_qsize 0\n",
      "2023-03-13 18:41:15,211 : INFO : EPOCH 0 - PROGRESS: at 11.46% examples, 384261 words/s, in_qsize 5, out_qsize 1\n",
      "2023-03-13 18:41:16,243 : INFO : EPOCH 0 - PROGRESS: at 17.40% examples, 385213 words/s, in_qsize 5, out_qsize 0\n",
      "2023-03-13 18:41:17,245 : INFO : EPOCH 0 - PROGRESS: at 22.96% examples, 382930 words/s, in_qsize 6, out_qsize 0\n",
      "2023-03-13 18:41:18,251 : INFO : EPOCH 0 - PROGRESS: at 28.50% examples, 380099 words/s, in_qsize 5, out_qsize 0\n",
      "2023-03-13 18:41:19,255 : INFO : EPOCH 0 - PROGRESS: at 34.12% examples, 379187 words/s, in_qsize 5, out_qsize 0\n",
      "2023-03-13 18:41:20,269 : INFO : EPOCH 0 - PROGRESS: at 39.48% examples, 376126 words/s, in_qsize 5, out_qsize 1\n",
      "2023-03-13 18:41:21,274 : INFO : EPOCH 0 - PROGRESS: at 45.06% examples, 375908 words/s, in_qsize 6, out_qsize 0\n",
      "2023-03-13 18:41:22,291 : INFO : EPOCH 0 - PROGRESS: at 50.71% examples, 376866 words/s, in_qsize 6, out_qsize 0\n",
      "2023-03-13 18:41:23,310 : INFO : EPOCH 0 - PROGRESS: at 56.48% examples, 377571 words/s, in_qsize 5, out_qsize 0\n",
      "2023-03-13 18:41:24,321 : INFO : EPOCH 0 - PROGRESS: at 62.57% examples, 379234 words/s, in_qsize 5, out_qsize 0\n",
      "2023-03-13 18:41:25,355 : INFO : EPOCH 0 - PROGRESS: at 68.55% examples, 380202 words/s, in_qsize 5, out_qsize 0\n",
      "2023-03-13 18:41:26,359 : INFO : EPOCH 0 - PROGRESS: at 74.34% examples, 380270 words/s, in_qsize 5, out_qsize 0\n",
      "2023-03-13 18:41:27,361 : INFO : EPOCH 0 - PROGRESS: at 79.99% examples, 379377 words/s, in_qsize 5, out_qsize 0\n",
      "2023-03-13 18:41:28,375 : INFO : EPOCH 0 - PROGRESS: at 85.47% examples, 378376 words/s, in_qsize 5, out_qsize 0\n",
      "2023-03-13 18:41:29,418 : INFO : EPOCH 0 - PROGRESS: at 90.72% examples, 375938 words/s, in_qsize 5, out_qsize 0\n",
      "2023-03-13 18:41:30,438 : INFO : EPOCH 0 - PROGRESS: at 96.56% examples, 376412 words/s, in_qsize 5, out_qsize 0\n",
      "2023-03-13 18:41:31,045 : INFO : EPOCH 0: training on 8934662 raw words (6721777 effective words) took 17.9s, 376518 effective words/s\n",
      "2023-03-13 18:41:32,059 : INFO : EPOCH 1 - PROGRESS: at 5.68% examples, 374170 words/s, in_qsize 5, out_qsize 0\n",
      "2023-03-13 18:41:33,065 : INFO : EPOCH 1 - PROGRESS: at 11.14% examples, 373906 words/s, in_qsize 6, out_qsize 0\n",
      "2023-03-13 18:41:34,067 : INFO : EPOCH 1 - PROGRESS: at 16.23% examples, 364772 words/s, in_qsize 5, out_qsize 0\n",
      "2023-03-13 18:41:35,078 : INFO : EPOCH 1 - PROGRESS: at 20.93% examples, 352244 words/s, in_qsize 5, out_qsize 0\n",
      "2023-03-13 18:41:36,083 : INFO : EPOCH 1 - PROGRESS: at 26.30% examples, 352475 words/s, in_qsize 5, out_qsize 0\n",
      "2023-03-13 18:41:37,113 : INFO : EPOCH 1 - PROGRESS: at 31.16% examples, 346178 words/s, in_qsize 6, out_qsize 1\n",
      "2023-03-13 18:41:38,141 : INFO : EPOCH 1 - PROGRESS: at 35.80% examples, 339632 words/s, in_qsize 5, out_qsize 0\n",
      "2023-03-13 18:41:39,144 : INFO : EPOCH 1 - PROGRESS: at 40.74% examples, 339608 words/s, in_qsize 5, out_qsize 0\n",
      "2023-03-13 18:41:40,148 : INFO : EPOCH 1 - PROGRESS: at 46.31% examples, 343531 words/s, in_qsize 6, out_qsize 0\n",
      "2023-03-13 18:41:41,165 : INFO : EPOCH 1 - PROGRESS: at 52.12% examples, 348467 words/s, in_qsize 5, out_qsize 0\n",
      "2023-03-13 18:41:42,171 : INFO : EPOCH 1 - PROGRESS: at 57.79% examples, 351430 words/s, in_qsize 5, out_qsize 0\n",
      "2023-03-13 18:41:43,184 : INFO : EPOCH 1 - PROGRESS: at 63.86% examples, 354959 words/s, in_qsize 6, out_qsize 0\n",
      "2023-03-13 18:41:44,207 : INFO : EPOCH 1 - PROGRESS: at 69.44% examples, 355895 words/s, in_qsize 5, out_qsize 0\n",
      "2023-03-13 18:41:45,214 : INFO : EPOCH 1 - PROGRESS: at 75.49% examples, 358686 words/s, in_qsize 5, out_qsize 0\n",
      "2023-03-13 18:41:46,228 : INFO : EPOCH 1 - PROGRESS: at 81.25% examples, 359928 words/s, in_qsize 6, out_qsize 0\n",
      "2023-03-13 18:41:47,253 : INFO : EPOCH 1 - PROGRESS: at 87.33% examples, 362194 words/s, in_qsize 6, out_qsize 0\n",
      "2023-03-13 18:41:48,265 : INFO : EPOCH 1 - PROGRESS: at 93.16% examples, 363666 words/s, in_qsize 5, out_qsize 0\n",
      "2023-03-13 18:41:49,269 : INFO : EPOCH 1 - PROGRESS: at 99.11% examples, 365551 words/s, in_qsize 6, out_qsize 0\n",
      "2023-03-13 18:41:49,435 : INFO : EPOCH 1: training on 8934662 raw words (6720635 effective words) took 18.4s, 365505 effective words/s\n",
      "2023-03-13 18:41:50,464 : INFO : EPOCH 2 - PROGRESS: at 5.80% examples, 376578 words/s, in_qsize 5, out_qsize 0\n",
      "2023-03-13 18:41:51,468 : INFO : EPOCH 2 - PROGRESS: at 11.03% examples, 368077 words/s, in_qsize 5, out_qsize 0\n",
      "2023-03-13 18:41:52,470 : INFO : EPOCH 2 - PROGRESS: at 16.82% examples, 375491 words/s, in_qsize 6, out_qsize 0\n",
      "2023-03-13 18:41:53,485 : INFO : EPOCH 2 - PROGRESS: at 22.64% examples, 378268 words/s, in_qsize 6, out_qsize 0\n",
      "2023-03-13 18:41:54,492 : INFO : EPOCH 2 - PROGRESS: at 28.40% examples, 379072 words/s, in_qsize 5, out_qsize 0\n",
      "2023-03-13 18:41:55,494 : INFO : EPOCH 2 - PROGRESS: at 34.12% examples, 379623 words/s, in_qsize 5, out_qsize 0\n",
      "2023-03-13 18:41:56,497 : INFO : EPOCH 2 - PROGRESS: at 40.13% examples, 383384 words/s, in_qsize 5, out_qsize 0\n",
      "2023-03-13 18:41:57,505 : INFO : EPOCH 2 - PROGRESS: at 45.99% examples, 384848 words/s, in_qsize 5, out_qsize 0\n",
      "2023-03-13 18:41:58,530 : INFO : EPOCH 2 - PROGRESS: at 51.82% examples, 385309 words/s, in_qsize 5, out_qsize 0\n",
      "2023-03-13 18:41:59,557 : INFO : EPOCH 2 - PROGRESS: at 57.79% examples, 386350 words/s, in_qsize 5, out_qsize 0\n",
      "2023-03-13 18:42:00,587 : INFO : EPOCH 2 - PROGRESS: at 63.95% examples, 387098 words/s, in_qsize 6, out_qsize 0\n",
      "2023-03-13 18:42:01,605 : INFO : EPOCH 2 - PROGRESS: at 69.66% examples, 386195 words/s, in_qsize 5, out_qsize 0\n"
     ]
    },
    {
     "name": "stderr",
     "output_type": "stream",
     "text": [
      "2023-03-13 18:42:02,607 : INFO : EPOCH 2 - PROGRESS: at 75.29% examples, 384739 words/s, in_qsize 5, out_qsize 0\n",
      "2023-03-13 18:42:03,610 : INFO : EPOCH 2 - PROGRESS: at 81.03% examples, 384559 words/s, in_qsize 5, out_qsize 0\n",
      "2023-03-13 18:42:04,620 : INFO : EPOCH 2 - PROGRESS: at 86.78% examples, 384259 words/s, in_qsize 5, out_qsize 0\n",
      "2023-03-13 18:42:05,622 : INFO : EPOCH 2 - PROGRESS: at 92.55% examples, 384724 words/s, in_qsize 6, out_qsize 0\n",
      "2023-03-13 18:42:06,628 : INFO : EPOCH 2 - PROGRESS: at 98.55% examples, 385420 words/s, in_qsize 5, out_qsize 0\n",
      "2023-03-13 18:42:06,860 : INFO : EPOCH 2: training on 8934662 raw words (6722132 effective words) took 17.4s, 385874 effective words/s\n",
      "2023-03-13 18:42:07,863 : INFO : EPOCH 3 - PROGRESS: at 5.80% examples, 385441 words/s, in_qsize 5, out_qsize 0\n",
      "2023-03-13 18:42:08,867 : INFO : EPOCH 3 - PROGRESS: at 11.56% examples, 391053 words/s, in_qsize 6, out_qsize 0\n",
      "2023-03-13 18:42:09,902 : INFO : EPOCH 3 - PROGRESS: at 17.60% examples, 391297 words/s, in_qsize 5, out_qsize 0\n",
      "2023-03-13 18:42:10,903 : INFO : EPOCH 3 - PROGRESS: at 23.48% examples, 393211 words/s, in_qsize 5, out_qsize 0\n",
      "2023-03-13 18:42:11,911 : INFO : EPOCH 3 - PROGRESS: at 29.38% examples, 392308 words/s, in_qsize 6, out_qsize 0\n",
      "2023-03-13 18:42:12,927 : INFO : EPOCH 3 - PROGRESS: at 35.44% examples, 393445 words/s, in_qsize 6, out_qsize 0\n",
      "2023-03-13 18:42:13,942 : INFO : EPOCH 3 - PROGRESS: at 41.31% examples, 393461 words/s, in_qsize 5, out_qsize 0\n",
      "2023-03-13 18:42:14,953 : INFO : EPOCH 3 - PROGRESS: at 47.20% examples, 394469 words/s, in_qsize 6, out_qsize 0\n",
      "2023-03-13 18:42:15,964 : INFO : EPOCH 3 - PROGRESS: at 52.95% examples, 393698 words/s, in_qsize 5, out_qsize 0\n",
      "2023-03-13 18:42:16,999 : INFO : EPOCH 3 - PROGRESS: at 59.14% examples, 394302 words/s, in_qsize 5, out_qsize 1\n",
      "2023-03-13 18:42:18,020 : INFO : EPOCH 3 - PROGRESS: at 65.16% examples, 393912 words/s, in_qsize 6, out_qsize 0\n",
      "2023-03-13 18:42:19,020 : INFO : EPOCH 3 - PROGRESS: at 71.09% examples, 394219 words/s, in_qsize 5, out_qsize 0\n",
      "2023-03-13 18:42:20,020 : INFO : EPOCH 3 - PROGRESS: at 76.93% examples, 393384 words/s, in_qsize 6, out_qsize 0\n",
      "2023-03-13 18:42:21,026 : INFO : EPOCH 3 - PROGRESS: at 82.88% examples, 393585 words/s, in_qsize 5, out_qsize 0\n",
      "2023-03-13 18:42:22,026 : INFO : EPOCH 3 - PROGRESS: at 88.78% examples, 393459 words/s, in_qsize 6, out_qsize 1\n",
      "2023-03-13 18:42:23,042 : INFO : EPOCH 3 - PROGRESS: at 94.70% examples, 393415 words/s, in_qsize 6, out_qsize 0\n",
      "2023-03-13 18:42:23,951 : INFO : EPOCH 3: training on 8934662 raw words (6721055 effective words) took 17.1s, 393303 effective words/s\n",
      "2023-03-13 18:42:24,962 : INFO : EPOCH 4 - PROGRESS: at 5.68% examples, 375730 words/s, in_qsize 5, out_qsize 0\n",
      "2023-03-13 18:42:25,968 : INFO : EPOCH 4 - PROGRESS: at 11.24% examples, 378530 words/s, in_qsize 5, out_qsize 0\n",
      "2023-03-13 18:42:26,973 : INFO : EPOCH 4 - PROGRESS: at 16.89% examples, 379660 words/s, in_qsize 5, out_qsize 0\n",
      "2023-03-13 18:42:27,982 : INFO : EPOCH 4 - PROGRESS: at 22.86% examples, 383612 words/s, in_qsize 6, out_qsize 0\n",
      "2023-03-13 18:42:29,001 : INFO : EPOCH 4 - PROGRESS: at 28.92% examples, 386710 words/s, in_qsize 6, out_qsize 0\n",
      "2023-03-13 18:42:30,021 : INFO : EPOCH 4 - PROGRESS: at 34.80% examples, 386250 words/s, in_qsize 6, out_qsize 0\n",
      "2023-03-13 18:42:31,027 : INFO : EPOCH 4 - PROGRESS: at 40.63% examples, 387746 words/s, in_qsize 5, out_qsize 0\n",
      "2023-03-13 18:42:32,035 : INFO : EPOCH 4 - PROGRESS: at 46.41% examples, 387834 words/s, in_qsize 6, out_qsize 0\n",
      "2023-03-13 18:42:33,037 : INFO : EPOCH 4 - PROGRESS: at 52.33% examples, 389734 words/s, in_qsize 6, out_qsize 0\n",
      "2023-03-13 18:42:34,049 : INFO : EPOCH 4 - PROGRESS: at 58.03% examples, 388676 words/s, in_qsize 6, out_qsize 1\n",
      "2023-03-13 18:42:35,055 : INFO : EPOCH 4 - PROGRESS: at 64.07% examples, 389411 words/s, in_qsize 6, out_qsize 0\n",
      "2023-03-13 18:42:36,074 : INFO : EPOCH 4 - PROGRESS: at 69.90% examples, 388844 words/s, in_qsize 6, out_qsize 0\n",
      "2023-03-13 18:42:37,100 : INFO : EPOCH 4 - PROGRESS: at 75.59% examples, 387064 words/s, in_qsize 6, out_qsize 0\n",
      "2023-03-13 18:42:38,104 : INFO : EPOCH 4 - PROGRESS: at 81.14% examples, 385665 words/s, in_qsize 6, out_qsize 0\n",
      "2023-03-13 18:42:39,113 : INFO : EPOCH 4 - PROGRESS: at 86.90% examples, 385283 words/s, in_qsize 6, out_qsize 1\n",
      "2023-03-13 18:42:40,121 : INFO : EPOCH 4 - PROGRESS: at 92.78% examples, 385989 words/s, in_qsize 6, out_qsize 0\n",
      "2023-03-13 18:42:41,132 : INFO : EPOCH 4 - PROGRESS: at 98.78% examples, 386492 words/s, in_qsize 5, out_qsize 0\n",
      "2023-03-13 18:42:41,330 : INFO : EPOCH 4: training on 8934662 raw words (6721332 effective words) took 17.4s, 386829 effective words/s\n",
      "2023-03-13 18:42:41,331 : INFO : Word2Vec lifecycle event {'msg': 'training on 44673310 raw words (33606931 effective words) took 88.1s, 381282 effective words/s', 'datetime': '2023-03-13T18:42:41.331910', 'gensim': '4.3.1', 'python': '3.10.7 (tags/v3.10.7:6cc6b13, Sep  5 2022, 14:08:36) [MSC v.1933 64 bit (AMD64)]', 'platform': 'Windows-10-10.0.22621-SP0', 'event': 'train'}\n",
      "2023-03-13 18:42:41,331 : INFO : Word2Vec lifecycle event {'params': 'Word2Vec<vocab=35633, vector_size=150, alpha=0.025>', 'datetime': '2023-03-13T18:42:41.331910', 'gensim': '4.3.1', 'python': '3.10.7 (tags/v3.10.7:6cc6b13, Sep  5 2022, 14:08:36) [MSC v.1933 64 bit (AMD64)]', 'platform': 'Windows-10-10.0.22621-SP0', 'event': 'created'}\n",
      "2023-03-13 18:42:41,332 : WARNING : Effective 'alpha' higher than previous training cycles\n",
      "2023-03-13 18:42:41,333 : INFO : Word2Vec lifecycle event {'msg': 'training model with 3 workers on 35633 vocabulary and 150 features, using sg=1 hs=0 sample=0.001 negative=5 window=5 shrink_windows=True', 'datetime': '2023-03-13T18:42:41.333948', 'gensim': '4.3.1', 'python': '3.10.7 (tags/v3.10.7:6cc6b13, Sep  5 2022, 14:08:36) [MSC v.1933 64 bit (AMD64)]', 'platform': 'Windows-10-10.0.22621-SP0', 'event': 'train'}\n",
      "2023-03-13 18:42:42,353 : INFO : EPOCH 0 - PROGRESS: at 5.80% examples, 378906 words/s, in_qsize 6, out_qsize 0\n",
      "2023-03-13 18:42:43,361 : INFO : EPOCH 0 - PROGRESS: at 11.69% examples, 390487 words/s, in_qsize 6, out_qsize 0\n",
      "2023-03-13 18:42:44,370 : INFO : EPOCH 0 - PROGRESS: at 17.50% examples, 389687 words/s, in_qsize 6, out_qsize 0\n",
      "2023-03-13 18:42:45,380 : INFO : EPOCH 0 - PROGRESS: at 23.48% examples, 392843 words/s, in_qsize 5, out_qsize 0\n",
      "2023-03-13 18:42:46,389 : INFO : EPOCH 0 - PROGRESS: at 29.47% examples, 393425 words/s, in_qsize 5, out_qsize 0\n",
      "2023-03-13 18:42:47,415 : INFO : EPOCH 0 - PROGRESS: at 35.66% examples, 395015 words/s, in_qsize 6, out_qsize 0\n",
      "2023-03-13 18:42:48,417 : INFO : EPOCH 0 - PROGRESS: at 41.39% examples, 394584 words/s, in_qsize 6, out_qsize 0\n",
      "2023-03-13 18:42:49,436 : INFO : EPOCH 0 - PROGRESS: at 47.31% examples, 395039 words/s, in_qsize 5, out_qsize 0\n",
      "2023-03-13 18:42:50,463 : INFO : EPOCH 0 - PROGRESS: at 53.27% examples, 395134 words/s, in_qsize 5, out_qsize 2\n",
      "2023-03-13 18:42:51,493 : INFO : EPOCH 0 - PROGRESS: at 59.48% examples, 395785 words/s, in_qsize 5, out_qsize 0\n",
      "2023-03-13 18:42:52,500 : INFO : EPOCH 0 - PROGRESS: at 65.45% examples, 395718 words/s, in_qsize 5, out_qsize 0\n",
      "2023-03-13 18:42:53,510 : INFO : EPOCH 0 - PROGRESS: at 71.55% examples, 396161 words/s, in_qsize 6, out_qsize 0\n",
      "2023-03-13 18:42:54,543 : INFO : EPOCH 0 - PROGRESS: at 77.77% examples, 396428 words/s, in_qsize 5, out_qsize 0\n",
      "2023-03-13 18:42:55,551 : INFO : EPOCH 0 - PROGRESS: at 83.93% examples, 396849 words/s, in_qsize 5, out_qsize 0\n",
      "2023-03-13 18:42:56,560 : INFO : EPOCH 0 - PROGRESS: at 89.89% examples, 396748 words/s, in_qsize 5, out_qsize 0\n",
      "2023-03-13 18:42:57,565 : INFO : EPOCH 0 - PROGRESS: at 95.90% examples, 397206 words/s, in_qsize 6, out_qsize 0\n",
      "2023-03-13 18:42:58,280 : INFO : EPOCH 0: training on 8934662 raw words (6720597 effective words) took 16.9s, 396644 effective words/s\n",
      "2023-03-13 18:42:59,287 : INFO : EPOCH 1 - PROGRESS: at 5.47% examples, 361812 words/s, in_qsize 5, out_qsize 0\n",
      "2023-03-13 18:43:00,315 : INFO : EPOCH 1 - PROGRESS: at 11.35% examples, 378173 words/s, in_qsize 5, out_qsize 0\n",
      "2023-03-13 18:43:01,326 : INFO : EPOCH 1 - PROGRESS: at 17.02% examples, 378856 words/s, in_qsize 5, out_qsize 0\n"
     ]
    },
    {
     "name": "stderr",
     "output_type": "stream",
     "text": [
      "2023-03-13 18:43:02,345 : INFO : EPOCH 1 - PROGRESS: at 22.86% examples, 380437 words/s, in_qsize 5, out_qsize 0\n",
      "2023-03-13 18:43:03,363 : INFO : EPOCH 1 - PROGRESS: at 28.60% examples, 379807 words/s, in_qsize 5, out_qsize 0\n",
      "2023-03-13 18:43:04,382 : INFO : EPOCH 1 - PROGRESS: at 34.45% examples, 380521 words/s, in_qsize 6, out_qsize 1\n",
      "2023-03-13 18:43:05,392 : INFO : EPOCH 1 - PROGRESS: at 40.35% examples, 382715 words/s, in_qsize 5, out_qsize 1\n",
      "2023-03-13 18:43:06,411 : INFO : EPOCH 1 - PROGRESS: at 46.20% examples, 383737 words/s, in_qsize 6, out_qsize 0\n",
      "2023-03-13 18:43:07,414 : INFO : EPOCH 1 - PROGRESS: at 52.04% examples, 385325 words/s, in_qsize 6, out_qsize 0\n",
      "2023-03-13 18:43:08,424 : INFO : EPOCH 1 - PROGRESS: at 57.91% examples, 386223 words/s, in_qsize 5, out_qsize 0\n",
      "2023-03-13 18:43:09,448 : INFO : EPOCH 1 - PROGRESS: at 63.95% examples, 386596 words/s, in_qsize 6, out_qsize 0\n",
      "2023-03-13 18:43:10,456 : INFO : EPOCH 1 - PROGRESS: at 69.66% examples, 386040 words/s, in_qsize 5, out_qsize 0\n",
      "2023-03-13 18:43:11,490 : INFO : EPOCH 1 - PROGRESS: at 75.72% examples, 385891 words/s, in_qsize 5, out_qsize 0\n",
      "2023-03-13 18:43:12,495 : INFO : EPOCH 1 - PROGRESS: at 81.69% examples, 386646 words/s, in_qsize 6, out_qsize 0\n",
      "2023-03-13 18:43:13,507 : INFO : EPOCH 1 - PROGRESS: at 87.56% examples, 386639 words/s, in_qsize 5, out_qsize 0\n",
      "2023-03-13 18:43:14,507 : INFO : EPOCH 1 - PROGRESS: at 93.39% examples, 386974 words/s, in_qsize 6, out_qsize 0\n",
      "2023-03-13 18:43:15,531 : INFO : EPOCH 1 - PROGRESS: at 99.33% examples, 387114 words/s, in_qsize 5, out_qsize 0\n",
      "2023-03-13 18:43:15,632 : INFO : EPOCH 1: training on 8934662 raw words (6722108 effective words) took 17.3s, 387498 effective words/s\n",
      "2023-03-13 18:43:16,655 : INFO : EPOCH 2 - PROGRESS: at 5.97% examples, 392443 words/s, in_qsize 5, out_qsize 0\n",
      "2023-03-13 18:43:17,658 : INFO : EPOCH 2 - PROGRESS: at 11.56% examples, 387182 words/s, in_qsize 6, out_qsize 0\n",
      "2023-03-13 18:43:18,667 : INFO : EPOCH 2 - PROGRESS: at 17.71% examples, 394640 words/s, in_qsize 6, out_qsize 0\n",
      "2023-03-13 18:43:19,687 : INFO : EPOCH 2 - PROGRESS: at 23.59% examples, 393900 words/s, in_qsize 5, out_qsize 0\n",
      "2023-03-13 18:43:20,688 : INFO : EPOCH 2 - PROGRESS: at 29.66% examples, 396332 words/s, in_qsize 6, out_qsize 0\n",
      "2023-03-13 18:43:21,700 : INFO : EPOCH 2 - PROGRESS: at 35.66% examples, 395983 words/s, in_qsize 6, out_qsize 0\n",
      "2023-03-13 18:43:22,700 : INFO : EPOCH 2 - PROGRESS: at 41.49% examples, 396406 words/s, in_qsize 5, out_qsize 0\n",
      "2023-03-13 18:43:23,731 : INFO : EPOCH 2 - PROGRESS: at 47.20% examples, 394322 words/s, in_qsize 6, out_qsize 0\n",
      "2023-03-13 18:43:24,735 : INFO : EPOCH 2 - PROGRESS: at 53.15% examples, 395494 words/s, in_qsize 6, out_qsize 0\n",
      "2023-03-13 18:43:25,748 : INFO : EPOCH 2 - PROGRESS: at 59.14% examples, 395300 words/s, in_qsize 6, out_qsize 0\n",
      "2023-03-13 18:43:26,755 : INFO : EPOCH 2 - PROGRESS: at 65.28% examples, 396008 words/s, in_qsize 6, out_qsize 0\n",
      "2023-03-13 18:43:27,759 : INFO : EPOCH 2 - PROGRESS: at 71.09% examples, 395315 words/s, in_qsize 5, out_qsize 0\n",
      "2023-03-13 18:43:28,780 : INFO : EPOCH 2 - PROGRESS: at 77.05% examples, 394333 words/s, in_qsize 6, out_qsize 0\n",
      "2023-03-13 18:43:29,781 : INFO : EPOCH 2 - PROGRESS: at 82.64% examples, 392974 words/s, in_qsize 6, out_qsize 0\n",
      "2023-03-13 18:43:30,784 : INFO : EPOCH 2 - PROGRESS: at 88.52% examples, 392800 words/s, in_qsize 6, out_qsize 0\n",
      "2023-03-13 18:43:31,816 : INFO : EPOCH 2 - PROGRESS: at 94.48% examples, 392434 words/s, in_qsize 6, out_qsize 0\n",
      "2023-03-13 18:43:32,748 : INFO : EPOCH 2: training on 8934662 raw words (6720099 effective words) took 17.1s, 392668 effective words/s\n",
      "2023-03-13 18:43:33,761 : INFO : EPOCH 3 - PROGRESS: at 5.80% examples, 382146 words/s, in_qsize 5, out_qsize 0\n",
      "2023-03-13 18:43:34,787 : INFO : EPOCH 3 - PROGRESS: at 11.69% examples, 388640 words/s, in_qsize 6, out_qsize 0\n",
      "2023-03-13 18:43:35,790 : INFO : EPOCH 3 - PROGRESS: at 17.50% examples, 389227 words/s, in_qsize 5, out_qsize 0\n",
      "2023-03-13 18:43:36,824 : INFO : EPOCH 3 - PROGRESS: at 23.36% examples, 388375 words/s, in_qsize 4, out_qsize 1\n",
      "2023-03-13 18:43:37,842 : INFO : EPOCH 3 - PROGRESS: at 29.38% examples, 389113 words/s, in_qsize 5, out_qsize 0\n",
      "2023-03-13 18:43:38,843 : INFO : EPOCH 3 - PROGRESS: at 35.42% examples, 391861 words/s, in_qsize 5, out_qsize 0\n",
      "2023-03-13 18:43:39,871 : INFO : EPOCH 3 - PROGRESS: at 41.20% examples, 390361 words/s, in_qsize 6, out_qsize 0\n",
      "2023-03-13 18:43:40,874 : INFO : EPOCH 3 - PROGRESS: at 47.10% examples, 392230 words/s, in_qsize 6, out_qsize 0\n",
      "2023-03-13 18:43:41,875 : INFO : EPOCH 3 - PROGRESS: at 52.72% examples, 391268 words/s, in_qsize 5, out_qsize 0\n",
      "2023-03-13 18:43:42,894 : INFO : EPOCH 3 - PROGRESS: at 58.70% examples, 391216 words/s, in_qsize 6, out_qsize 0\n",
      "2023-03-13 18:43:43,896 : INFO : EPOCH 3 - PROGRESS: at 64.61% examples, 391229 words/s, in_qsize 5, out_qsize 0\n",
      "2023-03-13 18:43:44,902 : INFO : EPOCH 3 - PROGRESS: at 70.44% examples, 390926 words/s, in_qsize 6, out_qsize 0\n",
      "2023-03-13 18:43:45,926 : INFO : EPOCH 3 - PROGRESS: at 76.39% examples, 390190 words/s, in_qsize 5, out_qsize 1\n",
      "2023-03-13 18:43:46,973 : INFO : EPOCH 3 - PROGRESS: at 82.54% examples, 390452 words/s, in_qsize 5, out_qsize 0\n",
      "2023-03-13 18:43:47,983 : INFO : EPOCH 3 - PROGRESS: at 88.54% examples, 390780 words/s, in_qsize 5, out_qsize 0\n",
      "2023-03-13 18:43:48,996 : INFO : EPOCH 3 - PROGRESS: at 94.59% examples, 391464 words/s, in_qsize 5, out_qsize 0\n",
      "2023-03-13 18:43:49,943 : INFO : EPOCH 3: training on 8934662 raw words (6721847 effective words) took 17.2s, 391004 effective words/s\n",
      "2023-03-13 18:43:50,954 : INFO : EPOCH 4 - PROGRESS: at 5.90% examples, 389662 words/s, in_qsize 6, out_qsize 0\n",
      "2023-03-13 18:43:51,956 : INFO : EPOCH 4 - PROGRESS: at 11.57% examples, 389898 words/s, in_qsize 6, out_qsize 0\n",
      "2023-03-13 18:43:52,962 : INFO : EPOCH 4 - PROGRESS: at 17.50% examples, 391949 words/s, in_qsize 6, out_qsize 0\n",
      "2023-03-13 18:43:53,982 : INFO : EPOCH 4 - PROGRESS: at 23.36% examples, 391741 words/s, in_qsize 5, out_qsize 0\n",
      "2023-03-13 18:43:54,991 : INFO : EPOCH 4 - PROGRESS: at 29.47% examples, 394124 words/s, in_qsize 5, out_qsize 0\n",
      "2023-03-13 18:43:56,027 : INFO : EPOCH 4 - PROGRESS: at 35.30% examples, 391260 words/s, in_qsize 5, out_qsize 0\n",
      "2023-03-13 18:43:57,050 : INFO : EPOCH 4 - PROGRESS: at 41.28% examples, 392217 words/s, in_qsize 5, out_qsize 1\n",
      "2023-03-13 18:43:58,064 : INFO : EPOCH 4 - PROGRESS: at 47.20% examples, 393256 words/s, in_qsize 6, out_qsize 0\n",
      "2023-03-13 18:43:59,072 : INFO : EPOCH 4 - PROGRESS: at 53.18% examples, 394323 words/s, in_qsize 6, out_qsize 1\n",
      "2023-03-13 18:44:00,087 : INFO : EPOCH 4 - PROGRESS: at 59.14% examples, 394155 words/s, in_qsize 5, out_qsize 0\n",
      "2023-03-13 18:44:01,109 : INFO : EPOCH 4 - PROGRESS: at 65.28% examples, 394425 words/s, in_qsize 5, out_qsize 0\n",
      "2023-03-13 18:44:02,110 : INFO : EPOCH 4 - PROGRESS: at 71.09% examples, 393976 words/s, in_qsize 5, out_qsize 0\n",
      "2023-03-13 18:44:03,132 : INFO : EPOCH 4 - PROGRESS: at 77.29% examples, 394124 words/s, in_qsize 5, out_qsize 0\n",
      "2023-03-13 18:44:04,146 : INFO : EPOCH 4 - PROGRESS: at 83.00% examples, 393004 words/s, in_qsize 6, out_qsize 0\n",
      "2023-03-13 18:44:05,164 : INFO : EPOCH 4 - PROGRESS: at 89.01% examples, 392930 words/s, in_qsize 5, out_qsize 0\n",
      "2023-03-13 18:44:06,169 : INFO : EPOCH 4 - PROGRESS: at 95.05% examples, 393698 words/s, in_qsize 5, out_qsize 0\n",
      "2023-03-13 18:44:07,008 : INFO : EPOCH 4: training on 8934662 raw words (6719535 effective words) took 17.1s, 393846 effective words/s\n",
      "2023-03-13 18:44:07,009 : INFO : Word2Vec lifecycle event {'msg': 'training on 44673310 raw words (33604186 effective words) took 85.7s, 392234 effective words/s', 'datetime': '2023-03-13T18:44:07.009408', 'gensim': '4.3.1', 'python': '3.10.7 (tags/v3.10.7:6cc6b13, Sep  5 2022, 14:08:36) [MSC v.1933 64 bit (AMD64)]', 'platform': 'Windows-10-10.0.22621-SP0', 'event': 'train'}\n"
     ]
    },
    {
     "name": "stdout",
     "output_type": "stream",
     "text": [
      "0.881175\n",
      "0.8772\n"
     ]
    }
   ],
   "source": [
    "Vec_Size = [25,50,100,150]\n",
    "\n",
    "Train_Accuracy = []\n",
    "Test_Accuracy = []\n",
    "Model_Array = []\n",
    "\n",
    "lb = LabelEncoder()\n",
    "\n",
    "LR = LogisticRegression(C=100)\n",
    "\n",
    "Ytrain_Updated = lb.fit_transform(Y_train)\n",
    "Ytest_Updated = lb.fit_transform(Y_test)\n",
    "\n",
    "for i in Vec_Size:\n",
    "    \n",
    "    print(\"loop running for ith value:\"+str(i))\n",
    "    #Default window size is 5\n",
    "    \n",
    "    Itr_Model = Model_Vector(i,5) \n",
    "    Model_Array.append(Itr_Model)\n",
    "    \n",
    "    Result_Vec_Train = IMDB_train['updatedreview'].apply(document_vector,model = (Itr_Model))\n",
    "    Result_Vec_Test = IMDB_test['updatedreview'].apply(document_vector,model = (Itr_Model))\n",
    "\n",
    "    \n",
    "    List_Final_X_Train = list(Result_Vec_Train)\n",
    "    List_Final_X_Test = list(Result_Vec_Test)\n",
    "    \n",
    "    Train_1 = LR.fit(List_Final_X_Train, Ytrain_Updated)\n",
    "    Train_Score = LR.score(List_Final_X_Train, Ytrain_Updated)\n",
    "    print(Train_Score)    \n",
    "    Train_Accuracy.append(Train_Score)\n",
    "    \n",
    "    Test_Score = LR.score(List_Final_X_Test, Ytest_Updated)\n",
    "    print(Test_Score)    \n",
    "    Test_Accuracy.append(Test_Score)\n",
    "    \n",
    "#return List_Final_X     \n",
    "    \n",
    "    \n",
    "    \n",
    "  \n",
    "    \n",
    "\n",
    "\n"
   ]
  },
  {
   "cell_type": "code",
   "execution_count": 199,
   "id": "73b524e1",
   "metadata": {},
   "outputs": [
    {
     "name": "stdout",
     "output_type": "stream",
     "text": [
      "[0.8281, 0.857, 0.87, 0.8772]\n",
      "[0.830925, 0.86205, 0.873775, 0.881175]\n"
     ]
    },
    {
     "data": {
      "image/png": "[encoded data removed]",
      "text/plain": [
       "<Figure size 640x480 with 1 Axes>"
      ]
     },
     "metadata": {},
     "output_type": "display_data"
    }
   ],
   "source": [
    "print(Test_Accuracy)\n",
    "print(Train_Accuracy)\n",
    "\n",
    "plt.plot(Vec_Size,Test_Accuracy ,label = \"Test\")\n",
    "plt.plot(Vec_Size, Train_Accuracy,label = \"Train\")\n",
    "plt.legend(loc=\"upper left\")\n",
    "plt.title(\"Model Performance for Vec Size\")\n",
    "plt.xlabel(\"Vec Size\")\n",
    "plt.ylabel(\"Accuracy\")\n",
    "plt.show()"
   ]
  },
  {
   "cell_type": "markdown",
   "id": "529d343a",
   "metadata": {},
   "source": [
    "#### As we increase the vector size, we expect the accuracy to improve. Because generally as we lower the vector size, we do leave out some information. Leaving out information may effect understanding the review correctly, so we should not have a lower vector size. Also, we expect after a certain vector size, the margingal increase will not be very high. As a certain vector size will capture most of the meaningful aspects"
   ]
  },
  {
   "cell_type": "markdown",
   "id": "778c79ae",
   "metadata": {},
   "source": [
    "#### The graph above depicts the expected behaviour where we have lowest accuracy for vec size as 25 and highest for vec size for 150. Although at some point, we see that the accuracy will converge to a particular value and will have no effect upon increasing vector size."
   ]
  },
  {
   "cell_type": "code",
   "execution_count": 121,
   "id": "02d18ddc",
   "metadata": {
    "collapsed": true
   },
   "outputs": [
    {
     "name": "stderr",
     "output_type": "stream",
     "text": [
      "2023-03-13 18:44:18,254 : INFO : collecting all words and their counts\n",
      "2023-03-13 18:44:18,255 : INFO : PROGRESS: at sentence #0, processed 0 words, keeping 0 word types\n"
     ]
    },
    {
     "name": "stdout",
     "output_type": "stream",
     "text": [
      "loop running for ith value:2\n"
     ]
    },
    {
     "name": "stderr",
     "output_type": "stream",
     "text": [
      "2023-03-13 18:44:18,478 : INFO : PROGRESS: at sentence #10000, processed 2247945 words, keeping 51708 word types\n",
      "2023-03-13 18:44:18,699 : INFO : PROGRESS: at sentence #20000, processed 4491090 words, keeping 68759 word types\n",
      "2023-03-13 18:44:18,913 : INFO : PROGRESS: at sentence #30000, processed 6711920 words, keeping 81013 word types\n",
      "2023-03-13 18:44:19,128 : INFO : collected 90876 word types from a corpus of 8934662 raw words and 40000 sentences\n",
      "2023-03-13 18:44:19,129 : INFO : Creating a fresh vocabulary\n",
      "2023-03-13 18:44:19,207 : INFO : Word2Vec lifecycle event {'msg': 'effective_min_count=5 retains 35633 unique words (39.21% of original 90876, drops 55243)', 'datetime': '2023-03-13T18:44:19.207174', 'gensim': '4.3.1', 'python': '3.10.7 (tags/v3.10.7:6cc6b13, Sep  5 2022, 14:08:36) [MSC v.1933 64 bit (AMD64)]', 'platform': 'Windows-10-10.0.22621-SP0', 'event': 'prepare_vocab'}\n",
      "2023-03-13 18:44:19,208 : INFO : Word2Vec lifecycle event {'msg': 'effective_min_count=5 leaves 8843902 word corpus (98.98% of original 8934662, drops 90760)', 'datetime': '2023-03-13T18:44:19.208235', 'gensim': '4.3.1', 'python': '3.10.7 (tags/v3.10.7:6cc6b13, Sep  5 2022, 14:08:36) [MSC v.1933 64 bit (AMD64)]', 'platform': 'Windows-10-10.0.22621-SP0', 'event': 'prepare_vocab'}\n",
      "2023-03-13 18:44:19,306 : INFO : deleting the raw counts dictionary of 90876 items\n",
      "2023-03-13 18:44:19,308 : INFO : sample=0.001 downsamples 46 most-common words\n",
      "2023-03-13 18:44:19,309 : INFO : Word2Vec lifecycle event {'msg': 'downsampling leaves estimated 6720855.767776955 word corpus (76.0%% of prior 8843902)', 'datetime': '2023-03-13T18:44:19.309798', 'gensim': '4.3.1', 'python': '3.10.7 (tags/v3.10.7:6cc6b13, Sep  5 2022, 14:08:36) [MSC v.1933 64 bit (AMD64)]', 'platform': 'Windows-10-10.0.22621-SP0', 'event': 'prepare_vocab'}\n",
      "2023-03-13 18:44:19,454 : INFO : estimated required memory for 35633 words and 100 dimensions: 46322900 bytes\n",
      "2023-03-13 18:44:19,456 : INFO : resetting layer weights\n",
      "2023-03-13 18:44:19,468 : INFO : Word2Vec lifecycle event {'update': False, 'trim_rule': 'None', 'datetime': '2023-03-13T18:44:19.468896', 'gensim': '4.3.1', 'python': '3.10.7 (tags/v3.10.7:6cc6b13, Sep  5 2022, 14:08:36) [MSC v.1933 64 bit (AMD64)]', 'platform': 'Windows-10-10.0.22621-SP0', 'event': 'build_vocab'}\n",
      "2023-03-13 18:44:19,469 : INFO : Word2Vec lifecycle event {'msg': 'training model with 3 workers on 35633 vocabulary and 100 features, using sg=1 hs=0 sample=0.001 negative=5 window=2 shrink_windows=True', 'datetime': '2023-03-13T18:44:19.469883', 'gensim': '4.3.1', 'python': '3.10.7 (tags/v3.10.7:6cc6b13, Sep  5 2022, 14:08:36) [MSC v.1933 64 bit (AMD64)]', 'platform': 'Windows-10-10.0.22621-SP0', 'event': 'train'}\n",
      "2023-03-13 18:44:20,474 : INFO : EPOCH 0 - PROGRESS: at 13.10% examples, 884824 words/s, in_qsize 6, out_qsize 0\n",
      "2023-03-13 18:44:21,476 : INFO : EPOCH 0 - PROGRESS: at 26.54% examples, 893346 words/s, in_qsize 6, out_qsize 0\n",
      "2023-03-13 18:44:22,479 : INFO : EPOCH 0 - PROGRESS: at 38.15% examples, 855734 words/s, in_qsize 6, out_qsize 0\n",
      "2023-03-13 18:44:23,482 : INFO : EPOCH 0 - PROGRESS: at 51.15% examples, 862784 words/s, in_qsize 5, out_qsize 0\n",
      "2023-03-13 18:44:24,482 : INFO : EPOCH 0 - PROGRESS: at 64.61% examples, 870277 words/s, in_qsize 6, out_qsize 0\n",
      "2023-03-13 18:44:25,494 : INFO : EPOCH 0 - PROGRESS: at 78.22% examples, 874485 words/s, in_qsize 5, out_qsize 0\n",
      "2023-03-13 18:44:26,494 : INFO : EPOCH 0 - PROGRESS: at 91.23% examples, 874036 words/s, in_qsize 5, out_qsize 0\n",
      "2023-03-13 18:44:27,134 : INFO : EPOCH 0: training on 8934662 raw words (6722713 effective words) took 7.7s, 877552 effective words/s\n",
      "2023-03-13 18:44:28,140 : INFO : EPOCH 1 - PROGRESS: at 13.41% examples, 905108 words/s, in_qsize 6, out_qsize 0\n",
      "2023-03-13 18:44:29,152 : INFO : EPOCH 1 - PROGRESS: at 27.10% examples, 905356 words/s, in_qsize 5, out_qsize 0\n",
      "2023-03-13 18:44:30,157 : INFO : EPOCH 1 - PROGRESS: at 40.31% examples, 900446 words/s, in_qsize 5, out_qsize 0\n",
      "2023-03-13 18:44:31,161 : INFO : EPOCH 1 - PROGRESS: at 53.71% examples, 903376 words/s, in_qsize 6, out_qsize 0\n",
      "2023-03-13 18:44:32,166 : INFO : EPOCH 1 - PROGRESS: at 66.81% examples, 896128 words/s, in_qsize 5, out_qsize 0\n",
      "2023-03-13 18:44:33,166 : INFO : EPOCH 1 - PROGRESS: at 80.81% examples, 901167 words/s, in_qsize 5, out_qsize 0\n",
      "2023-03-13 18:44:34,167 : INFO : EPOCH 1 - PROGRESS: at 93.38% examples, 892793 words/s, in_qsize 6, out_qsize 0\n",
      "2023-03-13 18:44:34,682 : INFO : EPOCH 1: training on 8934662 raw words (6720979 effective words) took 7.5s, 890785 effective words/s\n",
      "2023-03-13 18:44:35,688 : INFO : EPOCH 2 - PROGRESS: at 12.80% examples, 860864 words/s, in_qsize 5, out_qsize 0\n",
      "2023-03-13 18:44:36,692 : INFO : EPOCH 2 - PROGRESS: at 25.62% examples, 861706 words/s, in_qsize 6, out_qsize 0\n",
      "2023-03-13 18:44:37,700 : INFO : EPOCH 2 - PROGRESS: at 38.58% examples, 862819 words/s, in_qsize 6, out_qsize 0\n",
      "2023-03-13 18:44:38,711 : INFO : EPOCH 2 - PROGRESS: at 51.12% examples, 858687 words/s, in_qsize 5, out_qsize 0\n",
      "2023-03-13 18:44:39,722 : INFO : EPOCH 2 - PROGRESS: at 60.48% examples, 811092 words/s, in_qsize 5, out_qsize 0\n",
      "2023-03-13 18:44:40,733 : INFO : EPOCH 2 - PROGRESS: at 72.60% examples, 808186 words/s, in_qsize 6, out_qsize 0\n",
      "2023-03-13 18:44:41,736 : INFO : EPOCH 2 - PROGRESS: at 84.81% examples, 808217 words/s, in_qsize 6, out_qsize 0\n",
      "2023-03-13 18:44:42,741 : INFO : EPOCH 2 - PROGRESS: at 96.22% examples, 802773 words/s, in_qsize 5, out_qsize 0\n",
      "2023-03-13 18:44:43,063 : INFO : EPOCH 2: training on 8934662 raw words (6719894 effective words) took 8.4s, 802072 effective words/s\n",
      "2023-03-13 18:44:44,070 : INFO : EPOCH 3 - PROGRESS: at 11.79% examples, 796402 words/s, in_qsize 6, out_qsize 0\n",
      "2023-03-13 18:44:45,079 : INFO : EPOCH 3 - PROGRESS: at 24.03% examples, 808036 words/s, in_qsize 6, out_qsize 0\n",
      "2023-03-13 18:44:46,081 : INFO : EPOCH 3 - PROGRESS: at 35.66% examples, 796784 words/s, in_qsize 4, out_qsize 1\n",
      "2023-03-13 18:44:47,083 : INFO : EPOCH 3 - PROGRESS: at 47.10% examples, 793323 words/s, in_qsize 5, out_qsize 0\n",
      "2023-03-13 18:44:48,083 : INFO : EPOCH 3 - PROGRESS: at 59.35% examples, 799992 words/s, in_qsize 6, out_qsize 0\n",
      "2023-03-13 18:44:49,084 : INFO : EPOCH 3 - PROGRESS: at 73.07% examples, 817426 words/s, in_qsize 6, out_qsize 0\n",
      "2023-03-13 18:44:50,086 : INFO : EPOCH 3 - PROGRESS: at 86.56% examples, 829118 words/s, in_qsize 6, out_qsize 0\n",
      "2023-03-13 18:44:51,073 : INFO : EPOCH 3: training on 8934662 raw words (6721890 effective words) took 8.0s, 839672 effective words/s\n",
      "2023-03-13 18:44:52,077 : INFO : EPOCH 4 - PROGRESS: at 13.41% examples, 907086 words/s, in_qsize 6, out_qsize 0\n",
      "2023-03-13 18:44:53,079 : INFO : EPOCH 4 - PROGRESS: at 27.10% examples, 911713 words/s, in_qsize 6, out_qsize 0\n",
      "2023-03-13 18:44:54,084 : INFO : EPOCH 4 - PROGRESS: at 40.66% examples, 911643 words/s, in_qsize 6, out_qsize 0\n",
      "2023-03-13 18:44:55,091 : INFO : EPOCH 4 - PROGRESS: at 54.27% examples, 914776 words/s, in_qsize 4, out_qsize 1\n",
      "2023-03-13 18:44:56,091 : INFO : EPOCH 4 - PROGRESS: at 68.12% examples, 916348 words/s, in_qsize 5, out_qsize 0\n",
      "2023-03-13 18:44:57,103 : INFO : EPOCH 4 - PROGRESS: at 81.69% examples, 911648 words/s, in_qsize 5, out_qsize 0\n",
      "2023-03-13 18:44:58,108 : INFO : EPOCH 4 - PROGRESS: at 93.73% examples, 895840 words/s, in_qsize 6, out_qsize 0\n",
      "2023-03-13 18:44:58,695 : INFO : EPOCH 4: training on 8934662 raw words (6722024 effective words) took 7.6s, 882152 effective words/s\n",
      "2023-03-13 18:44:58,698 : INFO : Word2Vec lifecycle event {'msg': 'training on 44673310 raw words (33607500 effective words) took 39.2s, 856727 effective words/s', 'datetime': '2023-03-13T18:44:58.697309', 'gensim': '4.3.1', 'python': '3.10.7 (tags/v3.10.7:6cc6b13, Sep  5 2022, 14:08:36) [MSC v.1933 64 bit (AMD64)]', 'platform': 'Windows-10-10.0.22621-SP0', 'event': 'train'}\n",
      "2023-03-13 18:44:58,698 : INFO : Word2Vec lifecycle event {'params': 'Word2Vec<vocab=35633, vector_size=100, alpha=0.025>', 'datetime': '2023-03-13T18:44:58.698338', 'gensim': '4.3.1', 'python': '3.10.7 (tags/v3.10.7:6cc6b13, Sep  5 2022, 14:08:36) [MSC v.1933 64 bit (AMD64)]', 'platform': 'Windows-10-10.0.22621-SP0', 'event': 'created'}\n",
      "2023-03-13 18:44:58,699 : WARNING : Effective 'alpha' higher than previous training cycles\n"
     ]
    },
    {
     "name": "stderr",
     "output_type": "stream",
     "text": [
      "2023-03-13 18:44:58,700 : INFO : Word2Vec lifecycle event {'msg': 'training model with 3 workers on 35633 vocabulary and 100 features, using sg=1 hs=0 sample=0.001 negative=5 window=2 shrink_windows=True', 'datetime': '2023-03-13T18:44:58.700341', 'gensim': '4.3.1', 'python': '3.10.7 (tags/v3.10.7:6cc6b13, Sep  5 2022, 14:08:36) [MSC v.1933 64 bit (AMD64)]', 'platform': 'Windows-10-10.0.22621-SP0', 'event': 'train'}\n",
      "2023-03-13 18:44:59,707 : INFO : EPOCH 0 - PROGRESS: at 10.56% examples, 708757 words/s, in_qsize 6, out_qsize 0\n",
      "2023-03-13 18:45:00,708 : INFO : EPOCH 0 - PROGRESS: at 22.65% examples, 763738 words/s, in_qsize 6, out_qsize 0\n",
      "2023-03-13 18:45:01,716 : INFO : EPOCH 0 - PROGRESS: at 35.01% examples, 782902 words/s, in_qsize 5, out_qsize 0\n",
      "2023-03-13 18:45:02,728 : INFO : EPOCH 0 - PROGRESS: at 48.79% examples, 819306 words/s, in_qsize 5, out_qsize 0\n",
      "2023-03-13 18:45:03,730 : INFO : EPOCH 0 - PROGRESS: at 61.52% examples, 826671 words/s, in_qsize 5, out_qsize 0\n",
      "2023-03-13 18:45:04,737 : INFO : EPOCH 0 - PROGRESS: at 74.79% examples, 834946 words/s, in_qsize 6, out_qsize 0\n",
      "2023-03-13 18:45:05,738 : INFO : EPOCH 0 - PROGRESS: at 87.77% examples, 838900 words/s, in_qsize 6, out_qsize 1\n",
      "2023-03-13 18:45:06,652 : INFO : EPOCH 0: training on 8934662 raw words (6721465 effective words) took 7.9s, 845800 effective words/s\n",
      "2023-03-13 18:45:07,668 : INFO : EPOCH 1 - PROGRESS: at 12.44% examples, 831494 words/s, in_qsize 6, out_qsize 0\n",
      "2023-03-13 18:45:08,668 : INFO : EPOCH 1 - PROGRESS: at 25.14% examples, 844889 words/s, in_qsize 6, out_qsize 0\n",
      "2023-03-13 18:45:09,674 : INFO : EPOCH 1 - PROGRESS: at 37.49% examples, 837562 words/s, in_qsize 6, out_qsize 1\n",
      "2023-03-13 18:45:10,678 : INFO : EPOCH 1 - PROGRESS: at 50.51% examples, 848687 words/s, in_qsize 5, out_qsize 0\n",
      "2023-03-13 18:45:11,684 : INFO : EPOCH 1 - PROGRESS: at 63.86% examples, 856777 words/s, in_qsize 6, out_qsize 0\n",
      "2023-03-13 18:45:12,687 : INFO : EPOCH 1 - PROGRESS: at 77.29% examples, 861999 words/s, in_qsize 5, out_qsize 0\n",
      "2023-03-13 18:45:13,693 : INFO : EPOCH 1 - PROGRESS: at 91.13% examples, 871084 words/s, in_qsize 6, out_qsize 0\n",
      "2023-03-13 18:45:14,359 : INFO : EPOCH 1: training on 8934662 raw words (6722096 effective words) took 7.7s, 872595 effective words/s\n",
      "2023-03-13 18:45:15,365 : INFO : EPOCH 2 - PROGRESS: at 13.41% examples, 906037 words/s, in_qsize 5, out_qsize 0\n",
      "2023-03-13 18:45:16,381 : INFO : EPOCH 2 - PROGRESS: at 27.10% examples, 904574 words/s, in_qsize 5, out_qsize 0\n",
      "2023-03-13 18:45:17,385 : INFO : EPOCH 2 - PROGRESS: at 40.55% examples, 904992 words/s, in_qsize 6, out_qsize 0\n",
      "2023-03-13 18:45:18,401 : INFO : EPOCH 2 - PROGRESS: at 53.48% examples, 896854 words/s, in_qsize 5, out_qsize 0\n",
      "2023-03-13 18:45:19,400 : INFO : EPOCH 2 - PROGRESS: at 66.59% examples, 891811 words/s, in_qsize 6, out_qsize 0\n",
      "2023-03-13 18:45:20,401 : INFO : EPOCH 2 - PROGRESS: at 79.19% examples, 881846 words/s, in_qsize 5, out_qsize 0\n",
      "2023-03-13 18:45:21,410 : INFO : EPOCH 2 - PROGRESS: at 91.94% examples, 878024 words/s, in_qsize 5, out_qsize 0\n",
      "2023-03-13 18:45:22,075 : INFO : EPOCH 2: training on 8934662 raw words (6722305 effective words) took 7.7s, 871553 effective words/s\n",
      "2023-03-13 18:45:23,085 : INFO : EPOCH 3 - PROGRESS: at 13.11% examples, 880725 words/s, in_qsize 5, out_qsize 0\n",
      "2023-03-13 18:45:24,093 : INFO : EPOCH 3 - PROGRESS: at 26.19% examples, 876837 words/s, in_qsize 5, out_qsize 0\n",
      "2023-03-13 18:45:25,099 : INFO : EPOCH 3 - PROGRESS: at 39.26% examples, 876094 words/s, in_qsize 6, out_qsize 1\n",
      "2023-03-13 18:45:26,111 : INFO : EPOCH 3 - PROGRESS: at 52.24% examples, 875760 words/s, in_qsize 6, out_qsize 1\n",
      "2023-03-13 18:45:27,116 : INFO : EPOCH 3 - PROGRESS: at 65.79% examples, 881193 words/s, in_qsize 6, out_qsize 0\n",
      "2023-03-13 18:45:28,126 : INFO : EPOCH 3 - PROGRESS: at 75.72% examples, 842397 words/s, in_qsize 6, out_qsize 0\n",
      "2023-03-13 18:45:29,135 : INFO : EPOCH 3 - PROGRESS: at 88.66% examples, 844391 words/s, in_qsize 5, out_qsize 0\n",
      "2023-03-13 18:45:29,971 : INFO : EPOCH 3: training on 8934662 raw words (6720397 effective words) took 7.9s, 851547 effective words/s\n",
      "2023-03-13 18:45:30,984 : INFO : EPOCH 4 - PROGRESS: at 13.43% examples, 898692 words/s, in_qsize 6, out_qsize 2\n",
      "2023-03-13 18:45:31,985 : INFO : EPOCH 4 - PROGRESS: at 27.10% examples, 907567 words/s, in_qsize 6, out_qsize 0\n",
      "2023-03-13 18:45:32,989 : INFO : EPOCH 4 - PROGRESS: at 37.93% examples, 848133 words/s, in_qsize 6, out_qsize 0\n",
      "2023-03-13 18:45:33,991 : INFO : EPOCH 4 - PROGRESS: at 50.59% examples, 851277 words/s, in_qsize 6, out_qsize 1\n",
      "2023-03-13 18:45:35,001 : INFO : EPOCH 4 - PROGRESS: at 63.30% examples, 849526 words/s, in_qsize 6, out_qsize 0\n",
      "2023-03-13 18:45:36,005 : INFO : EPOCH 4 - PROGRESS: at 76.50% examples, 853231 words/s, in_qsize 5, out_qsize 0\n",
      "2023-03-13 18:45:37,016 : INFO : EPOCH 4 - PROGRESS: at 90.00% examples, 858663 words/s, in_qsize 6, out_qsize 0\n",
      "2023-03-13 18:45:37,781 : INFO : EPOCH 4: training on 8934662 raw words (6720391 effective words) took 7.8s, 860748 effective words/s\n",
      "2023-03-13 18:45:37,782 : INFO : Word2Vec lifecycle event {'msg': 'training on 44673310 raw words (33606654 effective words) took 39.1s, 859918 effective words/s', 'datetime': '2023-03-13T18:45:37.782353', 'gensim': '4.3.1', 'python': '3.10.7 (tags/v3.10.7:6cc6b13, Sep  5 2022, 14:08:36) [MSC v.1933 64 bit (AMD64)]', 'platform': 'Windows-10-10.0.22621-SP0', 'event': 'train'}\n",
      "2023-03-13 18:45:49,476 : INFO : collecting all words and their counts\n",
      "2023-03-13 18:45:49,477 : INFO : PROGRESS: at sentence #0, processed 0 words, keeping 0 word types\n"
     ]
    },
    {
     "name": "stdout",
     "output_type": "stream",
     "text": [
      "0.858275\n",
      "0.8576\n",
      "loop running for ith value:3\n"
     ]
    },
    {
     "name": "stderr",
     "output_type": "stream",
     "text": [
      "2023-03-13 18:45:49,743 : INFO : PROGRESS: at sentence #10000, processed 2247945 words, keeping 51708 word types\n",
      "2023-03-13 18:45:49,980 : INFO : PROGRESS: at sentence #20000, processed 4491090 words, keeping 68759 word types\n",
      "2023-03-13 18:45:50,214 : INFO : PROGRESS: at sentence #30000, processed 6711920 words, keeping 81013 word types\n",
      "2023-03-13 18:45:50,455 : INFO : collected 90876 word types from a corpus of 8934662 raw words and 40000 sentences\n",
      "2023-03-13 18:45:50,456 : INFO : Creating a fresh vocabulary\n",
      "2023-03-13 18:45:50,543 : INFO : Word2Vec lifecycle event {'msg': 'effective_min_count=5 retains 35633 unique words (39.21% of original 90876, drops 55243)', 'datetime': '2023-03-13T18:45:50.543494', 'gensim': '4.3.1', 'python': '3.10.7 (tags/v3.10.7:6cc6b13, Sep  5 2022, 14:08:36) [MSC v.1933 64 bit (AMD64)]', 'platform': 'Windows-10-10.0.22621-SP0', 'event': 'prepare_vocab'}\n",
      "2023-03-13 18:45:50,544 : INFO : Word2Vec lifecycle event {'msg': 'effective_min_count=5 leaves 8843902 word corpus (98.98% of original 8934662, drops 90760)', 'datetime': '2023-03-13T18:45:50.544496', 'gensim': '4.3.1', 'python': '3.10.7 (tags/v3.10.7:6cc6b13, Sep  5 2022, 14:08:36) [MSC v.1933 64 bit (AMD64)]', 'platform': 'Windows-10-10.0.22621-SP0', 'event': 'prepare_vocab'}\n",
      "2023-03-13 18:45:50,654 : INFO : deleting the raw counts dictionary of 90876 items\n",
      "2023-03-13 18:45:50,657 : INFO : sample=0.001 downsamples 46 most-common words\n",
      "2023-03-13 18:45:50,658 : INFO : Word2Vec lifecycle event {'msg': 'downsampling leaves estimated 6720855.767776955 word corpus (76.0%% of prior 8843902)', 'datetime': '2023-03-13T18:45:50.658303', 'gensim': '4.3.1', 'python': '3.10.7 (tags/v3.10.7:6cc6b13, Sep  5 2022, 14:08:36) [MSC v.1933 64 bit (AMD64)]', 'platform': 'Windows-10-10.0.22621-SP0', 'event': 'prepare_vocab'}\n",
      "2023-03-13 18:45:50,819 : INFO : estimated required memory for 35633 words and 100 dimensions: 46322900 bytes\n",
      "2023-03-13 18:45:50,820 : INFO : resetting layer weights\n",
      "2023-03-13 18:45:50,831 : INFO : Word2Vec lifecycle event {'update': False, 'trim_rule': 'None', 'datetime': '2023-03-13T18:45:50.831134', 'gensim': '4.3.1', 'python': '3.10.7 (tags/v3.10.7:6cc6b13, Sep  5 2022, 14:08:36) [MSC v.1933 64 bit (AMD64)]', 'platform': 'Windows-10-10.0.22621-SP0', 'event': 'build_vocab'}\n",
      "2023-03-13 18:45:50,832 : INFO : Word2Vec lifecycle event {'msg': 'training model with 3 workers on 35633 vocabulary and 100 features, using sg=1 hs=0 sample=0.001 negative=5 window=3 shrink_windows=True', 'datetime': '2023-03-13T18:45:50.832120', 'gensim': '4.3.1', 'python': '3.10.7 (tags/v3.10.7:6cc6b13, Sep  5 2022, 14:08:36) [MSC v.1933 64 bit (AMD64)]', 'platform': 'Windows-10-10.0.22621-SP0', 'event': 'train'}\n",
      "2023-03-13 18:45:51,849 : INFO : EPOCH 0 - PROGRESS: at 10.92% examples, 729326 words/s, in_qsize 5, out_qsize 0\n",
      "2023-03-13 18:45:52,866 : INFO : EPOCH 0 - PROGRESS: at 20.93% examples, 698865 words/s, in_qsize 5, out_qsize 0\n",
      "2023-03-13 18:45:53,881 : INFO : EPOCH 0 - PROGRESS: at 31.30% examples, 691807 words/s, in_qsize 5, out_qsize 0\n",
      "2023-03-13 18:45:54,885 : INFO : EPOCH 0 - PROGRESS: at 41.60% examples, 693563 words/s, in_qsize 5, out_qsize 0\n",
      "2023-03-13 18:45:55,902 : INFO : EPOCH 0 - PROGRESS: at 51.25% examples, 684225 words/s, in_qsize 5, out_qsize 0\n",
      "2023-03-13 18:45:56,915 : INFO : EPOCH 0 - PROGRESS: at 62.08% examples, 689377 words/s, in_qsize 6, out_qsize 0\n",
      "2023-03-13 18:45:57,920 : INFO : EPOCH 0 - PROGRESS: at 72.35% examples, 688125 words/s, in_qsize 6, out_qsize 0\n",
      "2023-03-13 18:45:58,927 : INFO : EPOCH 0 - PROGRESS: at 82.77% examples, 688021 words/s, in_qsize 6, out_qsize 0\n",
      "2023-03-13 18:45:59,928 : INFO : EPOCH 0 - PROGRESS: at 92.92% examples, 687140 words/s, in_qsize 6, out_qsize 0\n",
      "2023-03-13 18:46:00,621 : INFO : EPOCH 0: training on 8934662 raw words (6721535 effective words) took 9.8s, 686867 effective words/s\n",
      "2023-03-13 18:46:01,644 : INFO : EPOCH 1 - PROGRESS: at 10.73% examples, 711264 words/s, in_qsize 5, out_qsize 0\n",
      "2023-03-13 18:46:02,649 : INFO : EPOCH 1 - PROGRESS: at 21.07% examples, 704884 words/s, in_qsize 6, out_qsize 0\n",
      "2023-03-13 18:46:03,649 : INFO : EPOCH 1 - PROGRESS: at 31.29% examples, 696594 words/s, in_qsize 5, out_qsize 0\n",
      "2023-03-13 18:46:04,656 : INFO : EPOCH 1 - PROGRESS: at 40.55% examples, 678428 words/s, in_qsize 5, out_qsize 1\n",
      "2023-03-13 18:46:05,666 : INFO : EPOCH 1 - PROGRESS: at 50.09% examples, 671475 words/s, in_qsize 5, out_qsize 0\n",
      "2023-03-13 18:46:06,684 : INFO : EPOCH 1 - PROGRESS: at 60.63% examples, 675751 words/s, in_qsize 6, out_qsize 0\n",
      "2023-03-13 18:46:07,687 : INFO : EPOCH 1 - PROGRESS: at 71.43% examples, 681953 words/s, in_qsize 5, out_qsize 0\n",
      "2023-03-13 18:46:08,697 : INFO : EPOCH 1 - PROGRESS: at 82.19% examples, 685235 words/s, in_qsize 5, out_qsize 0\n",
      "2023-03-13 18:46:09,699 : INFO : EPOCH 1 - PROGRESS: at 92.55% examples, 686172 words/s, in_qsize 6, out_qsize 0\n",
      "2023-03-13 18:46:10,405 : INFO : EPOCH 1: training on 8934662 raw words (6722111 effective words) took 9.8s, 687337 effective words/s\n",
      "2023-03-13 18:46:11,425 : INFO : EPOCH 2 - PROGRESS: at 10.66% examples, 705450 words/s, in_qsize 6, out_qsize 0\n",
      "2023-03-13 18:46:12,441 : INFO : EPOCH 2 - PROGRESS: at 20.93% examples, 698215 words/s, in_qsize 5, out_qsize 0\n",
      "2023-03-13 18:46:13,454 : INFO : EPOCH 2 - PROGRESS: at 31.30% examples, 691434 words/s, in_qsize 5, out_qsize 0\n",
      "2023-03-13 18:46:14,459 : INFO : EPOCH 2 - PROGRESS: at 40.96% examples, 682409 words/s, in_qsize 6, out_qsize 0\n",
      "2023-03-13 18:46:15,473 : INFO : EPOCH 2 - PROGRESS: at 51.12% examples, 682791 words/s, in_qsize 5, out_qsize 0\n",
      "2023-03-13 18:46:16,482 : INFO : EPOCH 2 - PROGRESS: at 61.63% examples, 685001 words/s, in_qsize 5, out_qsize 1\n",
      "2023-03-13 18:46:17,500 : INFO : EPOCH 2 - PROGRESS: at 72.39% examples, 687381 words/s, in_qsize 5, out_qsize 2\n",
      "2023-03-13 18:46:18,505 : INFO : EPOCH 2 - PROGRESS: at 83.00% examples, 689311 words/s, in_qsize 5, out_qsize 0\n",
      "2023-03-13 18:46:19,512 : INFO : EPOCH 2 - PROGRESS: at 93.38% examples, 689383 words/s, in_qsize 5, out_qsize 0\n",
      "2023-03-13 18:46:20,158 : INFO : EPOCH 2: training on 8934662 raw words (6720207 effective words) took 9.7s, 689284 effective words/s\n",
      "2023-03-13 18:46:21,169 : INFO : EPOCH 3 - PROGRESS: at 10.35% examples, 691231 words/s, in_qsize 6, out_qsize 0\n",
      "2023-03-13 18:46:22,174 : INFO : EPOCH 3 - PROGRESS: at 20.04% examples, 675863 words/s, in_qsize 5, out_qsize 0\n",
      "2023-03-13 18:46:23,182 : INFO : EPOCH 3 - PROGRESS: at 30.21% examples, 675404 words/s, in_qsize 6, out_qsize 0\n",
      "2023-03-13 18:46:24,184 : INFO : EPOCH 3 - PROGRESS: at 40.31% examples, 676374 words/s, in_qsize 5, out_qsize 0\n",
      "2023-03-13 18:46:25,187 : INFO : EPOCH 3 - PROGRESS: at 50.41% examples, 677892 words/s, in_qsize 4, out_qsize 2\n",
      "2023-03-13 18:46:26,201 : INFO : EPOCH 3 - PROGRESS: at 60.86% examples, 680563 words/s, in_qsize 5, out_qsize 1\n",
      "2023-03-13 18:46:27,204 : INFO : EPOCH 3 - PROGRESS: at 71.55% examples, 685038 words/s, in_qsize 5, out_qsize 0\n",
      "2023-03-13 18:46:28,206 : INFO : EPOCH 3 - PROGRESS: at 81.89% examples, 684867 words/s, in_qsize 5, out_qsize 0\n",
      "2023-03-13 18:46:29,207 : INFO : EPOCH 3 - PROGRESS: at 92.19% examples, 685895 words/s, in_qsize 6, out_qsize 0\n",
      "2023-03-13 18:46:29,955 : INFO : EPOCH 3: training on 8934662 raw words (6721386 effective words) took 9.8s, 686373 effective words/s\n",
      "2023-03-13 18:46:30,965 : INFO : EPOCH 4 - PROGRESS: at 10.46% examples, 697529 words/s, in_qsize 6, out_qsize 0\n",
      "2023-03-13 18:46:31,974 : INFO : EPOCH 4 - PROGRESS: at 20.71% examples, 696936 words/s, in_qsize 5, out_qsize 0\n",
      "2023-03-13 18:46:32,975 : INFO : EPOCH 4 - PROGRESS: at 31.30% examples, 698790 words/s, in_qsize 4, out_qsize 0\n",
      "2023-03-13 18:46:33,975 : INFO : EPOCH 4 - PROGRESS: at 41.39% examples, 695556 words/s, in_qsize 6, out_qsize 0\n",
      "2023-03-13 18:46:34,980 : INFO : EPOCH 4 - PROGRESS: at 51.70% examples, 696208 words/s, in_qsize 5, out_qsize 0\n",
      "2023-03-13 18:46:35,993 : INFO : EPOCH 4 - PROGRESS: at 61.85% examples, 692081 words/s, in_qsize 6, out_qsize 0\n",
      "2023-03-13 18:46:36,993 : INFO : EPOCH 4 - PROGRESS: at 72.35% examples, 692981 words/s, in_qsize 6, out_qsize 0\n",
      "2023-03-13 18:46:37,999 : INFO : EPOCH 4 - PROGRESS: at 82.88% examples, 693252 words/s, in_qsize 5, out_qsize 0\n"
     ]
    },
    {
     "name": "stderr",
     "output_type": "stream",
     "text": [
      "2023-03-13 18:46:39,001 : INFO : EPOCH 4 - PROGRESS: at 92.78% examples, 690049 words/s, in_qsize 5, out_qsize 0\n",
      "2023-03-13 18:46:39,712 : INFO : EPOCH 4: training on 8934662 raw words (6720829 effective words) took 9.8s, 689023 effective words/s\n",
      "2023-03-13 18:46:39,714 : INFO : Word2Vec lifecycle event {'msg': 'training on 44673310 raw words (33606068 effective words) took 48.9s, 687506 effective words/s', 'datetime': '2023-03-13T18:46:39.714710', 'gensim': '4.3.1', 'python': '3.10.7 (tags/v3.10.7:6cc6b13, Sep  5 2022, 14:08:36) [MSC v.1933 64 bit (AMD64)]', 'platform': 'Windows-10-10.0.22621-SP0', 'event': 'train'}\n",
      "2023-03-13 18:46:39,714 : INFO : Word2Vec lifecycle event {'params': 'Word2Vec<vocab=35633, vector_size=100, alpha=0.025>', 'datetime': '2023-03-13T18:46:39.714710', 'gensim': '4.3.1', 'python': '3.10.7 (tags/v3.10.7:6cc6b13, Sep  5 2022, 14:08:36) [MSC v.1933 64 bit (AMD64)]', 'platform': 'Windows-10-10.0.22621-SP0', 'event': 'created'}\n",
      "2023-03-13 18:46:39,716 : WARNING : Effective 'alpha' higher than previous training cycles\n",
      "2023-03-13 18:46:39,716 : INFO : Word2Vec lifecycle event {'msg': 'training model with 3 workers on 35633 vocabulary and 100 features, using sg=1 hs=0 sample=0.001 negative=5 window=3 shrink_windows=True', 'datetime': '2023-03-13T18:46:39.716224', 'gensim': '4.3.1', 'python': '3.10.7 (tags/v3.10.7:6cc6b13, Sep  5 2022, 14:08:36) [MSC v.1933 64 bit (AMD64)]', 'platform': 'Windows-10-10.0.22621-SP0', 'event': 'train'}\n",
      "2023-03-13 18:46:40,722 : INFO : EPOCH 0 - PROGRESS: at 10.34% examples, 693584 words/s, in_qsize 5, out_qsize 0\n",
      "2023-03-13 18:46:41,726 : INFO : EPOCH 0 - PROGRESS: at 20.60% examples, 696516 words/s, in_qsize 5, out_qsize 0\n",
      "2023-03-13 18:46:42,734 : INFO : EPOCH 0 - PROGRESS: at 30.93% examples, 691695 words/s, in_qsize 6, out_qsize 1\n",
      "2023-03-13 18:46:43,746 : INFO : EPOCH 0 - PROGRESS: at 41.28% examples, 692187 words/s, in_qsize 6, out_qsize 0\n",
      "2023-03-13 18:46:44,748 : INFO : EPOCH 0 - PROGRESS: at 51.48% examples, 692598 words/s, in_qsize 5, out_qsize 0\n",
      "2023-03-13 18:46:45,750 : INFO : EPOCH 0 - PROGRESS: at 61.30% examples, 686649 words/s, in_qsize 6, out_qsize 0\n",
      "2023-03-13 18:46:46,751 : INFO : EPOCH 0 - PROGRESS: at 71.32% examples, 684057 words/s, in_qsize 6, out_qsize 0\n",
      "2023-03-13 18:46:47,768 : INFO : EPOCH 0 - PROGRESS: at 81.79% examples, 683711 words/s, in_qsize 6, out_qsize 0\n",
      "2023-03-13 18:46:48,772 : INFO : EPOCH 0 - PROGRESS: at 91.75% examples, 682182 words/s, in_qsize 5, out_qsize 0\n",
      "2023-03-13 18:46:49,562 : INFO : EPOCH 0: training on 8934662 raw words (6722657 effective words) took 9.8s, 683141 effective words/s\n",
      "2023-03-13 18:46:50,566 : INFO : EPOCH 1 - PROGRESS: at 10.06% examples, 671723 words/s, in_qsize 6, out_qsize 0\n",
      "2023-03-13 18:46:51,570 : INFO : EPOCH 1 - PROGRESS: at 20.41% examples, 689221 words/s, in_qsize 5, out_qsize 0\n",
      "2023-03-13 18:46:52,576 : INFO : EPOCH 1 - PROGRESS: at 30.68% examples, 687321 words/s, in_qsize 5, out_qsize 0\n",
      "2023-03-13 18:46:53,584 : INFO : EPOCH 1 - PROGRESS: at 40.44% examples, 678659 words/s, in_qsize 6, out_qsize 1\n",
      "2023-03-13 18:46:54,598 : INFO : EPOCH 1 - PROGRESS: at 50.79% examples, 682658 words/s, in_qsize 5, out_qsize 0\n",
      "2023-03-13 18:46:55,608 : INFO : EPOCH 1 - PROGRESS: at 61.20% examples, 683689 words/s, in_qsize 6, out_qsize 0\n",
      "2023-03-13 18:46:56,608 : INFO : EPOCH 1 - PROGRESS: at 71.32% examples, 682620 words/s, in_qsize 4, out_qsize 1\n",
      "2023-03-13 18:46:57,616 : INFO : EPOCH 1 - PROGRESS: at 82.08% examples, 685942 words/s, in_qsize 5, out_qsize 0\n",
      "2023-03-13 18:46:58,620 : INFO : EPOCH 1 - PROGRESS: at 92.55% examples, 687430 words/s, in_qsize 5, out_qsize 0\n",
      "2023-03-13 18:46:59,319 : INFO : EPOCH 1: training on 8934662 raw words (6720760 effective words) took 9.8s, 689019 effective words/s\n",
      "2023-03-13 18:47:00,324 : INFO : EPOCH 2 - PROGRESS: at 9.85% examples, 658034 words/s, in_qsize 6, out_qsize 0\n",
      "2023-03-13 18:47:01,336 : INFO : EPOCH 2 - PROGRESS: at 20.16% examples, 678750 words/s, in_qsize 5, out_qsize 1\n",
      "2023-03-13 18:47:02,339 : INFO : EPOCH 2 - PROGRESS: at 30.68% examples, 686210 words/s, in_qsize 5, out_qsize 0\n",
      "2023-03-13 18:47:03,340 : INFO : EPOCH 2 - PROGRESS: at 41.08% examples, 690029 words/s, in_qsize 5, out_qsize 0\n",
      "2023-03-13 18:47:04,353 : INFO : EPOCH 2 - PROGRESS: at 51.12% examples, 687691 words/s, in_qsize 6, out_qsize 0\n",
      "2023-03-13 18:47:05,352 : INFO : EPOCH 2 - PROGRESS: at 61.75% examples, 691429 words/s, in_qsize 6, out_qsize 0\n",
      "2023-03-13 18:47:06,361 : INFO : EPOCH 2 - PROGRESS: at 71.66% examples, 686434 words/s, in_qsize 5, out_qsize 0\n",
      "2023-03-13 18:47:07,366 : INFO : EPOCH 2 - PROGRESS: at 82.41% examples, 689567 words/s, in_qsize 6, out_qsize 0\n",
      "2023-03-13 18:47:08,373 : INFO : EPOCH 2 - PROGRESS: at 92.43% examples, 687080 words/s, in_qsize 6, out_qsize 1\n",
      "2023-03-13 18:47:09,117 : INFO : EPOCH 2: training on 8934662 raw words (6722134 effective words) took 9.8s, 686351 effective words/s\n",
      "2023-03-13 18:47:10,128 : INFO : EPOCH 3 - PROGRESS: at 10.34% examples, 689764 words/s, in_qsize 5, out_qsize 0\n",
      "2023-03-13 18:47:11,131 : INFO : EPOCH 3 - PROGRESS: at 20.71% examples, 698290 words/s, in_qsize 6, out_qsize 0\n",
      "2023-03-13 18:47:12,132 : INFO : EPOCH 3 - PROGRESS: at 31.05% examples, 694583 words/s, in_qsize 6, out_qsize 0\n",
      "2023-03-13 18:47:13,135 : INFO : EPOCH 3 - PROGRESS: at 41.49% examples, 697603 words/s, in_qsize 5, out_qsize 0\n",
      "2023-03-13 18:47:14,148 : INFO : EPOCH 3 - PROGRESS: at 51.60% examples, 693871 words/s, in_qsize 5, out_qsize 0\n",
      "2023-03-13 18:47:15,149 : INFO : EPOCH 3 - PROGRESS: at 62.08% examples, 695147 words/s, in_qsize 5, out_qsize 0\n",
      "2023-03-13 18:47:16,157 : INFO : EPOCH 3 - PROGRESS: at 72.35% examples, 692771 words/s, in_qsize 5, out_qsize 0\n",
      "2023-03-13 18:47:17,158 : INFO : EPOCH 3 - PROGRESS: at 81.38% examples, 680632 words/s, in_qsize 5, out_qsize 0\n",
      "2023-03-13 18:47:18,182 : INFO : EPOCH 3 - PROGRESS: at 88.78% examples, 658381 words/s, in_qsize 5, out_qsize 0\n",
      "2023-03-13 18:47:19,199 : INFO : EPOCH 3 - PROGRESS: at 97.66% examples, 651268 words/s, in_qsize 6, out_qsize 0\n",
      "2023-03-13 18:47:19,416 : INFO : EPOCH 3: training on 8934662 raw words (6720480 effective words) took 10.3s, 652720 effective words/s\n",
      "2023-03-13 18:47:20,427 : INFO : EPOCH 4 - PROGRESS: at 9.43% examples, 623785 words/s, in_qsize 5, out_qsize 0\n",
      "2023-03-13 18:47:21,429 : INFO : EPOCH 4 - PROGRESS: at 19.81% examples, 669078 words/s, in_qsize 4, out_qsize 0\n",
      "2023-03-13 18:47:22,434 : INFO : EPOCH 4 - PROGRESS: at 30.21% examples, 676526 words/s, in_qsize 5, out_qsize 0\n",
      "2023-03-13 18:47:23,439 : INFO : EPOCH 4 - PROGRESS: at 40.44% examples, 678446 words/s, in_qsize 5, out_qsize 0\n",
      "2023-03-13 18:47:24,448 : INFO : EPOCH 4 - PROGRESS: at 50.80% examples, 683262 words/s, in_qsize 5, out_qsize 0\n",
      "2023-03-13 18:47:25,465 : INFO : EPOCH 4 - PROGRESS: at 61.52% examples, 687038 words/s, in_qsize 5, out_qsize 0\n",
      "2023-03-13 18:47:26,481 : INFO : EPOCH 4 - PROGRESS: at 72.48% examples, 691394 words/s, in_qsize 6, out_qsize 0\n",
      "2023-03-13 18:47:27,497 : INFO : EPOCH 4 - PROGRESS: at 83.56% examples, 695503 words/s, in_qsize 6, out_qsize 0\n",
      "2023-03-13 18:47:28,501 : INFO : EPOCH 4 - PROGRESS: at 94.39% examples, 698441 words/s, in_qsize 6, out_qsize 0\n",
      "2023-03-13 18:47:29,019 : INFO : EPOCH 4: training on 8934662 raw words (6720366 effective words) took 9.6s, 700150 effective words/s\n",
      "2023-03-13 18:47:29,020 : INFO : Word2Vec lifecycle event {'msg': 'training on 44673310 raw words (33606397 effective words) took 49.3s, 681632 effective words/s', 'datetime': '2023-03-13T18:47:29.020373', 'gensim': '4.3.1', 'python': '3.10.7 (tags/v3.10.7:6cc6b13, Sep  5 2022, 14:08:36) [MSC v.1933 64 bit (AMD64)]', 'platform': 'Windows-10-10.0.22621-SP0', 'event': 'train'}\n",
      "2023-03-13 18:47:39,973 : INFO : collecting all words and their counts\n",
      "2023-03-13 18:47:39,973 : INFO : PROGRESS: at sentence #0, processed 0 words, keeping 0 word types\n"
     ]
    },
    {
     "name": "stdout",
     "output_type": "stream",
     "text": [
      "0.865075\n",
      "0.861\n",
      "loop running for ith value:5\n"
     ]
    },
    {
     "name": "stderr",
     "output_type": "stream",
     "text": [
      "2023-03-13 18:47:40,189 : INFO : PROGRESS: at sentence #10000, processed 2247945 words, keeping 51708 word types\n",
      "2023-03-13 18:47:40,415 : INFO : PROGRESS: at sentence #20000, processed 4491090 words, keeping 68759 word types\n",
      "2023-03-13 18:47:40,643 : INFO : PROGRESS: at sentence #30000, processed 6711920 words, keeping 81013 word types\n",
      "2023-03-13 18:47:40,874 : INFO : collected 90876 word types from a corpus of 8934662 raw words and 40000 sentences\n",
      "2023-03-13 18:47:40,875 : INFO : Creating a fresh vocabulary\n",
      "2023-03-13 18:47:40,954 : INFO : Word2Vec lifecycle event {'msg': 'effective_min_count=5 retains 35633 unique words (39.21% of original 90876, drops 55243)', 'datetime': '2023-03-13T18:47:40.954457', 'gensim': '4.3.1', 'python': '3.10.7 (tags/v3.10.7:6cc6b13, Sep  5 2022, 14:08:36) [MSC v.1933 64 bit (AMD64)]', 'platform': 'Windows-10-10.0.22621-SP0', 'event': 'prepare_vocab'}\n",
      "2023-03-13 18:47:40,955 : INFO : Word2Vec lifecycle event {'msg': 'effective_min_count=5 leaves 8843902 word corpus (98.98% of original 8934662, drops 90760)', 'datetime': '2023-03-13T18:47:40.955354', 'gensim': '4.3.1', 'python': '3.10.7 (tags/v3.10.7:6cc6b13, Sep  5 2022, 14:08:36) [MSC v.1933 64 bit (AMD64)]', 'platform': 'Windows-10-10.0.22621-SP0', 'event': 'prepare_vocab'}\n",
      "2023-03-13 18:47:41,060 : INFO : deleting the raw counts dictionary of 90876 items\n",
      "2023-03-13 18:47:41,064 : INFO : sample=0.001 downsamples 46 most-common words\n",
      "2023-03-13 18:47:41,065 : INFO : Word2Vec lifecycle event {'msg': 'downsampling leaves estimated 6720855.767776955 word corpus (76.0%% of prior 8843902)', 'datetime': '2023-03-13T18:47:41.065164', 'gensim': '4.3.1', 'python': '3.10.7 (tags/v3.10.7:6cc6b13, Sep  5 2022, 14:08:36) [MSC v.1933 64 bit (AMD64)]', 'platform': 'Windows-10-10.0.22621-SP0', 'event': 'prepare_vocab'}\n",
      "2023-03-13 18:47:41,221 : INFO : estimated required memory for 35633 words and 100 dimensions: 46322900 bytes\n",
      "2023-03-13 18:47:41,222 : INFO : resetting layer weights\n",
      "2023-03-13 18:47:41,234 : INFO : Word2Vec lifecycle event {'update': False, 'trim_rule': 'None', 'datetime': '2023-03-13T18:47:41.234320', 'gensim': '4.3.1', 'python': '3.10.7 (tags/v3.10.7:6cc6b13, Sep  5 2022, 14:08:36) [MSC v.1933 64 bit (AMD64)]', 'platform': 'Windows-10-10.0.22621-SP0', 'event': 'build_vocab'}\n",
      "2023-03-13 18:47:41,235 : INFO : Word2Vec lifecycle event {'msg': 'training model with 3 workers on 35633 vocabulary and 100 features, using sg=1 hs=0 sample=0.001 negative=5 window=5 shrink_windows=True', 'datetime': '2023-03-13T18:47:41.235364', 'gensim': '4.3.1', 'python': '3.10.7 (tags/v3.10.7:6cc6b13, Sep  5 2022, 14:08:36) [MSC v.1933 64 bit (AMD64)]', 'platform': 'Windows-10-10.0.22621-SP0', 'event': 'train'}\n",
      "2023-03-13 18:47:42,239 : INFO : EPOCH 0 - PROGRESS: at 7.84% examples, 524685 words/s, in_qsize 5, out_qsize 0\n",
      "2023-03-13 18:47:43,257 : INFO : EPOCH 0 - PROGRESS: at 15.78% examples, 530691 words/s, in_qsize 5, out_qsize 0\n",
      "2023-03-13 18:47:44,269 : INFO : EPOCH 0 - PROGRESS: at 23.91% examples, 534102 words/s, in_qsize 5, out_qsize 0\n",
      "2023-03-13 18:47:45,289 : INFO : EPOCH 0 - PROGRESS: at 32.31% examples, 536809 words/s, in_qsize 6, out_qsize 0\n",
      "2023-03-13 18:47:46,308 : INFO : EPOCH 0 - PROGRESS: at 40.31% examples, 536763 words/s, in_qsize 6, out_qsize 0\n",
      "2023-03-13 18:47:47,324 : INFO : EPOCH 0 - PROGRESS: at 48.22% examples, 535679 words/s, in_qsize 6, out_qsize 0\n",
      "2023-03-13 18:47:48,328 : INFO : EPOCH 0 - PROGRESS: at 56.24% examples, 536820 words/s, in_qsize 6, out_qsize 0\n",
      "2023-03-13 18:47:49,350 : INFO : EPOCH 0 - PROGRESS: at 64.07% examples, 532950 words/s, in_qsize 5, out_qsize 0\n",
      "2023-03-13 18:47:50,358 : INFO : EPOCH 0 - PROGRESS: at 71.68% examples, 529639 words/s, in_qsize 5, out_qsize 0\n",
      "2023-03-13 18:47:51,375 : INFO : EPOCH 0 - PROGRESS: at 79.19% examples, 525205 words/s, in_qsize 6, out_qsize 0\n",
      "2023-03-13 18:47:52,398 : INFO : EPOCH 0 - PROGRESS: at 86.78% examples, 522777 words/s, in_qsize 5, out_qsize 0\n",
      "2023-03-13 18:47:53,405 : INFO : EPOCH 0 - PROGRESS: at 94.29% examples, 520847 words/s, in_qsize 5, out_qsize 0\n",
      "2023-03-13 18:47:54,171 : INFO : EPOCH 0: training on 8934662 raw words (6722186 effective words) took 12.9s, 519815 effective words/s\n",
      "2023-03-13 18:47:55,183 : INFO : EPOCH 1 - PROGRESS: at 7.31% examples, 483527 words/s, in_qsize 6, out_qsize 0\n",
      "2023-03-13 18:47:56,184 : INFO : EPOCH 1 - PROGRESS: at 14.55% examples, 491991 words/s, in_qsize 5, out_qsize 0\n",
      "2023-03-13 18:47:57,189 : INFO : EPOCH 1 - PROGRESS: at 22.07% examples, 495118 words/s, in_qsize 6, out_qsize 0\n",
      "2023-03-13 18:47:58,199 : INFO : EPOCH 1 - PROGRESS: at 29.55% examples, 495568 words/s, in_qsize 6, out_qsize 0\n",
      "2023-03-13 18:47:59,206 : INFO : EPOCH 1 - PROGRESS: at 36.23% examples, 484407 words/s, in_qsize 4, out_qsize 1\n",
      "2023-03-13 18:48:00,213 : INFO : EPOCH 1 - PROGRESS: at 42.81% examples, 478239 words/s, in_qsize 6, out_qsize 0\n",
      "2023-03-13 18:48:01,236 : INFO : EPOCH 1 - PROGRESS: at 49.66% examples, 474900 words/s, in_qsize 5, out_qsize 0\n",
      "2023-03-13 18:48:02,241 : INFO : EPOCH 1 - PROGRESS: at 57.06% examples, 477970 words/s, in_qsize 6, out_qsize 0\n",
      "2023-03-13 18:48:03,245 : INFO : EPOCH 1 - PROGRESS: at 64.61% examples, 480473 words/s, in_qsize 5, out_qsize 0\n",
      "2023-03-13 18:48:04,252 : INFO : EPOCH 1 - PROGRESS: at 72.04% examples, 481363 words/s, in_qsize 6, out_qsize 0\n",
      "2023-03-13 18:48:05,262 : INFO : EPOCH 1 - PROGRESS: at 79.87% examples, 483975 words/s, in_qsize 5, out_qsize 0\n",
      "2023-03-13 18:48:06,264 : INFO : EPOCH 1 - PROGRESS: at 87.12% examples, 484163 words/s, in_qsize 6, out_qsize 1\n",
      "2023-03-13 18:48:07,273 : INFO : EPOCH 1 - PROGRESS: at 94.83% examples, 486420 words/s, in_qsize 5, out_qsize 0\n",
      "2023-03-13 18:48:07,951 : INFO : EPOCH 1: training on 8934662 raw words (6719856 effective words) took 13.8s, 487747 effective words/s\n",
      "2023-03-13 18:48:08,960 : INFO : EPOCH 2 - PROGRESS: at 7.52% examples, 499791 words/s, in_qsize 5, out_qsize 0\n",
      "2023-03-13 18:48:09,967 : INFO : EPOCH 2 - PROGRESS: at 14.75% examples, 498671 words/s, in_qsize 5, out_qsize 0\n",
      "2023-03-13 18:48:10,984 : INFO : EPOCH 2 - PROGRESS: at 22.54% examples, 502381 words/s, in_qsize 5, out_qsize 0\n",
      "2023-03-13 18:48:11,996 : INFO : EPOCH 2 - PROGRESS: at 30.08% examples, 502559 words/s, in_qsize 6, out_qsize 0\n",
      "2023-03-13 18:48:13,006 : INFO : EPOCH 2 - PROGRESS: at 37.81% examples, 504470 words/s, in_qsize 5, out_qsize 0\n",
      "2023-03-13 18:48:14,029 : INFO : EPOCH 2 - PROGRESS: at 45.40% examples, 503554 words/s, in_qsize 6, out_qsize 0\n",
      "2023-03-13 18:48:15,030 : INFO : EPOCH 2 - PROGRESS: at 52.62% examples, 503285 words/s, in_qsize 5, out_qsize 0\n",
      "2023-03-13 18:48:16,043 : INFO : EPOCH 2 - PROGRESS: at 60.28% examples, 503249 words/s, in_qsize 5, out_qsize 1\n",
      "2023-03-13 18:48:17,053 : INFO : EPOCH 2 - PROGRESS: at 67.92% examples, 503318 words/s, in_qsize 6, out_qsize 0\n",
      "2023-03-13 18:48:18,056 : INFO : EPOCH 2 - PROGRESS: at 75.60% examples, 503558 words/s, in_qsize 6, out_qsize 0\n",
      "2023-03-13 18:48:19,063 : INFO : EPOCH 2 - PROGRESS: at 83.10% examples, 503048 words/s, in_qsize 6, out_qsize 0\n",
      "2023-03-13 18:48:20,078 : INFO : EPOCH 2 - PROGRESS: at 90.72% examples, 502979 words/s, in_qsize 6, out_qsize 0\n",
      "2023-03-13 18:48:21,086 : INFO : EPOCH 2 - PROGRESS: at 98.33% examples, 503237 words/s, in_qsize 5, out_qsize 0\n",
      "2023-03-13 18:48:21,305 : INFO : EPOCH 2: training on 8934662 raw words (6719873 effective words) took 13.4s, 503358 effective words/s\n",
      "2023-03-13 18:48:22,322 : INFO : EPOCH 3 - PROGRESS: at 7.63% examples, 503260 words/s, in_qsize 6, out_qsize 0\n",
      "2023-03-13 18:48:23,327 : INFO : EPOCH 3 - PROGRESS: at 15.00% examples, 504433 words/s, in_qsize 6, out_qsize 1\n",
      "2023-03-13 18:48:24,328 : INFO : EPOCH 3 - PROGRESS: at 22.64% examples, 506626 words/s, in_qsize 6, out_qsize 0\n",
      "2023-03-13 18:48:25,337 : INFO : EPOCH 3 - PROGRESS: at 30.32% examples, 508005 words/s, in_qsize 5, out_qsize 0\n",
      "2023-03-13 18:48:26,350 : INFO : EPOCH 3 - PROGRESS: at 37.93% examples, 506983 words/s, in_qsize 5, out_qsize 0\n",
      "2023-03-13 18:48:27,364 : INFO : EPOCH 3 - PROGRESS: at 45.59% examples, 507520 words/s, in_qsize 6, out_qsize 0\n",
      "2023-03-13 18:48:28,376 : INFO : EPOCH 3 - PROGRESS: at 53.05% examples, 507848 words/s, in_qsize 5, out_qsize 0\n"
     ]
    },
    {
     "name": "stderr",
     "output_type": "stream",
     "text": [
      "2023-03-13 18:48:29,402 : INFO : EPOCH 3 - PROGRESS: at 60.73% examples, 506551 words/s, in_qsize 5, out_qsize 0\n",
      "2023-03-13 18:48:30,406 : INFO : EPOCH 3 - PROGRESS: at 68.42% examples, 507389 words/s, in_qsize 5, out_qsize 0\n",
      "2023-03-13 18:48:31,406 : INFO : EPOCH 3 - PROGRESS: at 76.19% examples, 507410 words/s, in_qsize 5, out_qsize 0\n",
      "2023-03-13 18:48:32,411 : INFO : EPOCH 3 - PROGRESS: at 83.93% examples, 507918 words/s, in_qsize 6, out_qsize 0\n",
      "2023-03-13 18:48:33,422 : INFO : EPOCH 3 - PROGRESS: at 91.56% examples, 508236 words/s, in_qsize 6, out_qsize 0\n",
      "2023-03-13 18:48:34,430 : INFO : EPOCH 3 - PROGRESS: at 99.33% examples, 508643 words/s, in_qsize 5, out_qsize 1\n",
      "2023-03-13 18:48:34,505 : INFO : EPOCH 3: training on 8934662 raw words (6719702 effective words) took 13.2s, 509151 effective words/s\n",
      "2023-03-13 18:48:35,523 : INFO : EPOCH 4 - PROGRESS: at 7.63% examples, 503303 words/s, in_qsize 5, out_qsize 0\n",
      "2023-03-13 18:48:36,529 : INFO : EPOCH 4 - PROGRESS: at 15.12% examples, 507863 words/s, in_qsize 5, out_qsize 0\n",
      "2023-03-13 18:48:37,547 : INFO : EPOCH 4 - PROGRESS: at 22.96% examples, 510554 words/s, in_qsize 6, out_qsize 0\n",
      "2023-03-13 18:48:38,548 : INFO : EPOCH 4 - PROGRESS: at 30.80% examples, 513864 words/s, in_qsize 5, out_qsize 0\n",
      "2023-03-13 18:48:39,557 : INFO : EPOCH 4 - PROGRESS: at 38.47% examples, 513492 words/s, in_qsize 6, out_qsize 0\n",
      "2023-03-13 18:48:40,558 : INFO : EPOCH 4 - PROGRESS: at 46.31% examples, 516471 words/s, in_qsize 6, out_qsize 0\n",
      "2023-03-13 18:48:41,573 : INFO : EPOCH 4 - PROGRESS: at 53.83% examples, 515436 words/s, in_qsize 5, out_qsize 0\n",
      "2023-03-13 18:48:42,575 : INFO : EPOCH 4 - PROGRESS: at 61.75% examples, 516612 words/s, in_qsize 6, out_qsize 0\n",
      "2023-03-13 18:48:43,587 : INFO : EPOCH 4 - PROGRESS: at 69.44% examples, 515709 words/s, in_qsize 5, out_qsize 0\n",
      "2023-03-13 18:48:44,609 : INFO : EPOCH 4 - PROGRESS: at 77.48% examples, 515965 words/s, in_qsize 6, out_qsize 0\n",
      "2023-03-13 18:48:45,610 : INFO : EPOCH 4 - PROGRESS: at 85.14% examples, 515316 words/s, in_qsize 5, out_qsize 0\n",
      "2023-03-13 18:48:46,621 : INFO : EPOCH 4 - PROGRESS: at 92.31% examples, 512620 words/s, in_qsize 6, out_qsize 0\n",
      "2023-03-13 18:48:47,627 : INFO : EPOCH 4 - PROGRESS: at 99.56% examples, 509900 words/s, in_qsize 5, out_qsize 0\n",
      "2023-03-13 18:48:47,672 : INFO : EPOCH 4: training on 8934662 raw words (6719982 effective words) took 13.2s, 510465 effective words/s\n",
      "2023-03-13 18:48:47,673 : INFO : Word2Vec lifecycle event {'msg': 'training on 44673310 raw words (33601599 effective words) took 66.4s, 505760 effective words/s', 'datetime': '2023-03-13T18:48:47.673790', 'gensim': '4.3.1', 'python': '3.10.7 (tags/v3.10.7:6cc6b13, Sep  5 2022, 14:08:36) [MSC v.1933 64 bit (AMD64)]', 'platform': 'Windows-10-10.0.22621-SP0', 'event': 'train'}\n",
      "2023-03-13 18:48:47,674 : INFO : Word2Vec lifecycle event {'params': 'Word2Vec<vocab=35633, vector_size=100, alpha=0.025>', 'datetime': '2023-03-13T18:48:47.674618', 'gensim': '4.3.1', 'python': '3.10.7 (tags/v3.10.7:6cc6b13, Sep  5 2022, 14:08:36) [MSC v.1933 64 bit (AMD64)]', 'platform': 'Windows-10-10.0.22621-SP0', 'event': 'created'}\n",
      "2023-03-13 18:48:47,675 : WARNING : Effective 'alpha' higher than previous training cycles\n",
      "2023-03-13 18:48:47,676 : INFO : Word2Vec lifecycle event {'msg': 'training model with 3 workers on 35633 vocabulary and 100 features, using sg=1 hs=0 sample=0.001 negative=5 window=5 shrink_windows=True', 'datetime': '2023-03-13T18:48:47.676137', 'gensim': '4.3.1', 'python': '3.10.7 (tags/v3.10.7:6cc6b13, Sep  5 2022, 14:08:36) [MSC v.1933 64 bit (AMD64)]', 'platform': 'Windows-10-10.0.22621-SP0', 'event': 'train'}\n",
      "2023-03-13 18:48:48,686 : INFO : EPOCH 0 - PROGRESS: at 7.42% examples, 491873 words/s, in_qsize 5, out_qsize 0\n",
      "2023-03-13 18:48:49,688 : INFO : EPOCH 0 - PROGRESS: at 14.87% examples, 503248 words/s, in_qsize 6, out_qsize 0\n",
      "2023-03-13 18:48:50,699 : INFO : EPOCH 0 - PROGRESS: at 22.64% examples, 506437 words/s, in_qsize 6, out_qsize 0\n",
      "2023-03-13 18:48:51,708 : INFO : EPOCH 0 - PROGRESS: at 30.32% examples, 508071 words/s, in_qsize 5, out_qsize 0\n",
      "2023-03-13 18:48:52,711 : INFO : EPOCH 0 - PROGRESS: at 37.93% examples, 508101 words/s, in_qsize 5, out_qsize 0\n",
      "2023-03-13 18:48:53,739 : INFO : EPOCH 0 - PROGRESS: at 45.69% examples, 508584 words/s, in_qsize 6, out_qsize 0\n",
      "2023-03-13 18:48:54,742 : INFO : EPOCH 0 - PROGRESS: at 53.18% examples, 509410 words/s, in_qsize 5, out_qsize 0\n",
      "2023-03-13 18:48:55,744 : INFO : EPOCH 0 - PROGRESS: at 60.96% examples, 510388 words/s, in_qsize 6, out_qsize 0\n",
      "2023-03-13 18:48:56,746 : INFO : EPOCH 0 - PROGRESS: at 68.30% examples, 508371 words/s, in_qsize 5, out_qsize 0\n",
      "2023-03-13 18:48:57,760 : INFO : EPOCH 0 - PROGRESS: at 76.08% examples, 507552 words/s, in_qsize 5, out_qsize 0\n",
      "2023-03-13 18:48:58,767 : INFO : EPOCH 0 - PROGRESS: at 83.44% examples, 505954 words/s, in_qsize 6, out_qsize 0\n",
      "2023-03-13 18:48:59,771 : INFO : EPOCH 0 - PROGRESS: at 91.02% examples, 506175 words/s, in_qsize 4, out_qsize 0\n",
      "2023-03-13 18:49:00,786 : INFO : EPOCH 0 - PROGRESS: at 98.67% examples, 505872 words/s, in_qsize 5, out_qsize 0\n",
      "2023-03-13 18:49:00,949 : INFO : EPOCH 0: training on 8934662 raw words (6720187 effective words) took 13.3s, 506434 effective words/s\n",
      "2023-03-13 18:49:01,963 : INFO : EPOCH 1 - PROGRESS: at 7.63% examples, 504614 words/s, in_qsize 5, out_qsize 0\n",
      "2023-03-13 18:49:02,971 : INFO : EPOCH 1 - PROGRESS: at 15.12% examples, 508053 words/s, in_qsize 5, out_qsize 0\n",
      "2023-03-13 18:49:03,983 : INFO : EPOCH 1 - PROGRESS: at 22.76% examples, 507000 words/s, in_qsize 6, out_qsize 0\n",
      "2023-03-13 18:49:05,001 : INFO : EPOCH 1 - PROGRESS: at 30.46% examples, 507380 words/s, in_qsize 5, out_qsize 0\n",
      "2023-03-13 18:49:06,006 : INFO : EPOCH 1 - PROGRESS: at 38.15% examples, 508820 words/s, in_qsize 6, out_qsize 0\n",
      "2023-03-13 18:49:07,015 : INFO : EPOCH 1 - PROGRESS: at 45.70% examples, 508285 words/s, in_qsize 6, out_qsize 0\n",
      "2023-03-13 18:49:08,029 : INFO : EPOCH 1 - PROGRESS: at 53.27% examples, 509445 words/s, in_qsize 6, out_qsize 0\n",
      "2023-03-13 18:49:09,039 : INFO : EPOCH 1 - PROGRESS: at 60.96% examples, 509066 words/s, in_qsize 5, out_qsize 0\n",
      "2023-03-13 18:49:10,059 : INFO : EPOCH 1 - PROGRESS: at 68.55% examples, 507816 words/s, in_qsize 5, out_qsize 0\n",
      "2023-03-13 18:49:11,060 : INFO : EPOCH 1 - PROGRESS: at 76.39% examples, 508496 words/s, in_qsize 5, out_qsize 0\n",
      "2023-03-13 18:49:12,075 : INFO : EPOCH 1 - PROGRESS: at 83.81% examples, 506508 words/s, in_qsize 6, out_qsize 0\n",
      "2023-03-13 18:49:13,079 : INFO : EPOCH 1 - PROGRESS: at 91.34% examples, 506618 words/s, in_qsize 5, out_qsize 0\n",
      "2023-03-13 18:49:14,080 : INFO : EPOCH 1 - PROGRESS: at 99.02% examples, 506845 words/s, in_qsize 6, out_qsize 0\n",
      "2023-03-13 18:49:14,204 : INFO : EPOCH 1: training on 8934662 raw words (6721516 effective words) took 13.3s, 507190 effective words/s\n",
      "2023-03-13 18:49:15,210 : INFO : EPOCH 2 - PROGRESS: at 7.52% examples, 502022 words/s, in_qsize 5, out_qsize 0\n",
      "2023-03-13 18:49:16,226 : INFO : EPOCH 2 - PROGRESS: at 15.12% examples, 508470 words/s, in_qsize 5, out_qsize 0\n",
      "2023-03-13 18:49:17,233 : INFO : EPOCH 2 - PROGRESS: at 22.86% examples, 510726 words/s, in_qsize 5, out_qsize 0\n",
      "2023-03-13 18:49:18,234 : INFO : EPOCH 2 - PROGRESS: at 30.68% examples, 514039 words/s, in_qsize 6, out_qsize 0\n",
      "2023-03-13 18:49:19,249 : INFO : EPOCH 2 - PROGRESS: at 38.05% examples, 508611 words/s, in_qsize 6, out_qsize 0\n",
      "2023-03-13 18:49:20,250 : INFO : EPOCH 2 - PROGRESS: at 45.49% examples, 507589 words/s, in_qsize 5, out_qsize 0\n",
      "2023-03-13 18:49:21,267 : INFO : EPOCH 2 - PROGRESS: at 53.05% examples, 508684 words/s, in_qsize 5, out_qsize 0\n",
      "2023-03-13 18:49:22,271 : INFO : EPOCH 2 - PROGRESS: at 60.76% examples, 508636 words/s, in_qsize 5, out_qsize 0\n",
      "2023-03-13 18:49:23,280 : INFO : EPOCH 2 - PROGRESS: at 68.55% examples, 509670 words/s, in_qsize 6, out_qsize 0\n",
      "2023-03-13 18:49:24,287 : INFO : EPOCH 2 - PROGRESS: at 76.50% examples, 510614 words/s, in_qsize 6, out_qsize 0\n",
      "2023-03-13 18:49:25,290 : INFO : EPOCH 2 - PROGRESS: at 83.93% examples, 508945 words/s, in_qsize 5, out_qsize 0\n",
      "2023-03-13 18:49:26,303 : INFO : EPOCH 2 - PROGRESS: at 91.45% examples, 508490 words/s, in_qsize 5, out_qsize 0\n"
     ]
    },
    {
     "name": "stderr",
     "output_type": "stream",
     "text": [
      "2023-03-13 18:49:27,306 : INFO : EPOCH 2 - PROGRESS: at 97.87% examples, 502303 words/s, in_qsize 5, out_qsize 0\n",
      "2023-03-13 18:49:27,637 : INFO : EPOCH 2: training on 8934662 raw words (6720232 effective words) took 13.4s, 500403 effective words/s\n",
      "2023-03-13 18:49:28,659 : INFO : EPOCH 3 - PROGRESS: at 5.47% examples, 357557 words/s, in_qsize 5, out_qsize 0\n",
      "2023-03-13 18:49:29,676 : INFO : EPOCH 3 - PROGRESS: at 10.46% examples, 345715 words/s, in_qsize 5, out_qsize 0\n",
      "2023-03-13 18:49:30,691 : INFO : EPOCH 3 - PROGRESS: at 16.69% examples, 370904 words/s, in_qsize 6, out_qsize 0\n",
      "2023-03-13 18:49:31,694 : INFO : EPOCH 3 - PROGRESS: at 23.48% examples, 392215 words/s, in_qsize 5, out_qsize 0\n",
      "2023-03-13 18:49:32,699 : INFO : EPOCH 3 - PROGRESS: at 30.21% examples, 403412 words/s, in_qsize 5, out_qsize 0\n",
      "2023-03-13 18:49:33,720 : INFO : EPOCH 3 - PROGRESS: at 37.08% examples, 410987 words/s, in_qsize 5, out_qsize 0\n",
      "2023-03-13 18:49:34,734 : INFO : EPOCH 3 - PROGRESS: at 43.91% examples, 417783 words/s, in_qsize 5, out_qsize 0\n",
      "2023-03-13 18:49:35,743 : INFO : EPOCH 3 - PROGRESS: at 49.87% examples, 415940 words/s, in_qsize 5, out_qsize 0\n",
      "2023-03-13 18:49:36,753 : INFO : EPOCH 3 - PROGRESS: at 56.49% examples, 419264 words/s, in_qsize 5, out_qsize 0\n",
      "2023-03-13 18:49:37,763 : INFO : EPOCH 3 - PROGRESS: at 63.09% examples, 420595 words/s, in_qsize 6, out_qsize 0\n",
      "2023-03-13 18:49:38,787 : INFO : EPOCH 3 - PROGRESS: at 69.44% examples, 420227 words/s, in_qsize 5, out_qsize 0\n",
      "2023-03-13 18:49:39,808 : INFO : EPOCH 3 - PROGRESS: at 76.59% examples, 423721 words/s, in_qsize 5, out_qsize 0\n",
      "2023-03-13 18:49:40,840 : INFO : EPOCH 3 - PROGRESS: at 83.93% examples, 427448 words/s, in_qsize 5, out_qsize 0\n",
      "2023-03-13 18:49:41,843 : INFO : EPOCH 3 - PROGRESS: at 90.52% examples, 428458 words/s, in_qsize 5, out_qsize 0\n",
      "2023-03-13 18:49:42,846 : INFO : EPOCH 3 - PROGRESS: at 97.13% examples, 429397 words/s, in_qsize 5, out_qsize 0\n",
      "2023-03-13 18:49:43,270 : INFO : EPOCH 3: training on 8934662 raw words (6721061 effective words) took 15.6s, 430073 effective words/s\n",
      "2023-03-13 18:49:44,289 : INFO : EPOCH 4 - PROGRESS: at 6.63% examples, 437275 words/s, in_qsize 6, out_qsize 0\n",
      "2023-03-13 18:49:45,295 : INFO : EPOCH 4 - PROGRESS: at 13.50% examples, 452973 words/s, in_qsize 5, out_qsize 0\n",
      "2023-03-13 18:49:46,313 : INFO : EPOCH 4 - PROGRESS: at 20.71% examples, 461902 words/s, in_qsize 6, out_qsize 0\n",
      "2023-03-13 18:49:47,334 : INFO : EPOCH 4 - PROGRESS: at 27.96% examples, 464374 words/s, in_qsize 5, out_qsize 0\n",
      "2023-03-13 18:49:48,344 : INFO : EPOCH 4 - PROGRESS: at 35.32% examples, 469313 words/s, in_qsize 6, out_qsize 0\n",
      "2023-03-13 18:49:49,347 : INFO : EPOCH 4 - PROGRESS: at 42.23% examples, 469603 words/s, in_qsize 5, out_qsize 0\n",
      "2023-03-13 18:49:50,358 : INFO : EPOCH 4 - PROGRESS: at 49.53% examples, 472603 words/s, in_qsize 5, out_qsize 1\n",
      "2023-03-13 18:49:51,359 : INFO : EPOCH 4 - PROGRESS: at 56.82% examples, 475252 words/s, in_qsize 5, out_qsize 0\n",
      "2023-03-13 18:49:52,370 : INFO : EPOCH 4 - PROGRESS: at 64.29% examples, 476852 words/s, in_qsize 5, out_qsize 0\n",
      "2023-03-13 18:49:53,384 : INFO : EPOCH 4 - PROGRESS: at 71.55% examples, 476995 words/s, in_qsize 6, out_qsize 0\n",
      "2023-03-13 18:49:54,399 : INFO : EPOCH 4 - PROGRESS: at 79.19% examples, 478570 words/s, in_qsize 5, out_qsize 0\n",
      "2023-03-13 18:49:55,414 : INFO : EPOCH 4 - PROGRESS: at 86.45% examples, 478621 words/s, in_qsize 6, out_qsize 0\n",
      "2023-03-13 18:49:56,428 : INFO : EPOCH 4 - PROGRESS: at 93.62% examples, 478314 words/s, in_qsize 6, out_qsize 0\n",
      "2023-03-13 18:49:57,296 : INFO : EPOCH 4: training on 8934662 raw words (6720558 effective words) took 14.0s, 479322 effective words/s\n",
      "2023-03-13 18:49:57,297 : INFO : Word2Vec lifecycle event {'msg': 'training on 44673310 raw words (33603554 effective words) took 69.6s, 482668 effective words/s', 'datetime': '2023-03-13T18:49:57.297666', 'gensim': '4.3.1', 'python': '3.10.7 (tags/v3.10.7:6cc6b13, Sep  5 2022, 14:08:36) [MSC v.1933 64 bit (AMD64)]', 'platform': 'Windows-10-10.0.22621-SP0', 'event': 'train'}\n",
      "2023-03-13 18:50:11,745 : INFO : collecting all words and their counts\n",
      "2023-03-13 18:50:11,746 : INFO : PROGRESS: at sentence #0, processed 0 words, keeping 0 word types\n"
     ]
    },
    {
     "name": "stdout",
     "output_type": "stream",
     "text": [
      "0.873925\n",
      "0.8706\n",
      "loop running for ith value:10\n"
     ]
    },
    {
     "name": "stderr",
     "output_type": "stream",
     "text": [
      "2023-03-13 18:50:12,054 : INFO : PROGRESS: at sentence #10000, processed 2247945 words, keeping 51708 word types\n",
      "2023-03-13 18:50:12,328 : INFO : PROGRESS: at sentence #20000, processed 4491090 words, keeping 68759 word types\n",
      "2023-03-13 18:50:12,595 : INFO : PROGRESS: at sentence #30000, processed 6711920 words, keeping 81013 word types\n",
      "2023-03-13 18:50:12,846 : INFO : collected 90876 word types from a corpus of 8934662 raw words and 40000 sentences\n",
      "2023-03-13 18:50:12,847 : INFO : Creating a fresh vocabulary\n",
      "2023-03-13 18:50:12,932 : INFO : Word2Vec lifecycle event {'msg': 'effective_min_count=5 retains 35633 unique words (39.21% of original 90876, drops 55243)', 'datetime': '2023-03-13T18:50:12.932118', 'gensim': '4.3.1', 'python': '3.10.7 (tags/v3.10.7:6cc6b13, Sep  5 2022, 14:08:36) [MSC v.1933 64 bit (AMD64)]', 'platform': 'Windows-10-10.0.22621-SP0', 'event': 'prepare_vocab'}\n",
      "2023-03-13 18:50:12,933 : INFO : Word2Vec lifecycle event {'msg': 'effective_min_count=5 leaves 8843902 word corpus (98.98% of original 8934662, drops 90760)', 'datetime': '2023-03-13T18:50:12.933126', 'gensim': '4.3.1', 'python': '3.10.7 (tags/v3.10.7:6cc6b13, Sep  5 2022, 14:08:36) [MSC v.1933 64 bit (AMD64)]', 'platform': 'Windows-10-10.0.22621-SP0', 'event': 'prepare_vocab'}\n",
      "2023-03-13 18:50:13,085 : INFO : deleting the raw counts dictionary of 90876 items\n",
      "2023-03-13 18:50:13,088 : INFO : sample=0.001 downsamples 46 most-common words\n",
      "2023-03-13 18:50:13,089 : INFO : Word2Vec lifecycle event {'msg': 'downsampling leaves estimated 6720855.767776955 word corpus (76.0%% of prior 8843902)', 'datetime': '2023-03-13T18:50:13.089423', 'gensim': '4.3.1', 'python': '3.10.7 (tags/v3.10.7:6cc6b13, Sep  5 2022, 14:08:36) [MSC v.1933 64 bit (AMD64)]', 'platform': 'Windows-10-10.0.22621-SP0', 'event': 'prepare_vocab'}\n",
      "2023-03-13 18:50:13,271 : INFO : estimated required memory for 35633 words and 100 dimensions: 46322900 bytes\n",
      "2023-03-13 18:50:13,271 : INFO : resetting layer weights\n",
      "2023-03-13 18:50:13,284 : INFO : Word2Vec lifecycle event {'update': False, 'trim_rule': 'None', 'datetime': '2023-03-13T18:50:13.284972', 'gensim': '4.3.1', 'python': '3.10.7 (tags/v3.10.7:6cc6b13, Sep  5 2022, 14:08:36) [MSC v.1933 64 bit (AMD64)]', 'platform': 'Windows-10-10.0.22621-SP0', 'event': 'build_vocab'}\n",
      "2023-03-13 18:50:13,286 : INFO : Word2Vec lifecycle event {'msg': 'training model with 3 workers on 35633 vocabulary and 100 features, using sg=1 hs=0 sample=0.001 negative=5 window=10 shrink_windows=True', 'datetime': '2023-03-13T18:50:13.286059', 'gensim': '4.3.1', 'python': '3.10.7 (tags/v3.10.7:6cc6b13, Sep  5 2022, 14:08:36) [MSC v.1933 64 bit (AMD64)]', 'platform': 'Windows-10-10.0.22621-SP0', 'event': 'train'}\n",
      "2023-03-13 18:50:14,343 : INFO : EPOCH 0 - PROGRESS: at 3.59% examples, 224648 words/s, in_qsize 5, out_qsize 0\n",
      "2023-03-13 18:50:15,390 : INFO : EPOCH 0 - PROGRESS: at 6.86% examples, 218383 words/s, in_qsize 5, out_qsize 0\n",
      "2023-03-13 18:50:16,409 : INFO : EPOCH 0 - PROGRESS: at 10.23% examples, 220503 words/s, in_qsize 5, out_qsize 0\n",
      "2023-03-13 18:50:17,426 : INFO : EPOCH 0 - PROGRESS: at 13.53% examples, 221411 words/s, in_qsize 6, out_qsize 0\n",
      "2023-03-13 18:50:18,432 : INFO : EPOCH 0 - PROGRESS: at 17.02% examples, 224176 words/s, in_qsize 6, out_qsize 0\n",
      "2023-03-13 18:50:19,443 : INFO : EPOCH 0 - PROGRESS: at 20.38% examples, 224603 words/s, in_qsize 5, out_qsize 0\n",
      "2023-03-13 18:50:20,482 : INFO : EPOCH 0 - PROGRESS: at 23.91% examples, 225112 words/s, in_qsize 5, out_qsize 0\n",
      "2023-03-13 18:50:21,483 : INFO : EPOCH 0 - PROGRESS: at 27.43% examples, 225592 words/s, in_qsize 5, out_qsize 0\n",
      "2023-03-13 18:50:22,491 : INFO : EPOCH 0 - PROGRESS: at 30.80% examples, 225752 words/s, in_qsize 5, out_qsize 0\n",
      "2023-03-13 18:50:23,506 : INFO : EPOCH 0 - PROGRESS: at 34.80% examples, 229311 words/s, in_qsize 6, out_qsize 0\n",
      "2023-03-13 18:50:24,578 : INFO : EPOCH 0 - PROGRESS: at 39.03% examples, 233149 words/s, in_qsize 5, out_qsize 0\n",
      "2023-03-13 18:50:25,588 : INFO : EPOCH 0 - PROGRESS: at 42.68% examples, 234302 words/s, in_qsize 5, out_qsize 0\n",
      "2023-03-13 18:50:26,616 : INFO : EPOCH 0 - PROGRESS: at 46.67% examples, 236817 words/s, in_qsize 6, out_qsize 0\n",
      "2023-03-13 18:50:27,633 : INFO : EPOCH 0 - PROGRESS: at 50.71% examples, 239045 words/s, in_qsize 5, out_qsize 0\n",
      "2023-03-13 18:50:28,667 : INFO : EPOCH 0 - PROGRESS: at 54.73% examples, 240745 words/s, in_qsize 5, out_qsize 0\n",
      "2023-03-13 18:50:29,671 : INFO : EPOCH 0 - PROGRESS: at 58.80% examples, 242638 words/s, in_qsize 5, out_qsize 0\n",
      "2023-03-13 18:50:30,695 : INFO : EPOCH 0 - PROGRESS: at 62.89% examples, 243703 words/s, in_qsize 5, out_qsize 1\n",
      "2023-03-13 18:50:31,730 : INFO : EPOCH 0 - PROGRESS: at 67.15% examples, 245575 words/s, in_qsize 6, out_qsize 0\n",
      "2023-03-13 18:50:32,752 : INFO : EPOCH 0 - PROGRESS: at 71.21% examples, 246638 words/s, in_qsize 6, out_qsize 1\n",
      "2023-03-13 18:50:33,759 : INFO : EPOCH 0 - PROGRESS: at 75.39% examples, 247859 words/s, in_qsize 6, out_qsize 0\n",
      "2023-03-13 18:50:34,769 : INFO : EPOCH 0 - PROGRESS: at 79.52% examples, 248885 words/s, in_qsize 6, out_qsize 0\n",
      "2023-03-13 18:50:35,803 : INFO : EPOCH 0 - PROGRESS: at 83.81% examples, 250226 words/s, in_qsize 6, out_qsize 0\n",
      "2023-03-13 18:50:36,834 : INFO : EPOCH 0 - PROGRESS: at 87.99% examples, 251208 words/s, in_qsize 6, out_qsize 0\n",
      "2023-03-13 18:50:37,863 : INFO : EPOCH 0 - PROGRESS: at 91.96% examples, 251809 words/s, in_qsize 5, out_qsize 0\n",
      "2023-03-13 18:50:38,919 : INFO : EPOCH 0 - PROGRESS: at 96.22% examples, 252392 words/s, in_qsize 5, out_qsize 0\n",
      "2023-03-13 18:50:39,804 : INFO : EPOCH 0: training on 8934662 raw words (6721576 effective words) took 26.5s, 253512 effective words/s\n",
      "2023-03-13 18:50:40,823 : INFO : EPOCH 1 - PROGRESS: at 3.93% examples, 255096 words/s, in_qsize 6, out_qsize 0\n",
      "2023-03-13 18:50:41,832 : INFO : EPOCH 1 - PROGRESS: at 7.73% examples, 255719 words/s, in_qsize 5, out_qsize 0\n",
      "2023-03-13 18:50:42,844 : INFO : EPOCH 1 - PROGRESS: at 11.69% examples, 260343 words/s, in_qsize 5, out_qsize 0\n",
      "2023-03-13 18:50:43,904 : INFO : EPOCH 1 - PROGRESS: at 15.45% examples, 255855 words/s, in_qsize 5, out_qsize 0\n",
      "2023-03-13 18:50:44,933 : INFO : EPOCH 1 - PROGRESS: at 18.72% examples, 247743 words/s, in_qsize 6, out_qsize 0\n",
      "2023-03-13 18:50:45,975 : INFO : EPOCH 1 - PROGRESS: at 22.76% examples, 249252 words/s, in_qsize 6, out_qsize 0\n",
      "2023-03-13 18:50:46,996 : INFO : EPOCH 1 - PROGRESS: at 26.99% examples, 252892 words/s, in_qsize 5, out_qsize 0\n",
      "2023-03-13 18:50:47,999 : INFO : EPOCH 1 - PROGRESS: at 31.05% examples, 255322 words/s, in_qsize 5, out_qsize 0\n",
      "2023-03-13 18:50:49,026 : INFO : EPOCH 1 - PROGRESS: at 35.20% examples, 257240 words/s, in_qsize 5, out_qsize 0\n",
      "2023-03-13 18:50:50,060 : INFO : EPOCH 1 - PROGRESS: at 39.26% examples, 258094 words/s, in_qsize 5, out_qsize 0\n",
      "2023-03-13 18:50:51,070 : INFO : EPOCH 1 - PROGRESS: at 43.26% examples, 259097 words/s, in_qsize 6, out_qsize 0\n",
      "2023-03-13 18:50:52,083 : INFO : EPOCH 1 - PROGRESS: at 47.29% examples, 260661 words/s, in_qsize 6, out_qsize 0\n",
      "2023-03-13 18:50:53,101 : INFO : EPOCH 1 - PROGRESS: at 51.25% examples, 260705 words/s, in_qsize 6, out_qsize 0\n",
      "2023-03-13 18:50:54,107 : INFO : EPOCH 1 - PROGRESS: at 55.27% examples, 261490 words/s, in_qsize 5, out_qsize 0\n",
      "2023-03-13 18:50:55,116 : INFO : EPOCH 1 - PROGRESS: at 59.35% examples, 262107 words/s, in_qsize 6, out_qsize 0\n",
      "2023-03-13 18:50:56,123 : INFO : EPOCH 1 - PROGRESS: at 63.64% examples, 263169 words/s, in_qsize 5, out_qsize 0\n",
      "2023-03-13 18:50:57,157 : INFO : EPOCH 1 - PROGRESS: at 67.72% examples, 263173 words/s, in_qsize 6, out_qsize 0\n",
      "2023-03-13 18:50:58,180 : INFO : EPOCH 1 - PROGRESS: at 71.91% examples, 263740 words/s, in_qsize 5, out_qsize 0\n",
      "2023-03-13 18:50:59,206 : INFO : EPOCH 1 - PROGRESS: at 76.19% examples, 264224 words/s, in_qsize 5, out_qsize 0\n",
      "2023-03-13 18:51:00,210 : INFO : EPOCH 1 - PROGRESS: at 80.27% examples, 264545 words/s, in_qsize 5, out_qsize 1\n",
      "2023-03-13 18:51:01,273 : INFO : EPOCH 1 - PROGRESS: at 84.59% examples, 264872 words/s, in_qsize 5, out_qsize 0\n",
      "2023-03-13 18:51:02,294 : INFO : EPOCH 1 - PROGRESS: at 88.76% examples, 265326 words/s, in_qsize 6, out_qsize 0\n",
      "2023-03-13 18:51:03,301 : INFO : EPOCH 1 - PROGRESS: at 92.92% examples, 265886 words/s, in_qsize 5, out_qsize 0\n"
     ]
    },
    {
     "name": "stderr",
     "output_type": "stream",
     "text": [
      "2023-03-13 18:51:04,305 : INFO : EPOCH 1 - PROGRESS: at 96.87% examples, 265859 words/s, in_qsize 5, out_qsize 0\n",
      "2023-03-13 18:51:05,068 : INFO : EPOCH 1: training on 8934662 raw words (6721592 effective words) took 25.3s, 266074 effective words/s\n",
      "2023-03-13 18:51:06,095 : INFO : EPOCH 2 - PROGRESS: at 4.04% examples, 260346 words/s, in_qsize 6, out_qsize 0\n",
      "2023-03-13 18:51:07,101 : INFO : EPOCH 2 - PROGRESS: at 8.19% examples, 269808 words/s, in_qsize 5, out_qsize 0\n",
      "2023-03-13 18:51:08,108 : INFO : EPOCH 2 - PROGRESS: at 12.14% examples, 270112 words/s, in_qsize 6, out_qsize 0\n",
      "2023-03-13 18:51:09,157 : INFO : EPOCH 2 - PROGRESS: at 15.99% examples, 265872 words/s, in_qsize 5, out_qsize 0\n",
      "2023-03-13 18:51:10,189 : INFO : EPOCH 2 - PROGRESS: at 20.05% examples, 265869 words/s, in_qsize 6, out_qsize 0\n",
      "2023-03-13 18:51:11,191 : INFO : EPOCH 2 - PROGRESS: at 24.03% examples, 265811 words/s, in_qsize 5, out_qsize 0\n",
      "2023-03-13 18:51:12,242 : INFO : EPOCH 2 - PROGRESS: at 28.30% examples, 266099 words/s, in_qsize 6, out_qsize 0\n",
      "2023-03-13 18:51:13,247 : INFO : EPOCH 2 - PROGRESS: at 32.51% examples, 267608 words/s, in_qsize 6, out_qsize 0\n",
      "2023-03-13 18:51:14,254 : INFO : EPOCH 2 - PROGRESS: at 36.35% examples, 266406 words/s, in_qsize 6, out_qsize 0\n",
      "2023-03-13 18:51:15,264 : INFO : EPOCH 2 - PROGRESS: at 39.83% examples, 263313 words/s, in_qsize 5, out_qsize 0\n",
      "2023-03-13 18:51:16,300 : INFO : EPOCH 2 - PROGRESS: at 43.26% examples, 259950 words/s, in_qsize 5, out_qsize 0\n",
      "2023-03-13 18:51:17,337 : INFO : EPOCH 2 - PROGRESS: at 46.77% examples, 257928 words/s, in_qsize 5, out_qsize 0\n",
      "2023-03-13 18:51:18,434 : INFO : EPOCH 2 - PROGRESS: at 49.31% examples, 249469 words/s, in_qsize 5, out_qsize 0\n",
      "2023-03-13 18:51:19,486 : INFO : EPOCH 2 - PROGRESS: at 52.12% examples, 244574 words/s, in_qsize 5, out_qsize 0\n",
      "2023-03-13 18:51:20,532 : INFO : EPOCH 2 - PROGRESS: at 55.16% examples, 241404 words/s, in_qsize 5, out_qsize 0\n",
      "2023-03-13 18:51:21,535 : INFO : EPOCH 2 - PROGRESS: at 58.14% examples, 238762 words/s, in_qsize 5, out_qsize 0\n",
      "2023-03-13 18:51:22,573 : INFO : EPOCH 2 - PROGRESS: at 61.41% examples, 236928 words/s, in_qsize 5, out_qsize 0\n",
      "2023-03-13 18:51:23,624 : INFO : EPOCH 2 - PROGRESS: at 64.61% examples, 234999 words/s, in_qsize 5, out_qsize 0\n",
      "2023-03-13 18:51:24,628 : INFO : EPOCH 2 - PROGRESS: at 67.70% examples, 233460 words/s, in_qsize 5, out_qsize 0\n",
      "2023-03-13 18:51:25,638 : INFO : EPOCH 2 - PROGRESS: at 70.86% examples, 232348 words/s, in_qsize 5, out_qsize 0\n",
      "2023-03-13 18:51:26,642 : INFO : EPOCH 2 - PROGRESS: at 74.11% examples, 231416 words/s, in_qsize 5, out_qsize 0\n",
      "2023-03-13 18:51:27,684 : INFO : EPOCH 2 - PROGRESS: at 77.29% examples, 229870 words/s, in_qsize 5, out_qsize 0\n",
      "2023-03-13 18:51:28,738 : INFO : EPOCH 2 - PROGRESS: at 80.71% examples, 229287 words/s, in_qsize 5, out_qsize 0\n",
      "2023-03-13 18:51:29,786 : INFO : EPOCH 2 - PROGRESS: at 84.58% examples, 230027 words/s, in_qsize 5, out_qsize 0\n",
      "2023-03-13 18:51:30,786 : INFO : EPOCH 2 - PROGRESS: at 88.52% examples, 231435 words/s, in_qsize 5, out_qsize 0\n",
      "2023-03-13 18:51:31,786 : INFO : EPOCH 2 - PROGRESS: at 92.55% examples, 232991 words/s, in_qsize 5, out_qsize 0\n",
      "2023-03-13 18:51:32,818 : INFO : EPOCH 2 - PROGRESS: at 96.54% examples, 233920 words/s, in_qsize 6, out_qsize 0\n",
      "2023-03-13 18:51:33,645 : INFO : EPOCH 2: training on 8934662 raw words (6720590 effective words) took 28.6s, 235205 effective words/s\n",
      "2023-03-13 18:51:34,712 : INFO : EPOCH 3 - PROGRESS: at 3.83% examples, 236608 words/s, in_qsize 5, out_qsize 0\n",
      "2023-03-13 18:51:35,720 : INFO : EPOCH 3 - PROGRESS: at 7.09% examples, 228403 words/s, in_qsize 5, out_qsize 0\n",
      "2023-03-13 18:51:36,735 : INFO : EPOCH 3 - PROGRESS: at 10.92% examples, 239539 words/s, in_qsize 5, out_qsize 0\n",
      "2023-03-13 18:51:37,766 : INFO : EPOCH 3 - PROGRESS: at 15.00% examples, 247554 words/s, in_qsize 5, out_qsize 0\n",
      "2023-03-13 18:51:38,767 : INFO : EPOCH 3 - PROGRESS: at 19.05% examples, 252628 words/s, in_qsize 5, out_qsize 0\n",
      "2023-03-13 18:51:39,790 : INFO : EPOCH 3 - PROGRESS: at 23.17% examples, 255184 words/s, in_qsize 6, out_qsize 0\n",
      "2023-03-13 18:51:40,801 : INFO : EPOCH 3 - PROGRESS: at 27.42% examples, 258381 words/s, in_qsize 5, out_qsize 0\n",
      "2023-03-13 18:51:41,847 : INFO : EPOCH 3 - PROGRESS: at 31.73% examples, 260599 words/s, in_qsize 6, out_qsize 1\n",
      "2023-03-13 18:51:42,856 : INFO : EPOCH 3 - PROGRESS: at 35.92% examples, 262493 words/s, in_qsize 5, out_qsize 0\n",
      "2023-03-13 18:51:43,887 : INFO : EPOCH 3 - PROGRESS: at 40.03% examples, 263587 words/s, in_qsize 6, out_qsize 0\n",
      "2023-03-13 18:51:44,958 : INFO : EPOCH 3 - PROGRESS: at 44.52% examples, 265343 words/s, in_qsize 5, out_qsize 0\n",
      "2023-03-13 18:51:45,986 : INFO : EPOCH 3 - PROGRESS: at 48.80% examples, 267230 words/s, in_qsize 6, out_qsize 0\n",
      "2023-03-13 18:51:47,017 : INFO : EPOCH 3 - PROGRESS: at 52.95% examples, 268126 words/s, in_qsize 5, out_qsize 0\n",
      "2023-03-13 18:51:48,066 : INFO : EPOCH 3 - PROGRESS: at 57.17% examples, 268035 words/s, in_qsize 5, out_qsize 0\n",
      "2023-03-13 18:51:49,087 : INFO : EPOCH 3 - PROGRESS: at 61.64% examples, 269523 words/s, in_qsize 6, out_qsize 0\n",
      "2023-03-13 18:51:50,092 : INFO : EPOCH 3 - PROGRESS: at 65.56% examples, 269105 words/s, in_qsize 5, out_qsize 0\n",
      "2023-03-13 18:51:51,097 : INFO : EPOCH 3 - PROGRESS: at 69.78% examples, 269691 words/s, in_qsize 6, out_qsize 0\n",
      "2023-03-13 18:51:52,159 : INFO : EPOCH 3 - PROGRESS: at 74.24% examples, 270093 words/s, in_qsize 5, out_qsize 1\n",
      "2023-03-13 18:51:53,189 : INFO : EPOCH 3 - PROGRESS: at 78.58% examples, 270575 words/s, in_qsize 5, out_qsize 0\n",
      "2023-03-13 18:51:54,192 : INFO : EPOCH 3 - PROGRESS: at 82.77% examples, 271019 words/s, in_qsize 6, out_qsize 0\n",
      "2023-03-13 18:51:55,191 : INFO : EPOCH 3 - PROGRESS: at 87.01% examples, 271467 words/s, in_qsize 5, out_qsize 0\n",
      "2023-03-13 18:51:56,227 : INFO : EPOCH 3 - PROGRESS: at 91.13% examples, 271471 words/s, in_qsize 5, out_qsize 0\n",
      "2023-03-13 18:51:57,227 : INFO : EPOCH 3 - PROGRESS: at 95.36% examples, 271881 words/s, in_qsize 5, out_qsize 0\n",
      "2023-03-13 18:51:58,229 : INFO : EPOCH 3 - PROGRESS: at 99.33% examples, 271626 words/s, in_qsize 6, out_qsize 0\n",
      "2023-03-13 18:51:58,368 : INFO : EPOCH 3: training on 8934662 raw words (6722010 effective words) took 24.7s, 271929 effective words/s\n",
      "2023-03-13 18:51:59,421 : INFO : EPOCH 4 - PROGRESS: at 4.24% examples, 268649 words/s, in_qsize 6, out_qsize 0\n",
      "2023-03-13 18:52:00,439 : INFO : EPOCH 4 - PROGRESS: at 8.42% examples, 271969 words/s, in_qsize 6, out_qsize 0\n",
      "2023-03-13 18:52:01,450 : INFO : EPOCH 4 - PROGRESS: at 12.47% examples, 273350 words/s, in_qsize 5, out_qsize 0\n",
      "2023-03-13 18:52:02,472 : INFO : EPOCH 4 - PROGRESS: at 16.55% examples, 273844 words/s, in_qsize 5, out_qsize 0\n",
      "2023-03-13 18:52:03,487 : INFO : EPOCH 4 - PROGRESS: at 20.71% examples, 274403 words/s, in_qsize 6, out_qsize 0\n",
      "2023-03-13 18:52:04,531 : INFO : EPOCH 4 - PROGRESS: at 25.02% examples, 274802 words/s, in_qsize 6, out_qsize 0\n",
      "2023-03-13 18:52:05,554 : INFO : EPOCH 4 - PROGRESS: at 29.13% examples, 273696 words/s, in_qsize 6, out_qsize 0\n",
      "2023-03-13 18:52:06,555 : INFO : EPOCH 4 - PROGRESS: at 33.13% examples, 272694 words/s, in_qsize 6, out_qsize 0\n",
      "2023-03-13 18:52:07,579 : INFO : EPOCH 4 - PROGRESS: at 37.18% examples, 272075 words/s, in_qsize 6, out_qsize 0\n",
      "2023-03-13 18:52:08,589 : INFO : EPOCH 4 - PROGRESS: at 41.31% examples, 272632 words/s, in_qsize 6, out_qsize 0\n",
      "2023-03-13 18:52:09,595 : INFO : EPOCH 4 - PROGRESS: at 45.59% examples, 273938 words/s, in_qsize 6, out_qsize 0\n",
      "2023-03-13 18:52:10,623 : INFO : EPOCH 4 - PROGRESS: at 49.53% examples, 273270 words/s, in_qsize 6, out_qsize 0\n",
      "2023-03-13 18:52:11,636 : INFO : EPOCH 4 - PROGRESS: at 53.71% examples, 274085 words/s, in_qsize 6, out_qsize 0\n",
      "2023-03-13 18:52:12,637 : INFO : EPOCH 4 - PROGRESS: at 57.79% examples, 273960 words/s, in_qsize 5, out_qsize 0\n",
      "2023-03-13 18:52:13,655 : INFO : EPOCH 4 - PROGRESS: at 61.96% examples, 273700 words/s, in_qsize 6, out_qsize 0\n",
      "2023-03-13 18:52:14,672 : INFO : EPOCH 4 - PROGRESS: at 65.90% examples, 272830 words/s, in_qsize 5, out_qsize 0\n",
      "2023-03-13 18:52:15,679 : INFO : EPOCH 4 - PROGRESS: at 70.14% examples, 273104 words/s, in_qsize 5, out_qsize 0\n"
     ]
    },
    {
     "name": "stderr",
     "output_type": "stream",
     "text": [
      "2023-03-13 18:52:16,729 : INFO : EPOCH 4 - PROGRESS: at 74.23% examples, 272271 words/s, in_qsize 6, out_qsize 0\n",
      "2023-03-13 18:52:17,741 : INFO : EPOCH 4 - PROGRESS: at 78.58% examples, 272896 words/s, in_qsize 5, out_qsize 0\n",
      "2023-03-13 18:52:18,763 : INFO : EPOCH 4 - PROGRESS: at 82.52% examples, 272238 words/s, in_qsize 5, out_qsize 0\n",
      "2023-03-13 18:52:19,793 : INFO : EPOCH 4 - PROGRESS: at 86.67% examples, 271896 words/s, in_qsize 6, out_qsize 0\n",
      "2023-03-13 18:52:20,821 : INFO : EPOCH 4 - PROGRESS: at 90.83% examples, 271968 words/s, in_qsize 6, out_qsize 0\n",
      "2023-03-13 18:52:21,837 : INFO : EPOCH 4 - PROGRESS: at 95.05% examples, 272184 words/s, in_qsize 5, out_qsize 0\n",
      "2023-03-13 18:52:22,852 : INFO : EPOCH 4 - PROGRESS: at 99.11% examples, 272048 words/s, in_qsize 6, out_qsize 0\n",
      "2023-03-13 18:52:23,083 : INFO : EPOCH 4: training on 8934662 raw words (6720254 effective words) took 24.7s, 271945 effective words/s\n",
      "2023-03-13 18:52:23,083 : INFO : Word2Vec lifecycle event {'msg': 'training on 44673310 raw words (33606022 effective words) took 129.8s, 258912 effective words/s', 'datetime': '2023-03-13T18:52:23.083763', 'gensim': '4.3.1', 'python': '3.10.7 (tags/v3.10.7:6cc6b13, Sep  5 2022, 14:08:36) [MSC v.1933 64 bit (AMD64)]', 'platform': 'Windows-10-10.0.22621-SP0', 'event': 'train'}\n",
      "2023-03-13 18:52:23,084 : INFO : Word2Vec lifecycle event {'params': 'Word2Vec<vocab=35633, vector_size=100, alpha=0.025>', 'datetime': '2023-03-13T18:52:23.084764', 'gensim': '4.3.1', 'python': '3.10.7 (tags/v3.10.7:6cc6b13, Sep  5 2022, 14:08:36) [MSC v.1933 64 bit (AMD64)]', 'platform': 'Windows-10-10.0.22621-SP0', 'event': 'created'}\n",
      "2023-03-13 18:52:23,084 : WARNING : Effective 'alpha' higher than previous training cycles\n",
      "2023-03-13 18:52:23,085 : INFO : Word2Vec lifecycle event {'msg': 'training model with 3 workers on 35633 vocabulary and 100 features, using sg=1 hs=0 sample=0.001 negative=5 window=10 shrink_windows=True', 'datetime': '2023-03-13T18:52:23.085747', 'gensim': '4.3.1', 'python': '3.10.7 (tags/v3.10.7:6cc6b13, Sep  5 2022, 14:08:36) [MSC v.1933 64 bit (AMD64)]', 'platform': 'Windows-10-10.0.22621-SP0', 'event': 'train'}\n",
      "2023-03-13 18:52:24,137 : INFO : EPOCH 0 - PROGRESS: at 4.14% examples, 261154 words/s, in_qsize 5, out_qsize 0\n",
      "2023-03-13 18:52:25,159 : INFO : EPOCH 0 - PROGRESS: at 8.07% examples, 260941 words/s, in_qsize 5, out_qsize 0\n",
      "2023-03-13 18:52:26,188 : INFO : EPOCH 0 - PROGRESS: at 12.14% examples, 264700 words/s, in_qsize 5, out_qsize 0\n",
      "2023-03-13 18:52:27,190 : INFO : EPOCH 0 - PROGRESS: at 16.11% examples, 266605 words/s, in_qsize 6, out_qsize 0\n",
      "2023-03-13 18:52:28,192 : INFO : EPOCH 0 - PROGRESS: at 20.16% examples, 267922 words/s, in_qsize 5, out_qsize 0\n",
      "2023-03-13 18:52:29,218 : INFO : EPOCH 0 - PROGRESS: at 24.34% examples, 268928 words/s, in_qsize 6, out_qsize 0\n",
      "2023-03-13 18:52:30,242 : INFO : EPOCH 0 - PROGRESS: at 28.50% examples, 268646 words/s, in_qsize 5, out_qsize 1\n",
      "2023-03-13 18:52:31,246 : INFO : EPOCH 0 - PROGRESS: at 32.72% examples, 269916 words/s, in_qsize 6, out_qsize 0\n",
      "2023-03-13 18:52:32,272 : INFO : EPOCH 0 - PROGRESS: at 36.76% examples, 269506 words/s, in_qsize 6, out_qsize 0\n",
      "2023-03-13 18:52:33,299 : INFO : EPOCH 0 - PROGRESS: at 40.85% examples, 269904 words/s, in_qsize 6, out_qsize 0\n",
      "2023-03-13 18:52:34,311 : INFO : EPOCH 0 - PROGRESS: at 45.06% examples, 270577 words/s, in_qsize 5, out_qsize 0\n",
      "2023-03-13 18:52:35,312 : INFO : EPOCH 0 - PROGRESS: at 48.79% examples, 269616 words/s, in_qsize 5, out_qsize 0\n",
      "2023-03-13 18:52:36,313 : INFO : EPOCH 0 - PROGRESS: at 52.54% examples, 268722 words/s, in_qsize 5, out_qsize 0\n",
      "2023-03-13 18:52:37,346 : INFO : EPOCH 0 - PROGRESS: at 56.49% examples, 267870 words/s, in_qsize 5, out_qsize 0\n",
      "2023-03-13 18:52:38,354 : INFO : EPOCH 0 - PROGRESS: at 60.52% examples, 267650 words/s, in_qsize 6, out_qsize 0\n",
      "2023-03-13 18:52:39,378 : INFO : EPOCH 0 - PROGRESS: at 64.61% examples, 267561 words/s, in_qsize 5, out_qsize 0\n",
      "2023-03-13 18:52:40,404 : INFO : EPOCH 0 - PROGRESS: at 68.55% examples, 267023 words/s, in_qsize 5, out_qsize 0\n",
      "2023-03-13 18:52:41,405 : INFO : EPOCH 0 - PROGRESS: at 72.73% examples, 267277 words/s, in_qsize 5, out_qsize 0\n",
      "2023-03-13 18:52:42,414 : INFO : EPOCH 0 - PROGRESS: at 76.83% examples, 267412 words/s, in_qsize 6, out_qsize 0\n",
      "2023-03-13 18:52:43,438 : INFO : EPOCH 0 - PROGRESS: at 81.03% examples, 267696 words/s, in_qsize 5, out_qsize 0\n",
      "2023-03-13 18:52:44,481 : INFO : EPOCH 0 - PROGRESS: at 85.14% examples, 267412 words/s, in_qsize 6, out_qsize 0\n",
      "2023-03-13 18:52:45,489 : INFO : EPOCH 0 - PROGRESS: at 89.25% examples, 267596 words/s, in_qsize 6, out_qsize 0\n",
      "2023-03-13 18:52:46,542 : INFO : EPOCH 0 - PROGRESS: at 93.39% examples, 267563 words/s, in_qsize 6, out_qsize 0\n",
      "2023-03-13 18:52:47,563 : INFO : EPOCH 0 - PROGRESS: at 97.46% examples, 267577 words/s, in_qsize 5, out_qsize 1\n",
      "2023-03-13 18:52:48,156 : INFO : EPOCH 0: training on 8934662 raw words (6719810 effective words) took 25.1s, 268055 effective words/s\n",
      "2023-03-13 18:52:49,172 : INFO : EPOCH 1 - PROGRESS: at 4.04% examples, 264112 words/s, in_qsize 5, out_qsize 0\n",
      "2023-03-13 18:52:50,225 : INFO : EPOCH 1 - PROGRESS: at 8.18% examples, 265265 words/s, in_qsize 5, out_qsize 0\n",
      "2023-03-13 18:52:51,268 : INFO : EPOCH 1 - PROGRESS: at 12.34% examples, 268516 words/s, in_qsize 6, out_qsize 0\n",
      "2023-03-13 18:52:52,284 : INFO : EPOCH 1 - PROGRESS: at 16.46% examples, 270493 words/s, in_qsize 5, out_qsize 0\n",
      "2023-03-13 18:52:53,299 : INFO : EPOCH 1 - PROGRESS: at 20.51% examples, 270293 words/s, in_qsize 5, out_qsize 0\n",
      "2023-03-13 18:52:54,309 : INFO : EPOCH 1 - PROGRESS: at 24.44% examples, 269269 words/s, in_qsize 5, out_qsize 0\n",
      "2023-03-13 18:52:55,359 : INFO : EPOCH 1 - PROGRESS: at 28.80% examples, 270018 words/s, in_qsize 5, out_qsize 0\n",
      "2023-03-13 18:52:56,377 : INFO : EPOCH 1 - PROGRESS: at 32.83% examples, 268941 words/s, in_qsize 5, out_qsize 0\n",
      "2023-03-13 18:52:57,386 : INFO : EPOCH 1 - PROGRESS: at 36.86% examples, 269172 words/s, in_qsize 6, out_qsize 0\n",
      "2023-03-13 18:52:58,428 : INFO : EPOCH 1 - PROGRESS: at 40.55% examples, 266345 words/s, in_qsize 5, out_qsize 0\n",
      "2023-03-13 18:52:59,436 : INFO : EPOCH 1 - PROGRESS: at 44.64% examples, 266754 words/s, in_qsize 5, out_qsize 0\n",
      "2023-03-13 18:53:00,483 : INFO : EPOCH 1 - PROGRESS: at 48.58% examples, 266289 words/s, in_qsize 5, out_qsize 0\n",
      "2023-03-13 18:53:01,515 : INFO : EPOCH 1 - PROGRESS: at 52.72% examples, 267246 words/s, in_qsize 5, out_qsize 0\n",
      "2023-03-13 18:53:02,525 : INFO : EPOCH 1 - PROGRESS: at 56.72% examples, 266954 words/s, in_qsize 5, out_qsize 0\n",
      "2023-03-13 18:53:03,610 : INFO : EPOCH 1 - PROGRESS: at 59.95% examples, 262114 words/s, in_qsize 5, out_qsize 0\n",
      "2023-03-13 18:53:04,622 : INFO : EPOCH 1 - PROGRESS: at 63.86% examples, 261703 words/s, in_qsize 5, out_qsize 0\n",
      "2023-03-13 18:53:05,630 : INFO : EPOCH 1 - PROGRESS: at 67.82% examples, 261775 words/s, in_qsize 5, out_qsize 0\n",
      "2023-03-13 18:53:06,670 : INFO : EPOCH 1 - PROGRESS: at 71.78% examples, 261357 words/s, in_qsize 6, out_qsize 0\n",
      "2023-03-13 18:53:07,686 : INFO : EPOCH 1 - PROGRESS: at 75.85% examples, 261330 words/s, in_qsize 6, out_qsize 0\n",
      "2023-03-13 18:53:08,738 : INFO : EPOCH 1 - PROGRESS: at 79.77% examples, 260491 words/s, in_qsize 5, out_qsize 0\n",
      "2023-03-13 18:53:09,767 : INFO : EPOCH 1 - PROGRESS: at 83.69% examples, 260388 words/s, in_qsize 6, out_qsize 0\n",
      "2023-03-13 18:53:10,805 : INFO : EPOCH 1 - PROGRESS: at 87.77% examples, 260521 words/s, in_qsize 6, out_qsize 0\n",
      "2023-03-13 18:53:11,809 : INFO : EPOCH 1 - PROGRESS: at 91.65% examples, 260715 words/s, in_qsize 6, out_qsize 0\n",
      "2023-03-13 18:53:12,813 : INFO : EPOCH 1 - PROGRESS: at 95.90% examples, 261484 words/s, in_qsize 5, out_qsize 0\n",
      "2023-03-13 18:53:13,810 : INFO : EPOCH 1: training on 8934662 raw words (6720693 effective words) took 25.6s, 262034 effective words/s\n",
      "2023-03-13 18:53:14,835 : INFO : EPOCH 2 - PROGRESS: at 4.14% examples, 267909 words/s, in_qsize 6, out_qsize 0\n",
      "2023-03-13 18:53:15,838 : INFO : EPOCH 2 - PROGRESS: at 7.42% examples, 244783 words/s, in_qsize 5, out_qsize 0\n",
      "2023-03-13 18:53:16,848 : INFO : EPOCH 2 - PROGRESS: at 11.14% examples, 248470 words/s, in_qsize 5, out_qsize 0\n",
      "2023-03-13 18:53:17,864 : INFO : EPOCH 2 - PROGRESS: at 15.33% examples, 257046 words/s, in_qsize 5, out_qsize 0\n"
     ]
    },
    {
     "name": "stderr",
     "output_type": "stream",
     "text": [
      "2023-03-13 18:53:18,896 : INFO : EPOCH 2 - PROGRESS: at 19.47% examples, 260160 words/s, in_qsize 6, out_qsize 0\n",
      "2023-03-13 18:53:19,903 : INFO : EPOCH 2 - PROGRESS: at 23.48% examples, 260857 words/s, in_qsize 5, out_qsize 0\n",
      "2023-03-13 18:53:20,916 : INFO : EPOCH 2 - PROGRESS: at 27.42% examples, 260154 words/s, in_qsize 5, out_qsize 0\n",
      "2023-03-13 18:53:21,942 : INFO : EPOCH 2 - PROGRESS: at 31.61% examples, 261885 words/s, in_qsize 6, out_qsize 0\n",
      "2023-03-13 18:53:22,968 : INFO : EPOCH 2 - PROGRESS: at 35.80% examples, 263143 words/s, in_qsize 5, out_qsize 0\n",
      "2023-03-13 18:53:23,981 : INFO : EPOCH 2 - PROGRESS: at 39.93% examples, 264649 words/s, in_qsize 6, out_qsize 0\n",
      "2023-03-13 18:53:25,005 : INFO : EPOCH 2 - PROGRESS: at 44.00% examples, 265414 words/s, in_qsize 6, out_qsize 0\n",
      "2023-03-13 18:53:26,022 : INFO : EPOCH 2 - PROGRESS: at 48.22% examples, 266946 words/s, in_qsize 6, out_qsize 0\n",
      "2023-03-13 18:53:27,057 : INFO : EPOCH 2 - PROGRESS: at 52.34% examples, 267242 words/s, in_qsize 5, out_qsize 0\n",
      "2023-03-13 18:53:28,058 : INFO : EPOCH 2 - PROGRESS: at 56.12% examples, 266591 words/s, in_qsize 6, out_qsize 0\n",
      "2023-03-13 18:53:29,102 : INFO : EPOCH 2 - PROGRESS: at 60.37% examples, 266773 words/s, in_qsize 6, out_qsize 0\n",
      "2023-03-13 18:53:30,117 : INFO : EPOCH 2 - PROGRESS: at 64.85% examples, 268257 words/s, in_qsize 5, out_qsize 0\n",
      "2023-03-13 18:53:31,150 : INFO : EPOCH 2 - PROGRESS: at 68.89% examples, 267991 words/s, in_qsize 5, out_qsize 0\n",
      "2023-03-13 18:53:32,162 : INFO : EPOCH 2 - PROGRESS: at 73.18% examples, 268449 words/s, in_qsize 6, out_qsize 0\n",
      "2023-03-13 18:53:33,185 : INFO : EPOCH 2 - PROGRESS: at 77.48% examples, 269101 words/s, in_qsize 5, out_qsize 0\n",
      "2023-03-13 18:53:34,222 : INFO : EPOCH 2 - PROGRESS: at 81.79% examples, 269524 words/s, in_qsize 5, out_qsize 0\n",
      "2023-03-13 18:53:35,271 : INFO : EPOCH 2 - PROGRESS: at 86.14% examples, 269747 words/s, in_qsize 6, out_qsize 0\n",
      "2023-03-13 18:53:36,290 : INFO : EPOCH 2 - PROGRESS: at 90.28% examples, 269984 words/s, in_qsize 6, out_qsize 0\n",
      "2023-03-13 18:53:37,309 : INFO : EPOCH 2 - PROGRESS: at 94.59% examples, 270582 words/s, in_qsize 5, out_qsize 0\n",
      "2023-03-13 18:53:38,317 : INFO : EPOCH 2 - PROGRESS: at 98.66% examples, 270596 words/s, in_qsize 6, out_qsize 0\n",
      "2023-03-13 18:53:38,604 : INFO : EPOCH 2: training on 8934662 raw words (6720602 effective words) took 24.8s, 271094 effective words/s\n",
      "2023-03-13 18:53:39,615 : INFO : EPOCH 3 - PROGRESS: at 4.14% examples, 272524 words/s, in_qsize 6, out_qsize 0\n",
      "2023-03-13 18:53:40,626 : INFO : EPOCH 3 - PROGRESS: at 8.29% examples, 275164 words/s, in_qsize 6, out_qsize 0\n",
      "2023-03-13 18:53:41,689 : INFO : EPOCH 3 - PROGRESS: at 12.44% examples, 273399 words/s, in_qsize 5, out_qsize 0\n",
      "2023-03-13 18:53:42,691 : INFO : EPOCH 3 - PROGRESS: at 16.55% examples, 275279 words/s, in_qsize 5, out_qsize 0\n",
      "2023-03-13 18:53:43,721 : INFO : EPOCH 3 - PROGRESS: at 20.82% examples, 276112 words/s, in_qsize 6, out_qsize 0\n",
      "2023-03-13 18:53:44,730 : INFO : EPOCH 3 - PROGRESS: at 24.78% examples, 274125 words/s, in_qsize 5, out_qsize 0\n",
      "2023-03-13 18:53:45,780 : INFO : EPOCH 3 - PROGRESS: at 29.26% examples, 275169 words/s, in_qsize 6, out_qsize 0\n",
      "2023-03-13 18:53:46,834 : INFO : EPOCH 3 - PROGRESS: at 33.57% examples, 274966 words/s, in_qsize 5, out_qsize 0\n",
      "2023-03-13 18:53:47,847 : INFO : EPOCH 3 - PROGRESS: at 37.81% examples, 276009 words/s, in_qsize 5, out_qsize 0\n",
      "2023-03-13 18:53:48,860 : INFO : EPOCH 3 - PROGRESS: at 41.92% examples, 276013 words/s, in_qsize 5, out_qsize 0\n",
      "2023-03-13 18:53:49,895 : INFO : EPOCH 3 - PROGRESS: at 46.11% examples, 275690 words/s, in_qsize 5, out_qsize 0\n",
      "2023-03-13 18:53:50,906 : INFO : EPOCH 3 - PROGRESS: at 50.21% examples, 275772 words/s, in_qsize 6, out_qsize 0\n",
      "2023-03-13 18:53:51,914 : INFO : EPOCH 3 - PROGRESS: at 54.05% examples, 274902 words/s, in_qsize 5, out_qsize 0\n",
      "2023-03-13 18:53:52,948 : INFO : EPOCH 3 - PROGRESS: at 58.26% examples, 274594 words/s, in_qsize 6, out_qsize 0\n",
      "2023-03-13 18:53:53,965 : INFO : EPOCH 3 - PROGRESS: at 62.66% examples, 275261 words/s, in_qsize 6, out_qsize 0\n",
      "2023-03-13 18:53:54,984 : INFO : EPOCH 3 - PROGRESS: at 66.72% examples, 274726 words/s, in_qsize 6, out_qsize 0\n",
      "2023-03-13 18:53:55,988 : INFO : EPOCH 3 - PROGRESS: at 70.86% examples, 274901 words/s, in_qsize 6, out_qsize 0\n",
      "2023-03-13 18:53:57,011 : INFO : EPOCH 3 - PROGRESS: at 74.93% examples, 274024 words/s, in_qsize 6, out_qsize 0\n",
      "2023-03-13 18:53:58,034 : INFO : EPOCH 3 - PROGRESS: at 79.19% examples, 274017 words/s, in_qsize 5, out_qsize 0\n",
      "2023-03-13 18:53:59,045 : INFO : EPOCH 3 - PROGRESS: at 83.00% examples, 273085 words/s, in_qsize 6, out_qsize 0\n",
      "2023-03-13 18:54:00,055 : INFO : EPOCH 3 - PROGRESS: at 86.45% examples, 270919 words/s, in_qsize 6, out_qsize 0\n",
      "2023-03-13 18:54:01,090 : INFO : EPOCH 3 - PROGRESS: at 90.39% examples, 270270 words/s, in_qsize 5, out_qsize 0\n",
      "2023-03-13 18:54:02,102 : INFO : EPOCH 3 - PROGRESS: at 94.19% examples, 269333 words/s, in_qsize 6, out_qsize 0\n",
      "2023-03-13 18:54:03,154 : INFO : EPOCH 3 - PROGRESS: at 98.22% examples, 268962 words/s, in_qsize 6, out_qsize 0\n",
      "2023-03-13 18:54:03,634 : INFO : EPOCH 3: training on 8934662 raw words (6719834 effective words) took 25.0s, 268538 effective words/s\n",
      "2023-03-13 18:54:04,687 : INFO : EPOCH 4 - PROGRESS: at 3.83% examples, 239601 words/s, in_qsize 5, out_qsize 0\n",
      "2023-03-13 18:54:05,698 : INFO : EPOCH 4 - PROGRESS: at 7.74% examples, 251324 words/s, in_qsize 6, out_qsize 0\n",
      "2023-03-13 18:54:06,723 : INFO : EPOCH 4 - PROGRESS: at 11.57% examples, 253952 words/s, in_qsize 5, out_qsize 0\n",
      "2023-03-13 18:54:07,744 : INFO : EPOCH 4 - PROGRESS: at 15.22% examples, 251768 words/s, in_qsize 5, out_qsize 0\n",
      "2023-03-13 18:54:08,762 : INFO : EPOCH 4 - PROGRESS: at 18.72% examples, 247910 words/s, in_qsize 5, out_qsize 0\n",
      "2023-03-13 18:54:09,819 : INFO : EPOCH 4 - PROGRESS: at 23.07% examples, 252279 words/s, in_qsize 5, out_qsize 0\n",
      "2023-03-13 18:54:10,838 : INFO : EPOCH 4 - PROGRESS: at 27.20% examples, 254621 words/s, in_qsize 6, out_qsize 0\n",
      "2023-03-13 18:54:11,865 : INFO : EPOCH 4 - PROGRESS: at 31.50% examples, 257809 words/s, in_qsize 5, out_qsize 0\n",
      "2023-03-13 18:54:12,866 : INFO : EPOCH 4 - PROGRESS: at 35.56% examples, 259395 words/s, in_qsize 5, out_qsize 0\n",
      "2023-03-13 18:54:13,910 : INFO : EPOCH 4 - PROGRESS: at 39.83% examples, 261174 words/s, in_qsize 5, out_qsize 0\n",
      "2023-03-13 18:54:14,923 : INFO : EPOCH 4 - PROGRESS: at 43.91% examples, 262502 words/s, in_qsize 5, out_qsize 0\n",
      "2023-03-13 18:54:15,949 : INFO : EPOCH 4 - PROGRESS: at 47.85% examples, 262881 words/s, in_qsize 5, out_qsize 0\n",
      "2023-03-13 18:54:16,955 : INFO : EPOCH 4 - PROGRESS: at 52.04% examples, 264099 words/s, in_qsize 5, out_qsize 0\n",
      "2023-03-13 18:54:18,016 : INFO : EPOCH 4 - PROGRESS: at 56.15% examples, 264126 words/s, in_qsize 5, out_qsize 2\n",
      "2023-03-13 18:54:19,044 : INFO : EPOCH 4 - PROGRESS: at 60.48% examples, 265216 words/s, in_qsize 5, out_qsize 0\n",
      "2023-03-13 18:54:20,060 : INFO : EPOCH 4 - PROGRESS: at 64.73% examples, 265858 words/s, in_qsize 6, out_qsize 0\n",
      "2023-03-13 18:54:21,068 : INFO : EPOCH 4 - PROGRESS: at 68.89% examples, 266520 words/s, in_qsize 6, out_qsize 0\n",
      "2023-03-13 18:54:22,122 : INFO : EPOCH 4 - PROGRESS: at 73.30% examples, 266879 words/s, in_qsize 6, out_qsize 0\n",
      "2023-03-13 18:54:23,141 : INFO : EPOCH 4 - PROGRESS: at 77.39% examples, 266876 words/s, in_qsize 5, out_qsize 0\n",
      "2023-03-13 18:54:24,147 : INFO : EPOCH 4 - PROGRESS: at 81.36% examples, 266749 words/s, in_qsize 5, out_qsize 0\n",
      "2023-03-13 18:54:25,163 : INFO : EPOCH 4 - PROGRESS: at 85.59% examples, 267179 words/s, in_qsize 5, out_qsize 0\n",
      "2023-03-13 18:54:26,167 : INFO : EPOCH 4 - PROGRESS: at 89.67% examples, 267400 words/s, in_qsize 5, out_qsize 0\n",
      "2023-03-13 18:54:27,179 : INFO : EPOCH 4 - PROGRESS: at 93.62% examples, 267233 words/s, in_qsize 5, out_qsize 0\n",
      "2023-03-13 18:54:28,202 : INFO : EPOCH 4 - PROGRESS: at 97.66% examples, 267217 words/s, in_qsize 6, out_qsize 0\n",
      "2023-03-13 18:54:28,766 : INFO : EPOCH 4: training on 8934662 raw words (6720581 effective words) took 25.1s, 267442 effective words/s\n",
      "2023-03-13 18:54:28,767 : INFO : Word2Vec lifecycle event {'msg': 'training on 44673310 raw words (33601520 effective words) took 125.7s, 267358 effective words/s', 'datetime': '2023-03-13T18:54:28.767125', 'gensim': '4.3.1', 'python': '3.10.7 (tags/v3.10.7:6cc6b13, Sep  5 2022, 14:08:36) [MSC v.1933 64 bit (AMD64)]', 'platform': 'Windows-10-10.0.22621-SP0', 'event': 'train'}\n"
     ]
    },
    {
     "name": "stdout",
     "output_type": "stream",
     "text": [
      "0.882725\n",
      "0.8808\n"
     ]
    }
   ],
   "source": [
    "Window_Size = [2,3,5,10]\n",
    "\n",
    "Train_Accuracy2 = []\n",
    "Test_Accuracy2 = []\n",
    "Model_Array2 = []\n",
    "\n",
    "lb = LabelEncoder()\n",
    "\n",
    "LR = LogisticRegression(C=100)\n",
    "\n",
    "Ytrain_Updated = lb.fit_transform(Y_train)\n",
    "Ytest_Updated = lb.fit_transform(Y_test)\n",
    "\n",
    "for i in Window_Size:\n",
    "    \n",
    "    print(\"loop running for ith value:\"+str(i))\n",
    "    #Default vector size is 100\n",
    "    \n",
    "    Itr_Model = Model_Vector(100,i) \n",
    "    Model_Array2.append(Itr_Model)\n",
    "    \n",
    "    Result_Vec_Train = IMDB_train['updatedreview'].apply(document_vector,model = (Itr_Model))\n",
    "    Result_Vec_Test = IMDB_test['updatedreview'].apply(document_vector,model = (Itr_Model))\n",
    "\n",
    "    \n",
    "    List_Final_X_Train = list(Result_Vec_Train)\n",
    "    List_Final_X_Test = list(Result_Vec_Test)\n",
    "    \n",
    "    Train_1 = LR.fit(List_Final_X_Train, Ytrain_Updated)\n",
    "    Train_Score = LR.score(List_Final_X_Train, Ytrain_Updated)\n",
    "    print(Train_Score)    \n",
    "    Train_Accuracy2.append(Train_Score)\n",
    "    \n",
    "    Test_Score = LR.score(List_Final_X_Test, Ytest_Updated)\n",
    "    print(Test_Score)    \n",
    "    Test_Accuracy2.append(Test_Score)"
   ]
  },
  {
   "cell_type": "code",
   "execution_count": 200,
   "id": "b8e1a0bc",
   "metadata": {},
   "outputs": [
    {
     "name": "stdout",
     "output_type": "stream",
     "text": [
      "[0.8576, 0.861, 0.8706, 0.8808]\n",
      "[0.858275, 0.865075, 0.873925, 0.882725]\n"
     ]
    },
    {
     "data": {
      "image/png": "[encoded data removed]",
      "text/plain": [
       "<Figure size 640x480 with 1 Axes>"
      ]
     },
     "metadata": {},
     "output_type": "display_data"
    }
   ],
   "source": [
    "print(Test_Accuracy2)\n",
    "print(Train_Accuracy2)\n",
    "\n",
    "plt.plot(Window_Size,Test_Accuracy2 ,label = \"Test\")\n",
    "plt.plot(Window_Size, Train_Accuracy2,label = \"Train\")\n",
    "plt.legend(loc=\"upper left\")\n",
    "plt.title(\"Model Performance for Window Size\")\n",
    "plt.xlabel(\"Window Size\")\n",
    "plt.ylabel(\"Accuracy\")\n",
    "plt.show()"
   ]
  },
  {
   "cell_type": "markdown",
   "id": "b2ab08e1",
   "metadata": {},
   "source": [
    "#### For different window size, we expect as the window size increases the accuracy of the model should improve because having higer window size mean incorporating more words to understand the context of a word.\n",
    "\n"
   ]
  },
  {
   "cell_type": "markdown",
   "id": "6f6cfb71",
   "metadata": {},
   "source": [
    "#### From the above graph, we can verify that increasing the window size does increase the accuracy. We have lowest accuracy for window size 2 and highest for window size = 10"
   ]
  },
  {
   "cell_type": "markdown",
   "id": "a986e142",
   "metadata": {},
   "source": [
    "### Question 4.1"
   ]
  },
  {
   "cell_type": "markdown",
   "id": "45d1ec84",
   "metadata": {},
   "source": [
    "##### I belive that the way RNN models would be better than simple logistic regression because RNNs can structured in a way to interpret the order of words in which they appear. So RNN can more effectively capture the context of a word. For example - Dish A and Dish B is a deadly combination, where deadly is used as a positive word but in simple logistic regresion it may be interpreted as a negative word  "
   ]
  },
  {
   "cell_type": "markdown",
   "id": "fcf5c135",
   "metadata": {},
   "source": [
    "### Question 4.2 - Word2Vec embeddings"
   ]
  },
  {
   "cell_type": "code",
   "execution_count": 161,
   "id": "4aa647b4",
   "metadata": {},
   "outputs": [
    {
     "name": "stdout",
     "output_type": "stream",
     "text": [
      "['', '[UNK]', 'the', 'and', 'a']\n",
      "[    2  1213  1724    21     2 15057]\n"
     ]
    },
    {
     "data": {
      "text/plain": [
       "20000"
      ]
     },
     "execution_count": 161,
     "metadata": {},
     "output_type": "execute_result"
    }
   ],
   "source": [
    "######  Question 4.1\n",
    "\n",
    "from tensorflow.keras.layers import TextVectorization\n",
    "\n",
    "vectorizer = TextVectorization(max_tokens=20000)\n",
    "text_ds = tf.data.Dataset.from_tensor_slices(IMDB_train['review']).batch(128)\n",
    "vectorizer.adapt(text_ds)\n",
    "  \n",
    "\n",
    "\n",
    "\"\"\"\n",
    "You can retrieve the computed vocabulary used via `vectorizer.get_vocabulary()`. Let's\n",
    "print the top 5 words:\n",
    "\"\"\"\n",
    "\n",
    "print(vectorizer.get_vocabulary()[:5])\n",
    "\n",
    "\"\"\"\n",
    "Let's vectorize a test sentence:\n",
    "\"\"\"\n",
    "\n",
    "output = vectorizer([[\"the cat sat on the mat\"]])\n",
    "print(output.numpy()[0, :6])\n",
    "\n",
    "\"\"\"\n",
    "As you can see, \"the\" gets represented as \"2\". Why not 0, given that \"the\" was the first\n",
    "word in the vocabulary? That's because index 0 is reserved for padding and index 1 is\n",
    "reserved for \"out of vocabulary\" tokens.\n",
    "\n",
    "Here's a dict mapping words to their indices:\n",
    "\"\"\"\n",
    "\n",
    "voc = vectorizer.get_vocabulary()\n",
    "word_index = dict(zip(voc, range(len(voc))))\n",
    "\n",
    "len(voc)\n",
    "\n",
    "\n"
   ]
  },
  {
   "cell_type": "code",
   "execution_count": 130,
   "id": "92b27792",
   "metadata": {
    "collapsed": true
   },
   "outputs": [
    {
     "name": "stderr",
     "output_type": "stream",
     "text": [
      "2023-03-13 21:49:03,127 : INFO : collecting all words and their counts\n",
      "2023-03-13 21:49:03,142 : INFO : PROGRESS: at sentence #0, processed 0 words, keeping 0 word types\n",
      "2023-03-13 21:49:04,845 : INFO : PROGRESS: at sentence #10000, processed 2247945 words, keeping 51708 word types\n",
      "2023-03-13 21:49:05,409 : INFO : PROGRESS: at sentence #20000, processed 4491090 words, keeping 68759 word types\n",
      "2023-03-13 21:49:05,844 : INFO : PROGRESS: at sentence #30000, processed 6711920 words, keeping 81013 word types\n",
      "2023-03-13 21:49:06,271 : INFO : collected 90876 word types from a corpus of 8934662 raw words and 40000 sentences\n",
      "2023-03-13 21:49:06,275 : INFO : Creating a fresh vocabulary\n",
      "2023-03-13 21:49:06,405 : INFO : Word2Vec lifecycle event {'msg': 'effective_min_count=5 retains 35633 unique words (39.21% of original 90876, drops 55243)', 'datetime': '2023-03-13T21:49:06.405153', 'gensim': '4.3.1', 'python': '3.10.7 (tags/v3.10.7:6cc6b13, Sep  5 2022, 14:08:36) [MSC v.1933 64 bit (AMD64)]', 'platform': 'Windows-10-10.0.22621-SP0', 'event': 'prepare_vocab'}\n",
      "2023-03-13 21:49:06,406 : INFO : Word2Vec lifecycle event {'msg': 'effective_min_count=5 leaves 8843902 word corpus (98.98% of original 8934662, drops 90760)', 'datetime': '2023-03-13T21:49:06.406671', 'gensim': '4.3.1', 'python': '3.10.7 (tags/v3.10.7:6cc6b13, Sep  5 2022, 14:08:36) [MSC v.1933 64 bit (AMD64)]', 'platform': 'Windows-10-10.0.22621-SP0', 'event': 'prepare_vocab'}\n",
      "2023-03-13 21:49:06,578 : INFO : deleting the raw counts dictionary of 90876 items\n",
      "2023-03-13 21:49:06,583 : INFO : sample=0.001 downsamples 46 most-common words\n",
      "2023-03-13 21:49:06,586 : INFO : Word2Vec lifecycle event {'msg': 'downsampling leaves estimated 6720855.767776955 word corpus (76.0%% of prior 8843902)', 'datetime': '2023-03-13T21:49:06.586929', 'gensim': '4.3.1', 'python': '3.10.7 (tags/v3.10.7:6cc6b13, Sep  5 2022, 14:08:36) [MSC v.1933 64 bit (AMD64)]', 'platform': 'Windows-10-10.0.22621-SP0', 'event': 'prepare_vocab'}\n",
      "2023-03-13 21:49:06,823 : INFO : estimated required memory for 35633 words and 300 dimensions: 103335700 bytes\n",
      "2023-03-13 21:49:06,825 : INFO : resetting layer weights\n",
      "2023-03-13 21:49:06,885 : INFO : Word2Vec lifecycle event {'update': False, 'trim_rule': 'None', 'datetime': '2023-03-13T21:49:06.885195', 'gensim': '4.3.1', 'python': '3.10.7 (tags/v3.10.7:6cc6b13, Sep  5 2022, 14:08:36) [MSC v.1933 64 bit (AMD64)]', 'platform': 'Windows-10-10.0.22621-SP0', 'event': 'build_vocab'}\n",
      "2023-03-13 21:49:06,888 : INFO : Word2Vec lifecycle event {'msg': 'training model with 3 workers on 35633 vocabulary and 300 features, using sg=1 hs=0 sample=0.001 negative=5 window=5 shrink_windows=True', 'datetime': '2023-03-13T21:49:06.888198', 'gensim': '4.3.1', 'python': '3.10.7 (tags/v3.10.7:6cc6b13, Sep  5 2022, 14:08:36) [MSC v.1933 64 bit (AMD64)]', 'platform': 'Windows-10-10.0.22621-SP0', 'event': 'train'}\n",
      "2023-03-13 21:49:07,922 : INFO : EPOCH 0 - PROGRESS: at 3.48% examples, 226514 words/s, in_qsize 5, out_qsize 0\n",
      "2023-03-13 21:49:08,929 : INFO : EPOCH 0 - PROGRESS: at 7.21% examples, 238061 words/s, in_qsize 5, out_qsize 0\n",
      "2023-03-13 21:49:09,944 : INFO : EPOCH 0 - PROGRESS: at 10.23% examples, 226618 words/s, in_qsize 5, out_qsize 0\n",
      "2023-03-13 21:49:10,955 : INFO : EPOCH 0 - PROGRESS: at 13.72% examples, 229969 words/s, in_qsize 5, out_qsize 0\n",
      "2023-03-13 21:49:11,957 : INFO : EPOCH 0 - PROGRESS: at 17.15% examples, 229806 words/s, in_qsize 5, out_qsize 0\n",
      "2023-03-13 21:49:13,019 : INFO : EPOCH 0 - PROGRESS: at 19.93% examples, 221340 words/s, in_qsize 5, out_qsize 0\n",
      "2023-03-13 21:49:14,067 : INFO : EPOCH 0 - PROGRESS: at 22.96% examples, 216839 words/s, in_qsize 5, out_qsize 0\n",
      "2023-03-13 21:49:15,092 : INFO : EPOCH 0 - PROGRESS: at 26.76% examples, 220456 words/s, in_qsize 6, out_qsize 0\n",
      "2023-03-13 21:49:16,095 : INFO : EPOCH 0 - PROGRESS: at 30.21% examples, 222039 words/s, in_qsize 5, out_qsize 1\n",
      "2023-03-13 21:49:17,122 : INFO : EPOCH 0 - PROGRESS: at 34.12% examples, 225029 words/s, in_qsize 5, out_qsize 0\n",
      "2023-03-13 21:49:18,151 : INFO : EPOCH 0 - PROGRESS: at 36.86% examples, 220894 words/s, in_qsize 5, out_qsize 0\n",
      "2023-03-13 21:49:19,159 : INFO : EPOCH 0 - PROGRESS: at 39.49% examples, 217209 words/s, in_qsize 6, out_qsize 0\n",
      "2023-03-13 21:49:20,178 : INFO : EPOCH 0 - PROGRESS: at 42.13% examples, 214347 words/s, in_qsize 6, out_qsize 0\n",
      "2023-03-13 21:49:21,203 : INFO : EPOCH 0 - PROGRESS: at 44.96% examples, 211975 words/s, in_qsize 6, out_qsize 0\n",
      "2023-03-13 21:49:22,245 : INFO : EPOCH 0 - PROGRESS: at 48.56% examples, 213970 words/s, in_qsize 5, out_qsize 0\n",
      "2023-03-13 21:49:23,258 : INFO : EPOCH 0 - PROGRESS: at 52.22% examples, 216054 words/s, in_qsize 6, out_qsize 0\n",
      "2023-03-13 21:49:24,265 : INFO : EPOCH 0 - PROGRESS: at 55.93% examples, 217997 words/s, in_qsize 6, out_qsize 0\n",
      "2023-03-13 21:49:25,284 : INFO : EPOCH 0 - PROGRESS: at 58.91% examples, 216737 words/s, in_qsize 5, out_qsize 0\n",
      "2023-03-13 21:49:26,349 : INFO : EPOCH 0 - PROGRESS: at 61.52% examples, 213665 words/s, in_qsize 5, out_qsize 0\n",
      "2023-03-13 21:49:27,372 : INFO : EPOCH 0 - PROGRESS: at 64.49% examples, 212674 words/s, in_qsize 5, out_qsize 0\n",
      "2023-03-13 21:49:28,388 : INFO : EPOCH 0 - PROGRESS: at 68.20% examples, 214259 words/s, in_qsize 6, out_qsize 0\n",
      "2023-03-13 21:49:29,392 : INFO : EPOCH 0 - PROGRESS: at 72.03% examples, 215820 words/s, in_qsize 5, out_qsize 0\n",
      "2023-03-13 21:49:30,413 : INFO : EPOCH 0 - PROGRESS: at 75.72% examples, 216779 words/s, in_qsize 6, out_qsize 0\n",
      "2023-03-13 21:49:31,426 : INFO : EPOCH 0 - PROGRESS: at 79.40% examples, 217727 words/s, in_qsize 5, out_qsize 0\n",
      "2023-03-13 21:49:32,460 : INFO : EPOCH 0 - PROGRESS: at 82.30% examples, 216690 words/s, in_qsize 5, out_qsize 0\n",
      "2023-03-13 21:49:33,528 : INFO : EPOCH 0 - PROGRESS: at 85.47% examples, 215772 words/s, in_qsize 5, out_qsize 0\n",
      "2023-03-13 21:49:34,538 : INFO : EPOCH 0 - PROGRESS: at 88.52% examples, 215379 words/s, in_qsize 6, out_qsize 0\n",
      "2023-03-13 21:49:35,598 : INFO : EPOCH 0 - PROGRESS: at 92.55% examples, 216944 words/s, in_qsize 6, out_qsize 0\n",
      "2023-03-13 21:49:36,660 : INFO : EPOCH 0 - PROGRESS: at 96.56% examples, 218133 words/s, in_qsize 5, out_qsize 0\n",
      "2023-03-13 21:49:37,635 : INFO : EPOCH 0: training on 8934662 raw words (6719927 effective words) took 30.7s, 218703 effective words/s\n",
      "2023-03-13 21:49:38,708 : INFO : EPOCH 1 - PROGRESS: at 2.81% examples, 174298 words/s, in_qsize 5, out_qsize 0\n",
      "2023-03-13 21:49:39,710 : INFO : EPOCH 1 - PROGRESS: at 5.58% examples, 179354 words/s, in_qsize 5, out_qsize 0\n",
      "2023-03-13 21:49:40,746 : INFO : EPOCH 1 - PROGRESS: at 8.66% examples, 185801 words/s, in_qsize 6, out_qsize 0\n",
      "2023-03-13 21:49:41,748 : INFO : EPOCH 1 - PROGRESS: at 12.14% examples, 199759 words/s, in_qsize 5, out_qsize 0\n",
      "2023-03-13 21:49:42,750 : INFO : EPOCH 1 - PROGRESS: at 15.68% examples, 208203 words/s, in_qsize 6, out_qsize 0\n",
      "2023-03-13 21:49:43,758 : INFO : EPOCH 1 - PROGRESS: at 19.05% examples, 211366 words/s, in_qsize 5, out_qsize 0\n",
      "2023-03-13 21:49:44,772 : INFO : EPOCH 1 - PROGRESS: at 21.87% examples, 207358 words/s, in_qsize 6, out_qsize 0\n",
      "2023-03-13 21:49:45,774 : INFO : EPOCH 1 - PROGRESS: at 24.55% examples, 204532 words/s, in_qsize 5, out_qsize 0\n",
      "2023-03-13 21:49:46,854 : INFO : EPOCH 1 - PROGRESS: at 27.96% examples, 204692 words/s, in_qsize 5, out_qsize 0\n",
      "2023-03-13 21:49:47,878 : INFO : EPOCH 1 - PROGRESS: at 31.85% examples, 209410 words/s, in_qsize 6, out_qsize 0\n",
      "2023-03-13 21:49:48,890 : INFO : EPOCH 1 - PROGRESS: at 35.53% examples, 212876 words/s, in_qsize 5, out_qsize 0\n",
      "2023-03-13 21:49:49,906 : INFO : EPOCH 1 - PROGRESS: at 39.15% examples, 215173 words/s, in_qsize 5, out_qsize 0\n",
      "2023-03-13 21:49:50,981 : INFO : EPOCH 1 - PROGRESS: at 42.48% examples, 214915 words/s, in_qsize 5, out_qsize 0\n",
      "2023-03-13 21:49:52,050 : INFO : EPOCH 1 - PROGRESS: at 45.29% examples, 211850 words/s, in_qsize 5, out_qsize 0\n",
      "2023-03-13 21:49:53,050 : INFO : EPOCH 1 - PROGRESS: at 47.97% examples, 210562 words/s, in_qsize 6, out_qsize 0\n",
      "2023-03-13 21:49:54,063 : INFO : EPOCH 1 - PROGRESS: at 51.25% examples, 211070 words/s, in_qsize 6, out_qsize 0\n",
      "2023-03-13 21:49:55,084 : INFO : EPOCH 1 - PROGRESS: at 54.84% examples, 212688 words/s, in_qsize 5, out_qsize 0\n"
     ]
    },
    {
     "name": "stderr",
     "output_type": "stream",
     "text": [
      "2023-03-13 21:49:56,149 : INFO : EPOCH 1 - PROGRESS: at 58.59% examples, 213975 words/s, in_qsize 5, out_qsize 0\n",
      "2023-03-13 21:49:57,190 : INFO : EPOCH 1 - PROGRESS: at 62.45% examples, 215510 words/s, in_qsize 5, out_qsize 0\n",
      "2023-03-13 21:49:58,204 : INFO : EPOCH 1 - PROGRESS: at 65.56% examples, 215233 words/s, in_qsize 6, out_qsize 0\n",
      "2023-03-13 21:49:59,220 : INFO : EPOCH 1 - PROGRESS: at 68.31% examples, 213645 words/s, in_qsize 4, out_qsize 1\n",
      "2023-03-13 21:50:00,288 : INFO : EPOCH 1 - PROGRESS: at 71.43% examples, 212635 words/s, in_qsize 5, out_qsize 0\n",
      "2023-03-13 21:50:01,335 : INFO : EPOCH 1 - PROGRESS: at 75.04% examples, 213212 words/s, in_qsize 6, out_qsize 0\n",
      "2023-03-13 21:50:02,339 : INFO : EPOCH 1 - PROGRESS: at 78.81% examples, 214669 words/s, in_qsize 5, out_qsize 0\n",
      "2023-03-13 21:50:03,407 : INFO : EPOCH 1 - PROGRESS: at 82.42% examples, 215221 words/s, in_qsize 6, out_qsize 0\n",
      "2023-03-13 21:50:04,432 : INFO : EPOCH 1 - PROGRESS: at 86.35% examples, 216646 words/s, in_qsize 6, out_qsize 0\n",
      "2023-03-13 21:50:05,448 : INFO : EPOCH 1 - PROGRESS: at 89.35% examples, 215918 words/s, in_qsize 5, out_qsize 0\n",
      "2023-03-13 21:50:06,450 : INFO : EPOCH 1 - PROGRESS: at 91.96% examples, 214825 words/s, in_qsize 5, out_qsize 0\n",
      "2023-03-13 21:50:07,461 : INFO : EPOCH 1 - PROGRESS: at 94.83% examples, 213742 words/s, in_qsize 5, out_qsize 0\n",
      "2023-03-13 21:50:08,473 : INFO : EPOCH 1 - PROGRESS: at 98.22% examples, 214150 words/s, in_qsize 5, out_qsize 0\n",
      "2023-03-13 21:50:08,935 : INFO : EPOCH 1: training on 8934662 raw words (6721018 effective words) took 31.3s, 214792 effective words/s\n",
      "2023-03-13 21:50:09,965 : INFO : EPOCH 2 - PROGRESS: at 3.72% examples, 238129 words/s, in_qsize 5, out_qsize 0\n",
      "2023-03-13 21:50:10,992 : INFO : EPOCH 2 - PROGRESS: at 7.31% examples, 237849 words/s, in_qsize 5, out_qsize 0\n",
      "2023-03-13 21:50:12,013 : INFO : EPOCH 2 - PROGRESS: at 10.23% examples, 223784 words/s, in_qsize 6, out_qsize 0\n",
      "2023-03-13 21:50:13,048 : INFO : EPOCH 2 - PROGRESS: at 13.21% examples, 217460 words/s, in_qsize 5, out_qsize 1\n",
      "2023-03-13 21:50:14,049 : INFO : EPOCH 2 - PROGRESS: at 16.55% examples, 219746 words/s, in_qsize 5, out_qsize 0\n",
      "2023-03-13 21:50:15,063 : INFO : EPOCH 2 - PROGRESS: at 20.28% examples, 224417 words/s, in_qsize 6, out_qsize 0\n",
      "2023-03-13 21:50:16,065 : INFO : EPOCH 2 - PROGRESS: at 24.23% examples, 230252 words/s, in_qsize 5, out_qsize 0\n",
      "2023-03-13 21:50:17,105 : INFO : EPOCH 2 - PROGRESS: at 28.30% examples, 233579 words/s, in_qsize 6, out_qsize 1\n",
      "2023-03-13 21:50:18,131 : INFO : EPOCH 2 - PROGRESS: at 32.08% examples, 234813 words/s, in_qsize 6, out_qsize 0\n",
      "2023-03-13 21:50:19,165 : INFO : EPOCH 2 - PROGRESS: at 35.01% examples, 230478 words/s, in_qsize 5, out_qsize 0\n",
      "2023-03-13 21:50:20,242 : INFO : EPOCH 2 - PROGRESS: at 38.15% examples, 227559 words/s, in_qsize 6, out_qsize 0\n",
      "2023-03-13 21:50:21,251 : INFO : EPOCH 2 - PROGRESS: at 41.60% examples, 228023 words/s, in_qsize 6, out_qsize 0\n",
      "2023-03-13 21:50:22,255 : INFO : EPOCH 2 - PROGRESS: at 45.49% examples, 230319 words/s, in_qsize 5, out_qsize 0\n",
      "2023-03-13 21:50:23,264 : INFO : EPOCH 2 - PROGRESS: at 49.19% examples, 232123 words/s, in_qsize 6, out_qsize 0\n",
      "2023-03-13 21:50:24,291 : INFO : EPOCH 2 - PROGRESS: at 53.05% examples, 233893 words/s, in_qsize 6, out_qsize 0\n",
      "2023-03-13 21:50:25,303 : INFO : EPOCH 2 - PROGRESS: at 56.62% examples, 233854 words/s, in_qsize 5, out_qsize 0\n",
      "2023-03-13 21:50:26,305 : INFO : EPOCH 2 - PROGRESS: at 59.48% examples, 231444 words/s, in_qsize 5, out_qsize 0\n",
      "2023-03-13 21:50:27,313 : INFO : EPOCH 2 - PROGRESS: at 62.66% examples, 230069 words/s, in_qsize 5, out_qsize 0\n",
      "2023-03-13 21:50:28,325 : INFO : EPOCH 2 - PROGRESS: at 66.01% examples, 229773 words/s, in_qsize 5, out_qsize 0\n",
      "2023-03-13 21:50:29,329 : INFO : EPOCH 2 - PROGRESS: at 69.90% examples, 231082 words/s, in_qsize 6, out_qsize 0\n",
      "2023-03-13 21:50:30,369 : INFO : EPOCH 2 - PROGRESS: at 73.89% examples, 232217 words/s, in_qsize 6, out_qsize 0\n",
      "2023-03-13 21:50:31,378 : INFO : EPOCH 2 - PROGRESS: at 77.58% examples, 232605 words/s, in_qsize 5, out_qsize 0\n",
      "2023-03-13 21:50:32,427 : INFO : EPOCH 2 - PROGRESS: at 80.71% examples, 230990 words/s, in_qsize 5, out_qsize 0\n",
      "2023-03-13 21:50:33,436 : INFO : EPOCH 2 - PROGRESS: at 83.69% examples, 229617 words/s, in_qsize 6, out_qsize 0\n",
      "2023-03-13 21:50:34,484 : INFO : EPOCH 2 - PROGRESS: at 87.22% examples, 229443 words/s, in_qsize 6, out_qsize 0\n",
      "2023-03-13 21:50:35,537 : INFO : EPOCH 2 - PROGRESS: at 91.13% examples, 230369 words/s, in_qsize 6, out_qsize 0\n",
      "2023-03-13 21:50:36,596 : INFO : EPOCH 2 - PROGRESS: at 95.25% examples, 231448 words/s, in_qsize 6, out_qsize 0\n",
      "2023-03-13 21:50:37,654 : INFO : EPOCH 2 - PROGRESS: at 99.23% examples, 232192 words/s, in_qsize 5, out_qsize 0\n",
      "2023-03-13 21:50:37,839 : INFO : EPOCH 2: training on 8934662 raw words (6719946 effective words) took 28.9s, 232531 effective words/s\n",
      "2023-03-13 21:50:38,854 : INFO : EPOCH 3 - PROGRESS: at 2.57% examples, 168774 words/s, in_qsize 6, out_qsize 0\n",
      "2023-03-13 21:50:39,888 : INFO : EPOCH 3 - PROGRESS: at 5.34% examples, 173978 words/s, in_qsize 5, out_qsize 0\n",
      "2023-03-13 21:50:40,925 : INFO : EPOCH 3 - PROGRESS: at 8.29% examples, 180043 words/s, in_qsize 5, out_qsize 0\n",
      "2023-03-13 21:50:41,925 : INFO : EPOCH 3 - PROGRESS: at 11.93% examples, 197440 words/s, in_qsize 6, out_qsize 0\n",
      "2023-03-13 21:50:42,926 : INFO : EPOCH 3 - PROGRESS: at 15.59% examples, 207830 words/s, in_qsize 5, out_qsize 0\n",
      "2023-03-13 21:50:43,955 : INFO : EPOCH 3 - PROGRESS: at 19.47% examples, 216354 words/s, in_qsize 5, out_qsize 0\n",
      "2023-03-13 21:50:44,974 : INFO : EPOCH 3 - PROGRESS: at 23.36% examples, 221782 words/s, in_qsize 5, out_qsize 0\n",
      "2023-03-13 21:50:45,978 : INFO : EPOCH 3 - PROGRESS: at 26.54% examples, 219902 words/s, in_qsize 5, out_qsize 0\n",
      "2023-03-13 21:50:47,000 : INFO : EPOCH 3 - PROGRESS: at 29.55% examples, 217916 words/s, in_qsize 5, out_qsize 0\n",
      "2023-03-13 21:50:48,017 : INFO : EPOCH 3 - PROGRESS: at 32.72% examples, 216435 words/s, in_qsize 6, out_qsize 0\n",
      "2023-03-13 21:50:49,034 : INFO : EPOCH 3 - PROGRESS: at 36.44% examples, 219217 words/s, in_qsize 6, out_qsize 0\n",
      "2023-03-13 21:50:50,080 : INFO : EPOCH 3 - PROGRESS: at 40.31% examples, 222258 words/s, in_qsize 6, out_qsize 0\n",
      "2023-03-13 21:50:51,124 : INFO : EPOCH 3 - PROGRESS: at 44.28% examples, 224764 words/s, in_qsize 6, out_qsize 0\n",
      "2023-03-13 21:50:52,126 : INFO : EPOCH 3 - PROGRESS: at 47.20% examples, 223501 words/s, in_qsize 6, out_qsize 0\n",
      "2023-03-13 21:50:53,145 : INFO : EPOCH 3 - PROGRESS: at 50.30% examples, 222127 words/s, in_qsize 6, out_qsize 0\n",
      "2023-03-13 21:50:54,209 : INFO : EPOCH 3 - PROGRESS: at 53.27% examples, 220306 words/s, in_qsize 5, out_qsize 0\n",
      "2023-03-13 21:50:55,231 : INFO : EPOCH 3 - PROGRESS: at 57.25% examples, 222653 words/s, in_qsize 6, out_qsize 0\n",
      "2023-03-13 21:50:56,281 : INFO : EPOCH 3 - PROGRESS: at 61.20% examples, 224079 words/s, in_qsize 5, out_qsize 0\n",
      "2023-03-13 21:50:57,293 : INFO : EPOCH 3 - PROGRESS: at 65.16% examples, 226004 words/s, in_qsize 5, out_qsize 0\n",
      "2023-03-13 21:50:58,299 : INFO : EPOCH 3 - PROGRESS: at 68.98% examples, 227491 words/s, in_qsize 5, out_qsize 0\n",
      "2023-03-13 21:50:59,310 : INFO : EPOCH 3 - PROGRESS: at 72.03% examples, 226027 words/s, in_qsize 5, out_qsize 0\n",
      "2023-03-13 21:51:00,338 : INFO : EPOCH 3 - PROGRESS: at 75.17% examples, 224866 words/s, in_qsize 6, out_qsize 0\n",
      "2023-03-13 21:51:01,378 : INFO : EPOCH 3 - PROGRESS: at 78.25% examples, 223683 words/s, in_qsize 6, out_qsize 0\n",
      "2023-03-13 21:51:02,422 : INFO : EPOCH 3 - PROGRESS: at 82.19% examples, 224969 words/s, in_qsize 6, out_qsize 1\n",
      "2023-03-13 21:51:03,450 : INFO : EPOCH 3 - PROGRESS: at 86.24% examples, 226336 words/s, in_qsize 5, out_qsize 0\n",
      "2023-03-13 21:51:04,502 : INFO : EPOCH 3 - PROGRESS: at 90.17% examples, 227356 words/s, in_qsize 6, out_qsize 0\n",
      "2023-03-13 21:51:05,505 : INFO : EPOCH 3 - PROGRESS: at 93.28% examples, 226604 words/s, in_qsize 5, out_qsize 0\n",
      "2023-03-13 21:51:06,550 : INFO : EPOCH 3 - PROGRESS: at 96.22% examples, 225292 words/s, in_qsize 6, out_qsize 0\n",
      "2023-03-13 21:51:07,553 : INFO : EPOCH 3 - PROGRESS: at 99.21% examples, 224420 words/s, in_qsize 6, out_qsize 0\n",
      "2023-03-13 21:51:07,764 : INFO : EPOCH 3: training on 8934662 raw words (6720370 effective words) took 29.9s, 224594 effective words/s\n"
     ]
    },
    {
     "name": "stderr",
     "output_type": "stream",
     "text": [
      "2023-03-13 21:51:08,802 : INFO : EPOCH 4 - PROGRESS: at 3.69% examples, 237446 words/s, in_qsize 5, out_qsize 0\n",
      "2023-03-13 21:51:09,871 : INFO : EPOCH 4 - PROGRESS: at 7.53% examples, 239858 words/s, in_qsize 5, out_qsize 0\n",
      "2023-03-13 21:51:10,898 : INFO : EPOCH 4 - PROGRESS: at 11.24% examples, 243653 words/s, in_qsize 6, out_qsize 0\n",
      "2023-03-13 21:51:11,909 : INFO : EPOCH 4 - PROGRESS: at 14.44% examples, 237337 words/s, in_qsize 6, out_qsize 0\n",
      "2023-03-13 21:51:12,938 : INFO : EPOCH 4 - PROGRESS: at 17.37% examples, 227390 words/s, in_qsize 5, out_qsize 0\n",
      "2023-03-13 21:51:13,954 : INFO : EPOCH 4 - PROGRESS: at 20.05% examples, 219900 words/s, in_qsize 6, out_qsize 0\n",
      "2023-03-13 21:51:14,955 : INFO : EPOCH 4 - PROGRESS: at 23.48% examples, 221156 words/s, in_qsize 6, out_qsize 0\n",
      "2023-03-13 21:51:15,963 : INFO : EPOCH 4 - PROGRESS: at 27.10% examples, 222895 words/s, in_qsize 5, out_qsize 0\n",
      "2023-03-13 21:51:16,976 : INFO : EPOCH 4 - PROGRESS: at 30.80% examples, 225701 words/s, in_qsize 5, out_qsize 0\n",
      "2023-03-13 21:51:17,990 : INFO : EPOCH 4 - PROGRESS: at 34.12% examples, 224908 words/s, in_qsize 5, out_qsize 0\n",
      "2023-03-13 21:51:19,004 : INFO : EPOCH 4 - PROGRESS: at 36.96% examples, 221729 words/s, in_qsize 5, out_qsize 0\n",
      "2023-03-13 21:51:20,008 : INFO : EPOCH 4 - PROGRESS: at 39.93% examples, 219910 words/s, in_qsize 5, out_qsize 0\n",
      "2023-03-13 21:51:21,063 : INFO : EPOCH 4 - PROGRESS: at 43.26% examples, 219594 words/s, in_qsize 5, out_qsize 0\n",
      "2023-03-13 21:51:22,109 : INFO : EPOCH 4 - PROGRESS: at 47.02% examples, 221664 words/s, in_qsize 6, out_qsize 0\n",
      "2023-03-13 21:51:23,122 : INFO : EPOCH 4 - PROGRESS: at 50.69% examples, 223323 words/s, in_qsize 5, out_qsize 0\n",
      "2023-03-13 21:51:24,125 : INFO : EPOCH 4 - PROGRESS: at 54.28% examples, 224570 words/s, in_qsize 5, out_qsize 0\n",
      "2023-03-13 21:51:25,134 : INFO : EPOCH 4 - PROGRESS: at 57.58% examples, 224249 words/s, in_qsize 6, out_qsize 0\n",
      "2023-03-13 21:51:26,139 : INFO : EPOCH 4 - PROGRESS: at 60.52% examples, 222478 words/s, in_qsize 6, out_qsize 0\n",
      "2023-03-13 21:51:27,149 : INFO : EPOCH 4 - PROGRESS: at 63.30% examples, 220438 words/s, in_qsize 5, out_qsize 0\n",
      "2023-03-13 21:51:28,186 : INFO : EPOCH 4 - PROGRESS: at 66.72% examples, 220407 words/s, in_qsize 5, out_qsize 0\n",
      "2023-03-13 21:51:29,218 : INFO : EPOCH 4 - PROGRESS: at 70.54% examples, 221764 words/s, in_qsize 6, out_qsize 0\n",
      "2023-03-13 21:51:30,233 : INFO : EPOCH 4 - PROGRESS: at 74.23% examples, 222563 words/s, in_qsize 5, out_qsize 0\n",
      "2023-03-13 21:51:31,234 : INFO : EPOCH 4 - PROGRESS: at 77.48% examples, 222181 words/s, in_qsize 6, out_qsize 0\n",
      "2023-03-13 21:51:32,246 : INFO : EPOCH 4 - PROGRESS: at 80.28% examples, 220518 words/s, in_qsize 5, out_qsize 0\n",
      "2023-03-13 21:51:33,287 : INFO : EPOCH 4 - PROGRESS: at 83.21% examples, 219319 words/s, in_qsize 5, out_qsize 0\n",
      "2023-03-13 21:51:34,290 : INFO : EPOCH 4 - PROGRESS: at 86.56% examples, 219405 words/s, in_qsize 5, out_qsize 0\n",
      "2023-03-13 21:51:35,293 : INFO : EPOCH 4 - PROGRESS: at 90.17% examples, 220256 words/s, in_qsize 5, out_qsize 0\n",
      "2023-03-13 21:51:36,307 : INFO : EPOCH 4 - PROGRESS: at 94.08% examples, 221516 words/s, in_qsize 5, out_qsize 0\n",
      "2023-03-13 21:51:37,312 : INFO : EPOCH 4 - PROGRESS: at 97.66% examples, 222227 words/s, in_qsize 5, out_qsize 0\n",
      "2023-03-13 21:51:37,971 : INFO : EPOCH 4: training on 8934662 raw words (6720356 effective words) took 30.2s, 222553 effective words/s\n",
      "2023-03-13 21:51:37,971 : INFO : Word2Vec lifecycle event {'msg': 'training on 44673310 raw words (33601617 effective words) took 151.1s, 222406 effective words/s', 'datetime': '2023-03-13T21:51:37.971941', 'gensim': '4.3.1', 'python': '3.10.7 (tags/v3.10.7:6cc6b13, Sep  5 2022, 14:08:36) [MSC v.1933 64 bit (AMD64)]', 'platform': 'Windows-10-10.0.22621-SP0', 'event': 'train'}\n",
      "2023-03-13 21:51:37,972 : INFO : Word2Vec lifecycle event {'params': 'Word2Vec<vocab=35633, vector_size=300, alpha=0.025>', 'datetime': '2023-03-13T21:51:37.972974', 'gensim': '4.3.1', 'python': '3.10.7 (tags/v3.10.7:6cc6b13, Sep  5 2022, 14:08:36) [MSC v.1933 64 bit (AMD64)]', 'platform': 'Windows-10-10.0.22621-SP0', 'event': 'created'}\n",
      "2023-03-13 21:51:38,008 : INFO : storing 35633x300 projection weights into Q4_Model_Word2Vec.txt\n"
     ]
    }
   ],
   "source": [
    "Q4_model = gensim.models.Word2Vec(IMDB_train['updatedreview'],vector_size=300,sg = 1)\n",
    "Q4_model.wv.save_word2vec_format('Q4_Model_Word2Vec.txt', binary=False)\n",
    "\n"
   ]
  },
  {
   "cell_type": "code",
   "execution_count": 131,
   "id": "7956663f",
   "metadata": {},
   "outputs": [
    {
     "name": "stdout",
     "output_type": "stream",
     "text": [
      "Found 35634 word vectors.\n"
     ]
    }
   ],
   "source": [
    "embeddings_index = {}\n",
    "with open(\"Q4_Model_Word2Vec.txt\", encoding='utf8') as f:\n",
    "    for line in f:\n",
    "        word, coefs = line.split(maxsplit=1)\n",
    "        coefs = np.fromstring(coefs, \"f\", sep=\" \")\n",
    "        embeddings_index[word] = coefs\n",
    "\n",
    "print(\"Found %s word vectors.\" % len(embeddings_index))"
   ]
  },
  {
   "cell_type": "code",
   "execution_count": 134,
   "id": "0737bec2",
   "metadata": {},
   "outputs": [],
   "source": [
    "## Prepare embedding matrix\n",
    "\n",
    "embedding_dim = 300\n",
    "embedding_matrix = np.zeros((len(voc) + 2, embedding_dim))\n",
    "for word, i in word_index.items():\n",
    "    embedding_vector = embeddings_index.get(word)\n",
    "    if embedding_vector is not None:        \n",
    "        embedding_matrix[i] = embedding_vector"
   ]
  },
  {
   "cell_type": "code",
   "execution_count": 194,
   "id": "fc5d72ca",
   "metadata": {},
   "outputs": [
    {
     "name": "stdout",
     "output_type": "stream",
     "text": [
      "Model: \"sequential_6\"\n",
      "_________________________________________________________________\n",
      " Layer (type)                Output Shape              Param #   \n",
      "=================================================================\n",
      " embedding_7 (Embedding)     (None, None, 300)         6000600   \n",
      "                                                                 \n",
      " lstm_5 (LSTM)               (None, 10)                12440     \n",
      "                                                                 \n",
      " dense_5 (Dense)             (None, 2)                 22        \n",
      "                                                                 \n",
      "=================================================================\n",
      "Total params: 6,013,062\n",
      "Trainable params: 12,462\n",
      "Non-trainable params: 6,000,600\n",
      "_________________________________________________________________\n"
     ]
    }
   ],
   "source": [
    "## Used  only LSTM = 10 and epoch = 1 to reduce the time \n",
    "\n",
    "from tensorflow.keras.layers import Embedding\n",
    "from tensorflow.keras.initializers import Constant\n",
    "from tensorflow.keras.models import Sequential\n",
    "from tensorflow.keras.layers import Embedding, LSTM, Dense\n",
    "\n",
    "embedding_layer = Embedding(len(voc) + 2, embedding_dim, embeddings_initializer = Constant(embedding_matrix), trainable = False)\n",
    "model = Sequential()\n",
    "model.add(embedding_layer)\n",
    "model.add(LSTM(10)) \n",
    "model.add(Dense(2, activation = 'sigmoid'))\n",
    "model.compile(loss = 'binary_crossentropy', metrics = ['accuracy']) \n",
    "model.summary()"
   ]
  },
  {
   "cell_type": "code",
   "execution_count": null,
   "id": "7bc378ac",
   "metadata": {},
   "outputs": [],
   "source": [
    "x_train = vectorizer(np.array([[s] for s in IMDB_train['review']])).numpy()\n",
    "Y_train = Y_train.replace({'positive': 1, 'negative': 0})\n",
    "Y_train_Final = to_categorical(Y_train)\n",
    "\n",
    "\n",
    "x_test = vectorizer(np.array([[s] for s in IMDB_test['review']])).numpy()\n",
    "Y_test = Y_test.replace({'positive': 1, 'negative': 0})\n",
    "Y_test_Final = to_categorical(Y_test)\n",
    "\n",
    "\n",
    "\n",
    "#print(Y_test_Final)\n",
    "\n",
    "\n"
   ]
  },
  {
   "cell_type": "code",
   "execution_count": 196,
   "id": "85f6d16f",
   "metadata": {},
   "outputs": [
    {
     "name": "stdout",
     "output_type": "stream",
     "text": [
      "1250/1250 [==============================] - 562s 450ms/step - loss: 0.6932 - accuracy: 0.5018 - val_loss: 0.6931 - val_accuracy: 0.5039\n"
     ]
    }
   ],
   "source": [
    "######## Only running 1 epoch to save on execution time. Was taking a lot of time to run \n",
    "\n",
    "ModelFit = model.fit(x_train, Y_train_Final, epochs=1, validation_data=(x_test, Y_test_Final))"
   ]
  },
  {
   "cell_type": "code",
   "execution_count": 198,
   "id": "40701777",
   "metadata": {},
   "outputs": [
    {
     "name": "stdout",
     "output_type": "stream",
     "text": [
      "loss value for train dataset is0.6932698488235474\n",
      "Accuracy value for train dataset is0.49902498722076416\n",
      "loss value for train dataset is0.6931406855583191\n",
      "Accuracy value for train dataset is0.5038999915122986\n"
     ]
    }
   ],
   "source": [
    "## Evaluating Test and Train datasets\n",
    "\n",
    "Train_Model_Val = model.evaluate(x_train, Y_train_Final, verbose=False)\n",
    "print(\"loss value for train dataset is\" +str(Train_Model_Val[0]))\n",
    "print(\"Accuracy value for train dataset is\" +str(Train_Model_Val[1]))\n",
    "\n",
    "\n",
    "Test_Model_Val = model.evaluate(x_test, Y_test_Final, verbose=False)\n",
    "print(\"loss value for train dataset is\" +str(Test_Model_Val[0]))\n",
    "print(\"Accuracy value for train dataset is\" +str(Test_Model_Val[1]))\n"
   ]
  },
  {
   "cell_type": "code",
   "execution_count": 203,
   "id": "a68e42ea",
   "metadata": {},
   "outputs": [
    {
     "name": "stderr",
     "output_type": "stream",
     "text": [
      "2023-03-13 23:18:30,704 : INFO : Creating C:\\Users\\16286/gensim-data\n"
     ]
    },
    {
     "name": "stdout",
     "output_type": "stream",
     "text": [
      "[================================================--] 97.2% 365.5/376.1MB downloaded"
     ]
    },
    {
     "name": "stderr",
     "output_type": "stream",
     "text": [
      "IOPub message rate exceeded.\n",
      "The notebook server will temporarily stop sending output\n",
      "to the client in order to avoid crashing it.\n",
      "To change this limit, set the config variable\n",
      "`--NotebookApp.iopub_msg_rate_limit`.\n",
      "\n",
      "Current values:\n",
      "NotebookApp.iopub_msg_rate_limit=1000.0 (msgs/sec)\n",
      "NotebookApp.rate_limit_window=3.0 (secs)\n",
      "\n"
     ]
    },
    {
     "name": "stdout",
     "output_type": "stream",
     "text": [
      "[==================================================] 100.0% 376.1/376.1MB downloaded\n"
     ]
    },
    {
     "name": "stderr",
     "output_type": "stream",
     "text": [
      "2023-03-13 23:19:43,190 : INFO : glove-wiki-gigaword-300 downloaded\n",
      "2023-03-13 23:19:43,210 : INFO : loading projection weights from C:\\Users\\16286/gensim-data\\glove-wiki-gigaword-300\\glove-wiki-gigaword-300.gz\n",
      "2023-03-13 23:20:55,431 : INFO : KeyedVectors lifecycle event {'msg': 'loaded (400000, 300) matrix of type float32 from C:\\\\Users\\\\16286/gensim-data\\\\glove-wiki-gigaword-300\\\\glove-wiki-gigaword-300.gz', 'binary': False, 'encoding': 'utf8', 'datetime': '2023-03-13T23:20:55.430761', 'gensim': '4.3.1', 'python': '3.10.7 (tags/v3.10.7:6cc6b13, Sep  5 2022, 14:08:36) [MSC v.1933 64 bit (AMD64)]', 'platform': 'Windows-10-10.0.22621-SP0', 'event': 'load_word2vec_format'}\n",
      "2023-03-13 23:20:55,646 : INFO : storing 400000x300 projection weights into Glove.txt\n"
     ]
    }
   ],
   "source": [
    "model_glove = api.load('glove-wiki-gigaword-300')\n",
    "model_glove.save_word2vec_format(\"Glove.txt\", binary=False)"
   ]
  },
  {
   "cell_type": "markdown",
   "id": "32a02a4d",
   "metadata": {},
   "source": [
    "### Question 4.3 - Glove Model #####"
   ]
  },
  {
   "cell_type": "code",
   "execution_count": 205,
   "id": "9c8521fc",
   "metadata": {},
   "outputs": [
    {
     "name": "stdout",
     "output_type": "stream",
     "text": [
      "Found 400001 word vectors.\n"
     ]
    }
   ],
   "source": [
    "## Glove Model\n",
    "\n",
    "embeddings_index2 = {}\n",
    "with open(\"Glove.txt\", encoding='utf8') as f:\n",
    "    for line in f:\n",
    "        word, coefs = line.split(maxsplit=1)\n",
    "        coefs = np.fromstring(coefs, \"f\", sep=\" \")\n",
    "        embeddings_index2[word] = coefs\n",
    "\n",
    "print(\"Found %s word vectors.\" % len(embeddings_index2))"
   ]
  },
  {
   "cell_type": "code",
   "execution_count": 206,
   "id": "e2b41054",
   "metadata": {},
   "outputs": [],
   "source": [
    "## Prepare embedding matrix for Glove model\n",
    "\n",
    "embedding_dim = 300\n",
    "embedding_matrix2 = np.zeros((len(voc) + 2, embedding_dim))\n",
    "for word, i in word_index.items():\n",
    "    embedding_vector2 = embeddings_index2.get(word)\n",
    "    if embedding_vector2 is not None:        \n",
    "        embedding_matrix2[i] = embedding_vector2"
   ]
  },
  {
   "cell_type": "code",
   "execution_count": 214,
   "id": "587aaace",
   "metadata": {},
   "outputs": [
    {
     "name": "stdout",
     "output_type": "stream",
     "text": [
      "Model: \"sequential_8\"\n",
      "_________________________________________________________________\n",
      " Layer (type)                Output Shape              Param #   \n",
      "=================================================================\n",
      " embedding_9 (Embedding)     (None, None, 300)         6000600   \n",
      "                                                                 \n",
      " lstm_7 (LSTM)               (None, 10)                12440     \n",
      "                                                                 \n",
      " dense_7 (Dense)             (None, 2)                 22        \n",
      "                                                                 \n",
      "=================================================================\n",
      "Total params: 6,013,062\n",
      "Trainable params: 12,462\n",
      "Non-trainable params: 6,000,600\n",
      "_________________________________________________________________\n"
     ]
    }
   ],
   "source": [
    "## Glove Model #########\n",
    "\n",
    "## Used  only LSTM = 10 and epoch = 1 to reduce the time \n",
    "\n",
    "from tensorflow.keras.layers import Embedding\n",
    "from tensorflow.keras.initializers import Constant\n",
    "from tensorflow.keras.models import Sequential\n",
    "from tensorflow.keras.layers import Embedding, LSTM, Dense\n",
    "\n",
    "embedding_layer2 = Embedding(len(voc) + 2, embedding_dim, embeddings_initializer = Constant(embedding_matrix2), trainable = False)\n",
    "Gmodel = Sequential()\n",
    "Gmodel.add(embedding_layer2)\n",
    "Gmodel.add(LSTM(10)) \n",
    "Gmodel.add(Dense(2, activation = 'sigmoid'))\n",
    "Gmodel.compile(loss = 'binary_crossentropy', metrics = ['accuracy']) \n",
    "Gmodel.summary()"
   ]
  },
  {
   "cell_type": "code",
   "execution_count": 208,
   "id": "d60fa4dc",
   "metadata": {},
   "outputs": [
    {
     "name": "stdout",
     "output_type": "stream",
     "text": [
      "1250/1250 [==============================] - 574s 458ms/step - loss: 0.6932 - accuracy: 0.5020 - val_loss: 0.6931 - val_accuracy: 0.5039\n"
     ]
    }
   ],
   "source": [
    "######## Only running 1 epoch to save on execution time. Was taking a lot of time to run \n",
    "\n",
    "ModelFit_G = Gmodel.fit(x_train, Y_train_Final, epochs=1, validation_data=(x_test, Y_test_Final))"
   ]
  },
  {
   "cell_type": "code",
   "execution_count": 209,
   "id": "1e747a9a",
   "metadata": {},
   "outputs": [
    {
     "name": "stdout",
     "output_type": "stream",
     "text": [
      "loss value for train dataset is0.6931898593902588\n",
      "Accuracy value for train dataset is0.49902498722076416\n",
      "loss value for train dataset is0.6931242942810059\n",
      "Accuracy value for train dataset is0.5038999915122986\n"
     ]
    }
   ],
   "source": [
    "## Evaluating Test and Train datasets for Glove Model\n",
    "\n",
    "Train_Model_Val = Gmodel.evaluate(x_train, Y_train_Final, verbose=False)\n",
    "print(\"loss value for train dataset is\" +str(Train_Model_Val[0]))\n",
    "print(\"Accuracy value for train dataset is\" +str(Train_Model_Val[1]))\n",
    "\n",
    "\n",
    "Test_Model_Val = Gmodel.evaluate(x_test, Y_test_Final, verbose=False)\n",
    "print(\"loss value for train dataset is\" +str(Test_Model_Val[0]))\n",
    "print(\"Accuracy value for train dataset is\" +str(Test_Model_Val[1]))\n"
   ]
  },
  {
   "cell_type": "markdown",
   "id": "ae5faa50",
   "metadata": {},
   "source": [
    "#### The model performance for both the models have been relatively very close and we dont see much difference in the accuracy and loss values for both training and test datasets between Glove and our own corpus"
   ]
  },
  {
   "cell_type": "markdown",
   "id": "a92c5581",
   "metadata": {},
   "source": [
    "### Question 4.4"
   ]
  },
  {
   "cell_type": "code",
   "execution_count": 216,
   "id": "7f6bdc92",
   "metadata": {},
   "outputs": [
    {
     "name": "stderr",
     "output_type": "stream",
     "text": [
      "2023-03-13 23:52:54,030 : INFO : loading projection weights from Q4_Model_Word2Vec.txt\n",
      "2023-03-13 23:52:57,642 : INFO : KeyedVectors lifecycle event {'msg': 'loaded (35633, 300) matrix of type float32 from Q4_Model_Word2Vec.txt', 'binary': False, 'encoding': 'utf8', 'datetime': '2023-03-13T23:52:57.642878', 'gensim': '4.3.1', 'python': '3.10.7 (tags/v3.10.7:6cc6b13, Sep  5 2022, 14:08:36) [MSC v.1933 64 bit (AMD64)]', 'platform': 'Windows-10-10.0.22621-SP0', 'event': 'load_word2vec_format'}\n",
      "2023-03-13 23:52:57,643 : INFO : loading projection weights from Glove.txt\n",
      "2023-03-13 23:53:39,099 : INFO : KeyedVectors lifecycle event {'msg': 'loaded (400000, 300) matrix of type float32 from Glove.txt', 'binary': False, 'encoding': 'utf8', 'datetime': '2023-03-13T23:53:39.099918', 'gensim': '4.3.1', 'python': '3.10.7 (tags/v3.10.7:6cc6b13, Sep  5 2022, 14:08:36) [MSC v.1933 64 bit (AMD64)]', 'platform': 'Windows-10-10.0.22621-SP0', 'event': 'load_word2vec_format'}\n"
     ]
    }
   ],
   "source": [
    "from gensim.models import KeyedVectors\n",
    "\n",
    "WordVecModel = KeyedVectors.load_word2vec_format(\"Q4_Model_Word2Vec.txt\", binary=False)\n",
    "GloveModel = KeyedVectors.load_word2vec_format(\"Glove.txt\", binary=False)"
   ]
  },
  {
   "cell_type": "code",
   "execution_count": 218,
   "id": "3be36a94",
   "metadata": {},
   "outputs": [
    {
     "name": "stdout",
     "output_type": "stream",
     "text": [
      "[('intriguing', 0.6887138485908508), ('exciting', 0.6140518188476562), ('entertaining', 0.5934156179428101), ('substantive', 0.5904806852340698), ('enticing', 0.5875595808029175), ('fascinating', 0.5624328255653381), ('disconcerting', 0.5595670342445374), ('risky', 0.5594505071640015), ('enjoyable', 0.5573910474777222), ('worthwhile', 0.5573431849479675), ('comprehensible', 0.5540576577186584), ('twisty', 0.5532119870185852), ('bearable', 0.5522563457489014), ('innovative', 0.5520390272140503), ('engrossing', 0.5491872429847717), ('instructive', 0.5471925735473633), ('ingenious', 0.5428571701049805), ('informative', 0.5410717725753784), ('plausible', 0.5402554869651794), ('problematic', 0.5401220917701721)]\n",
      "[('intriguing', 0.8125636577606201), ('fascinating', 0.7754260897636414), ('exciting', 0.7309945821762085), ('amusing', 0.6325737833976746), ('compelling', 0.6281788945198059), ('quite', 0.6243613362312317), ('something', 0.6218131184577942), ('wonderful', 0.5968952178955078), ('things', 0.5922117233276367), ('curious', 0.5863572955131531), ('thing', 0.5862200260162354), ('entertaining', 0.5854708552360535), ('surprising', 0.5850353240966797), ('really', 0.5761221051216125), ('very', 0.5756562352180481), ('unusual', 0.5745639204978943), ('unique', 0.5717038512229919), ('certainly', 0.5676942467689514), ('strange', 0.5661023259162903), ('useful', 0.560051441192627)]\n"
     ]
    }
   ],
   "source": [
    "# Interesting\n",
    "\n",
    "print(WordVecModel.most_similar('interesting', topn = 20))\n",
    "print(GloveModel.most_similar('interesting', topn = 20))\n",
    "\n"
   ]
  },
  {
   "cell_type": "code",
   "execution_count": 217,
   "id": "80511ebf",
   "metadata": {
    "scrolled": true
   },
   "outputs": [
    {
     "name": "stdout",
     "output_type": "stream",
     "text": [
      "[('dull', 0.7408145070075989), ('tedious', 0.6782804131507874), ('pointless', 0.6688587665557861), ('uneventful', 0.6651066541671753), ('draggy', 0.6597663760185242), ('uninteresting', 0.653923511505127), ('unengaging', 0.6498302817344666), ('ridicules', 0.6453176736831665), ('repetitive', 0.643965482711792), ('snooze', 0.6409978270530701), ('excruciatingly', 0.6394877433776855), ('winded', 0.6378286480903625), ('uninspiring', 0.6333044171333313), ('uninvolving', 0.6313499808311462), ('redundant', 0.6310703158378601), ('unexciting', 0.6256603002548218), ('plodding', 0.6253401637077332), ('unoriginal', 0.6223921179771423), ('exhausting', 0.6143795847892761), ('intolerable', 0.6143279075622559)]\n",
      "[('tedious', 0.668793797492981), ('dull', 0.6268733739852905), ('bored', 0.6231256127357483), ('uninteresting', 0.5630432367324829), ('monotonous', 0.5466660261154175), ('stuff', 0.527372419834137), ('pretentious', 0.5238156318664551), ('downright', 0.5197811722755432), ('annoying', 0.5169057250022888), ('tiresome', 0.507957398891449), ('bland', 0.5033448934555054), ('pretty', 0.49456754326820374), ('banal', 0.491355299949646), ('stupid', 0.4881449341773987), ('frustrating', 0.48604846000671387), ('fun', 0.4733433723449707), ('enjoyable', 0.47235459089279175), ('silly', 0.4701194763183594), ('terribly', 0.4621262848377228), ('useless', 0.45974478125572205)]\n"
     ]
    }
   ],
   "source": [
    "# Boring\n",
    "\n",
    "print(WordVecModel.most_similar('boring', topn = 20))\n",
    "print(GloveModel.most_similar('boring', topn = 20))"
   ]
  },
  {
   "cell_type": "markdown",
   "id": "cf6d9af8",
   "metadata": {},
   "source": [
    "### Genrally they are same with some minro differences"
   ]
  },
  {
   "cell_type": "code",
   "execution_count": 220,
   "id": "d052a35a",
   "metadata": {},
   "outputs": [],
   "source": [
    "\n",
    "## Get the embeddings and word labels\n",
    "embeddings_1 = WordVecModel.vectors\n",
    "embeddings_2 = GloveModel.vectors\n",
    "word_labels_1 = WordVecModel.index_to_key\n",
    "word_labels_2 = GloveModel.index_to_key"
   ]
  },
  {
   "cell_type": "code",
   "execution_count": 222,
   "id": "61f6e123",
   "metadata": {},
   "outputs": [],
   "source": [
    "## Perform PCA with 75% variation\n",
    "\n",
    "from sklearn.decomposition import PCA\n",
    "\n",
    "pca = PCA(n_components=0.75)\n",
    "pca_1 = pca.fit_transform(embeddings_1)\n",
    "pca_2 = pca.fit_transform(embeddings_2)"
   ]
  },
  {
   "cell_type": "code",
   "execution_count": 224,
   "id": "e1177f39",
   "metadata": {},
   "outputs": [
    {
     "data": {
      "image/png": "[encoded data removed]",
      "text/plain": [
       "<Figure size 800x800 with 1 Axes>"
      ]
     },
     "metadata": {},
     "output_type": "display_data"
    }
   ],
   "source": [
    "## Find the first and second principal components.\n",
    "pca = PCA(n_components=2)\n",
    "\n",
    "## Get unique words (Model 1)\n",
    "a = WordVecModel.most_similar('interesting', topn = 20)\n",
    "b = WordVecModel.most_similar('boring', topn = 20)\n",
    "words = np.append(('interesting', 'boring'), pd.DataFrame(a+b)[0].unique())    \n",
    "embs = [WordVecModel[w] for w in words]\n",
    "pca_embs = pca.fit_transform(embs)\n",
    "\n",
    "## Plot\n",
    "plt.figure(figsize=(8, 8))\n",
    "plt.title(\"Model 1: IMDB\")\n",
    "plt.axhline(y=0, color='r', linewidth=1, linestyle = ':')\n",
    "plt.axvline(x=0, color='r', linewidth=1, linestyle = ':')\n",
    "for i, w in enumerate(words):\n",
    "    x, y = pca_embs[i, 0], pca_embs[i, 1]\n",
    "    plt.scatter(x, y)    \n",
    "    if w in [\"interesting\", \"boring\"]:\n",
    "        plt.annotate(w, xy=(x, y), xytext=(x, y), ha='left', va=\"bottom\", color='r')\n",
    "    else:\n",
    "        plt.annotate(w, xy=(x, y), xytext=(x, y), ha='left', va=\"bottom\")\n",
    "\n",
    "plt.xlabel(\"PC 1\")\n",
    "plt.ylabel(\"PC 2\")\n",
    "plt.show()"
   ]
  },
  {
   "cell_type": "code",
   "execution_count": 225,
   "id": "f2098a0a",
   "metadata": {},
   "outputs": [
    {
     "data": {
      "image/png": "[encoded data removed]",
      "text/plain": [
       "<Figure size 800x800 with 1 Axes>"
      ]
     },
     "metadata": {},
     "output_type": "display_data"
    }
   ],
   "source": [
    "## Get unique words (Model 2)\n",
    "a = GloveModel.most_similar('interesting', topn = 20)\n",
    "b = GloveModel.most_similar('boring', topn = 20)\n",
    "words = np.append(('interesting', 'boring'), pd.DataFrame(a+b)[0].unique())    \n",
    "embs = [GloveModel[w] for w in words]\n",
    "pca_embs = pca.fit_transform(embs)\n",
    "\n",
    "plt.figure(figsize=(8, 8))\n",
    "plt.title(\"Model 2: glove\")\n",
    "plt.axhline(y=0, color='r', linewidth=1, linestyle = ':')\n",
    "plt.axvline(x=0, color='r', linewidth=1, linestyle = ':')\n",
    "for i, w in enumerate(words):\n",
    "    x, y = pca_embs[i, 0], pca_embs[i, 1]\n",
    "    plt.scatter(x, y)    \n",
    "    if w in [\"interesting\", \"boring\"]:\n",
    "        plt.annotate(w, xy=(x, y), xytext=(x, y), ha='left', va=\"bottom\", color='r')\n",
    "    else:\n",
    "        plt.annotate(w, xy=(x, y), xytext=(x, y), ha='left', va=\"bottom\")\n",
    "\n",
    "plt.xlabel(\"PC 1\")\n",
    "plt.ylabel(\"PC 2\")\n",
    "plt.show()"
   ]
  }
 ],
 "metadata": {
  "kernelspec": {
   "display_name": "Python 3 (ipykernel)",
   "language": "python",
   "name": "python3"
  },
  "language_info": {
   "codemirror_mode": {
    "name": "ipython",
    "version": 3
   },
   "file_extension": ".py",
   "mimetype": "text/x-python",
   "name": "python",
   "nbconvert_exporter": "python",
   "pygments_lexer": "ipython3",
   "version": "3.10.7"
  }
 },
 "nbformat": 4,
 "nbformat_minor": 5
}
